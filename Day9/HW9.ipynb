{
 "cells": [
  {
   "cell_type": "markdown",
   "id": "7bbcd621-c2c6-4a9f-adb9-b6fcbcc42f9b",
   "metadata": {},
   "source": [
    "# HW9\n",
    "\n",
    "### Author: Joseph Wong"
   ]
  },
  {
   "cell_type": "markdown",
   "id": "f79ed411-19a2-452f-92b1-0179c65aecce",
   "metadata": {
    "jp-MarkdownHeadingCollapsed": true
   },
   "source": [
    "## Import Packages and the Data Set"
   ]
  },
  {
   "cell_type": "code",
   "execution_count": 9,
   "id": "12126fef-122a-48c0-97bd-dba45cb1ab1f",
   "metadata": {},
   "outputs": [],
   "source": [
    "# Some basic package imports\n",
    "import os\n",
    "import numpy as np\n",
    "import pandas as pd\n",
    "\n",
    "# Visualization packages\n",
    "import matplotlib.pyplot as plt\n",
    "import plotly.express as px\n",
    "from plotly.subplots import make_subplots\n",
    "import plotly.io as pio\n",
    "pio.renderers.defaule = 'colab'\n",
    "import seaborn as sns\n",
    "\n",
    "# Datetime packages\n",
    "from datetime import datetime"
   ]
  },
  {
   "cell_type": "code",
   "execution_count": 10,
   "id": "702e2ac1-5066-4361-849f-0af3eb97facf",
   "metadata": {},
   "outputs": [
    {
     "data": {
      "text/html": [
       "<div>\n",
       "<style scoped>\n",
       "    .dataframe tbody tr th:only-of-type {\n",
       "        vertical-align: middle;\n",
       "    }\n",
       "\n",
       "    .dataframe tbody tr th {\n",
       "        vertical-align: top;\n",
       "    }\n",
       "\n",
       "    .dataframe thead th {\n",
       "        text-align: right;\n",
       "    }\n",
       "</style>\n",
       "<table border=\"1\" class=\"dataframe\">\n",
       "  <thead>\n",
       "    <tr style=\"text-align: right;\">\n",
       "      <th></th>\n",
       "      <th>Consumption</th>\n",
       "      <th>Wind</th>\n",
       "      <th>Solar</th>\n",
       "      <th>Wind+Solar</th>\n",
       "    </tr>\n",
       "    <tr>\n",
       "      <th>Date</th>\n",
       "      <th></th>\n",
       "      <th></th>\n",
       "      <th></th>\n",
       "      <th></th>\n",
       "    </tr>\n",
       "  </thead>\n",
       "  <tbody>\n",
       "    <tr>\n",
       "      <th>2006-01-01</th>\n",
       "      <td>1069.18400</td>\n",
       "      <td>NaN</td>\n",
       "      <td>NaN</td>\n",
       "      <td>NaN</td>\n",
       "    </tr>\n",
       "    <tr>\n",
       "      <th>2006-01-02</th>\n",
       "      <td>1380.52100</td>\n",
       "      <td>NaN</td>\n",
       "      <td>NaN</td>\n",
       "      <td>NaN</td>\n",
       "    </tr>\n",
       "    <tr>\n",
       "      <th>2006-01-03</th>\n",
       "      <td>1442.53300</td>\n",
       "      <td>NaN</td>\n",
       "      <td>NaN</td>\n",
       "      <td>NaN</td>\n",
       "    </tr>\n",
       "    <tr>\n",
       "      <th>2006-01-04</th>\n",
       "      <td>1457.21700</td>\n",
       "      <td>NaN</td>\n",
       "      <td>NaN</td>\n",
       "      <td>NaN</td>\n",
       "    </tr>\n",
       "    <tr>\n",
       "      <th>2006-01-05</th>\n",
       "      <td>1477.13100</td>\n",
       "      <td>NaN</td>\n",
       "      <td>NaN</td>\n",
       "      <td>NaN</td>\n",
       "    </tr>\n",
       "    <tr>\n",
       "      <th>...</th>\n",
       "      <td>...</td>\n",
       "      <td>...</td>\n",
       "      <td>...</td>\n",
       "      <td>...</td>\n",
       "    </tr>\n",
       "    <tr>\n",
       "      <th>2017-12-27</th>\n",
       "      <td>1263.94091</td>\n",
       "      <td>394.507</td>\n",
       "      <td>16.530</td>\n",
       "      <td>411.037</td>\n",
       "    </tr>\n",
       "    <tr>\n",
       "      <th>2017-12-28</th>\n",
       "      <td>1299.86398</td>\n",
       "      <td>506.424</td>\n",
       "      <td>14.162</td>\n",
       "      <td>520.586</td>\n",
       "    </tr>\n",
       "    <tr>\n",
       "      <th>2017-12-29</th>\n",
       "      <td>1295.08753</td>\n",
       "      <td>584.277</td>\n",
       "      <td>29.854</td>\n",
       "      <td>614.131</td>\n",
       "    </tr>\n",
       "    <tr>\n",
       "      <th>2017-12-30</th>\n",
       "      <td>1215.44897</td>\n",
       "      <td>721.247</td>\n",
       "      <td>7.467</td>\n",
       "      <td>728.714</td>\n",
       "    </tr>\n",
       "    <tr>\n",
       "      <th>2017-12-31</th>\n",
       "      <td>1107.11488</td>\n",
       "      <td>721.176</td>\n",
       "      <td>19.980</td>\n",
       "      <td>741.156</td>\n",
       "    </tr>\n",
       "  </tbody>\n",
       "</table>\n",
       "<p>4383 rows × 4 columns</p>\n",
       "</div>"
      ],
      "text/plain": [
       "            Consumption     Wind   Solar  Wind+Solar\n",
       "Date                                                \n",
       "2006-01-01   1069.18400      NaN     NaN         NaN\n",
       "2006-01-02   1380.52100      NaN     NaN         NaN\n",
       "2006-01-03   1442.53300      NaN     NaN         NaN\n",
       "2006-01-04   1457.21700      NaN     NaN         NaN\n",
       "2006-01-05   1477.13100      NaN     NaN         NaN\n",
       "...                 ...      ...     ...         ...\n",
       "2017-12-27   1263.94091  394.507  16.530     411.037\n",
       "2017-12-28   1299.86398  506.424  14.162     520.586\n",
       "2017-12-29   1295.08753  584.277  29.854     614.131\n",
       "2017-12-30   1215.44897  721.247   7.467     728.714\n",
       "2017-12-31   1107.11488  721.176  19.980     741.156\n",
       "\n",
       "[4383 rows x 4 columns]"
      ]
     },
     "execution_count": 10,
     "metadata": {},
     "output_type": "execute_result"
    }
   ],
   "source": [
    "df = pd.read_csv('data/opsd_germany_daily.csv', parse_dates = True, index_col=0)\n",
    "df"
   ]
  },
  {
   "cell_type": "markdown",
   "id": "38272a32-1888-4c66-ac5a-428149a90133",
   "metadata": {
    "jp-MarkdownHeadingCollapsed": true
   },
   "source": [
    "## Data Basics and Preparation\n"
   ]
  },
  {
   "cell_type": "markdown",
   "id": "c1063b66-09da-4bc0-9414-6b19878f3969",
   "metadata": {
    "jp-MarkdownHeadingCollapsed": true
   },
   "source": [
    "#### Variables"
   ]
  },
  {
   "cell_type": "code",
   "execution_count": 32,
   "id": "599dfb45-28da-47fc-bf16-76b9c3947df0",
   "metadata": {},
   "outputs": [
    {
     "data": {
      "text/plain": [
       "(4383, 4)"
      ]
     },
     "execution_count": 32,
     "metadata": {},
     "output_type": "execute_result"
    }
   ],
   "source": [
    "df.shape"
   ]
  },
  {
   "cell_type": "markdown",
   "id": "41276a93-d7b0-4ea5-9322-73781e7d9d2f",
   "metadata": {},
   "source": [
    "There are 4383 observations and 4 variables."
   ]
  },
  {
   "cell_type": "code",
   "execution_count": 33,
   "id": "3a6284d4-0a03-459c-99dc-65d72f67eaf9",
   "metadata": {
    "scrolled": true
   },
   "outputs": [
    {
     "data": {
      "text/plain": [
       "'Date'"
      ]
     },
     "execution_count": 33,
     "metadata": {},
     "output_type": "execute_result"
    }
   ],
   "source": [
    "df.index.name"
   ]
  },
  {
   "cell_type": "code",
   "execution_count": 34,
   "id": "9f764fdb-177a-47c4-be8f-7004bcf3f694",
   "metadata": {},
   "outputs": [
    {
     "data": {
      "text/plain": [
       "Consumption    float64\n",
       "Wind           float64\n",
       "Solar          float64\n",
       "Wind+Solar     float64\n",
       "dtype: object"
      ]
     },
     "execution_count": 34,
     "metadata": {},
     "output_type": "execute_result"
    }
   ],
   "source": [
    "df.dtypes"
   ]
  },
  {
   "cell_type": "markdown",
   "id": "ae1f2ec5-e83a-40c1-a28a-dce563845e62",
   "metadata": {},
   "source": [
    "**Index**\n",
    "The data set is indexed by date (yyyy-mm-dd format).\n",
    "\n",
    "**Variables**\n",
    "Electricity production and consumption are reported as daily totals in gigawatt-hours (GWh). The columns of the data file are:\n",
    "- Consumption (float): Electricity consumption in GWh\n",
    "- Wind (float): Wind power production in GWh\n",
    "- Solar (float): Solar power production in GWh\n",
    "- Wind+Solar (float): Sum of wind and solar power production in GWh"
   ]
  },
  {
   "cell_type": "code",
   "execution_count": 35,
   "id": "cd8b0188-6e38-44d8-aca6-ca5e98d684a3",
   "metadata": {},
   "outputs": [
    {
     "data": {
      "text/html": [
       "<div>\n",
       "<style scoped>\n",
       "    .dataframe tbody tr th:only-of-type {\n",
       "        vertical-align: middle;\n",
       "    }\n",
       "\n",
       "    .dataframe tbody tr th {\n",
       "        vertical-align: top;\n",
       "    }\n",
       "\n",
       "    .dataframe thead th {\n",
       "        text-align: right;\n",
       "    }\n",
       "</style>\n",
       "<table border=\"1\" class=\"dataframe\">\n",
       "  <thead>\n",
       "    <tr style=\"text-align: right;\">\n",
       "      <th></th>\n",
       "      <th>Consumption</th>\n",
       "      <th>Wind</th>\n",
       "      <th>Solar</th>\n",
       "      <th>Wind+Solar</th>\n",
       "    </tr>\n",
       "  </thead>\n",
       "  <tbody>\n",
       "    <tr>\n",
       "      <th>count</th>\n",
       "      <td>4383.000000</td>\n",
       "      <td>2920.000000</td>\n",
       "      <td>2188.000000</td>\n",
       "      <td>2187.000000</td>\n",
       "    </tr>\n",
       "    <tr>\n",
       "      <th>mean</th>\n",
       "      <td>1338.675836</td>\n",
       "      <td>164.814173</td>\n",
       "      <td>89.258695</td>\n",
       "      <td>272.663481</td>\n",
       "    </tr>\n",
       "    <tr>\n",
       "      <th>std</th>\n",
       "      <td>165.775710</td>\n",
       "      <td>143.692732</td>\n",
       "      <td>58.550099</td>\n",
       "      <td>146.319884</td>\n",
       "    </tr>\n",
       "    <tr>\n",
       "      <th>min</th>\n",
       "      <td>842.395000</td>\n",
       "      <td>5.757000</td>\n",
       "      <td>1.968000</td>\n",
       "      <td>21.478000</td>\n",
       "    </tr>\n",
       "    <tr>\n",
       "      <th>25%</th>\n",
       "      <td>1217.859000</td>\n",
       "      <td>62.353250</td>\n",
       "      <td>35.179250</td>\n",
       "      <td>172.185500</td>\n",
       "    </tr>\n",
       "    <tr>\n",
       "      <th>50%</th>\n",
       "      <td>1367.123000</td>\n",
       "      <td>119.098000</td>\n",
       "      <td>86.407000</td>\n",
       "      <td>240.991000</td>\n",
       "    </tr>\n",
       "    <tr>\n",
       "      <th>75%</th>\n",
       "      <td>1457.761000</td>\n",
       "      <td>217.900250</td>\n",
       "      <td>135.071500</td>\n",
       "      <td>338.988000</td>\n",
       "    </tr>\n",
       "    <tr>\n",
       "      <th>max</th>\n",
       "      <td>1709.568000</td>\n",
       "      <td>826.278000</td>\n",
       "      <td>241.580000</td>\n",
       "      <td>851.556000</td>\n",
       "    </tr>\n",
       "  </tbody>\n",
       "</table>\n",
       "</div>"
      ],
      "text/plain": [
       "       Consumption         Wind        Solar   Wind+Solar\n",
       "count  4383.000000  2920.000000  2188.000000  2187.000000\n",
       "mean   1338.675836   164.814173    89.258695   272.663481\n",
       "std     165.775710   143.692732    58.550099   146.319884\n",
       "min     842.395000     5.757000     1.968000    21.478000\n",
       "25%    1217.859000    62.353250    35.179250   172.185500\n",
       "50%    1367.123000   119.098000    86.407000   240.991000\n",
       "75%    1457.761000   217.900250   135.071500   338.988000\n",
       "max    1709.568000   826.278000   241.580000   851.556000"
      ]
     },
     "execution_count": 35,
     "metadata": {},
     "output_type": "execute_result"
    }
   ],
   "source": [
    "df.describe()"
   ]
  },
  {
   "cell_type": "markdown",
   "id": "6b28f3a4-e9a3-4989-a636-c5e587ef6c82",
   "metadata": {},
   "source": [
    "The median consumption is 1367.123 GWh while the median production of wind+solar is 240.991. This suggests there are other electricity production sources that are included in the consumption, but not included as production values in the data set. Although one might think the statistics of wind+solar would be the sum of the statistics of wind and solar, it is not (i.e. max wind+solar =/= max wind + max solar). The statistics of wind+solar are based on data collected daily, so statistics like min and max represent a specific day's value, not a summary of the wind and solar columns. In the data set, it appears that wind produces more GWh daily compared to solar (median of 119.0098 vs 86.407 and mean of 164.814173 vs 89.258695 respectively)."
   ]
  },
  {
   "cell_type": "markdown",
   "id": "cf86dfd2-8741-46f7-815f-5a16e9a4a210",
   "metadata": {
    "jp-MarkdownHeadingCollapsed": true
   },
   "source": [
    "#### NaNs"
   ]
  },
  {
   "cell_type": "code",
   "execution_count": 36,
   "id": "a7922cd9-8dad-4884-b6de-558393555cdc",
   "metadata": {},
   "outputs": [
    {
     "data": {
      "text/plain": [
       "Consumption       0\n",
       "Wind           1463\n",
       "Solar          2195\n",
       "Wind+Solar     2196\n",
       "dtype: int64"
      ]
     },
     "execution_count": 36,
     "metadata": {},
     "output_type": "execute_result"
    }
   ],
   "source": [
    "df.isna().sum()"
   ]
  },
  {
   "cell_type": "markdown",
   "id": "d4a1cc09-9618-4d96-afd7-66a29c3287bc",
   "metadata": {},
   "source": [
    "Among the columns, consumption has 0 NaNs, wind has 1463, solar has 2195, and wind+solar has 2196. Any analysis we perform should take this into consideration because more than half of the observations in solar and wind+solar are NaNs. This could potential affect the outcome of the analysis."
   ]
  },
  {
   "cell_type": "markdown",
   "id": "315c04a7-5e5e-4b85-9c97-d1f9e6bd76a0",
   "metadata": {
    "jp-MarkdownHeadingCollapsed": true
   },
   "source": [
    "#### Date Range and Frequency"
   ]
  },
  {
   "cell_type": "code",
   "execution_count": 46,
   "id": "4d444752-01e2-4ff6-94bf-013e1105cc83",
   "metadata": {},
   "outputs": [
    {
     "data": {
      "text/plain": [
       "Timestamp('2006-01-01 00:00:00')"
      ]
     },
     "execution_count": 46,
     "metadata": {},
     "output_type": "execute_result"
    }
   ],
   "source": [
    "df.index.min()"
   ]
  },
  {
   "cell_type": "code",
   "execution_count": 47,
   "id": "b5427c91-8cd7-4be4-8a12-91d13e005c1a",
   "metadata": {},
   "outputs": [
    {
     "data": {
      "text/plain": [
       "Timestamp('2017-12-31 00:00:00')"
      ]
     },
     "execution_count": 47,
     "metadata": {},
     "output_type": "execute_result"
    }
   ],
   "source": [
    "df.index.max()"
   ]
  },
  {
   "cell_type": "code",
   "execution_count": 48,
   "id": "1a585007-3142-4c52-bae4-6ac3fb2cf05f",
   "metadata": {},
   "outputs": [
    {
     "data": {
      "text/plain": [
       "count\n",
       "1    4383\n",
       "Name: count, dtype: int64"
      ]
     },
     "execution_count": 48,
     "metadata": {},
     "output_type": "execute_result"
    }
   ],
   "source": [
    "df.index.value_counts().value_counts()"
   ]
  },
  {
   "cell_type": "markdown",
   "id": "c6ee2dce-eda1-47d9-a198-757ee3fd2f73",
   "metadata": {},
   "source": [
    "The data set contains dates from January 1, 2006 to December 31, 2017. Each observation represents one day. There are 4383 observations which means there are 12 years and 3 days represented (accounts for additional leap year days)."
   ]
  },
  {
   "cell_type": "markdown",
   "id": "c8eadc51-3c9b-41dc-85dc-5fdfc53d2fa5",
   "metadata": {
    "jp-MarkdownHeadingCollapsed": true
   },
   "source": [
    "#### Add Columns: Year, Month, and Weekday Name"
   ]
  },
  {
   "cell_type": "code",
   "execution_count": 68,
   "id": "0f39d95c-7cbc-4d45-bb6b-b833adbe83bf",
   "metadata": {},
   "outputs": [],
   "source": [
    "df['Year'] = df.index.year\n",
    "df['Month'] = df.index.month\n",
    "df['Weekday Name'] = df.index.strftime(\"%a\")"
   ]
  },
  {
   "cell_type": "markdown",
   "id": "8b0fc237-0899-4ce8-8899-e3de7eb029e7",
   "metadata": {},
   "source": [
    "## Data Exploration - Basic Visualization\n",
    "\n",
    "Start to make plots and see if you can generate some questions about the data. Make sure that you make observations about each plot - say what you see and what it means in terms of the data.\n",
    "\n",
    "- Plot the overall consumption over time.\n",
    "- Plot the wind and solar consumption over time.\n",
    "\n",
    "- Choose a focal year and redo the plots to look at variability over the year.\n",
    "- Redo this for a focal month"
   ]
  },
  {
   "cell_type": "code",
   "execution_count": 69,
   "id": "c9e49152-d7e2-4cef-baf3-7b2c4fb920e6",
   "metadata": {},
   "outputs": [
    {
     "data": {
      "text/html": [
       "<div>\n",
       "<style scoped>\n",
       "    .dataframe tbody tr th:only-of-type {\n",
       "        vertical-align: middle;\n",
       "    }\n",
       "\n",
       "    .dataframe tbody tr th {\n",
       "        vertical-align: top;\n",
       "    }\n",
       "\n",
       "    .dataframe thead th {\n",
       "        text-align: right;\n",
       "    }\n",
       "</style>\n",
       "<table border=\"1\" class=\"dataframe\">\n",
       "  <thead>\n",
       "    <tr style=\"text-align: right;\">\n",
       "      <th></th>\n",
       "      <th>Consumption</th>\n",
       "      <th>Wind</th>\n",
       "      <th>Solar</th>\n",
       "      <th>Wind+Solar</th>\n",
       "      <th>Year</th>\n",
       "      <th>Month</th>\n",
       "      <th>Weekday Name</th>\n",
       "    </tr>\n",
       "    <tr>\n",
       "      <th>Date</th>\n",
       "      <th></th>\n",
       "      <th></th>\n",
       "      <th></th>\n",
       "      <th></th>\n",
       "      <th></th>\n",
       "      <th></th>\n",
       "      <th></th>\n",
       "    </tr>\n",
       "  </thead>\n",
       "  <tbody>\n",
       "    <tr>\n",
       "      <th>2006-01-01</th>\n",
       "      <td>1069.18400</td>\n",
       "      <td>NaN</td>\n",
       "      <td>NaN</td>\n",
       "      <td>NaN</td>\n",
       "      <td>2006</td>\n",
       "      <td>1</td>\n",
       "      <td>Sun</td>\n",
       "    </tr>\n",
       "    <tr>\n",
       "      <th>2006-01-02</th>\n",
       "      <td>1380.52100</td>\n",
       "      <td>NaN</td>\n",
       "      <td>NaN</td>\n",
       "      <td>NaN</td>\n",
       "      <td>2006</td>\n",
       "      <td>1</td>\n",
       "      <td>Mon</td>\n",
       "    </tr>\n",
       "    <tr>\n",
       "      <th>2006-01-03</th>\n",
       "      <td>1442.53300</td>\n",
       "      <td>NaN</td>\n",
       "      <td>NaN</td>\n",
       "      <td>NaN</td>\n",
       "      <td>2006</td>\n",
       "      <td>1</td>\n",
       "      <td>Tue</td>\n",
       "    </tr>\n",
       "    <tr>\n",
       "      <th>2006-01-04</th>\n",
       "      <td>1457.21700</td>\n",
       "      <td>NaN</td>\n",
       "      <td>NaN</td>\n",
       "      <td>NaN</td>\n",
       "      <td>2006</td>\n",
       "      <td>1</td>\n",
       "      <td>Wed</td>\n",
       "    </tr>\n",
       "    <tr>\n",
       "      <th>2006-01-05</th>\n",
       "      <td>1477.13100</td>\n",
       "      <td>NaN</td>\n",
       "      <td>NaN</td>\n",
       "      <td>NaN</td>\n",
       "      <td>2006</td>\n",
       "      <td>1</td>\n",
       "      <td>Thu</td>\n",
       "    </tr>\n",
       "    <tr>\n",
       "      <th>...</th>\n",
       "      <td>...</td>\n",
       "      <td>...</td>\n",
       "      <td>...</td>\n",
       "      <td>...</td>\n",
       "      <td>...</td>\n",
       "      <td>...</td>\n",
       "      <td>...</td>\n",
       "    </tr>\n",
       "    <tr>\n",
       "      <th>2017-12-27</th>\n",
       "      <td>1263.94091</td>\n",
       "      <td>394.507</td>\n",
       "      <td>16.530</td>\n",
       "      <td>411.037</td>\n",
       "      <td>2017</td>\n",
       "      <td>12</td>\n",
       "      <td>Wed</td>\n",
       "    </tr>\n",
       "    <tr>\n",
       "      <th>2017-12-28</th>\n",
       "      <td>1299.86398</td>\n",
       "      <td>506.424</td>\n",
       "      <td>14.162</td>\n",
       "      <td>520.586</td>\n",
       "      <td>2017</td>\n",
       "      <td>12</td>\n",
       "      <td>Thu</td>\n",
       "    </tr>\n",
       "    <tr>\n",
       "      <th>2017-12-29</th>\n",
       "      <td>1295.08753</td>\n",
       "      <td>584.277</td>\n",
       "      <td>29.854</td>\n",
       "      <td>614.131</td>\n",
       "      <td>2017</td>\n",
       "      <td>12</td>\n",
       "      <td>Fri</td>\n",
       "    </tr>\n",
       "    <tr>\n",
       "      <th>2017-12-30</th>\n",
       "      <td>1215.44897</td>\n",
       "      <td>721.247</td>\n",
       "      <td>7.467</td>\n",
       "      <td>728.714</td>\n",
       "      <td>2017</td>\n",
       "      <td>12</td>\n",
       "      <td>Sat</td>\n",
       "    </tr>\n",
       "    <tr>\n",
       "      <th>2017-12-31</th>\n",
       "      <td>1107.11488</td>\n",
       "      <td>721.176</td>\n",
       "      <td>19.980</td>\n",
       "      <td>741.156</td>\n",
       "      <td>2017</td>\n",
       "      <td>12</td>\n",
       "      <td>Sun</td>\n",
       "    </tr>\n",
       "  </tbody>\n",
       "</table>\n",
       "<p>4383 rows × 7 columns</p>\n",
       "</div>"
      ],
      "text/plain": [
       "            Consumption     Wind   Solar  Wind+Solar  Year  Month Weekday Name\n",
       "Date                                                                          \n",
       "2006-01-01   1069.18400      NaN     NaN         NaN  2006      1          Sun\n",
       "2006-01-02   1380.52100      NaN     NaN         NaN  2006      1          Mon\n",
       "2006-01-03   1442.53300      NaN     NaN         NaN  2006      1          Tue\n",
       "2006-01-04   1457.21700      NaN     NaN         NaN  2006      1          Wed\n",
       "2006-01-05   1477.13100      NaN     NaN         NaN  2006      1          Thu\n",
       "...                 ...      ...     ...         ...   ...    ...          ...\n",
       "2017-12-27   1263.94091  394.507  16.530     411.037  2017     12          Wed\n",
       "2017-12-28   1299.86398  506.424  14.162     520.586  2017     12          Thu\n",
       "2017-12-29   1295.08753  584.277  29.854     614.131  2017     12          Fri\n",
       "2017-12-30   1215.44897  721.247   7.467     728.714  2017     12          Sat\n",
       "2017-12-31   1107.11488  721.176  19.980     741.156  2017     12          Sun\n",
       "\n",
       "[4383 rows x 7 columns]"
      ]
     },
     "execution_count": 69,
     "metadata": {},
     "output_type": "execute_result"
    }
   ],
   "source": [
    "df"
   ]
  },
  {
   "cell_type": "markdown",
   "id": "235c857b-bee3-49b5-8086-663dcfce40ae",
   "metadata": {},
   "source": [
    "## Further Exploration\n",
    "\n",
    "Now continue exploring the data to see what you can find out. Remember to explain what you are learning from each graph or calculation. Add guiding words in markdown to talk about what your code should be doing and why.\n",
    "\n",
    "- How does seasonality effect the energy consumption? Consider the consumption grouped on a monthly basis. You could look at max, min, mean, etc. Make an interesting plot of this data (bar plot, box plot, etc). What do you learn?\n",
    "\n",
    "- How does the day of the week change energy consumption?\n",
    "\n",
    "- Using downsampling, plot on the same graph the daily (original data) and the average weekly (downsampled data) consumption for both solar and wind.\n",
    "\n",
    "- Using downsampling plot the yearly rolling average of both wind and solar consumption.\n",
    "\n",
    "- See if you can come up with a really cool graph of your own!"
   ]
  },
  {
   "cell_type": "markdown",
   "id": "c6d75033-9634-4c31-a391-829bcf805dc2",
   "metadata": {},
   "source": [
    "## Conclusion"
   ]
  },
  {
   "cell_type": "code",
   "execution_count": null,
   "id": "759f8812-1b49-4dc6-ac3f-11f1f7fe1696",
   "metadata": {},
   "outputs": [],
   "source": []
  }
 ],
 "metadata": {
  "kernelspec": {
   "display_name": "Python [conda env:base] *",
   "language": "python",
   "name": "conda-base-py"
  },
  "language_info": {
   "codemirror_mode": {
    "name": "ipython",
    "version": 3
   },
   "file_extension": ".py",
   "mimetype": "text/x-python",
   "name": "python",
   "nbconvert_exporter": "python",
   "pygments_lexer": "ipython3",
   "version": "3.13.5"
  }
 },
 "nbformat": 4,
 "nbformat_minor": 5
}
