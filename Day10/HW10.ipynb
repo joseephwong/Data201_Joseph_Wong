{
 "cells": [
  {
   "cell_type": "markdown",
   "id": "7afdfa0f-9146-4d6f-8f59-2dff694610d6",
   "metadata": {},
   "source": [
    "# HW10\n",
    "\n",
    "### Author: Joseph Wong"
   ]
  },
  {
   "cell_type": "code",
   "execution_count": null,
   "id": "453504c2-0bff-44c8-88fb-a6772b4d49fc",
   "metadata": {},
   "outputs": [],
   "source": []
  }
 ],
 "metadata": {
  "kernelspec": {
   "display_name": "Python [conda env:base] *",
   "language": "python",
   "name": "conda-base-py"
  },
  "language_info": {
   "codemirror_mode": {
    "name": "ipython",
    "version": 3
   },
   "file_extension": ".py",
   "mimetype": "text/x-python",
   "name": "python",
   "nbconvert_exporter": "python",
   "pygments_lexer": "ipython3",
   "version": "3.13.5"
  }
 },
 "nbformat": 4,
 "nbformat_minor": 5
}
