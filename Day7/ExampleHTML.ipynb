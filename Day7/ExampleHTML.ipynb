{
 "cells": [
  {
   "cell_type": "raw",
   "id": "b5e62d0d-a092-41f1-8311-c6812f5668d4",
   "metadata": {},
   "source": [
    "---\n",
    "format:\n",
    "    html: \n",
    "        theme: minty\n",
    "        fontsize: 1.1em\n",
    "        page-layout: article\n",
    "        mermaid:\n",
    "            theme: default\n",
    "\n",
    "toc: true\n",
    "toc-depth: 5\n",
    "toc-expand: 2\n",
    "editor: visual\n",
    "warning: false\n",
    "error: false\n",
    "code-overflow: wrap\n",
    "eval: true\n",
    "\n",
    "title: \"Intermediate Data Science\"\n",
    "subtitle: \"Visualization\"\n",
    "author: \"Joanna Bieri <br> DATA201\"\n",
    "---"
   ]
  },
  {
   "cell_type": "markdown",
   "id": "a4930d98-4efc-4e33-aba5-64fa44337566",
   "metadata": {},
   "source": [
    "# Quarto Webpage\n",
    "\n",
    "## Submenu Themes\n",
    "Optional Themes:\n",
    "\n",
    "- minty\n",
    "- cosmos\n",
    "- readable\n",
    "- journal\n",
    "- cayman\n",
    "- flatly\n",
    "- cerulean\n",
    "- lumen\n",
    "- slate\n",
    "- united\n",
    "- solarized\n",
    "\n",
    "toc = table of contents\n"
   ]
  },
  {
   "cell_type": "code",
   "execution_count": null,
   "id": "9b427302-2b8f-4652-9cd7-f8e31154b541",
   "metadata": {},
   "outputs": [],
   "source": []
  }
 ],
 "metadata": {
  "kernelspec": {
   "display_name": "Python 3 (ipykernel)",
   "language": "python",
   "name": "python3"
  },
  "language_info": {
   "codemirror_mode": {
    "name": "ipython",
    "version": 3
   },
   "file_extension": ".py",
   "mimetype": "text/x-python",
   "name": "python",
   "nbconvert_exporter": "python",
   "pygments_lexer": "ipython3",
   "version": "3.13.5"
  }
 },
 "nbformat": 4,
 "nbformat_minor": 5
}
