{
 "cells": [
  {
   "cell_type": "markdown",
   "id": "1aa070c8-c5aa-4ce6-acf2-fd705ac281bf",
   "metadata": {},
   "source": [
    "# HW3 Analysis of Music and Mental Health Survey\n",
    "\n",
    "### Author: Joseph Wong\n",
    "\n",
    "This notebook uses data from the Kaggle 'Music & Mental Health Survey Results' data set:\n",
    "\n",
    "https://www.kaggle.com/datasets/catherinerasgaitis/mxmh-survey-results\n",
    "\n",
    "It was accessed on (9/10/2025).\n",
    "\n",
    "Data set was created by Catherine Rasgaitis. Data collection was performed through a Google Form posted on social media platforms and advertised on posters and cards in public locations. It is under the CC0: Public Domain license.\n",
    "\n",
    "The original dataset had 736 observations and 33 variables.\n",
    "\n",
    "## Goal: Understand potential correlation between music listening habits and mental health\n",
    "\n",
    "The goal of this notebook is to understand if or how there is a correlation between music listening habits and mental health. This is an initial exploratory data exploration.\n",
    "\n",
    "Since they do not pertain to this specific topic, the following variables have been dropped from the original data set:\n",
    "\n",
    "    'Timestamp', 'Primary streaming service', 'Instrumentalist', 'Composer', 'Permissions'\n",
    "\n",
    "The data is saved in the file:\n",
    "\n",
    "    'mxmh_survey_results.csv'"
   ]
  },
  {
   "cell_type": "markdown",
   "id": "f9842c02-cb8f-4aee-8eb3-7af323f69460",
   "metadata": {
    "jp-MarkdownHeadingCollapsed": true
   },
   "source": [
    "## Importing packages and the data set"
   ]
  },
  {
   "cell_type": "code",
   "execution_count": 3,
   "id": "604fa8be-b9e5-4169-b96d-58e0ce1bc17a",
   "metadata": {},
   "outputs": [],
   "source": [
    "# Some basic package imports\n",
    "import os\n",
    "import numpy as np\n",
    "import pandas as pd\n",
    "\n",
    "import matplotlib.pyplot as plt\n",
    "import plotly.express as px\n",
    "from plotly.subplots import make_subplots\n",
    "import plotly.io as pio\n",
    "pio.renderers.defaule = 'colab'"
   ]
  },
  {
   "cell_type": "code",
   "execution_count": 4,
   "id": "7d2a3300-c50f-438f-841a-31cfd066150c",
   "metadata": {},
   "outputs": [
    {
     "name": "stdout",
     "output_type": "stream",
     "text": [
      "Warning: Looks like you're using an outdated `kagglehub` version (installed: 0.3.8), please consider upgrading to the latest version (0.3.13).\n",
      "Path to dataset files: C:\\Users\\josee\\.cache\\kagglehub\\datasets\\catherinerasgaitis\\mxmh-survey-results\\versions\\1\n"
     ]
    }
   ],
   "source": [
    "import kagglehub\n",
    "\n",
    "# Download latest version\n",
    "path = kagglehub.dataset_download(\"catherinerasgaitis/mxmh-survey-results\")\n",
    "\n",
    "print(\"Path to dataset files:\", path)"
   ]
  },
  {
   "cell_type": "code",
   "execution_count": 5,
   "id": "b7881fb8-2ba8-4d4c-a18d-d2d5a9e69622",
   "metadata": {},
   "outputs": [
    {
     "data": {
      "text/plain": [
       "['mxmh_survey_results.csv']"
      ]
     },
     "execution_count": 5,
     "metadata": {},
     "output_type": "execute_result"
    }
   ],
   "source": [
    "path = '/Users/josee/.cache/kagglehub/datasets/catherinerasgaitis/mxmh-survey-results/versions/1/'\n",
    "os.listdir(path)"
   ]
  },
  {
   "cell_type": "code",
   "execution_count": 6,
   "id": "d7424715-4027-4926-9256-c462de6c481b",
   "metadata": {},
   "outputs": [
    {
     "data": {
      "text/html": [
       "<div>\n",
       "<style scoped>\n",
       "    .dataframe tbody tr th:only-of-type {\n",
       "        vertical-align: middle;\n",
       "    }\n",
       "\n",
       "    .dataframe tbody tr th {\n",
       "        vertical-align: top;\n",
       "    }\n",
       "\n",
       "    .dataframe thead th {\n",
       "        text-align: right;\n",
       "    }\n",
       "</style>\n",
       "<table border=\"1\" class=\"dataframe\">\n",
       "  <thead>\n",
       "    <tr style=\"text-align: right;\">\n",
       "      <th></th>\n",
       "      <th>Age</th>\n",
       "      <th>Hours per day</th>\n",
       "      <th>While working</th>\n",
       "      <th>Fav genre</th>\n",
       "      <th>Exploratory</th>\n",
       "      <th>Foreign languages</th>\n",
       "      <th>BPM</th>\n",
       "      <th>Frequency [Classical]</th>\n",
       "      <th>Frequency [Country]</th>\n",
       "      <th>Frequency [EDM]</th>\n",
       "      <th>...</th>\n",
       "      <th>Frequency [Pop]</th>\n",
       "      <th>Frequency [R&amp;B]</th>\n",
       "      <th>Frequency [Rap]</th>\n",
       "      <th>Frequency [Rock]</th>\n",
       "      <th>Frequency [Video game music]</th>\n",
       "      <th>Anxiety</th>\n",
       "      <th>Depression</th>\n",
       "      <th>Insomnia</th>\n",
       "      <th>OCD</th>\n",
       "      <th>Music effects</th>\n",
       "    </tr>\n",
       "  </thead>\n",
       "  <tbody>\n",
       "    <tr>\n",
       "      <th>0</th>\n",
       "      <td>18.0</td>\n",
       "      <td>3.0</td>\n",
       "      <td>Yes</td>\n",
       "      <td>Latin</td>\n",
       "      <td>Yes</td>\n",
       "      <td>Yes</td>\n",
       "      <td>156.0</td>\n",
       "      <td>Rarely</td>\n",
       "      <td>Never</td>\n",
       "      <td>Rarely</td>\n",
       "      <td>...</td>\n",
       "      <td>Very frequently</td>\n",
       "      <td>Sometimes</td>\n",
       "      <td>Very frequently</td>\n",
       "      <td>Never</td>\n",
       "      <td>Sometimes</td>\n",
       "      <td>3.0</td>\n",
       "      <td>0.0</td>\n",
       "      <td>1.0</td>\n",
       "      <td>0.0</td>\n",
       "      <td>NaN</td>\n",
       "    </tr>\n",
       "    <tr>\n",
       "      <th>1</th>\n",
       "      <td>63.0</td>\n",
       "      <td>1.5</td>\n",
       "      <td>Yes</td>\n",
       "      <td>Rock</td>\n",
       "      <td>Yes</td>\n",
       "      <td>No</td>\n",
       "      <td>119.0</td>\n",
       "      <td>Sometimes</td>\n",
       "      <td>Never</td>\n",
       "      <td>Never</td>\n",
       "      <td>...</td>\n",
       "      <td>Sometimes</td>\n",
       "      <td>Sometimes</td>\n",
       "      <td>Rarely</td>\n",
       "      <td>Very frequently</td>\n",
       "      <td>Rarely</td>\n",
       "      <td>7.0</td>\n",
       "      <td>2.0</td>\n",
       "      <td>2.0</td>\n",
       "      <td>1.0</td>\n",
       "      <td>NaN</td>\n",
       "    </tr>\n",
       "    <tr>\n",
       "      <th>2</th>\n",
       "      <td>18.0</td>\n",
       "      <td>4.0</td>\n",
       "      <td>No</td>\n",
       "      <td>Video game music</td>\n",
       "      <td>No</td>\n",
       "      <td>Yes</td>\n",
       "      <td>132.0</td>\n",
       "      <td>Never</td>\n",
       "      <td>Never</td>\n",
       "      <td>Very frequently</td>\n",
       "      <td>...</td>\n",
       "      <td>Rarely</td>\n",
       "      <td>Never</td>\n",
       "      <td>Rarely</td>\n",
       "      <td>Rarely</td>\n",
       "      <td>Very frequently</td>\n",
       "      <td>7.0</td>\n",
       "      <td>7.0</td>\n",
       "      <td>10.0</td>\n",
       "      <td>2.0</td>\n",
       "      <td>No effect</td>\n",
       "    </tr>\n",
       "    <tr>\n",
       "      <th>3</th>\n",
       "      <td>61.0</td>\n",
       "      <td>2.5</td>\n",
       "      <td>Yes</td>\n",
       "      <td>Jazz</td>\n",
       "      <td>Yes</td>\n",
       "      <td>Yes</td>\n",
       "      <td>84.0</td>\n",
       "      <td>Sometimes</td>\n",
       "      <td>Never</td>\n",
       "      <td>Never</td>\n",
       "      <td>...</td>\n",
       "      <td>Sometimes</td>\n",
       "      <td>Sometimes</td>\n",
       "      <td>Never</td>\n",
       "      <td>Never</td>\n",
       "      <td>Never</td>\n",
       "      <td>9.0</td>\n",
       "      <td>7.0</td>\n",
       "      <td>3.0</td>\n",
       "      <td>3.0</td>\n",
       "      <td>Improve</td>\n",
       "    </tr>\n",
       "    <tr>\n",
       "      <th>4</th>\n",
       "      <td>18.0</td>\n",
       "      <td>4.0</td>\n",
       "      <td>Yes</td>\n",
       "      <td>R&amp;B</td>\n",
       "      <td>Yes</td>\n",
       "      <td>No</td>\n",
       "      <td>107.0</td>\n",
       "      <td>Never</td>\n",
       "      <td>Never</td>\n",
       "      <td>Rarely</td>\n",
       "      <td>...</td>\n",
       "      <td>Sometimes</td>\n",
       "      <td>Very frequently</td>\n",
       "      <td>Very frequently</td>\n",
       "      <td>Never</td>\n",
       "      <td>Rarely</td>\n",
       "      <td>7.0</td>\n",
       "      <td>2.0</td>\n",
       "      <td>5.0</td>\n",
       "      <td>9.0</td>\n",
       "      <td>Improve</td>\n",
       "    </tr>\n",
       "    <tr>\n",
       "      <th>...</th>\n",
       "      <td>...</td>\n",
       "      <td>...</td>\n",
       "      <td>...</td>\n",
       "      <td>...</td>\n",
       "      <td>...</td>\n",
       "      <td>...</td>\n",
       "      <td>...</td>\n",
       "      <td>...</td>\n",
       "      <td>...</td>\n",
       "      <td>...</td>\n",
       "      <td>...</td>\n",
       "      <td>...</td>\n",
       "      <td>...</td>\n",
       "      <td>...</td>\n",
       "      <td>...</td>\n",
       "      <td>...</td>\n",
       "      <td>...</td>\n",
       "      <td>...</td>\n",
       "      <td>...</td>\n",
       "      <td>...</td>\n",
       "      <td>...</td>\n",
       "    </tr>\n",
       "    <tr>\n",
       "      <th>731</th>\n",
       "      <td>17.0</td>\n",
       "      <td>2.0</td>\n",
       "      <td>Yes</td>\n",
       "      <td>Rock</td>\n",
       "      <td>Yes</td>\n",
       "      <td>Yes</td>\n",
       "      <td>120.0</td>\n",
       "      <td>Very frequently</td>\n",
       "      <td>Rarely</td>\n",
       "      <td>Never</td>\n",
       "      <td>...</td>\n",
       "      <td>Very frequently</td>\n",
       "      <td>Never</td>\n",
       "      <td>Rarely</td>\n",
       "      <td>Very frequently</td>\n",
       "      <td>Never</td>\n",
       "      <td>7.0</td>\n",
       "      <td>6.0</td>\n",
       "      <td>0.0</td>\n",
       "      <td>9.0</td>\n",
       "      <td>Improve</td>\n",
       "    </tr>\n",
       "    <tr>\n",
       "      <th>732</th>\n",
       "      <td>18.0</td>\n",
       "      <td>1.0</td>\n",
       "      <td>Yes</td>\n",
       "      <td>Pop</td>\n",
       "      <td>Yes</td>\n",
       "      <td>Yes</td>\n",
       "      <td>160.0</td>\n",
       "      <td>Rarely</td>\n",
       "      <td>Rarely</td>\n",
       "      <td>Never</td>\n",
       "      <td>...</td>\n",
       "      <td>Very frequently</td>\n",
       "      <td>Never</td>\n",
       "      <td>Never</td>\n",
       "      <td>Sometimes</td>\n",
       "      <td>Sometimes</td>\n",
       "      <td>3.0</td>\n",
       "      <td>2.0</td>\n",
       "      <td>2.0</td>\n",
       "      <td>5.0</td>\n",
       "      <td>Improve</td>\n",
       "    </tr>\n",
       "    <tr>\n",
       "      <th>733</th>\n",
       "      <td>19.0</td>\n",
       "      <td>6.0</td>\n",
       "      <td>Yes</td>\n",
       "      <td>Rap</td>\n",
       "      <td>Yes</td>\n",
       "      <td>No</td>\n",
       "      <td>120.0</td>\n",
       "      <td>Rarely</td>\n",
       "      <td>Sometimes</td>\n",
       "      <td>Sometimes</td>\n",
       "      <td>...</td>\n",
       "      <td>Sometimes</td>\n",
       "      <td>Sometimes</td>\n",
       "      <td>Sometimes</td>\n",
       "      <td>Rarely</td>\n",
       "      <td>Rarely</td>\n",
       "      <td>2.0</td>\n",
       "      <td>2.0</td>\n",
       "      <td>2.0</td>\n",
       "      <td>2.0</td>\n",
       "      <td>Improve</td>\n",
       "    </tr>\n",
       "    <tr>\n",
       "      <th>734</th>\n",
       "      <td>19.0</td>\n",
       "      <td>5.0</td>\n",
       "      <td>Yes</td>\n",
       "      <td>Classical</td>\n",
       "      <td>No</td>\n",
       "      <td>No</td>\n",
       "      <td>170.0</td>\n",
       "      <td>Very frequently</td>\n",
       "      <td>Never</td>\n",
       "      <td>Never</td>\n",
       "      <td>...</td>\n",
       "      <td>Never</td>\n",
       "      <td>Never</td>\n",
       "      <td>Never</td>\n",
       "      <td>Never</td>\n",
       "      <td>Sometimes</td>\n",
       "      <td>2.0</td>\n",
       "      <td>3.0</td>\n",
       "      <td>2.0</td>\n",
       "      <td>1.0</td>\n",
       "      <td>Improve</td>\n",
       "    </tr>\n",
       "    <tr>\n",
       "      <th>735</th>\n",
       "      <td>29.0</td>\n",
       "      <td>2.0</td>\n",
       "      <td>Yes</td>\n",
       "      <td>Hip hop</td>\n",
       "      <td>Yes</td>\n",
       "      <td>Yes</td>\n",
       "      <td>98.0</td>\n",
       "      <td>Sometimes</td>\n",
       "      <td>Rarely</td>\n",
       "      <td>Very frequently</td>\n",
       "      <td>...</td>\n",
       "      <td>Sometimes</td>\n",
       "      <td>Very frequently</td>\n",
       "      <td>Very frequently</td>\n",
       "      <td>Very frequently</td>\n",
       "      <td>Rarely</td>\n",
       "      <td>2.0</td>\n",
       "      <td>2.0</td>\n",
       "      <td>2.0</td>\n",
       "      <td>5.0</td>\n",
       "      <td>Improve</td>\n",
       "    </tr>\n",
       "  </tbody>\n",
       "</table>\n",
       "<p>736 rows × 28 columns</p>\n",
       "</div>"
      ],
      "text/plain": [
       "      Age  Hours per day While working         Fav genre Exploratory  \\\n",
       "0    18.0            3.0           Yes             Latin         Yes   \n",
       "1    63.0            1.5           Yes              Rock         Yes   \n",
       "2    18.0            4.0            No  Video game music          No   \n",
       "3    61.0            2.5           Yes              Jazz         Yes   \n",
       "4    18.0            4.0           Yes               R&B         Yes   \n",
       "..    ...            ...           ...               ...         ...   \n",
       "731  17.0            2.0           Yes              Rock         Yes   \n",
       "732  18.0            1.0           Yes               Pop         Yes   \n",
       "733  19.0            6.0           Yes               Rap         Yes   \n",
       "734  19.0            5.0           Yes         Classical          No   \n",
       "735  29.0            2.0           Yes           Hip hop         Yes   \n",
       "\n",
       "    Foreign languages    BPM Frequency [Classical] Frequency [Country]  \\\n",
       "0                 Yes  156.0                Rarely               Never   \n",
       "1                  No  119.0             Sometimes               Never   \n",
       "2                 Yes  132.0                 Never               Never   \n",
       "3                 Yes   84.0             Sometimes               Never   \n",
       "4                  No  107.0                 Never               Never   \n",
       "..                ...    ...                   ...                 ...   \n",
       "731               Yes  120.0       Very frequently              Rarely   \n",
       "732               Yes  160.0                Rarely              Rarely   \n",
       "733                No  120.0                Rarely           Sometimes   \n",
       "734                No  170.0       Very frequently               Never   \n",
       "735               Yes   98.0             Sometimes              Rarely   \n",
       "\n",
       "     Frequency [EDM]  ...  Frequency [Pop]  Frequency [R&B]  Frequency [Rap]  \\\n",
       "0             Rarely  ...  Very frequently        Sometimes  Very frequently   \n",
       "1              Never  ...        Sometimes        Sometimes           Rarely   \n",
       "2    Very frequently  ...           Rarely            Never           Rarely   \n",
       "3              Never  ...        Sometimes        Sometimes            Never   \n",
       "4             Rarely  ...        Sometimes  Very frequently  Very frequently   \n",
       "..               ...  ...              ...              ...              ...   \n",
       "731            Never  ...  Very frequently            Never           Rarely   \n",
       "732            Never  ...  Very frequently            Never            Never   \n",
       "733        Sometimes  ...        Sometimes        Sometimes        Sometimes   \n",
       "734            Never  ...            Never            Never            Never   \n",
       "735  Very frequently  ...        Sometimes  Very frequently  Very frequently   \n",
       "\n",
       "    Frequency [Rock] Frequency [Video game music] Anxiety Depression Insomnia  \\\n",
       "0              Never                    Sometimes     3.0        0.0      1.0   \n",
       "1    Very frequently                       Rarely     7.0        2.0      2.0   \n",
       "2             Rarely              Very frequently     7.0        7.0     10.0   \n",
       "3              Never                        Never     9.0        7.0      3.0   \n",
       "4              Never                       Rarely     7.0        2.0      5.0   \n",
       "..               ...                          ...     ...        ...      ...   \n",
       "731  Very frequently                        Never     7.0        6.0      0.0   \n",
       "732        Sometimes                    Sometimes     3.0        2.0      2.0   \n",
       "733           Rarely                       Rarely     2.0        2.0      2.0   \n",
       "734            Never                    Sometimes     2.0        3.0      2.0   \n",
       "735  Very frequently                       Rarely     2.0        2.0      2.0   \n",
       "\n",
       "     OCD Music effects  \n",
       "0    0.0           NaN  \n",
       "1    1.0           NaN  \n",
       "2    2.0     No effect  \n",
       "3    3.0       Improve  \n",
       "4    9.0       Improve  \n",
       "..   ...           ...  \n",
       "731  9.0       Improve  \n",
       "732  5.0       Improve  \n",
       "733  2.0       Improve  \n",
       "734  1.0       Improve  \n",
       "735  5.0       Improve  \n",
       "\n",
       "[736 rows x 28 columns]"
      ]
     },
     "execution_count": 6,
     "metadata": {},
     "output_type": "execute_result"
    }
   ],
   "source": [
    "file = path+'mxmh_survey_results.csv'\n",
    "df_raw = pd.read_csv(file)\n",
    "df = df_raw.drop(columns=['Timestamp','Primary streaming service','Instrumentalist','Composer','Permissions'])\n",
    "df"
   ]
  },
  {
   "cell_type": "markdown",
   "id": "7c2a5b22-d0a7-465f-8d9c-ed1ffb04eaa2",
   "metadata": {
    "jp-MarkdownHeadingCollapsed": true
   },
   "source": [
    "## About the data"
   ]
  },
  {
   "cell_type": "code",
   "execution_count": 7,
   "id": "d9e2cf3c-6c89-4225-a467-805698eb67da",
   "metadata": {},
   "outputs": [
    {
     "data": {
      "text/plain": [
       "(736, 28)"
      ]
     },
     "execution_count": 7,
     "metadata": {},
     "output_type": "execute_result"
    }
   ],
   "source": [
    "df.shape"
   ]
  },
  {
   "cell_type": "markdown",
   "id": "77b4cbfb-3f28-4029-ab4f-dd539b11560a",
   "metadata": {},
   "source": [
    "There are 736 observations and 28 variables in the data set."
   ]
  },
  {
   "cell_type": "markdown",
   "id": "6c425b59-4064-4e46-bf2c-e7cdc8e43cd7",
   "metadata": {
    "jp-MarkdownHeadingCollapsed": true
   },
   "source": [
    "### Variables"
   ]
  },
  {
   "cell_type": "code",
   "execution_count": 8,
   "id": "58cfa85b-d301-45c3-a43e-dbd8bcb13103",
   "metadata": {},
   "outputs": [
    {
     "data": {
      "text/plain": [
       "Index(['Age', 'Hours per day', 'While working', 'Fav genre', 'Exploratory',\n",
       "       'Foreign languages', 'BPM', 'Frequency [Classical]',\n",
       "       'Frequency [Country]', 'Frequency [EDM]', 'Frequency [Folk]',\n",
       "       'Frequency [Gospel]', 'Frequency [Hip hop]', 'Frequency [Jazz]',\n",
       "       'Frequency [K pop]', 'Frequency [Latin]', 'Frequency [Lofi]',\n",
       "       'Frequency [Metal]', 'Frequency [Pop]', 'Frequency [R&B]',\n",
       "       'Frequency [Rap]', 'Frequency [Rock]', 'Frequency [Video game music]',\n",
       "       'Anxiety', 'Depression', 'Insomnia', 'OCD', 'Music effects'],\n",
       "      dtype='object')"
      ]
     },
     "execution_count": 8,
     "metadata": {},
     "output_type": "execute_result"
    }
   ],
   "source": [
    "df.keys()"
   ]
  },
  {
   "cell_type": "code",
   "execution_count": 10,
   "id": "72eb0067-6bb6-4125-b8e9-929bad131b4f",
   "metadata": {},
   "outputs": [
    {
     "data": {
      "text/plain": [
       "Age                             float64\n",
       "Hours per day                   float64\n",
       "While working                    object\n",
       "Fav genre                        object\n",
       "Exploratory                      object\n",
       "Foreign languages                object\n",
       "BPM                             float64\n",
       "Frequency [Classical]            object\n",
       "Frequency [Country]              object\n",
       "Frequency [EDM]                  object\n",
       "Frequency [Folk]                 object\n",
       "Frequency [Gospel]               object\n",
       "Frequency [Hip hop]              object\n",
       "Frequency [Jazz]                 object\n",
       "Frequency [K pop]                object\n",
       "Frequency [Latin]                object\n",
       "Frequency [Lofi]                 object\n",
       "Frequency [Metal]                object\n",
       "Frequency [Pop]                  object\n",
       "Frequency [R&B]                  object\n",
       "Frequency [Rap]                  object\n",
       "Frequency [Rock]                 object\n",
       "Frequency [Video game music]     object\n",
       "Anxiety                         float64\n",
       "Depression                      float64\n",
       "Insomnia                        float64\n",
       "OCD                             float64\n",
       "Music effects                    object\n",
       "dtype: object"
      ]
     },
     "execution_count": 10,
     "metadata": {},
     "output_type": "execute_result"
    }
   ],
   "source": [
    "df.dtypes"
   ]
  },
  {
   "cell_type": "markdown",
   "id": "1b001fcb-9e85-44d4-8ebc-aec9442d4b91",
   "metadata": {},
   "source": [
    "- Categorical (all are strings)\n",
    "    - 'While working': Does the respondent listen to music while studying/working?\n",
    "    - 'Fav genre': Respondent's favorite or top genre\n",
    "    - 'Exploratory': Does the respondent actively explore new artists/genres?\n",
    "    - 'Foreign languages': Does the respondent regularly listen to music with lyrics in a language they are not fluent in?\n",
    "    - 'Frequency [\"genre\"]': How frequently the respondent listens to a specified genre of music (Never, Rarely, Sometimes, Very frequently)\n",
    "    - 'Music effects': Does music improve/worsen respondent's mental health conditions? (Improve, No effect, Worsen) **(this is based on respondent's subjective opinion on how music affected their mental health conditions)**\n",
    "\n",
    "- Numerical (all are floats)\n",
    "    - 'Age': Respondent's age\n",
    "    - 'Hours per day': Number of hours the respondent listens to music per day\n",
    "    - 'BPM': Beats per minute of favorite genre\n",
    "    - 'Anxiety': Self-reported anxiety, on a scale of 0-10\n",
    "    - 'Depression': Self-reported depression, on a scale of 0-10\n",
    "    - 'Insomnia': Self-reported insomnia, on a scale of 0-10\n",
    "    - 'OCD': Self-reported OCD, on a scale of 0-10"
   ]
  },
  {
   "cell_type": "markdown",
   "id": "12e0d8f2-f070-4e2f-836c-35c097e9b37a",
   "metadata": {
    "jp-MarkdownHeadingCollapsed": true
   },
   "source": [
    "### NaNs"
   ]
  },
  {
   "cell_type": "code",
   "execution_count": 20,
   "id": "7a6edac9-1dd6-4db6-bc4b-3a3e02f7b38f",
   "metadata": {},
   "outputs": [
    {
     "data": {
      "text/plain": [
       "Age                               1\n",
       "Hours per day                     0\n",
       "While working                     3\n",
       "Fav genre                         0\n",
       "Exploratory                       0\n",
       "Foreign languages                 4\n",
       "BPM                             107\n",
       "Frequency [Classical]             0\n",
       "Frequency [Country]               0\n",
       "Frequency [EDM]                   0\n",
       "Frequency [Folk]                  0\n",
       "Frequency [Gospel]                0\n",
       "Frequency [Hip hop]               0\n",
       "Frequency [Jazz]                  0\n",
       "Frequency [K pop]                 0\n",
       "Frequency [Latin]                 0\n",
       "Frequency [Lofi]                  0\n",
       "Frequency [Metal]                 0\n",
       "Frequency [Pop]                   0\n",
       "Frequency [R&B]                   0\n",
       "Frequency [Rap]                   0\n",
       "Frequency [Rock]                  0\n",
       "Frequency [Video game music]      0\n",
       "Anxiety                           0\n",
       "Depression                        0\n",
       "Insomnia                          0\n",
       "OCD                               0\n",
       "Music effects                     8\n",
       "dtype: int64"
      ]
     },
     "execution_count": 20,
     "metadata": {},
     "output_type": "execute_result"
    }
   ],
   "source": [
    "df.isna().sum()"
   ]
  },
  {
   "cell_type": "code",
   "execution_count": 25,
   "id": "c2c879be-194b-4280-821a-8c5c21a9c5cb",
   "metadata": {},
   "outputs": [
    {
     "data": {
      "text/html": [
       "<div>\n",
       "<style scoped>\n",
       "    .dataframe tbody tr th:only-of-type {\n",
       "        vertical-align: middle;\n",
       "    }\n",
       "\n",
       "    .dataframe tbody tr th {\n",
       "        vertical-align: top;\n",
       "    }\n",
       "\n",
       "    .dataframe thead th {\n",
       "        text-align: right;\n",
       "    }\n",
       "</style>\n",
       "<table border=\"1\" class=\"dataframe\">\n",
       "  <thead>\n",
       "    <tr style=\"text-align: right;\">\n",
       "      <th></th>\n",
       "      <th>Age</th>\n",
       "      <th>Hours per day</th>\n",
       "      <th>While working</th>\n",
       "      <th>Fav genre</th>\n",
       "      <th>Exploratory</th>\n",
       "      <th>Foreign languages</th>\n",
       "      <th>BPM</th>\n",
       "      <th>Frequency [Classical]</th>\n",
       "      <th>Frequency [Country]</th>\n",
       "      <th>Frequency [EDM]</th>\n",
       "      <th>...</th>\n",
       "      <th>Frequency [Pop]</th>\n",
       "      <th>Frequency [R&amp;B]</th>\n",
       "      <th>Frequency [Rap]</th>\n",
       "      <th>Frequency [Rock]</th>\n",
       "      <th>Frequency [Video game music]</th>\n",
       "      <th>Anxiety</th>\n",
       "      <th>Depression</th>\n",
       "      <th>Insomnia</th>\n",
       "      <th>OCD</th>\n",
       "      <th>Music effects</th>\n",
       "    </tr>\n",
       "  </thead>\n",
       "  <tbody>\n",
       "    <tr>\n",
       "      <th>0</th>\n",
       "      <td>18.0</td>\n",
       "      <td>3.0</td>\n",
       "      <td>Yes</td>\n",
       "      <td>Latin</td>\n",
       "      <td>Yes</td>\n",
       "      <td>Yes</td>\n",
       "      <td>156.0</td>\n",
       "      <td>Rarely</td>\n",
       "      <td>Never</td>\n",
       "      <td>Rarely</td>\n",
       "      <td>...</td>\n",
       "      <td>Very frequently</td>\n",
       "      <td>Sometimes</td>\n",
       "      <td>Very frequently</td>\n",
       "      <td>Never</td>\n",
       "      <td>Sometimes</td>\n",
       "      <td>3.0</td>\n",
       "      <td>0.0</td>\n",
       "      <td>1.0</td>\n",
       "      <td>0.0</td>\n",
       "      <td>NaN</td>\n",
       "    </tr>\n",
       "    <tr>\n",
       "      <th>1</th>\n",
       "      <td>63.0</td>\n",
       "      <td>1.5</td>\n",
       "      <td>Yes</td>\n",
       "      <td>Rock</td>\n",
       "      <td>Yes</td>\n",
       "      <td>No</td>\n",
       "      <td>119.0</td>\n",
       "      <td>Sometimes</td>\n",
       "      <td>Never</td>\n",
       "      <td>Never</td>\n",
       "      <td>...</td>\n",
       "      <td>Sometimes</td>\n",
       "      <td>Sometimes</td>\n",
       "      <td>Rarely</td>\n",
       "      <td>Very frequently</td>\n",
       "      <td>Rarely</td>\n",
       "      <td>7.0</td>\n",
       "      <td>2.0</td>\n",
       "      <td>2.0</td>\n",
       "      <td>1.0</td>\n",
       "      <td>NaN</td>\n",
       "    </tr>\n",
       "    <tr>\n",
       "      <th>12</th>\n",
       "      <td>NaN</td>\n",
       "      <td>3.0</td>\n",
       "      <td>Yes</td>\n",
       "      <td>Hip hop</td>\n",
       "      <td>Yes</td>\n",
       "      <td>Yes</td>\n",
       "      <td>NaN</td>\n",
       "      <td>Rarely</td>\n",
       "      <td>Never</td>\n",
       "      <td>Rarely</td>\n",
       "      <td>...</td>\n",
       "      <td>Sometimes</td>\n",
       "      <td>Sometimes</td>\n",
       "      <td>Rarely</td>\n",
       "      <td>Rarely</td>\n",
       "      <td>Never</td>\n",
       "      <td>9.0</td>\n",
       "      <td>3.0</td>\n",
       "      <td>2.0</td>\n",
       "      <td>7.0</td>\n",
       "      <td>Improve</td>\n",
       "    </tr>\n",
       "    <tr>\n",
       "      <th>57</th>\n",
       "      <td>42.0</td>\n",
       "      <td>0.0</td>\n",
       "      <td>NaN</td>\n",
       "      <td>Rock</td>\n",
       "      <td>No</td>\n",
       "      <td>Yes</td>\n",
       "      <td>NaN</td>\n",
       "      <td>Rarely</td>\n",
       "      <td>Rarely</td>\n",
       "      <td>Never</td>\n",
       "      <td>...</td>\n",
       "      <td>Rarely</td>\n",
       "      <td>Rarely</td>\n",
       "      <td>Never</td>\n",
       "      <td>Sometimes</td>\n",
       "      <td>Sometimes</td>\n",
       "      <td>9.0</td>\n",
       "      <td>0.0</td>\n",
       "      <td>10.0</td>\n",
       "      <td>0.0</td>\n",
       "      <td>No effect</td>\n",
       "    </tr>\n",
       "    <tr>\n",
       "      <th>161</th>\n",
       "      <td>18.0</td>\n",
       "      <td>2.0</td>\n",
       "      <td>Yes</td>\n",
       "      <td>K pop</td>\n",
       "      <td>No</td>\n",
       "      <td>Yes</td>\n",
       "      <td>122.0</td>\n",
       "      <td>Rarely</td>\n",
       "      <td>Never</td>\n",
       "      <td>Never</td>\n",
       "      <td>...</td>\n",
       "      <td>Very frequently</td>\n",
       "      <td>Sometimes</td>\n",
       "      <td>Never</td>\n",
       "      <td>Never</td>\n",
       "      <td>Never</td>\n",
       "      <td>0.0</td>\n",
       "      <td>2.0</td>\n",
       "      <td>0.0</td>\n",
       "      <td>0.0</td>\n",
       "      <td>NaN</td>\n",
       "    </tr>\n",
       "    <tr>\n",
       "      <th>168</th>\n",
       "      <td>19.0</td>\n",
       "      <td>3.0</td>\n",
       "      <td>Yes</td>\n",
       "      <td>K pop</td>\n",
       "      <td>Yes</td>\n",
       "      <td>Yes</td>\n",
       "      <td>114.0</td>\n",
       "      <td>Sometimes</td>\n",
       "      <td>Never</td>\n",
       "      <td>Never</td>\n",
       "      <td>...</td>\n",
       "      <td>Sometimes</td>\n",
       "      <td>Sometimes</td>\n",
       "      <td>Rarely</td>\n",
       "      <td>Sometimes</td>\n",
       "      <td>Sometimes</td>\n",
       "      <td>8.0</td>\n",
       "      <td>9.0</td>\n",
       "      <td>6.0</td>\n",
       "      <td>0.0</td>\n",
       "      <td>NaN</td>\n",
       "    </tr>\n",
       "    <tr>\n",
       "      <th>235</th>\n",
       "      <td>31.0</td>\n",
       "      <td>2.0</td>\n",
       "      <td>No</td>\n",
       "      <td>Metal</td>\n",
       "      <td>Yes</td>\n",
       "      <td>NaN</td>\n",
       "      <td>95.0</td>\n",
       "      <td>Sometimes</td>\n",
       "      <td>Sometimes</td>\n",
       "      <td>Sometimes</td>\n",
       "      <td>...</td>\n",
       "      <td>Very frequently</td>\n",
       "      <td>Rarely</td>\n",
       "      <td>Sometimes</td>\n",
       "      <td>Very frequently</td>\n",
       "      <td>Sometimes</td>\n",
       "      <td>7.0</td>\n",
       "      <td>6.0</td>\n",
       "      <td>6.0</td>\n",
       "      <td>5.0</td>\n",
       "      <td>Improve</td>\n",
       "    </tr>\n",
       "    <tr>\n",
       "      <th>338</th>\n",
       "      <td>21.0</td>\n",
       "      <td>2.0</td>\n",
       "      <td>Yes</td>\n",
       "      <td>EDM</td>\n",
       "      <td>No</td>\n",
       "      <td>Yes</td>\n",
       "      <td>NaN</td>\n",
       "      <td>Rarely</td>\n",
       "      <td>Rarely</td>\n",
       "      <td>Very frequently</td>\n",
       "      <td>...</td>\n",
       "      <td>Sometimes</td>\n",
       "      <td>Rarely</td>\n",
       "      <td>Rarely</td>\n",
       "      <td>Sometimes</td>\n",
       "      <td>Very frequently</td>\n",
       "      <td>10.0</td>\n",
       "      <td>10.0</td>\n",
       "      <td>5.0</td>\n",
       "      <td>7.0</td>\n",
       "      <td>NaN</td>\n",
       "    </tr>\n",
       "    <tr>\n",
       "      <th>396</th>\n",
       "      <td>14.0</td>\n",
       "      <td>1.5</td>\n",
       "      <td>No</td>\n",
       "      <td>Classical</td>\n",
       "      <td>Yes</td>\n",
       "      <td>NaN</td>\n",
       "      <td>140.0</td>\n",
       "      <td>Very frequently</td>\n",
       "      <td>Never</td>\n",
       "      <td>Never</td>\n",
       "      <td>...</td>\n",
       "      <td>Never</td>\n",
       "      <td>Never</td>\n",
       "      <td>Never</td>\n",
       "      <td>Rarely</td>\n",
       "      <td>Sometimes</td>\n",
       "      <td>1.0</td>\n",
       "      <td>2.0</td>\n",
       "      <td>4.0</td>\n",
       "      <td>3.0</td>\n",
       "      <td>Improve</td>\n",
       "    </tr>\n",
       "    <tr>\n",
       "      <th>426</th>\n",
       "      <td>30.0</td>\n",
       "      <td>13.0</td>\n",
       "      <td>NaN</td>\n",
       "      <td>K pop</td>\n",
       "      <td>Yes</td>\n",
       "      <td>Yes</td>\n",
       "      <td>145.0</td>\n",
       "      <td>Sometimes</td>\n",
       "      <td>Never</td>\n",
       "      <td>Rarely</td>\n",
       "      <td>...</td>\n",
       "      <td>Very frequently</td>\n",
       "      <td>Very frequently</td>\n",
       "      <td>Sometimes</td>\n",
       "      <td>Very frequently</td>\n",
       "      <td>Sometimes</td>\n",
       "      <td>10.0</td>\n",
       "      <td>10.0</td>\n",
       "      <td>10.0</td>\n",
       "      <td>7.0</td>\n",
       "      <td>Improve</td>\n",
       "    </tr>\n",
       "    <tr>\n",
       "      <th>441</th>\n",
       "      <td>21.0</td>\n",
       "      <td>1.5</td>\n",
       "      <td>Yes</td>\n",
       "      <td>Folk</td>\n",
       "      <td>No</td>\n",
       "      <td>No</td>\n",
       "      <td>105.0</td>\n",
       "      <td>Never</td>\n",
       "      <td>Sometimes</td>\n",
       "      <td>Never</td>\n",
       "      <td>...</td>\n",
       "      <td>Never</td>\n",
       "      <td>Never</td>\n",
       "      <td>Never</td>\n",
       "      <td>Sometimes</td>\n",
       "      <td>Never</td>\n",
       "      <td>3.0</td>\n",
       "      <td>3.0</td>\n",
       "      <td>1.0</td>\n",
       "      <td>0.0</td>\n",
       "      <td>NaN</td>\n",
       "    </tr>\n",
       "    <tr>\n",
       "      <th>532</th>\n",
       "      <td>67.0</td>\n",
       "      <td>1.0</td>\n",
       "      <td>No</td>\n",
       "      <td>Rock</td>\n",
       "      <td>No</td>\n",
       "      <td>No</td>\n",
       "      <td>NaN</td>\n",
       "      <td>Sometimes</td>\n",
       "      <td>Sometimes</td>\n",
       "      <td>Never</td>\n",
       "      <td>...</td>\n",
       "      <td>Sometimes</td>\n",
       "      <td>Sometimes</td>\n",
       "      <td>Sometimes</td>\n",
       "      <td>Sometimes</td>\n",
       "      <td>Never</td>\n",
       "      <td>3.0</td>\n",
       "      <td>2.0</td>\n",
       "      <td>2.0</td>\n",
       "      <td>2.0</td>\n",
       "      <td>NaN</td>\n",
       "    </tr>\n",
       "    <tr>\n",
       "      <th>561</th>\n",
       "      <td>21.0</td>\n",
       "      <td>1.0</td>\n",
       "      <td>NaN</td>\n",
       "      <td>K pop</td>\n",
       "      <td>Yes</td>\n",
       "      <td>NaN</td>\n",
       "      <td>NaN</td>\n",
       "      <td>Rarely</td>\n",
       "      <td>Rarely</td>\n",
       "      <td>Sometimes</td>\n",
       "      <td>...</td>\n",
       "      <td>Very frequently</td>\n",
       "      <td>Sometimes</td>\n",
       "      <td>Sometimes</td>\n",
       "      <td>Very frequently</td>\n",
       "      <td>Rarely</td>\n",
       "      <td>4.0</td>\n",
       "      <td>5.0</td>\n",
       "      <td>2.0</td>\n",
       "      <td>5.0</td>\n",
       "      <td>NaN</td>\n",
       "    </tr>\n",
       "    <tr>\n",
       "      <th>666</th>\n",
       "      <td>15.0</td>\n",
       "      <td>3.0</td>\n",
       "      <td>Yes</td>\n",
       "      <td>Rock</td>\n",
       "      <td>No</td>\n",
       "      <td>NaN</td>\n",
       "      <td>132.0</td>\n",
       "      <td>Sometimes</td>\n",
       "      <td>Never</td>\n",
       "      <td>Never</td>\n",
       "      <td>...</td>\n",
       "      <td>Never</td>\n",
       "      <td>Never</td>\n",
       "      <td>Never</td>\n",
       "      <td>Very frequently</td>\n",
       "      <td>Rarely</td>\n",
       "      <td>4.0</td>\n",
       "      <td>3.0</td>\n",
       "      <td>5.0</td>\n",
       "      <td>0.0</td>\n",
       "      <td>No effect</td>\n",
       "    </tr>\n",
       "  </tbody>\n",
       "</table>\n",
       "<p>14 rows × 28 columns</p>\n",
       "</div>"
      ],
      "text/plain": [
       "      Age  Hours per day While working  Fav genre Exploratory  \\\n",
       "0    18.0            3.0           Yes      Latin         Yes   \n",
       "1    63.0            1.5           Yes       Rock         Yes   \n",
       "12    NaN            3.0           Yes    Hip hop         Yes   \n",
       "57   42.0            0.0           NaN       Rock          No   \n",
       "161  18.0            2.0           Yes      K pop          No   \n",
       "168  19.0            3.0           Yes      K pop         Yes   \n",
       "235  31.0            2.0            No      Metal         Yes   \n",
       "338  21.0            2.0           Yes        EDM          No   \n",
       "396  14.0            1.5            No  Classical         Yes   \n",
       "426  30.0           13.0           NaN      K pop         Yes   \n",
       "441  21.0            1.5           Yes       Folk          No   \n",
       "532  67.0            1.0            No       Rock          No   \n",
       "561  21.0            1.0           NaN      K pop         Yes   \n",
       "666  15.0            3.0           Yes       Rock          No   \n",
       "\n",
       "    Foreign languages    BPM Frequency [Classical] Frequency [Country]  \\\n",
       "0                 Yes  156.0                Rarely               Never   \n",
       "1                  No  119.0             Sometimes               Never   \n",
       "12                Yes    NaN                Rarely               Never   \n",
       "57                Yes    NaN                Rarely              Rarely   \n",
       "161               Yes  122.0                Rarely               Never   \n",
       "168               Yes  114.0             Sometimes               Never   \n",
       "235               NaN   95.0             Sometimes           Sometimes   \n",
       "338               Yes    NaN                Rarely              Rarely   \n",
       "396               NaN  140.0       Very frequently               Never   \n",
       "426               Yes  145.0             Sometimes               Never   \n",
       "441                No  105.0                 Never           Sometimes   \n",
       "532                No    NaN             Sometimes           Sometimes   \n",
       "561               NaN    NaN                Rarely              Rarely   \n",
       "666               NaN  132.0             Sometimes               Never   \n",
       "\n",
       "     Frequency [EDM]  ...  Frequency [Pop]  Frequency [R&B]  Frequency [Rap]  \\\n",
       "0             Rarely  ...  Very frequently        Sometimes  Very frequently   \n",
       "1              Never  ...        Sometimes        Sometimes           Rarely   \n",
       "12            Rarely  ...        Sometimes        Sometimes           Rarely   \n",
       "57             Never  ...           Rarely           Rarely            Never   \n",
       "161            Never  ...  Very frequently        Sometimes            Never   \n",
       "168            Never  ...        Sometimes        Sometimes           Rarely   \n",
       "235        Sometimes  ...  Very frequently           Rarely        Sometimes   \n",
       "338  Very frequently  ...        Sometimes           Rarely           Rarely   \n",
       "396            Never  ...            Never            Never            Never   \n",
       "426           Rarely  ...  Very frequently  Very frequently        Sometimes   \n",
       "441            Never  ...            Never            Never            Never   \n",
       "532            Never  ...        Sometimes        Sometimes        Sometimes   \n",
       "561        Sometimes  ...  Very frequently        Sometimes        Sometimes   \n",
       "666            Never  ...            Never            Never            Never   \n",
       "\n",
       "    Frequency [Rock] Frequency [Video game music] Anxiety Depression Insomnia  \\\n",
       "0              Never                    Sometimes     3.0        0.0      1.0   \n",
       "1    Very frequently                       Rarely     7.0        2.0      2.0   \n",
       "12            Rarely                        Never     9.0        3.0      2.0   \n",
       "57         Sometimes                    Sometimes     9.0        0.0     10.0   \n",
       "161            Never                        Never     0.0        2.0      0.0   \n",
       "168        Sometimes                    Sometimes     8.0        9.0      6.0   \n",
       "235  Very frequently                    Sometimes     7.0        6.0      6.0   \n",
       "338        Sometimes              Very frequently    10.0       10.0      5.0   \n",
       "396           Rarely                    Sometimes     1.0        2.0      4.0   \n",
       "426  Very frequently                    Sometimes    10.0       10.0     10.0   \n",
       "441        Sometimes                        Never     3.0        3.0      1.0   \n",
       "532        Sometimes                        Never     3.0        2.0      2.0   \n",
       "561  Very frequently                       Rarely     4.0        5.0      2.0   \n",
       "666  Very frequently                       Rarely     4.0        3.0      5.0   \n",
       "\n",
       "     OCD Music effects  \n",
       "0    0.0           NaN  \n",
       "1    1.0           NaN  \n",
       "12   7.0       Improve  \n",
       "57   0.0     No effect  \n",
       "161  0.0           NaN  \n",
       "168  0.0           NaN  \n",
       "235  5.0       Improve  \n",
       "338  7.0           NaN  \n",
       "396  3.0       Improve  \n",
       "426  7.0       Improve  \n",
       "441  0.0           NaN  \n",
       "532  2.0           NaN  \n",
       "561  5.0           NaN  \n",
       "666  0.0     No effect  \n",
       "\n",
       "[14 rows x 28 columns]"
      ]
     },
     "execution_count": 25,
     "metadata": {},
     "output_type": "execute_result"
    }
   ],
   "source": [
    "mask = (df['Age'].isna()) | (df['While working'].isna()) | (df['Foreign languages'].isna()) | (df['Music effects'].isna())\n",
    "df[mask]"
   ]
  },
  {
   "cell_type": "markdown",
   "id": "bb538409-8b26-4869-a954-199cf2ff73ce",
   "metadata": {},
   "source": [
    "The following columns contain a few number of NaNs: 'Age', 'While working', 'Foreign languages', 'Music effects'. The observations that contain the NaNs in these columns appear to contain data for most other variables. Therefore, these NaNs will are not likely to significantly alter the data set (because they are not frequent) and the observations may contain data that will contribute to other variables. So, we will keep the observations with NaNs in the data set."
   ]
  },
  {
   "cell_type": "code",
   "execution_count": 23,
   "id": "efc95b8e-75bd-42c1-883e-002eb5efaa6a",
   "metadata": {},
   "outputs": [
    {
     "data": {
      "text/html": [
       "<div>\n",
       "<style scoped>\n",
       "    .dataframe tbody tr th:only-of-type {\n",
       "        vertical-align: middle;\n",
       "    }\n",
       "\n",
       "    .dataframe tbody tr th {\n",
       "        vertical-align: top;\n",
       "    }\n",
       "\n",
       "    .dataframe thead th {\n",
       "        text-align: right;\n",
       "    }\n",
       "</style>\n",
       "<table border=\"1\" class=\"dataframe\">\n",
       "  <thead>\n",
       "    <tr style=\"text-align: right;\">\n",
       "      <th></th>\n",
       "      <th>Age</th>\n",
       "      <th>Hours per day</th>\n",
       "      <th>While working</th>\n",
       "      <th>Fav genre</th>\n",
       "      <th>Exploratory</th>\n",
       "      <th>Foreign languages</th>\n",
       "      <th>BPM</th>\n",
       "      <th>Frequency [Classical]</th>\n",
       "      <th>Frequency [Country]</th>\n",
       "      <th>Frequency [EDM]</th>\n",
       "      <th>...</th>\n",
       "      <th>Frequency [Pop]</th>\n",
       "      <th>Frequency [R&amp;B]</th>\n",
       "      <th>Frequency [Rap]</th>\n",
       "      <th>Frequency [Rock]</th>\n",
       "      <th>Frequency [Video game music]</th>\n",
       "      <th>Anxiety</th>\n",
       "      <th>Depression</th>\n",
       "      <th>Insomnia</th>\n",
       "      <th>OCD</th>\n",
       "      <th>Music effects</th>\n",
       "    </tr>\n",
       "  </thead>\n",
       "  <tbody>\n",
       "    <tr>\n",
       "      <th>10</th>\n",
       "      <td>18.0</td>\n",
       "      <td>3.0</td>\n",
       "      <td>Yes</td>\n",
       "      <td>Country</td>\n",
       "      <td>Yes</td>\n",
       "      <td>No</td>\n",
       "      <td>NaN</td>\n",
       "      <td>Never</td>\n",
       "      <td>Very frequently</td>\n",
       "      <td>Never</td>\n",
       "      <td>...</td>\n",
       "      <td>Rarely</td>\n",
       "      <td>Rarely</td>\n",
       "      <td>Never</td>\n",
       "      <td>Rarely</td>\n",
       "      <td>Never</td>\n",
       "      <td>7.0</td>\n",
       "      <td>7.0</td>\n",
       "      <td>4.0</td>\n",
       "      <td>7.0</td>\n",
       "      <td>No effect</td>\n",
       "    </tr>\n",
       "    <tr>\n",
       "      <th>12</th>\n",
       "      <td>NaN</td>\n",
       "      <td>3.0</td>\n",
       "      <td>Yes</td>\n",
       "      <td>Hip hop</td>\n",
       "      <td>Yes</td>\n",
       "      <td>Yes</td>\n",
       "      <td>NaN</td>\n",
       "      <td>Rarely</td>\n",
       "      <td>Never</td>\n",
       "      <td>Rarely</td>\n",
       "      <td>...</td>\n",
       "      <td>Sometimes</td>\n",
       "      <td>Sometimes</td>\n",
       "      <td>Rarely</td>\n",
       "      <td>Rarely</td>\n",
       "      <td>Never</td>\n",
       "      <td>9.0</td>\n",
       "      <td>3.0</td>\n",
       "      <td>2.0</td>\n",
       "      <td>7.0</td>\n",
       "      <td>Improve</td>\n",
       "    </tr>\n",
       "    <tr>\n",
       "      <th>15</th>\n",
       "      <td>17.0</td>\n",
       "      <td>2.0</td>\n",
       "      <td>No</td>\n",
       "      <td>Pop</td>\n",
       "      <td>Yes</td>\n",
       "      <td>Yes</td>\n",
       "      <td>NaN</td>\n",
       "      <td>Rarely</td>\n",
       "      <td>Rarely</td>\n",
       "      <td>Never</td>\n",
       "      <td>...</td>\n",
       "      <td>Very frequently</td>\n",
       "      <td>Rarely</td>\n",
       "      <td>Sometimes</td>\n",
       "      <td>Sometimes</td>\n",
       "      <td>Rarely</td>\n",
       "      <td>7.0</td>\n",
       "      <td>5.0</td>\n",
       "      <td>4.0</td>\n",
       "      <td>1.0</td>\n",
       "      <td>Worsen</td>\n",
       "    </tr>\n",
       "    <tr>\n",
       "      <th>30</th>\n",
       "      <td>20.0</td>\n",
       "      <td>5.0</td>\n",
       "      <td>Yes</td>\n",
       "      <td>Rock</td>\n",
       "      <td>Yes</td>\n",
       "      <td>Yes</td>\n",
       "      <td>NaN</td>\n",
       "      <td>Never</td>\n",
       "      <td>Rarely</td>\n",
       "      <td>Rarely</td>\n",
       "      <td>...</td>\n",
       "      <td>Sometimes</td>\n",
       "      <td>Sometimes</td>\n",
       "      <td>Sometimes</td>\n",
       "      <td>Very frequently</td>\n",
       "      <td>Rarely</td>\n",
       "      <td>7.0</td>\n",
       "      <td>7.0</td>\n",
       "      <td>2.0</td>\n",
       "      <td>0.0</td>\n",
       "      <td>Improve</td>\n",
       "    </tr>\n",
       "    <tr>\n",
       "      <th>32</th>\n",
       "      <td>19.0</td>\n",
       "      <td>6.0</td>\n",
       "      <td>Yes</td>\n",
       "      <td>Metal</td>\n",
       "      <td>Yes</td>\n",
       "      <td>Yes</td>\n",
       "      <td>NaN</td>\n",
       "      <td>Never</td>\n",
       "      <td>Never</td>\n",
       "      <td>Never</td>\n",
       "      <td>...</td>\n",
       "      <td>Sometimes</td>\n",
       "      <td>Never</td>\n",
       "      <td>Never</td>\n",
       "      <td>Sometimes</td>\n",
       "      <td>Sometimes</td>\n",
       "      <td>9.0</td>\n",
       "      <td>8.0</td>\n",
       "      <td>2.0</td>\n",
       "      <td>3.0</td>\n",
       "      <td>Improve</td>\n",
       "    </tr>\n",
       "    <tr>\n",
       "      <th>...</th>\n",
       "      <td>...</td>\n",
       "      <td>...</td>\n",
       "      <td>...</td>\n",
       "      <td>...</td>\n",
       "      <td>...</td>\n",
       "      <td>...</td>\n",
       "      <td>...</td>\n",
       "      <td>...</td>\n",
       "      <td>...</td>\n",
       "      <td>...</td>\n",
       "      <td>...</td>\n",
       "      <td>...</td>\n",
       "      <td>...</td>\n",
       "      <td>...</td>\n",
       "      <td>...</td>\n",
       "      <td>...</td>\n",
       "      <td>...</td>\n",
       "      <td>...</td>\n",
       "      <td>...</td>\n",
       "      <td>...</td>\n",
       "      <td>...</td>\n",
       "    </tr>\n",
       "    <tr>\n",
       "      <th>688</th>\n",
       "      <td>18.0</td>\n",
       "      <td>4.0</td>\n",
       "      <td>Yes</td>\n",
       "      <td>R&amp;B</td>\n",
       "      <td>No</td>\n",
       "      <td>No</td>\n",
       "      <td>NaN</td>\n",
       "      <td>Never</td>\n",
       "      <td>Rarely</td>\n",
       "      <td>Never</td>\n",
       "      <td>...</td>\n",
       "      <td>Sometimes</td>\n",
       "      <td>Very frequently</td>\n",
       "      <td>Sometimes</td>\n",
       "      <td>Never</td>\n",
       "      <td>Never</td>\n",
       "      <td>8.0</td>\n",
       "      <td>0.0</td>\n",
       "      <td>0.0</td>\n",
       "      <td>2.0</td>\n",
       "      <td>No effect</td>\n",
       "    </tr>\n",
       "    <tr>\n",
       "      <th>700</th>\n",
       "      <td>20.0</td>\n",
       "      <td>1.0</td>\n",
       "      <td>Yes</td>\n",
       "      <td>Pop</td>\n",
       "      <td>No</td>\n",
       "      <td>Yes</td>\n",
       "      <td>NaN</td>\n",
       "      <td>Sometimes</td>\n",
       "      <td>Rarely</td>\n",
       "      <td>Rarely</td>\n",
       "      <td>...</td>\n",
       "      <td>Very frequently</td>\n",
       "      <td>Rarely</td>\n",
       "      <td>Sometimes</td>\n",
       "      <td>Rarely</td>\n",
       "      <td>Very frequently</td>\n",
       "      <td>8.0</td>\n",
       "      <td>9.0</td>\n",
       "      <td>6.0</td>\n",
       "      <td>5.0</td>\n",
       "      <td>Worsen</td>\n",
       "    </tr>\n",
       "    <tr>\n",
       "      <th>706</th>\n",
       "      <td>23.0</td>\n",
       "      <td>1.0</td>\n",
       "      <td>Yes</td>\n",
       "      <td>Rock</td>\n",
       "      <td>Yes</td>\n",
       "      <td>Yes</td>\n",
       "      <td>NaN</td>\n",
       "      <td>Rarely</td>\n",
       "      <td>Rarely</td>\n",
       "      <td>Sometimes</td>\n",
       "      <td>...</td>\n",
       "      <td>Very frequently</td>\n",
       "      <td>Sometimes</td>\n",
       "      <td>Sometimes</td>\n",
       "      <td>Very frequently</td>\n",
       "      <td>Very frequently</td>\n",
       "      <td>8.0</td>\n",
       "      <td>6.0</td>\n",
       "      <td>1.0</td>\n",
       "      <td>4.0</td>\n",
       "      <td>Improve</td>\n",
       "    </tr>\n",
       "    <tr>\n",
       "      <th>712</th>\n",
       "      <td>23.0</td>\n",
       "      <td>3.0</td>\n",
       "      <td>Yes</td>\n",
       "      <td>Rock</td>\n",
       "      <td>No</td>\n",
       "      <td>No</td>\n",
       "      <td>NaN</td>\n",
       "      <td>Never</td>\n",
       "      <td>Never</td>\n",
       "      <td>Never</td>\n",
       "      <td>...</td>\n",
       "      <td>Sometimes</td>\n",
       "      <td>Rarely</td>\n",
       "      <td>Never</td>\n",
       "      <td>Very frequently</td>\n",
       "      <td>Never</td>\n",
       "      <td>10.0</td>\n",
       "      <td>5.0</td>\n",
       "      <td>2.0</td>\n",
       "      <td>0.0</td>\n",
       "      <td>Improve</td>\n",
       "    </tr>\n",
       "    <tr>\n",
       "      <th>717</th>\n",
       "      <td>23.0</td>\n",
       "      <td>2.0</td>\n",
       "      <td>No</td>\n",
       "      <td>Rock</td>\n",
       "      <td>Yes</td>\n",
       "      <td>Yes</td>\n",
       "      <td>NaN</td>\n",
       "      <td>Rarely</td>\n",
       "      <td>Never</td>\n",
       "      <td>Rarely</td>\n",
       "      <td>...</td>\n",
       "      <td>Sometimes</td>\n",
       "      <td>Sometimes</td>\n",
       "      <td>Sometimes</td>\n",
       "      <td>Very frequently</td>\n",
       "      <td>Never</td>\n",
       "      <td>5.0</td>\n",
       "      <td>7.0</td>\n",
       "      <td>10.0</td>\n",
       "      <td>2.0</td>\n",
       "      <td>No effect</td>\n",
       "    </tr>\n",
       "  </tbody>\n",
       "</table>\n",
       "<p>107 rows × 28 columns</p>\n",
       "</div>"
      ],
      "text/plain": [
       "      Age  Hours per day While working Fav genre Exploratory  \\\n",
       "10   18.0            3.0           Yes   Country         Yes   \n",
       "12    NaN            3.0           Yes   Hip hop         Yes   \n",
       "15   17.0            2.0            No       Pop         Yes   \n",
       "30   20.0            5.0           Yes      Rock         Yes   \n",
       "32   19.0            6.0           Yes     Metal         Yes   \n",
       "..    ...            ...           ...       ...         ...   \n",
       "688  18.0            4.0           Yes       R&B          No   \n",
       "700  20.0            1.0           Yes       Pop          No   \n",
       "706  23.0            1.0           Yes      Rock         Yes   \n",
       "712  23.0            3.0           Yes      Rock          No   \n",
       "717  23.0            2.0            No      Rock         Yes   \n",
       "\n",
       "    Foreign languages  BPM Frequency [Classical] Frequency [Country]  \\\n",
       "10                 No  NaN                 Never     Very frequently   \n",
       "12                Yes  NaN                Rarely               Never   \n",
       "15                Yes  NaN                Rarely              Rarely   \n",
       "30                Yes  NaN                 Never              Rarely   \n",
       "32                Yes  NaN                 Never               Never   \n",
       "..                ...  ...                   ...                 ...   \n",
       "688                No  NaN                 Never              Rarely   \n",
       "700               Yes  NaN             Sometimes              Rarely   \n",
       "706               Yes  NaN                Rarely              Rarely   \n",
       "712                No  NaN                 Never               Never   \n",
       "717               Yes  NaN                Rarely               Never   \n",
       "\n",
       "    Frequency [EDM]  ...  Frequency [Pop]  Frequency [R&B] Frequency [Rap]  \\\n",
       "10            Never  ...           Rarely           Rarely           Never   \n",
       "12           Rarely  ...        Sometimes        Sometimes          Rarely   \n",
       "15            Never  ...  Very frequently           Rarely       Sometimes   \n",
       "30           Rarely  ...        Sometimes        Sometimes       Sometimes   \n",
       "32            Never  ...        Sometimes            Never           Never   \n",
       "..              ...  ...              ...              ...             ...   \n",
       "688           Never  ...        Sometimes  Very frequently       Sometimes   \n",
       "700          Rarely  ...  Very frequently           Rarely       Sometimes   \n",
       "706       Sometimes  ...  Very frequently        Sometimes       Sometimes   \n",
       "712           Never  ...        Sometimes           Rarely           Never   \n",
       "717          Rarely  ...        Sometimes        Sometimes       Sometimes   \n",
       "\n",
       "    Frequency [Rock] Frequency [Video game music] Anxiety Depression Insomnia  \\\n",
       "10            Rarely                        Never     7.0        7.0      4.0   \n",
       "12            Rarely                        Never     9.0        3.0      2.0   \n",
       "15         Sometimes                       Rarely     7.0        5.0      4.0   \n",
       "30   Very frequently                       Rarely     7.0        7.0      2.0   \n",
       "32         Sometimes                    Sometimes     9.0        8.0      2.0   \n",
       "..               ...                          ...     ...        ...      ...   \n",
       "688            Never                        Never     8.0        0.0      0.0   \n",
       "700           Rarely              Very frequently     8.0        9.0      6.0   \n",
       "706  Very frequently              Very frequently     8.0        6.0      1.0   \n",
       "712  Very frequently                        Never    10.0        5.0      2.0   \n",
       "717  Very frequently                        Never     5.0        7.0     10.0   \n",
       "\n",
       "     OCD Music effects  \n",
       "10   7.0     No effect  \n",
       "12   7.0       Improve  \n",
       "15   1.0        Worsen  \n",
       "30   0.0       Improve  \n",
       "32   3.0       Improve  \n",
       "..   ...           ...  \n",
       "688  2.0     No effect  \n",
       "700  5.0        Worsen  \n",
       "706  4.0       Improve  \n",
       "712  0.0       Improve  \n",
       "717  2.0     No effect  \n",
       "\n",
       "[107 rows x 28 columns]"
      ]
     },
     "execution_count": 23,
     "metadata": {},
     "output_type": "execute_result"
    }
   ],
   "source": [
    "df[df['BPM'].isna()]"
   ]
  },
  {
   "cell_type": "markdown",
   "id": "41686b11-9c1b-4602-aad5-9152e812dff8",
   "metadata": {},
   "source": [
    "The 'BPM' column had 107 NaNs. The form used for data collection left \"harder\" questions optional (including 'BPM') to encourage respondents to finish the survey. This may account for the decently large number of NaNs. The observations with NaNs for the 'BPM' variable appear to have values for other variables. So, in regard to other variables, these NaNs are not likely to alter the analysis. However, in regard to 'BPM', analysis should have further considerations because it has fewer observations with values."
   ]
  },
  {
   "cell_type": "markdown",
   "id": "4c5175fa-fde6-4f37-853d-6c093e810fc5",
   "metadata": {
    "jp-MarkdownHeadingCollapsed": true
   },
   "source": [
    "### Other potential issues with the data"
   ]
  },
  {
   "cell_type": "code",
   "execution_count": 35,
   "id": "7dd2375e-941a-4a24-81e5-2fb3c606f7c1",
   "metadata": {},
   "outputs": [
    {
     "data": {
      "text/html": [
       "<div>\n",
       "<style scoped>\n",
       "    .dataframe tbody tr th:only-of-type {\n",
       "        vertical-align: middle;\n",
       "    }\n",
       "\n",
       "    .dataframe tbody tr th {\n",
       "        vertical-align: top;\n",
       "    }\n",
       "\n",
       "    .dataframe thead th {\n",
       "        text-align: right;\n",
       "    }\n",
       "</style>\n",
       "<table border=\"1\" class=\"dataframe\">\n",
       "  <thead>\n",
       "    <tr style=\"text-align: right;\">\n",
       "      <th></th>\n",
       "      <th>Age</th>\n",
       "      <th>Hours per day</th>\n",
       "      <th>BPM</th>\n",
       "      <th>Anxiety</th>\n",
       "      <th>Depression</th>\n",
       "      <th>Insomnia</th>\n",
       "      <th>OCD</th>\n",
       "    </tr>\n",
       "  </thead>\n",
       "  <tbody>\n",
       "    <tr>\n",
       "      <th>count</th>\n",
       "      <td>735.000000</td>\n",
       "      <td>736.000000</td>\n",
       "      <td>6.290000e+02</td>\n",
       "      <td>736.000000</td>\n",
       "      <td>736.000000</td>\n",
       "      <td>736.000000</td>\n",
       "      <td>736.000000</td>\n",
       "    </tr>\n",
       "    <tr>\n",
       "      <th>mean</th>\n",
       "      <td>25.206803</td>\n",
       "      <td>3.572758</td>\n",
       "      <td>1.589948e+06</td>\n",
       "      <td>5.837636</td>\n",
       "      <td>4.796196</td>\n",
       "      <td>3.738451</td>\n",
       "      <td>2.637228</td>\n",
       "    </tr>\n",
       "    <tr>\n",
       "      <th>std</th>\n",
       "      <td>12.054970</td>\n",
       "      <td>3.028199</td>\n",
       "      <td>3.987261e+07</td>\n",
       "      <td>2.793054</td>\n",
       "      <td>3.028870</td>\n",
       "      <td>3.088689</td>\n",
       "      <td>2.842017</td>\n",
       "    </tr>\n",
       "    <tr>\n",
       "      <th>min</th>\n",
       "      <td>10.000000</td>\n",
       "      <td>0.000000</td>\n",
       "      <td>0.000000e+00</td>\n",
       "      <td>0.000000</td>\n",
       "      <td>0.000000</td>\n",
       "      <td>0.000000</td>\n",
       "      <td>0.000000</td>\n",
       "    </tr>\n",
       "    <tr>\n",
       "      <th>25%</th>\n",
       "      <td>18.000000</td>\n",
       "      <td>2.000000</td>\n",
       "      <td>1.000000e+02</td>\n",
       "      <td>4.000000</td>\n",
       "      <td>2.000000</td>\n",
       "      <td>1.000000</td>\n",
       "      <td>0.000000</td>\n",
       "    </tr>\n",
       "    <tr>\n",
       "      <th>50%</th>\n",
       "      <td>21.000000</td>\n",
       "      <td>3.000000</td>\n",
       "      <td>1.200000e+02</td>\n",
       "      <td>6.000000</td>\n",
       "      <td>5.000000</td>\n",
       "      <td>3.000000</td>\n",
       "      <td>2.000000</td>\n",
       "    </tr>\n",
       "    <tr>\n",
       "      <th>75%</th>\n",
       "      <td>28.000000</td>\n",
       "      <td>5.000000</td>\n",
       "      <td>1.440000e+02</td>\n",
       "      <td>8.000000</td>\n",
       "      <td>7.000000</td>\n",
       "      <td>6.000000</td>\n",
       "      <td>5.000000</td>\n",
       "    </tr>\n",
       "    <tr>\n",
       "      <th>max</th>\n",
       "      <td>89.000000</td>\n",
       "      <td>24.000000</td>\n",
       "      <td>1.000000e+09</td>\n",
       "      <td>10.000000</td>\n",
       "      <td>10.000000</td>\n",
       "      <td>10.000000</td>\n",
       "      <td>10.000000</td>\n",
       "    </tr>\n",
       "  </tbody>\n",
       "</table>\n",
       "</div>"
      ],
      "text/plain": [
       "              Age  Hours per day           BPM     Anxiety  Depression  \\\n",
       "count  735.000000     736.000000  6.290000e+02  736.000000  736.000000   \n",
       "mean    25.206803       3.572758  1.589948e+06    5.837636    4.796196   \n",
       "std     12.054970       3.028199  3.987261e+07    2.793054    3.028870   \n",
       "min     10.000000       0.000000  0.000000e+00    0.000000    0.000000   \n",
       "25%     18.000000       2.000000  1.000000e+02    4.000000    2.000000   \n",
       "50%     21.000000       3.000000  1.200000e+02    6.000000    5.000000   \n",
       "75%     28.000000       5.000000  1.440000e+02    8.000000    7.000000   \n",
       "max     89.000000      24.000000  1.000000e+09   10.000000   10.000000   \n",
       "\n",
       "         Insomnia         OCD  \n",
       "count  736.000000  736.000000  \n",
       "mean     3.738451    2.637228  \n",
       "std      3.088689    2.842017  \n",
       "min      0.000000    0.000000  \n",
       "25%      1.000000    0.000000  \n",
       "50%      3.000000    2.000000  \n",
       "75%      6.000000    5.000000  \n",
       "max     10.000000   10.000000  "
      ]
     },
     "execution_count": 35,
     "metadata": {},
     "output_type": "execute_result"
    }
   ],
   "source": [
    "df.describe()"
   ]
  },
  {
   "cell_type": "markdown",
   "id": "f44c869c-ff9f-4df2-aab0-9db6601b2c6e",
   "metadata": {},
   "source": [
    "Overall, the numerical variables seem to have values that would fit the logical range of their scope (i.e. 'Hours per day' ranges from 0 to 24 hours). However, we will perform futher analysis on the 'BPM' variable because the max (1.000000e+09) seems highly illogical as a value."
   ]
  },
  {
   "cell_type": "code",
   "execution_count": 41,
   "id": "23f82094-0d61-4dac-8d5d-0882413f4ed7",
   "metadata": {},
   "outputs": [
    {
     "name": "stdout",
     "output_type": "stream",
     "text": [
      "min: 0.0\n",
      "max: 999999999.0\n"
     ]
    }
   ],
   "source": [
    "print(\"min:\",df['BPM'].min())\n",
    "print(\"max:\",df['BPM'].max())"
   ]
  },
  {
   "cell_type": "code",
   "execution_count": 46,
   "id": "2e6f7e5b-9ec7-4eb3-a3ad-bff183c9c0f5",
   "metadata": {},
   "outputs": [
    {
     "data": {
      "text/plain": [
       "568    999999999.0\n",
       "644          624.0\n",
       "610          220.0\n",
       "248          220.0\n",
       "662          218.0\n",
       "Name: BPM, dtype: float64"
      ]
     },
     "execution_count": 46,
     "metadata": {},
     "output_type": "execute_result"
    }
   ],
   "source": [
    "df['BPM'].sort_values(ascending=False).head()"
   ]
  },
  {
   "cell_type": "markdown",
   "id": "7212ae0e-f907-44d7-a0e7-27dc88e64143",
   "metadata": {},
   "source": [
    "The observation with a 'BPM' of 999999999 seems to be an illogical value and should not be considered a valid data point. Having a 'BPM' of 624 is possible, but still seems far outside the cluster of other data points. Therefore, to avoid analysis being skewed by these outliers, we will replace these data points with NaNs."
   ]
  },
  {
   "cell_type": "code",
   "execution_count": 79,
   "id": "921b6904-4939-40aa-91d3-847111a63936",
   "metadata": {},
   "outputs": [],
   "source": [
    "# assign all 'BPM' values greater than 300 to be NaN\n",
    "df.loc[df['BPM']>300, 'BPM'] = np.nan"
   ]
  },
  {
   "cell_type": "code",
   "execution_count": 80,
   "id": "ac83bdd8-3d32-4e90-b12a-2d8232a1453b",
   "metadata": {},
   "outputs": [
    {
     "data": {
      "text/plain": [
       "Age                                         16.0\n",
       "Hours per day                                7.0\n",
       "While working                                Yes\n",
       "Fav genre                       Video game music\n",
       "Exploratory                                  Yes\n",
       "Foreign languages                             No\n",
       "BPM                                          NaN\n",
       "Frequency [Classical]                      Never\n",
       "Frequency [Country]                       Rarely\n",
       "Frequency [EDM]                        Sometimes\n",
       "Frequency [Folk]                          Rarely\n",
       "Frequency [Gospel]                         Never\n",
       "Frequency [Hip hop]                       Rarely\n",
       "Frequency [Jazz]                          Rarely\n",
       "Frequency [K pop]                          Never\n",
       "Frequency [Latin]                          Never\n",
       "Frequency [Lofi]                           Never\n",
       "Frequency [Metal]                Very frequently\n",
       "Frequency [Pop]                        Sometimes\n",
       "Frequency [R&B]                            Never\n",
       "Frequency [Rap]                  Very frequently\n",
       "Frequency [Rock]                          Rarely\n",
       "Frequency [Video game music]           Sometimes\n",
       "Anxiety                                      4.0\n",
       "Depression                                   8.0\n",
       "Insomnia                                     8.0\n",
       "OCD                                          4.0\n",
       "Music effects                          No effect\n",
       "Name: 568, dtype: object"
      ]
     },
     "execution_count": 80,
     "metadata": {},
     "output_type": "execute_result"
    }
   ],
   "source": [
    "# verify 'BPM' is set to NaN\n",
    "df.iloc[568]"
   ]
  },
  {
   "cell_type": "code",
   "execution_count": 81,
   "id": "0b47e396-6447-4b06-b39b-07b4f64e2968",
   "metadata": {},
   "outputs": [
    {
     "data": {
      "text/plain": [
       "count    627.000000\n",
       "mean     122.625199\n",
       "std       33.905830\n",
       "min        0.000000\n",
       "25%      100.000000\n",
       "50%      120.000000\n",
       "75%      143.500000\n",
       "max      220.000000\n",
       "Name: BPM, dtype: float64"
      ]
     },
     "execution_count": 81,
     "metadata": {},
     "output_type": "execute_result"
    }
   ],
   "source": [
    "df['BPM'].describe()"
   ]
  },
  {
   "cell_type": "markdown",
   "id": "9c0c070f-a45b-4a23-85e3-7b8275af68ab",
   "metadata": {},
   "source": [
    "When observing the 'BPM' variable now, the range of values appears to be within a reasonable range of song BPMs."
   ]
  },
  {
   "cell_type": "markdown",
   "id": "bf58db80-7170-4246-afe6-0094f37b06bb",
   "metadata": {
    "jp-MarkdownHeadingCollapsed": true
   },
   "source": [
    "## Data Distribution"
   ]
  },
  {
   "cell_type": "markdown",
   "id": "7f0e1650-bdd2-4fe8-9fb8-1e74955cf98a",
   "metadata": {
    "jp-MarkdownHeadingCollapsed": true
   },
   "source": [
    "### Ages"
   ]
  },
  {
   "cell_type": "code",
   "execution_count": 160,
   "id": "4bdde82f-9186-442f-935a-f84d727abc62",
   "metadata": {},
   "outputs": [
    {
     "data": {
      "application/vnd.plotly.v1+json": {
       "config": {
        "plotlyServerURL": "https://plot.ly"
       },
       "data": [
        {
         "bingroup": "x",
         "hovertemplate": "variable=Age<br>value=%{x}<br>count=%{y}<extra></extra>",
         "legendgroup": "Age",
         "marker": {
          "color": "skyblue",
          "pattern": {
           "shape": ""
          }
         },
         "name": "Age",
         "nbinsx": 40,
         "orientation": "v",
         "showlegend": true,
         "type": "histogram",
         "x": {
          "bdata": "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",
          "dtype": "f8"
         },
         "xaxis": "x",
         "yaxis": "y"
        }
       ],
       "layout": {
        "barmode": "relative",
        "legend": {
         "title": {
          "text": "variable"
         },
         "tracegroupgap": 0
        },
        "showlegend": false,
        "template": {
         "data": {
          "bar": [
           {
            "error_x": {
             "color": "#2a3f5f"
            },
            "error_y": {
             "color": "#2a3f5f"
            },
            "marker": {
             "line": {
              "color": "#E5ECF6",
              "width": 0.5
             },
             "pattern": {
              "fillmode": "overlay",
              "size": 10,
              "solidity": 0.2
             }
            },
            "type": "bar"
           }
          ],
          "barpolar": [
           {
            "marker": {
             "line": {
              "color": "#E5ECF6",
              "width": 0.5
             },
             "pattern": {
              "fillmode": "overlay",
              "size": 10,
              "solidity": 0.2
             }
            },
            "type": "barpolar"
           }
          ],
          "carpet": [
           {
            "aaxis": {
             "endlinecolor": "#2a3f5f",
             "gridcolor": "white",
             "linecolor": "white",
             "minorgridcolor": "white",
             "startlinecolor": "#2a3f5f"
            },
            "baxis": {
             "endlinecolor": "#2a3f5f",
             "gridcolor": "white",
             "linecolor": "white",
             "minorgridcolor": "white",
             "startlinecolor": "#2a3f5f"
            },
            "type": "carpet"
           }
          ],
          "choropleth": [
           {
            "colorbar": {
             "outlinewidth": 0,
             "ticks": ""
            },
            "type": "choropleth"
           }
          ],
          "contour": [
           {
            "colorbar": {
             "outlinewidth": 0,
             "ticks": ""
            },
            "colorscale": [
             [
              0,
              "#0d0887"
             ],
             [
              0.1111111111111111,
              "#46039f"
             ],
             [
              0.2222222222222222,
              "#7201a8"
             ],
             [
              0.3333333333333333,
              "#9c179e"
             ],
             [
              0.4444444444444444,
              "#bd3786"
             ],
             [
              0.5555555555555556,
              "#d8576b"
             ],
             [
              0.6666666666666666,
              "#ed7953"
             ],
             [
              0.7777777777777778,
              "#fb9f3a"
             ],
             [
              0.8888888888888888,
              "#fdca26"
             ],
             [
              1,
              "#f0f921"
             ]
            ],
            "type": "contour"
           }
          ],
          "contourcarpet": [
           {
            "colorbar": {
             "outlinewidth": 0,
             "ticks": ""
            },
            "type": "contourcarpet"
           }
          ],
          "heatmap": [
           {
            "colorbar": {
             "outlinewidth": 0,
             "ticks": ""
            },
            "colorscale": [
             [
              0,
              "#0d0887"
             ],
             [
              0.1111111111111111,
              "#46039f"
             ],
             [
              0.2222222222222222,
              "#7201a8"
             ],
             [
              0.3333333333333333,
              "#9c179e"
             ],
             [
              0.4444444444444444,
              "#bd3786"
             ],
             [
              0.5555555555555556,
              "#d8576b"
             ],
             [
              0.6666666666666666,
              "#ed7953"
             ],
             [
              0.7777777777777778,
              "#fb9f3a"
             ],
             [
              0.8888888888888888,
              "#fdca26"
             ],
             [
              1,
              "#f0f921"
             ]
            ],
            "type": "heatmap"
           }
          ],
          "histogram": [
           {
            "marker": {
             "pattern": {
              "fillmode": "overlay",
              "size": 10,
              "solidity": 0.2
             }
            },
            "type": "histogram"
           }
          ],
          "histogram2d": [
           {
            "colorbar": {
             "outlinewidth": 0,
             "ticks": ""
            },
            "colorscale": [
             [
              0,
              "#0d0887"
             ],
             [
              0.1111111111111111,
              "#46039f"
             ],
             [
              0.2222222222222222,
              "#7201a8"
             ],
             [
              0.3333333333333333,
              "#9c179e"
             ],
             [
              0.4444444444444444,
              "#bd3786"
             ],
             [
              0.5555555555555556,
              "#d8576b"
             ],
             [
              0.6666666666666666,
              "#ed7953"
             ],
             [
              0.7777777777777778,
              "#fb9f3a"
             ],
             [
              0.8888888888888888,
              "#fdca26"
             ],
             [
              1,
              "#f0f921"
             ]
            ],
            "type": "histogram2d"
           }
          ],
          "histogram2dcontour": [
           {
            "colorbar": {
             "outlinewidth": 0,
             "ticks": ""
            },
            "colorscale": [
             [
              0,
              "#0d0887"
             ],
             [
              0.1111111111111111,
              "#46039f"
             ],
             [
              0.2222222222222222,
              "#7201a8"
             ],
             [
              0.3333333333333333,
              "#9c179e"
             ],
             [
              0.4444444444444444,
              "#bd3786"
             ],
             [
              0.5555555555555556,
              "#d8576b"
             ],
             [
              0.6666666666666666,
              "#ed7953"
             ],
             [
              0.7777777777777778,
              "#fb9f3a"
             ],
             [
              0.8888888888888888,
              "#fdca26"
             ],
             [
              1,
              "#f0f921"
             ]
            ],
            "type": "histogram2dcontour"
           }
          ],
          "mesh3d": [
           {
            "colorbar": {
             "outlinewidth": 0,
             "ticks": ""
            },
            "type": "mesh3d"
           }
          ],
          "parcoords": [
           {
            "line": {
             "colorbar": {
              "outlinewidth": 0,
              "ticks": ""
             }
            },
            "type": "parcoords"
           }
          ],
          "pie": [
           {
            "automargin": true,
            "type": "pie"
           }
          ],
          "scatter": [
           {
            "fillpattern": {
             "fillmode": "overlay",
             "size": 10,
             "solidity": 0.2
            },
            "type": "scatter"
           }
          ],
          "scatter3d": [
           {
            "line": {
             "colorbar": {
              "outlinewidth": 0,
              "ticks": ""
             }
            },
            "marker": {
             "colorbar": {
              "outlinewidth": 0,
              "ticks": ""
             }
            },
            "type": "scatter3d"
           }
          ],
          "scattercarpet": [
           {
            "marker": {
             "colorbar": {
              "outlinewidth": 0,
              "ticks": ""
             }
            },
            "type": "scattercarpet"
           }
          ],
          "scattergeo": [
           {
            "marker": {
             "colorbar": {
              "outlinewidth": 0,
              "ticks": ""
             }
            },
            "type": "scattergeo"
           }
          ],
          "scattergl": [
           {
            "marker": {
             "colorbar": {
              "outlinewidth": 0,
              "ticks": ""
             }
            },
            "type": "scattergl"
           }
          ],
          "scattermap": [
           {
            "marker": {
             "colorbar": {
              "outlinewidth": 0,
              "ticks": ""
             }
            },
            "type": "scattermap"
           }
          ],
          "scattermapbox": [
           {
            "marker": {
             "colorbar": {
              "outlinewidth": 0,
              "ticks": ""
             }
            },
            "type": "scattermapbox"
           }
          ],
          "scatterpolar": [
           {
            "marker": {
             "colorbar": {
              "outlinewidth": 0,
              "ticks": ""
             }
            },
            "type": "scatterpolar"
           }
          ],
          "scatterpolargl": [
           {
            "marker": {
             "colorbar": {
              "outlinewidth": 0,
              "ticks": ""
             }
            },
            "type": "scatterpolargl"
           }
          ],
          "scatterternary": [
           {
            "marker": {
             "colorbar": {
              "outlinewidth": 0,
              "ticks": ""
             }
            },
            "type": "scatterternary"
           }
          ],
          "surface": [
           {
            "colorbar": {
             "outlinewidth": 0,
             "ticks": ""
            },
            "colorscale": [
             [
              0,
              "#0d0887"
             ],
             [
              0.1111111111111111,
              "#46039f"
             ],
             [
              0.2222222222222222,
              "#7201a8"
             ],
             [
              0.3333333333333333,
              "#9c179e"
             ],
             [
              0.4444444444444444,
              "#bd3786"
             ],
             [
              0.5555555555555556,
              "#d8576b"
             ],
             [
              0.6666666666666666,
              "#ed7953"
             ],
             [
              0.7777777777777778,
              "#fb9f3a"
             ],
             [
              0.8888888888888888,
              "#fdca26"
             ],
             [
              1,
              "#f0f921"
             ]
            ],
            "type": "surface"
           }
          ],
          "table": [
           {
            "cells": {
             "fill": {
              "color": "#EBF0F8"
             },
             "line": {
              "color": "white"
             }
            },
            "header": {
             "fill": {
              "color": "#C8D4E3"
             },
             "line": {
              "color": "white"
             }
            },
            "type": "table"
           }
          ]
         },
         "layout": {
          "annotationdefaults": {
           "arrowcolor": "#2a3f5f",
           "arrowhead": 0,
           "arrowwidth": 1
          },
          "autotypenumbers": "strict",
          "coloraxis": {
           "colorbar": {
            "outlinewidth": 0,
            "ticks": ""
           }
          },
          "colorscale": {
           "diverging": [
            [
             0,
             "#8e0152"
            ],
            [
             0.1,
             "#c51b7d"
            ],
            [
             0.2,
             "#de77ae"
            ],
            [
             0.3,
             "#f1b6da"
            ],
            [
             0.4,
             "#fde0ef"
            ],
            [
             0.5,
             "#f7f7f7"
            ],
            [
             0.6,
             "#e6f5d0"
            ],
            [
             0.7,
             "#b8e186"
            ],
            [
             0.8,
             "#7fbc41"
            ],
            [
             0.9,
             "#4d9221"
            ],
            [
             1,
             "#276419"
            ]
           ],
           "sequential": [
            [
             0,
             "#0d0887"
            ],
            [
             0.1111111111111111,
             "#46039f"
            ],
            [
             0.2222222222222222,
             "#7201a8"
            ],
            [
             0.3333333333333333,
             "#9c179e"
            ],
            [
             0.4444444444444444,
             "#bd3786"
            ],
            [
             0.5555555555555556,
             "#d8576b"
            ],
            [
             0.6666666666666666,
             "#ed7953"
            ],
            [
             0.7777777777777778,
             "#fb9f3a"
            ],
            [
             0.8888888888888888,
             "#fdca26"
            ],
            [
             1,
             "#f0f921"
            ]
           ],
           "sequentialminus": [
            [
             0,
             "#0d0887"
            ],
            [
             0.1111111111111111,
             "#46039f"
            ],
            [
             0.2222222222222222,
             "#7201a8"
            ],
            [
             0.3333333333333333,
             "#9c179e"
            ],
            [
             0.4444444444444444,
             "#bd3786"
            ],
            [
             0.5555555555555556,
             "#d8576b"
            ],
            [
             0.6666666666666666,
             "#ed7953"
            ],
            [
             0.7777777777777778,
             "#fb9f3a"
            ],
            [
             0.8888888888888888,
             "#fdca26"
            ],
            [
             1,
             "#f0f921"
            ]
           ]
          },
          "colorway": [
           "#636efa",
           "#EF553B",
           "#00cc96",
           "#ab63fa",
           "#FFA15A",
           "#19d3f3",
           "#FF6692",
           "#B6E880",
           "#FF97FF",
           "#FECB52"
          ],
          "font": {
           "color": "#2a3f5f"
          },
          "geo": {
           "bgcolor": "white",
           "lakecolor": "white",
           "landcolor": "#E5ECF6",
           "showlakes": true,
           "showland": true,
           "subunitcolor": "white"
          },
          "hoverlabel": {
           "align": "left"
          },
          "hovermode": "closest",
          "mapbox": {
           "style": "light"
          },
          "paper_bgcolor": "white",
          "plot_bgcolor": "#E5ECF6",
          "polar": {
           "angularaxis": {
            "gridcolor": "white",
            "linecolor": "white",
            "ticks": ""
           },
           "bgcolor": "#E5ECF6",
           "radialaxis": {
            "gridcolor": "white",
            "linecolor": "white",
            "ticks": ""
           }
          },
          "scene": {
           "xaxis": {
            "backgroundcolor": "#E5ECF6",
            "gridcolor": "white",
            "gridwidth": 2,
            "linecolor": "white",
            "showbackground": true,
            "ticks": "",
            "zerolinecolor": "white"
           },
           "yaxis": {
            "backgroundcolor": "#E5ECF6",
            "gridcolor": "white",
            "gridwidth": 2,
            "linecolor": "white",
            "showbackground": true,
            "ticks": "",
            "zerolinecolor": "white"
           },
           "zaxis": {
            "backgroundcolor": "#E5ECF6",
            "gridcolor": "white",
            "gridwidth": 2,
            "linecolor": "white",
            "showbackground": true,
            "ticks": "",
            "zerolinecolor": "white"
           }
          },
          "shapedefaults": {
           "line": {
            "color": "#2a3f5f"
           }
          },
          "ternary": {
           "aaxis": {
            "gridcolor": "white",
            "linecolor": "white",
            "ticks": ""
           },
           "baxis": {
            "gridcolor": "white",
            "linecolor": "white",
            "ticks": ""
           },
           "bgcolor": "#E5ECF6",
           "caxis": {
            "gridcolor": "white",
            "linecolor": "white",
            "ticks": ""
           }
          },
          "title": {
           "x": 0.05
          },
          "xaxis": {
           "automargin": true,
           "gridcolor": "white",
           "linecolor": "white",
           "ticks": "",
           "title": {
            "standoff": 15
           },
           "zerolinecolor": "white",
           "zerolinewidth": 2
          },
          "yaxis": {
           "automargin": true,
           "gridcolor": "white",
           "linecolor": "white",
           "ticks": "",
           "title": {
            "standoff": 15
           },
           "zerolinecolor": "white",
           "zerolinewidth": 2
          }
         }
        },
        "title": {
         "text": "Frequency of Age"
        },
        "xaxis": {
         "anchor": "y",
         "domain": [
          0,
          1
         ],
         "dtick": 5,
         "title": {
          "text": "Age"
         }
        },
        "yaxis": {
         "anchor": "x",
         "domain": [
          0,
          1
         ],
         "title": {
          "text": "Count"
         }
        }
       }
      },
      "image/png": "[encoded data removed]"
     },
     "metadata": {},
     "output_type": "display_data"
    },
    {
     "name": "stdout",
     "output_type": "stream",
     "text": [
      "count    735.000000\n",
      "mean      25.206803\n",
      "std       12.054970\n",
      "min       10.000000\n",
      "25%       18.000000\n",
      "50%       21.000000\n",
      "75%       28.000000\n",
      "max       89.000000\n",
      "Name: Age, dtype: float64\n"
     ]
    }
   ],
   "source": [
    "my_cols = 'Age'\n",
    "fig = px.histogram(df[my_cols],\n",
    "                   color_discrete_sequence=['skyblue'],\n",
    "                   nbins=40,\n",
    "                   title=\"Frequency of \"+my_cols)\n",
    "fig.update_layout(xaxis_title=my_cols,\n",
    "                  yaxis_title=\"Count\",\n",
    "                  showlegend=False,\n",
    "                  xaxis=dict(dtick=5))\n",
    "fig.show()\n",
    "print(df[my_cols].describe())"
   ]
  },
  {
   "cell_type": "markdown",
   "id": "c4d7d929-6460-42a3-ac9e-11a3749ca0b9",
   "metadata": {},
   "source": [
    "The ages peak at 18-19, with 146 observations there. The median is 21. The min is 10 and the max is 89. The graph suggests teens and young adults (ages 16-25) are more well represented by the data."
   ]
  },
  {
   "cell_type": "markdown",
   "id": "6729c017-a870-44cf-bd2d-d48352626c96",
   "metadata": {
    "jp-MarkdownHeadingCollapsed": true
   },
   "source": [
    "### Hours per day"
   ]
  },
  {
   "cell_type": "code",
   "execution_count": 161,
   "id": "b0e8acd1-1543-49e2-8c81-b0dc7268991d",
   "metadata": {},
   "outputs": [
    {
     "data": {
      "application/vnd.plotly.v1+json": {
       "config": {
        "plotlyServerURL": "https://plot.ly"
       },
       "data": [
        {
         "bingroup": "x",
         "hovertemplate": "variable=Hours per day<br>value=%{x}<br>count=%{y}<extra></extra>",
         "legendgroup": "Hours per day",
         "marker": {
          "color": "skyblue",
          "pattern": {
           "shape": ""
          }
         },
         "name": "Hours per day",
         "nbinsx": 25,
         "orientation": "v",
         "showlegend": true,
         "type": "histogram",
         "x": {
          "bdata": "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",
          "dtype": "f8"
         },
         "xaxis": "x",
         "yaxis": "y"
        }
       ],
       "layout": {
        "barmode": "relative",
        "legend": {
         "title": {
          "text": "variable"
         },
         "tracegroupgap": 0
        },
        "showlegend": false,
        "template": {
         "data": {
          "bar": [
           {
            "error_x": {
             "color": "#2a3f5f"
            },
            "error_y": {
             "color": "#2a3f5f"
            },
            "marker": {
             "line": {
              "color": "#E5ECF6",
              "width": 0.5
             },
             "pattern": {
              "fillmode": "overlay",
              "size": 10,
              "solidity": 0.2
             }
            },
            "type": "bar"
           }
          ],
          "barpolar": [
           {
            "marker": {
             "line": {
              "color": "#E5ECF6",
              "width": 0.5
             },
             "pattern": {
              "fillmode": "overlay",
              "size": 10,
              "solidity": 0.2
             }
            },
            "type": "barpolar"
           }
          ],
          "carpet": [
           {
            "aaxis": {
             "endlinecolor": "#2a3f5f",
             "gridcolor": "white",
             "linecolor": "white",
             "minorgridcolor": "white",
             "startlinecolor": "#2a3f5f"
            },
            "baxis": {
             "endlinecolor": "#2a3f5f",
             "gridcolor": "white",
             "linecolor": "white",
             "minorgridcolor": "white",
             "startlinecolor": "#2a3f5f"
            },
            "type": "carpet"
           }
          ],
          "choropleth": [
           {
            "colorbar": {
             "outlinewidth": 0,
             "ticks": ""
            },
            "type": "choropleth"
           }
          ],
          "contour": [
           {
            "colorbar": {
             "outlinewidth": 0,
             "ticks": ""
            },
            "colorscale": [
             [
              0,
              "#0d0887"
             ],
             [
              0.1111111111111111,
              "#46039f"
             ],
             [
              0.2222222222222222,
              "#7201a8"
             ],
             [
              0.3333333333333333,
              "#9c179e"
             ],
             [
              0.4444444444444444,
              "#bd3786"
             ],
             [
              0.5555555555555556,
              "#d8576b"
             ],
             [
              0.6666666666666666,
              "#ed7953"
             ],
             [
              0.7777777777777778,
              "#fb9f3a"
             ],
             [
              0.8888888888888888,
              "#fdca26"
             ],
             [
              1,
              "#f0f921"
             ]
            ],
            "type": "contour"
           }
          ],
          "contourcarpet": [
           {
            "colorbar": {
             "outlinewidth": 0,
             "ticks": ""
            },
            "type": "contourcarpet"
           }
          ],
          "heatmap": [
           {
            "colorbar": {
             "outlinewidth": 0,
             "ticks": ""
            },
            "colorscale": [
             [
              0,
              "#0d0887"
             ],
             [
              0.1111111111111111,
              "#46039f"
             ],
             [
              0.2222222222222222,
              "#7201a8"
             ],
             [
              0.3333333333333333,
              "#9c179e"
             ],
             [
              0.4444444444444444,
              "#bd3786"
             ],
             [
              0.5555555555555556,
              "#d8576b"
             ],
             [
              0.6666666666666666,
              "#ed7953"
             ],
             [
              0.7777777777777778,
              "#fb9f3a"
             ],
             [
              0.8888888888888888,
              "#fdca26"
             ],
             [
              1,
              "#f0f921"
             ]
            ],
            "type": "heatmap"
           }
          ],
          "histogram": [
           {
            "marker": {
             "pattern": {
              "fillmode": "overlay",
              "size": 10,
              "solidity": 0.2
             }
            },
            "type": "histogram"
           }
          ],
          "histogram2d": [
           {
            "colorbar": {
             "outlinewidth": 0,
             "ticks": ""
            },
            "colorscale": [
             [
              0,
              "#0d0887"
             ],
             [
              0.1111111111111111,
              "#46039f"
             ],
             [
              0.2222222222222222,
              "#7201a8"
             ],
             [
              0.3333333333333333,
              "#9c179e"
             ],
             [
              0.4444444444444444,
              "#bd3786"
             ],
             [
              0.5555555555555556,
              "#d8576b"
             ],
             [
              0.6666666666666666,
              "#ed7953"
             ],
             [
              0.7777777777777778,
              "#fb9f3a"
             ],
             [
              0.8888888888888888,
              "#fdca26"
             ],
             [
              1,
              "#f0f921"
             ]
            ],
            "type": "histogram2d"
           }
          ],
          "histogram2dcontour": [
           {
            "colorbar": {
             "outlinewidth": 0,
             "ticks": ""
            },
            "colorscale": [
             [
              0,
              "#0d0887"
             ],
             [
              0.1111111111111111,
              "#46039f"
             ],
             [
              0.2222222222222222,
              "#7201a8"
             ],
             [
              0.3333333333333333,
              "#9c179e"
             ],
             [
              0.4444444444444444,
              "#bd3786"
             ],
             [
              0.5555555555555556,
              "#d8576b"
             ],
             [
              0.6666666666666666,
              "#ed7953"
             ],
             [
              0.7777777777777778,
              "#fb9f3a"
             ],
             [
              0.8888888888888888,
              "#fdca26"
             ],
             [
              1,
              "#f0f921"
             ]
            ],
            "type": "histogram2dcontour"
           }
          ],
          "mesh3d": [
           {
            "colorbar": {
             "outlinewidth": 0,
             "ticks": ""
            },
            "type": "mesh3d"
           }
          ],
          "parcoords": [
           {
            "line": {
             "colorbar": {
              "outlinewidth": 0,
              "ticks": ""
             }
            },
            "type": "parcoords"
           }
          ],
          "pie": [
           {
            "automargin": true,
            "type": "pie"
           }
          ],
          "scatter": [
           {
            "fillpattern": {
             "fillmode": "overlay",
             "size": 10,
             "solidity": 0.2
            },
            "type": "scatter"
           }
          ],
          "scatter3d": [
           {
            "line": {
             "colorbar": {
              "outlinewidth": 0,
              "ticks": ""
             }
            },
            "marker": {
             "colorbar": {
              "outlinewidth": 0,
              "ticks": ""
             }
            },
            "type": "scatter3d"
           }
          ],
          "scattercarpet": [
           {
            "marker": {
             "colorbar": {
              "outlinewidth": 0,
              "ticks": ""
             }
            },
            "type": "scattercarpet"
           }
          ],
          "scattergeo": [
           {
            "marker": {
             "colorbar": {
              "outlinewidth": 0,
              "ticks": ""
             }
            },
            "type": "scattergeo"
           }
          ],
          "scattergl": [
           {
            "marker": {
             "colorbar": {
              "outlinewidth": 0,
              "ticks": ""
             }
            },
            "type": "scattergl"
           }
          ],
          "scattermap": [
           {
            "marker": {
             "colorbar": {
              "outlinewidth": 0,
              "ticks": ""
             }
            },
            "type": "scattermap"
           }
          ],
          "scattermapbox": [
           {
            "marker": {
             "colorbar": {
              "outlinewidth": 0,
              "ticks": ""
             }
            },
            "type": "scattermapbox"
           }
          ],
          "scatterpolar": [
           {
            "marker": {
             "colorbar": {
              "outlinewidth": 0,
              "ticks": ""
             }
            },
            "type": "scatterpolar"
           }
          ],
          "scatterpolargl": [
           {
            "marker": {
             "colorbar": {
              "outlinewidth": 0,
              "ticks": ""
             }
            },
            "type": "scatterpolargl"
           }
          ],
          "scatterternary": [
           {
            "marker": {
             "colorbar": {
              "outlinewidth": 0,
              "ticks": ""
             }
            },
            "type": "scatterternary"
           }
          ],
          "surface": [
           {
            "colorbar": {
             "outlinewidth": 0,
             "ticks": ""
            },
            "colorscale": [
             [
              0,
              "#0d0887"
             ],
             [
              0.1111111111111111,
              "#46039f"
             ],
             [
              0.2222222222222222,
              "#7201a8"
             ],
             [
              0.3333333333333333,
              "#9c179e"
             ],
             [
              0.4444444444444444,
              "#bd3786"
             ],
             [
              0.5555555555555556,
              "#d8576b"
             ],
             [
              0.6666666666666666,
              "#ed7953"
             ],
             [
              0.7777777777777778,
              "#fb9f3a"
             ],
             [
              0.8888888888888888,
              "#fdca26"
             ],
             [
              1,
              "#f0f921"
             ]
            ],
            "type": "surface"
           }
          ],
          "table": [
           {
            "cells": {
             "fill": {
              "color": "#EBF0F8"
             },
             "line": {
              "color": "white"
             }
            },
            "header": {
             "fill": {
              "color": "#C8D4E3"
             },
             "line": {
              "color": "white"
             }
            },
            "type": "table"
           }
          ]
         },
         "layout": {
          "annotationdefaults": {
           "arrowcolor": "#2a3f5f",
           "arrowhead": 0,
           "arrowwidth": 1
          },
          "autotypenumbers": "strict",
          "coloraxis": {
           "colorbar": {
            "outlinewidth": 0,
            "ticks": ""
           }
          },
          "colorscale": {
           "diverging": [
            [
             0,
             "#8e0152"
            ],
            [
             0.1,
             "#c51b7d"
            ],
            [
             0.2,
             "#de77ae"
            ],
            [
             0.3,
             "#f1b6da"
            ],
            [
             0.4,
             "#fde0ef"
            ],
            [
             0.5,
             "#f7f7f7"
            ],
            [
             0.6,
             "#e6f5d0"
            ],
            [
             0.7,
             "#b8e186"
            ],
            [
             0.8,
             "#7fbc41"
            ],
            [
             0.9,
             "#4d9221"
            ],
            [
             1,
             "#276419"
            ]
           ],
           "sequential": [
            [
             0,
             "#0d0887"
            ],
            [
             0.1111111111111111,
             "#46039f"
            ],
            [
             0.2222222222222222,
             "#7201a8"
            ],
            [
             0.3333333333333333,
             "#9c179e"
            ],
            [
             0.4444444444444444,
             "#bd3786"
            ],
            [
             0.5555555555555556,
             "#d8576b"
            ],
            [
             0.6666666666666666,
             "#ed7953"
            ],
            [
             0.7777777777777778,
             "#fb9f3a"
            ],
            [
             0.8888888888888888,
             "#fdca26"
            ],
            [
             1,
             "#f0f921"
            ]
           ],
           "sequentialminus": [
            [
             0,
             "#0d0887"
            ],
            [
             0.1111111111111111,
             "#46039f"
            ],
            [
             0.2222222222222222,
             "#7201a8"
            ],
            [
             0.3333333333333333,
             "#9c179e"
            ],
            [
             0.4444444444444444,
             "#bd3786"
            ],
            [
             0.5555555555555556,
             "#d8576b"
            ],
            [
             0.6666666666666666,
             "#ed7953"
            ],
            [
             0.7777777777777778,
             "#fb9f3a"
            ],
            [
             0.8888888888888888,
             "#fdca26"
            ],
            [
             1,
             "#f0f921"
            ]
           ]
          },
          "colorway": [
           "#636efa",
           "#EF553B",
           "#00cc96",
           "#ab63fa",
           "#FFA15A",
           "#19d3f3",
           "#FF6692",
           "#B6E880",
           "#FF97FF",
           "#FECB52"
          ],
          "font": {
           "color": "#2a3f5f"
          },
          "geo": {
           "bgcolor": "white",
           "lakecolor": "white",
           "landcolor": "#E5ECF6",
           "showlakes": true,
           "showland": true,
           "subunitcolor": "white"
          },
          "hoverlabel": {
           "align": "left"
          },
          "hovermode": "closest",
          "mapbox": {
           "style": "light"
          },
          "paper_bgcolor": "white",
          "plot_bgcolor": "#E5ECF6",
          "polar": {
           "angularaxis": {
            "gridcolor": "white",
            "linecolor": "white",
            "ticks": ""
           },
           "bgcolor": "#E5ECF6",
           "radialaxis": {
            "gridcolor": "white",
            "linecolor": "white",
            "ticks": ""
           }
          },
          "scene": {
           "xaxis": {
            "backgroundcolor": "#E5ECF6",
            "gridcolor": "white",
            "gridwidth": 2,
            "linecolor": "white",
            "showbackground": true,
            "ticks": "",
            "zerolinecolor": "white"
           },
           "yaxis": {
            "backgroundcolor": "#E5ECF6",
            "gridcolor": "white",
            "gridwidth": 2,
            "linecolor": "white",
            "showbackground": true,
            "ticks": "",
            "zerolinecolor": "white"
           },
           "zaxis": {
            "backgroundcolor": "#E5ECF6",
            "gridcolor": "white",
            "gridwidth": 2,
            "linecolor": "white",
            "showbackground": true,
            "ticks": "",
            "zerolinecolor": "white"
           }
          },
          "shapedefaults": {
           "line": {
            "color": "#2a3f5f"
           }
          },
          "ternary": {
           "aaxis": {
            "gridcolor": "white",
            "linecolor": "white",
            "ticks": ""
           },
           "baxis": {
            "gridcolor": "white",
            "linecolor": "white",
            "ticks": ""
           },
           "bgcolor": "#E5ECF6",
           "caxis": {
            "gridcolor": "white",
            "linecolor": "white",
            "ticks": ""
           }
          },
          "title": {
           "x": 0.05
          },
          "xaxis": {
           "automargin": true,
           "gridcolor": "white",
           "linecolor": "white",
           "ticks": "",
           "title": {
            "standoff": 15
           },
           "zerolinecolor": "white",
           "zerolinewidth": 2
          },
          "yaxis": {
           "automargin": true,
           "gridcolor": "white",
           "linecolor": "white",
           "ticks": "",
           "title": {
            "standoff": 15
           },
           "zerolinecolor": "white",
           "zerolinewidth": 2
          }
         }
        },
        "title": {
         "text": "Frequency of Hours per day listening to music"
        },
        "xaxis": {
         "anchor": "y",
         "domain": [
          0,
          1
         ],
         "dtick": 1,
         "title": {
          "text": "Hours per day"
         }
        },
        "yaxis": {
         "anchor": "x",
         "domain": [
          0,
          1
         ],
         "title": {
          "text": "Count"
         }
        }
       }
      },
      "image/png": "[encoded data removed]"
     },
     "metadata": {},
     "output_type": "display_data"
    },
    {
     "name": "stdout",
     "output_type": "stream",
     "text": [
      "count    736.000000\n",
      "mean       3.572758\n",
      "std        3.028199\n",
      "min        0.000000\n",
      "25%        2.000000\n",
      "50%        3.000000\n",
      "75%        5.000000\n",
      "max       24.000000\n",
      "Name: Hours per day, dtype: float64\n"
     ]
    }
   ],
   "source": [
    "my_cols = 'Hours per day'\n",
    "fig = px.histogram(df[my_cols],\n",
    "                   color_discrete_sequence=['skyblue'],\n",
    "                   nbins=25,\n",
    "                   title=\"Frequency of \"+my_cols+\" listening to music\")\n",
    "fig.update_layout(xaxis_title=my_cols,\n",
    "                  yaxis_title=\"Count\",\n",
    "                  showlegend=False,\n",
    "                  xaxis=dict(dtick=1))\n",
    "fig.show()\n",
    "print(df[my_cols].describe())"
   ]
  },
  {
   "cell_type": "markdown",
   "id": "de84df5a-8739-4276-9daf-2972947fc325",
   "metadata": {},
   "source": [
    "The hours listening to music per day peaks at 1.5-2.4 hours per day, with 190 observations there. The median is 3 hours. The min is 0 and the max is 24. The graph suggests the observations are most frequent from 0.5 to 4.4 hours per day."
   ]
  },
  {
   "cell_type": "markdown",
   "id": "7bd0f93c-c3c6-4d60-9c1b-17148a3a6dae",
   "metadata": {
    "jp-MarkdownHeadingCollapsed": true
   },
   "source": [
    "### Mental Health"
   ]
  },
  {
   "cell_type": "markdown",
   "id": "89aaa870-80c9-455e-8fa0-7400e1e226cd",
   "metadata": {
    "jp-MarkdownHeadingCollapsed": true
   },
   "source": [
    "#### Anxiety"
   ]
  },
  {
   "cell_type": "code",
   "execution_count": 162,
   "id": "f88e1c29-e6da-4865-80f0-cd18c3d03428",
   "metadata": {},
   "outputs": [
    {
     "data": {
      "application/vnd.plotly.v1+json": {
       "config": {
        "plotlyServerURL": "https://plot.ly"
       },
       "data": [
        {
         "bingroup": "x",
         "hovertemplate": "variable=Anxiety<br>value=%{x}<br>count=%{y}<extra></extra>",
         "legendgroup": "Anxiety",
         "marker": {
          "color": "skyblue",
          "pattern": {
           "shape": ""
          }
         },
         "name": "Anxiety",
         "nbinsx": 11,
         "orientation": "v",
         "showlegend": true,
         "type": "histogram",
         "x": {
          "bdata": "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",
          "dtype": "f8"
         },
         "xaxis": "x",
         "yaxis": "y"
        }
       ],
       "layout": {
        "barmode": "relative",
        "legend": {
         "title": {
          "text": "variable"
         },
         "tracegroupgap": 0
        },
        "showlegend": false,
        "template": {
         "data": {
          "bar": [
           {
            "error_x": {
             "color": "#2a3f5f"
            },
            "error_y": {
             "color": "#2a3f5f"
            },
            "marker": {
             "line": {
              "color": "#E5ECF6",
              "width": 0.5
             },
             "pattern": {
              "fillmode": "overlay",
              "size": 10,
              "solidity": 0.2
             }
            },
            "type": "bar"
           }
          ],
          "barpolar": [
           {
            "marker": {
             "line": {
              "color": "#E5ECF6",
              "width": 0.5
             },
             "pattern": {
              "fillmode": "overlay",
              "size": 10,
              "solidity": 0.2
             }
            },
            "type": "barpolar"
           }
          ],
          "carpet": [
           {
            "aaxis": {
             "endlinecolor": "#2a3f5f",
             "gridcolor": "white",
             "linecolor": "white",
             "minorgridcolor": "white",
             "startlinecolor": "#2a3f5f"
            },
            "baxis": {
             "endlinecolor": "#2a3f5f",
             "gridcolor": "white",
             "linecolor": "white",
             "minorgridcolor": "white",
             "startlinecolor": "#2a3f5f"
            },
            "type": "carpet"
           }
          ],
          "choropleth": [
           {
            "colorbar": {
             "outlinewidth": 0,
             "ticks": ""
            },
            "type": "choropleth"
           }
          ],
          "contour": [
           {
            "colorbar": {
             "outlinewidth": 0,
             "ticks": ""
            },
            "colorscale": [
             [
              0,
              "#0d0887"
             ],
             [
              0.1111111111111111,
              "#46039f"
             ],
             [
              0.2222222222222222,
              "#7201a8"
             ],
             [
              0.3333333333333333,
              "#9c179e"
             ],
             [
              0.4444444444444444,
              "#bd3786"
             ],
             [
              0.5555555555555556,
              "#d8576b"
             ],
             [
              0.6666666666666666,
              "#ed7953"
             ],
             [
              0.7777777777777778,
              "#fb9f3a"
             ],
             [
              0.8888888888888888,
              "#fdca26"
             ],
             [
              1,
              "#f0f921"
             ]
            ],
            "type": "contour"
           }
          ],
          "contourcarpet": [
           {
            "colorbar": {
             "outlinewidth": 0,
             "ticks": ""
            },
            "type": "contourcarpet"
           }
          ],
          "heatmap": [
           {
            "colorbar": {
             "outlinewidth": 0,
             "ticks": ""
            },
            "colorscale": [
             [
              0,
              "#0d0887"
             ],
             [
              0.1111111111111111,
              "#46039f"
             ],
             [
              0.2222222222222222,
              "#7201a8"
             ],
             [
              0.3333333333333333,
              "#9c179e"
             ],
             [
              0.4444444444444444,
              "#bd3786"
             ],
             [
              0.5555555555555556,
              "#d8576b"
             ],
             [
              0.6666666666666666,
              "#ed7953"
             ],
             [
              0.7777777777777778,
              "#fb9f3a"
             ],
             [
              0.8888888888888888,
              "#fdca26"
             ],
             [
              1,
              "#f0f921"
             ]
            ],
            "type": "heatmap"
           }
          ],
          "histogram": [
           {
            "marker": {
             "pattern": {
              "fillmode": "overlay",
              "size": 10,
              "solidity": 0.2
             }
            },
            "type": "histogram"
           }
          ],
          "histogram2d": [
           {
            "colorbar": {
             "outlinewidth": 0,
             "ticks": ""
            },
            "colorscale": [
             [
              0,
              "#0d0887"
             ],
             [
              0.1111111111111111,
              "#46039f"
             ],
             [
              0.2222222222222222,
              "#7201a8"
             ],
             [
              0.3333333333333333,
              "#9c179e"
             ],
             [
              0.4444444444444444,
              "#bd3786"
             ],
             [
              0.5555555555555556,
              "#d8576b"
             ],
             [
              0.6666666666666666,
              "#ed7953"
             ],
             [
              0.7777777777777778,
              "#fb9f3a"
             ],
             [
              0.8888888888888888,
              "#fdca26"
             ],
             [
              1,
              "#f0f921"
             ]
            ],
            "type": "histogram2d"
           }
          ],
          "histogram2dcontour": [
           {
            "colorbar": {
             "outlinewidth": 0,
             "ticks": ""
            },
            "colorscale": [
             [
              0,
              "#0d0887"
             ],
             [
              0.1111111111111111,
              "#46039f"
             ],
             [
              0.2222222222222222,
              "#7201a8"
             ],
             [
              0.3333333333333333,
              "#9c179e"
             ],
             [
              0.4444444444444444,
              "#bd3786"
             ],
             [
              0.5555555555555556,
              "#d8576b"
             ],
             [
              0.6666666666666666,
              "#ed7953"
             ],
             [
              0.7777777777777778,
              "#fb9f3a"
             ],
             [
              0.8888888888888888,
              "#fdca26"
             ],
             [
              1,
              "#f0f921"
             ]
            ],
            "type": "histogram2dcontour"
           }
          ],
          "mesh3d": [
           {
            "colorbar": {
             "outlinewidth": 0,
             "ticks": ""
            },
            "type": "mesh3d"
           }
          ],
          "parcoords": [
           {
            "line": {
             "colorbar": {
              "outlinewidth": 0,
              "ticks": ""
             }
            },
            "type": "parcoords"
           }
          ],
          "pie": [
           {
            "automargin": true,
            "type": "pie"
           }
          ],
          "scatter": [
           {
            "fillpattern": {
             "fillmode": "overlay",
             "size": 10,
             "solidity": 0.2
            },
            "type": "scatter"
           }
          ],
          "scatter3d": [
           {
            "line": {
             "colorbar": {
              "outlinewidth": 0,
              "ticks": ""
             }
            },
            "marker": {
             "colorbar": {
              "outlinewidth": 0,
              "ticks": ""
             }
            },
            "type": "scatter3d"
           }
          ],
          "scattercarpet": [
           {
            "marker": {
             "colorbar": {
              "outlinewidth": 0,
              "ticks": ""
             }
            },
            "type": "scattercarpet"
           }
          ],
          "scattergeo": [
           {
            "marker": {
             "colorbar": {
              "outlinewidth": 0,
              "ticks": ""
             }
            },
            "type": "scattergeo"
           }
          ],
          "scattergl": [
           {
            "marker": {
             "colorbar": {
              "outlinewidth": 0,
              "ticks": ""
             }
            },
            "type": "scattergl"
           }
          ],
          "scattermap": [
           {
            "marker": {
             "colorbar": {
              "outlinewidth": 0,
              "ticks": ""
             }
            },
            "type": "scattermap"
           }
          ],
          "scattermapbox": [
           {
            "marker": {
             "colorbar": {
              "outlinewidth": 0,
              "ticks": ""
             }
            },
            "type": "scattermapbox"
           }
          ],
          "scatterpolar": [
           {
            "marker": {
             "colorbar": {
              "outlinewidth": 0,
              "ticks": ""
             }
            },
            "type": "scatterpolar"
           }
          ],
          "scatterpolargl": [
           {
            "marker": {
             "colorbar": {
              "outlinewidth": 0,
              "ticks": ""
             }
            },
            "type": "scatterpolargl"
           }
          ],
          "scatterternary": [
           {
            "marker": {
             "colorbar": {
              "outlinewidth": 0,
              "ticks": ""
             }
            },
            "type": "scatterternary"
           }
          ],
          "surface": [
           {
            "colorbar": {
             "outlinewidth": 0,
             "ticks": ""
            },
            "colorscale": [
             [
              0,
              "#0d0887"
             ],
             [
              0.1111111111111111,
              "#46039f"
             ],
             [
              0.2222222222222222,
              "#7201a8"
             ],
             [
              0.3333333333333333,
              "#9c179e"
             ],
             [
              0.4444444444444444,
              "#bd3786"
             ],
             [
              0.5555555555555556,
              "#d8576b"
             ],
             [
              0.6666666666666666,
              "#ed7953"
             ],
             [
              0.7777777777777778,
              "#fb9f3a"
             ],
             [
              0.8888888888888888,
              "#fdca26"
             ],
             [
              1,
              "#f0f921"
             ]
            ],
            "type": "surface"
           }
          ],
          "table": [
           {
            "cells": {
             "fill": {
              "color": "#EBF0F8"
             },
             "line": {
              "color": "white"
             }
            },
            "header": {
             "fill": {
              "color": "#C8D4E3"
             },
             "line": {
              "color": "white"
             }
            },
            "type": "table"
           }
          ]
         },
         "layout": {
          "annotationdefaults": {
           "arrowcolor": "#2a3f5f",
           "arrowhead": 0,
           "arrowwidth": 1
          },
          "autotypenumbers": "strict",
          "coloraxis": {
           "colorbar": {
            "outlinewidth": 0,
            "ticks": ""
           }
          },
          "colorscale": {
           "diverging": [
            [
             0,
             "#8e0152"
            ],
            [
             0.1,
             "#c51b7d"
            ],
            [
             0.2,
             "#de77ae"
            ],
            [
             0.3,
             "#f1b6da"
            ],
            [
             0.4,
             "#fde0ef"
            ],
            [
             0.5,
             "#f7f7f7"
            ],
            [
             0.6,
             "#e6f5d0"
            ],
            [
             0.7,
             "#b8e186"
            ],
            [
             0.8,
             "#7fbc41"
            ],
            [
             0.9,
             "#4d9221"
            ],
            [
             1,
             "#276419"
            ]
           ],
           "sequential": [
            [
             0,
             "#0d0887"
            ],
            [
             0.1111111111111111,
             "#46039f"
            ],
            [
             0.2222222222222222,
             "#7201a8"
            ],
            [
             0.3333333333333333,
             "#9c179e"
            ],
            [
             0.4444444444444444,
             "#bd3786"
            ],
            [
             0.5555555555555556,
             "#d8576b"
            ],
            [
             0.6666666666666666,
             "#ed7953"
            ],
            [
             0.7777777777777778,
             "#fb9f3a"
            ],
            [
             0.8888888888888888,
             "#fdca26"
            ],
            [
             1,
             "#f0f921"
            ]
           ],
           "sequentialminus": [
            [
             0,
             "#0d0887"
            ],
            [
             0.1111111111111111,
             "#46039f"
            ],
            [
             0.2222222222222222,
             "#7201a8"
            ],
            [
             0.3333333333333333,
             "#9c179e"
            ],
            [
             0.4444444444444444,
             "#bd3786"
            ],
            [
             0.5555555555555556,
             "#d8576b"
            ],
            [
             0.6666666666666666,
             "#ed7953"
            ],
            [
             0.7777777777777778,
             "#fb9f3a"
            ],
            [
             0.8888888888888888,
             "#fdca26"
            ],
            [
             1,
             "#f0f921"
            ]
           ]
          },
          "colorway": [
           "#636efa",
           "#EF553B",
           "#00cc96",
           "#ab63fa",
           "#FFA15A",
           "#19d3f3",
           "#FF6692",
           "#B6E880",
           "#FF97FF",
           "#FECB52"
          ],
          "font": {
           "color": "#2a3f5f"
          },
          "geo": {
           "bgcolor": "white",
           "lakecolor": "white",
           "landcolor": "#E5ECF6",
           "showlakes": true,
           "showland": true,
           "subunitcolor": "white"
          },
          "hoverlabel": {
           "align": "left"
          },
          "hovermode": "closest",
          "mapbox": {
           "style": "light"
          },
          "paper_bgcolor": "white",
          "plot_bgcolor": "#E5ECF6",
          "polar": {
           "angularaxis": {
            "gridcolor": "white",
            "linecolor": "white",
            "ticks": ""
           },
           "bgcolor": "#E5ECF6",
           "radialaxis": {
            "gridcolor": "white",
            "linecolor": "white",
            "ticks": ""
           }
          },
          "scene": {
           "xaxis": {
            "backgroundcolor": "#E5ECF6",
            "gridcolor": "white",
            "gridwidth": 2,
            "linecolor": "white",
            "showbackground": true,
            "ticks": "",
            "zerolinecolor": "white"
           },
           "yaxis": {
            "backgroundcolor": "#E5ECF6",
            "gridcolor": "white",
            "gridwidth": 2,
            "linecolor": "white",
            "showbackground": true,
            "ticks": "",
            "zerolinecolor": "white"
           },
           "zaxis": {
            "backgroundcolor": "#E5ECF6",
            "gridcolor": "white",
            "gridwidth": 2,
            "linecolor": "white",
            "showbackground": true,
            "ticks": "",
            "zerolinecolor": "white"
           }
          },
          "shapedefaults": {
           "line": {
            "color": "#2a3f5f"
           }
          },
          "ternary": {
           "aaxis": {
            "gridcolor": "white",
            "linecolor": "white",
            "ticks": ""
           },
           "baxis": {
            "gridcolor": "white",
            "linecolor": "white",
            "ticks": ""
           },
           "bgcolor": "#E5ECF6",
           "caxis": {
            "gridcolor": "white",
            "linecolor": "white",
            "ticks": ""
           }
          },
          "title": {
           "x": 0.05
          },
          "xaxis": {
           "automargin": true,
           "gridcolor": "white",
           "linecolor": "white",
           "ticks": "",
           "title": {
            "standoff": 15
           },
           "zerolinecolor": "white",
           "zerolinewidth": 2
          },
          "yaxis": {
           "automargin": true,
           "gridcolor": "white",
           "linecolor": "white",
           "ticks": "",
           "title": {
            "standoff": 15
           },
           "zerolinecolor": "white",
           "zerolinewidth": 2
          }
         }
        },
        "title": {
         "text": "Frequency of Anxiety Levels"
        },
        "xaxis": {
         "anchor": "y",
         "domain": [
          0,
          1
         ],
         "dtick": 1,
         "title": {
          "text": "Anxiety"
         }
        },
        "yaxis": {
         "anchor": "x",
         "domain": [
          0,
          1
         ],
         "title": {
          "text": "Count"
         }
        }
       }
      },
      "image/png": "[encoded data removed]"
     },
     "metadata": {},
     "output_type": "display_data"
    },
    {
     "name": "stdout",
     "output_type": "stream",
     "text": [
      "count    736.000000\n",
      "mean       5.837636\n",
      "std        2.793054\n",
      "min        0.000000\n",
      "25%        4.000000\n",
      "50%        6.000000\n",
      "75%        8.000000\n",
      "max       10.000000\n",
      "Name: Anxiety, dtype: float64\n"
     ]
    }
   ],
   "source": [
    "my_cols = 'Anxiety'\n",
    "fig = px.histogram(df[my_cols],\n",
    "                   color_discrete_sequence=['skyblue'],\n",
    "                   nbins=11,\n",
    "                   title=\"Frequency of \"+my_cols+\" Levels\")\n",
    "fig.update_layout(xaxis_title=my_cols,\n",
    "                  yaxis_title=\"Count\",\n",
    "                  showlegend=False,\n",
    "                  xaxis=dict(dtick=1))\n",
    "fig.show()\n",
    "print(df[my_cols].describe())"
   ]
  },
  {
   "cell_type": "markdown",
   "id": "06102c29-7a41-4dcf-8e92-71110cd9637d",
   "metadata": {},
   "source": [
    "The anxiety levels peak at level 7, with 122 observations there. But level 8 is very close, with 116 observations. The median is level 6. The min is 0 and the max is 10. The graph suggests the observations are most frequent from level 6 to 8."
   ]
  },
  {
   "cell_type": "markdown",
   "id": "a674b2eb-f7aa-471e-a580-addfce58610b",
   "metadata": {
    "jp-MarkdownHeadingCollapsed": true
   },
   "source": [
    "#### Depression"
   ]
  },
  {
   "cell_type": "code",
   "execution_count": 163,
   "id": "7dbc517b-78f8-4695-b23d-01c0d44a3185",
   "metadata": {},
   "outputs": [
    {
     "data": {
      "application/vnd.plotly.v1+json": {
       "config": {
        "plotlyServerURL": "https://plot.ly"
       },
       "data": [
        {
         "bingroup": "x",
         "hovertemplate": "variable=Depression<br>value=%{x}<br>count=%{y}<extra></extra>",
         "legendgroup": "Depression",
         "marker": {
          "color": "skyblue",
          "pattern": {
           "shape": ""
          }
         },
         "name": "Depression",
         "nbinsx": 11,
         "orientation": "v",
         "showlegend": true,
         "type": "histogram",
         "x": {
          "bdata": "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",
          "dtype": "f8"
         },
         "xaxis": "x",
         "yaxis": "y"
        }
       ],
       "layout": {
        "barmode": "relative",
        "legend": {
         "title": {
          "text": "variable"
         },
         "tracegroupgap": 0
        },
        "showlegend": false,
        "template": {
         "data": {
          "bar": [
           {
            "error_x": {
             "color": "#2a3f5f"
            },
            "error_y": {
             "color": "#2a3f5f"
            },
            "marker": {
             "line": {
              "color": "#E5ECF6",
              "width": 0.5
             },
             "pattern": {
              "fillmode": "overlay",
              "size": 10,
              "solidity": 0.2
             }
            },
            "type": "bar"
           }
          ],
          "barpolar": [
           {
            "marker": {
             "line": {
              "color": "#E5ECF6",
              "width": 0.5
             },
             "pattern": {
              "fillmode": "overlay",
              "size": 10,
              "solidity": 0.2
             }
            },
            "type": "barpolar"
           }
          ],
          "carpet": [
           {
            "aaxis": {
             "endlinecolor": "#2a3f5f",
             "gridcolor": "white",
             "linecolor": "white",
             "minorgridcolor": "white",
             "startlinecolor": "#2a3f5f"
            },
            "baxis": {
             "endlinecolor": "#2a3f5f",
             "gridcolor": "white",
             "linecolor": "white",
             "minorgridcolor": "white",
             "startlinecolor": "#2a3f5f"
            },
            "type": "carpet"
           }
          ],
          "choropleth": [
           {
            "colorbar": {
             "outlinewidth": 0,
             "ticks": ""
            },
            "type": "choropleth"
           }
          ],
          "contour": [
           {
            "colorbar": {
             "outlinewidth": 0,
             "ticks": ""
            },
            "colorscale": [
             [
              0,
              "#0d0887"
             ],
             [
              0.1111111111111111,
              "#46039f"
             ],
             [
              0.2222222222222222,
              "#7201a8"
             ],
             [
              0.3333333333333333,
              "#9c179e"
             ],
             [
              0.4444444444444444,
              "#bd3786"
             ],
             [
              0.5555555555555556,
              "#d8576b"
             ],
             [
              0.6666666666666666,
              "#ed7953"
             ],
             [
              0.7777777777777778,
              "#fb9f3a"
             ],
             [
              0.8888888888888888,
              "#fdca26"
             ],
             [
              1,
              "#f0f921"
             ]
            ],
            "type": "contour"
           }
          ],
          "contourcarpet": [
           {
            "colorbar": {
             "outlinewidth": 0,
             "ticks": ""
            },
            "type": "contourcarpet"
           }
          ],
          "heatmap": [
           {
            "colorbar": {
             "outlinewidth": 0,
             "ticks": ""
            },
            "colorscale": [
             [
              0,
              "#0d0887"
             ],
             [
              0.1111111111111111,
              "#46039f"
             ],
             [
              0.2222222222222222,
              "#7201a8"
             ],
             [
              0.3333333333333333,
              "#9c179e"
             ],
             [
              0.4444444444444444,
              "#bd3786"
             ],
             [
              0.5555555555555556,
              "#d8576b"
             ],
             [
              0.6666666666666666,
              "#ed7953"
             ],
             [
              0.7777777777777778,
              "#fb9f3a"
             ],
             [
              0.8888888888888888,
              "#fdca26"
             ],
             [
              1,
              "#f0f921"
             ]
            ],
            "type": "heatmap"
           }
          ],
          "histogram": [
           {
            "marker": {
             "pattern": {
              "fillmode": "overlay",
              "size": 10,
              "solidity": 0.2
             }
            },
            "type": "histogram"
           }
          ],
          "histogram2d": [
           {
            "colorbar": {
             "outlinewidth": 0,
             "ticks": ""
            },
            "colorscale": [
             [
              0,
              "#0d0887"
             ],
             [
              0.1111111111111111,
              "#46039f"
             ],
             [
              0.2222222222222222,
              "#7201a8"
             ],
             [
              0.3333333333333333,
              "#9c179e"
             ],
             [
              0.4444444444444444,
              "#bd3786"
             ],
             [
              0.5555555555555556,
              "#d8576b"
             ],
             [
              0.6666666666666666,
              "#ed7953"
             ],
             [
              0.7777777777777778,
              "#fb9f3a"
             ],
             [
              0.8888888888888888,
              "#fdca26"
             ],
             [
              1,
              "#f0f921"
             ]
            ],
            "type": "histogram2d"
           }
          ],
          "histogram2dcontour": [
           {
            "colorbar": {
             "outlinewidth": 0,
             "ticks": ""
            },
            "colorscale": [
             [
              0,
              "#0d0887"
             ],
             [
              0.1111111111111111,
              "#46039f"
             ],
             [
              0.2222222222222222,
              "#7201a8"
             ],
             [
              0.3333333333333333,
              "#9c179e"
             ],
             [
              0.4444444444444444,
              "#bd3786"
             ],
             [
              0.5555555555555556,
              "#d8576b"
             ],
             [
              0.6666666666666666,
              "#ed7953"
             ],
             [
              0.7777777777777778,
              "#fb9f3a"
             ],
             [
              0.8888888888888888,
              "#fdca26"
             ],
             [
              1,
              "#f0f921"
             ]
            ],
            "type": "histogram2dcontour"
           }
          ],
          "mesh3d": [
           {
            "colorbar": {
             "outlinewidth": 0,
             "ticks": ""
            },
            "type": "mesh3d"
           }
          ],
          "parcoords": [
           {
            "line": {
             "colorbar": {
              "outlinewidth": 0,
              "ticks": ""
             }
            },
            "type": "parcoords"
           }
          ],
          "pie": [
           {
            "automargin": true,
            "type": "pie"
           }
          ],
          "scatter": [
           {
            "fillpattern": {
             "fillmode": "overlay",
             "size": 10,
             "solidity": 0.2
            },
            "type": "scatter"
           }
          ],
          "scatter3d": [
           {
            "line": {
             "colorbar": {
              "outlinewidth": 0,
              "ticks": ""
             }
            },
            "marker": {
             "colorbar": {
              "outlinewidth": 0,
              "ticks": ""
             }
            },
            "type": "scatter3d"
           }
          ],
          "scattercarpet": [
           {
            "marker": {
             "colorbar": {
              "outlinewidth": 0,
              "ticks": ""
             }
            },
            "type": "scattercarpet"
           }
          ],
          "scattergeo": [
           {
            "marker": {
             "colorbar": {
              "outlinewidth": 0,
              "ticks": ""
             }
            },
            "type": "scattergeo"
           }
          ],
          "scattergl": [
           {
            "marker": {
             "colorbar": {
              "outlinewidth": 0,
              "ticks": ""
             }
            },
            "type": "scattergl"
           }
          ],
          "scattermap": [
           {
            "marker": {
             "colorbar": {
              "outlinewidth": 0,
              "ticks": ""
             }
            },
            "type": "scattermap"
           }
          ],
          "scattermapbox": [
           {
            "marker": {
             "colorbar": {
              "outlinewidth": 0,
              "ticks": ""
             }
            },
            "type": "scattermapbox"
           }
          ],
          "scatterpolar": [
           {
            "marker": {
             "colorbar": {
              "outlinewidth": 0,
              "ticks": ""
             }
            },
            "type": "scatterpolar"
           }
          ],
          "scatterpolargl": [
           {
            "marker": {
             "colorbar": {
              "outlinewidth": 0,
              "ticks": ""
             }
            },
            "type": "scatterpolargl"
           }
          ],
          "scatterternary": [
           {
            "marker": {
             "colorbar": {
              "outlinewidth": 0,
              "ticks": ""
             }
            },
            "type": "scatterternary"
           }
          ],
          "surface": [
           {
            "colorbar": {
             "outlinewidth": 0,
             "ticks": ""
            },
            "colorscale": [
             [
              0,
              "#0d0887"
             ],
             [
              0.1111111111111111,
              "#46039f"
             ],
             [
              0.2222222222222222,
              "#7201a8"
             ],
             [
              0.3333333333333333,
              "#9c179e"
             ],
             [
              0.4444444444444444,
              "#bd3786"
             ],
             [
              0.5555555555555556,
              "#d8576b"
             ],
             [
              0.6666666666666666,
              "#ed7953"
             ],
             [
              0.7777777777777778,
              "#fb9f3a"
             ],
             [
              0.8888888888888888,
              "#fdca26"
             ],
             [
              1,
              "#f0f921"
             ]
            ],
            "type": "surface"
           }
          ],
          "table": [
           {
            "cells": {
             "fill": {
              "color": "#EBF0F8"
             },
             "line": {
              "color": "white"
             }
            },
            "header": {
             "fill": {
              "color": "#C8D4E3"
             },
             "line": {
              "color": "white"
             }
            },
            "type": "table"
           }
          ]
         },
         "layout": {
          "annotationdefaults": {
           "arrowcolor": "#2a3f5f",
           "arrowhead": 0,
           "arrowwidth": 1
          },
          "autotypenumbers": "strict",
          "coloraxis": {
           "colorbar": {
            "outlinewidth": 0,
            "ticks": ""
           }
          },
          "colorscale": {
           "diverging": [
            [
             0,
             "#8e0152"
            ],
            [
             0.1,
             "#c51b7d"
            ],
            [
             0.2,
             "#de77ae"
            ],
            [
             0.3,
             "#f1b6da"
            ],
            [
             0.4,
             "#fde0ef"
            ],
            [
             0.5,
             "#f7f7f7"
            ],
            [
             0.6,
             "#e6f5d0"
            ],
            [
             0.7,
             "#b8e186"
            ],
            [
             0.8,
             "#7fbc41"
            ],
            [
             0.9,
             "#4d9221"
            ],
            [
             1,
             "#276419"
            ]
           ],
           "sequential": [
            [
             0,
             "#0d0887"
            ],
            [
             0.1111111111111111,
             "#46039f"
            ],
            [
             0.2222222222222222,
             "#7201a8"
            ],
            [
             0.3333333333333333,
             "#9c179e"
            ],
            [
             0.4444444444444444,
             "#bd3786"
            ],
            [
             0.5555555555555556,
             "#d8576b"
            ],
            [
             0.6666666666666666,
             "#ed7953"
            ],
            [
             0.7777777777777778,
             "#fb9f3a"
            ],
            [
             0.8888888888888888,
             "#fdca26"
            ],
            [
             1,
             "#f0f921"
            ]
           ],
           "sequentialminus": [
            [
             0,
             "#0d0887"
            ],
            [
             0.1111111111111111,
             "#46039f"
            ],
            [
             0.2222222222222222,
             "#7201a8"
            ],
            [
             0.3333333333333333,
             "#9c179e"
            ],
            [
             0.4444444444444444,
             "#bd3786"
            ],
            [
             0.5555555555555556,
             "#d8576b"
            ],
            [
             0.6666666666666666,
             "#ed7953"
            ],
            [
             0.7777777777777778,
             "#fb9f3a"
            ],
            [
             0.8888888888888888,
             "#fdca26"
            ],
            [
             1,
             "#f0f921"
            ]
           ]
          },
          "colorway": [
           "#636efa",
           "#EF553B",
           "#00cc96",
           "#ab63fa",
           "#FFA15A",
           "#19d3f3",
           "#FF6692",
           "#B6E880",
           "#FF97FF",
           "#FECB52"
          ],
          "font": {
           "color": "#2a3f5f"
          },
          "geo": {
           "bgcolor": "white",
           "lakecolor": "white",
           "landcolor": "#E5ECF6",
           "showlakes": true,
           "showland": true,
           "subunitcolor": "white"
          },
          "hoverlabel": {
           "align": "left"
          },
          "hovermode": "closest",
          "mapbox": {
           "style": "light"
          },
          "paper_bgcolor": "white",
          "plot_bgcolor": "#E5ECF6",
          "polar": {
           "angularaxis": {
            "gridcolor": "white",
            "linecolor": "white",
            "ticks": ""
           },
           "bgcolor": "#E5ECF6",
           "radialaxis": {
            "gridcolor": "white",
            "linecolor": "white",
            "ticks": ""
           }
          },
          "scene": {
           "xaxis": {
            "backgroundcolor": "#E5ECF6",
            "gridcolor": "white",
            "gridwidth": 2,
            "linecolor": "white",
            "showbackground": true,
            "ticks": "",
            "zerolinecolor": "white"
           },
           "yaxis": {
            "backgroundcolor": "#E5ECF6",
            "gridcolor": "white",
            "gridwidth": 2,
            "linecolor": "white",
            "showbackground": true,
            "ticks": "",
            "zerolinecolor": "white"
           },
           "zaxis": {
            "backgroundcolor": "#E5ECF6",
            "gridcolor": "white",
            "gridwidth": 2,
            "linecolor": "white",
            "showbackground": true,
            "ticks": "",
            "zerolinecolor": "white"
           }
          },
          "shapedefaults": {
           "line": {
            "color": "#2a3f5f"
           }
          },
          "ternary": {
           "aaxis": {
            "gridcolor": "white",
            "linecolor": "white",
            "ticks": ""
           },
           "baxis": {
            "gridcolor": "white",
            "linecolor": "white",
            "ticks": ""
           },
           "bgcolor": "#E5ECF6",
           "caxis": {
            "gridcolor": "white",
            "linecolor": "white",
            "ticks": ""
           }
          },
          "title": {
           "x": 0.05
          },
          "xaxis": {
           "automargin": true,
           "gridcolor": "white",
           "linecolor": "white",
           "ticks": "",
           "title": {
            "standoff": 15
           },
           "zerolinecolor": "white",
           "zerolinewidth": 2
          },
          "yaxis": {
           "automargin": true,
           "gridcolor": "white",
           "linecolor": "white",
           "ticks": "",
           "title": {
            "standoff": 15
           },
           "zerolinecolor": "white",
           "zerolinewidth": 2
          }
         }
        },
        "title": {
         "text": "Frequency of Depression Levels"
        },
        "xaxis": {
         "anchor": "y",
         "domain": [
          0,
          1
         ],
         "dtick": 1,
         "title": {
          "text": "Depression"
         }
        },
        "yaxis": {
         "anchor": "x",
         "domain": [
          0,
          1
         ],
         "title": {
          "text": "Count"
         }
        }
       }
      },
      "image/png": "[encoded data removed]"
     },
     "metadata": {},
     "output_type": "display_data"
    },
    {
     "name": "stdout",
     "output_type": "stream",
     "text": [
      "count    736.000000\n",
      "mean       4.796196\n",
      "std        3.028870\n",
      "min        0.000000\n",
      "25%        2.000000\n",
      "50%        5.000000\n",
      "75%        7.000000\n",
      "max       10.000000\n",
      "Name: Depression, dtype: float64\n"
     ]
    }
   ],
   "source": [
    "my_cols = 'Depression'\n",
    "fig = px.histogram(df[my_cols],\n",
    "                   color_discrete_sequence=['skyblue'],\n",
    "                   nbins=11,\n",
    "                   title=\"Frequency of \"+my_cols+\" Levels\")\n",
    "fig.update_layout(xaxis_title=my_cols,\n",
    "                  yaxis_title=\"Count\",\n",
    "                  showlegend=False,\n",
    "                  xaxis=dict(dtick=1))\n",
    "fig.show()\n",
    "print(df[my_cols].describe())"
   ]
  },
  {
   "cell_type": "markdown",
   "id": "224ff7fe-36e5-496b-a83e-b2e8c00e2629",
   "metadata": {},
   "source": [
    "The depression levels peak at level 7, with 96 observations there. But level 2 is very close, with 93 observations. The median is level 5. The min is 0 and the max is 10. The graph suggests there is not an obvious shape to the frequency. It is distributed fairly evenly, although fewer observations reported levels 1, 9, and 10."
   ]
  },
  {
   "cell_type": "markdown",
   "id": "fc76bebf-8d7a-44a0-8362-64dd48b0e93c",
   "metadata": {},
   "source": [
    "#### Insomnia"
   ]
  },
  {
   "cell_type": "code",
   "execution_count": 164,
   "id": "c98bceda-d3ec-42e1-935b-aefcd84eb7f1",
   "metadata": {},
   "outputs": [
    {
     "data": {
      "application/vnd.plotly.v1+json": {
       "config": {
        "plotlyServerURL": "https://plot.ly"
       },
       "data": [
        {
         "bingroup": "x",
         "hovertemplate": "variable=Insomnia<br>value=%{x}<br>count=%{y}<extra></extra>",
         "legendgroup": "Insomnia",
         "marker": {
          "color": "skyblue",
          "pattern": {
           "shape": ""
          }
         },
         "name": "Insomnia",
         "nbinsx": 11,
         "orientation": "v",
         "showlegend": true,
         "type": "histogram",
         "x": {
          "bdata": "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",
          "dtype": "f8"
         },
         "xaxis": "x",
         "yaxis": "y"
        }
       ],
       "layout": {
        "barmode": "relative",
        "legend": {
         "title": {
          "text": "variable"
         },
         "tracegroupgap": 0
        },
        "showlegend": false,
        "template": {
         "data": {
          "bar": [
           {
            "error_x": {
             "color": "#2a3f5f"
            },
            "error_y": {
             "color": "#2a3f5f"
            },
            "marker": {
             "line": {
              "color": "#E5ECF6",
              "width": 0.5
             },
             "pattern": {
              "fillmode": "overlay",
              "size": 10,
              "solidity": 0.2
             }
            },
            "type": "bar"
           }
          ],
          "barpolar": [
           {
            "marker": {
             "line": {
              "color": "#E5ECF6",
              "width": 0.5
             },
             "pattern": {
              "fillmode": "overlay",
              "size": 10,
              "solidity": 0.2
             }
            },
            "type": "barpolar"
           }
          ],
          "carpet": [
           {
            "aaxis": {
             "endlinecolor": "#2a3f5f",
             "gridcolor": "white",
             "linecolor": "white",
             "minorgridcolor": "white",
             "startlinecolor": "#2a3f5f"
            },
            "baxis": {
             "endlinecolor": "#2a3f5f",
             "gridcolor": "white",
             "linecolor": "white",
             "minorgridcolor": "white",
             "startlinecolor": "#2a3f5f"
            },
            "type": "carpet"
           }
          ],
          "choropleth": [
           {
            "colorbar": {
             "outlinewidth": 0,
             "ticks": ""
            },
            "type": "choropleth"
           }
          ],
          "contour": [
           {
            "colorbar": {
             "outlinewidth": 0,
             "ticks": ""
            },
            "colorscale": [
             [
              0,
              "#0d0887"
             ],
             [
              0.1111111111111111,
              "#46039f"
             ],
             [
              0.2222222222222222,
              "#7201a8"
             ],
             [
              0.3333333333333333,
              "#9c179e"
             ],
             [
              0.4444444444444444,
              "#bd3786"
             ],
             [
              0.5555555555555556,
              "#d8576b"
             ],
             [
              0.6666666666666666,
              "#ed7953"
             ],
             [
              0.7777777777777778,
              "#fb9f3a"
             ],
             [
              0.8888888888888888,
              "#fdca26"
             ],
             [
              1,
              "#f0f921"
             ]
            ],
            "type": "contour"
           }
          ],
          "contourcarpet": [
           {
            "colorbar": {
             "outlinewidth": 0,
             "ticks": ""
            },
            "type": "contourcarpet"
           }
          ],
          "heatmap": [
           {
            "colorbar": {
             "outlinewidth": 0,
             "ticks": ""
            },
            "colorscale": [
             [
              0,
              "#0d0887"
             ],
             [
              0.1111111111111111,
              "#46039f"
             ],
             [
              0.2222222222222222,
              "#7201a8"
             ],
             [
              0.3333333333333333,
              "#9c179e"
             ],
             [
              0.4444444444444444,
              "#bd3786"
             ],
             [
              0.5555555555555556,
              "#d8576b"
             ],
             [
              0.6666666666666666,
              "#ed7953"
             ],
             [
              0.7777777777777778,
              "#fb9f3a"
             ],
             [
              0.8888888888888888,
              "#fdca26"
             ],
             [
              1,
              "#f0f921"
             ]
            ],
            "type": "heatmap"
           }
          ],
          "histogram": [
           {
            "marker": {
             "pattern": {
              "fillmode": "overlay",
              "size": 10,
              "solidity": 0.2
             }
            },
            "type": "histogram"
           }
          ],
          "histogram2d": [
           {
            "colorbar": {
             "outlinewidth": 0,
             "ticks": ""
            },
            "colorscale": [
             [
              0,
              "#0d0887"
             ],
             [
              0.1111111111111111,
              "#46039f"
             ],
             [
              0.2222222222222222,
              "#7201a8"
             ],
             [
              0.3333333333333333,
              "#9c179e"
             ],
             [
              0.4444444444444444,
              "#bd3786"
             ],
             [
              0.5555555555555556,
              "#d8576b"
             ],
             [
              0.6666666666666666,
              "#ed7953"
             ],
             [
              0.7777777777777778,
              "#fb9f3a"
             ],
             [
              0.8888888888888888,
              "#fdca26"
             ],
             [
              1,
              "#f0f921"
             ]
            ],
            "type": "histogram2d"
           }
          ],
          "histogram2dcontour": [
           {
            "colorbar": {
             "outlinewidth": 0,
             "ticks": ""
            },
            "colorscale": [
             [
              0,
              "#0d0887"
             ],
             [
              0.1111111111111111,
              "#46039f"
             ],
             [
              0.2222222222222222,
              "#7201a8"
             ],
             [
              0.3333333333333333,
              "#9c179e"
             ],
             [
              0.4444444444444444,
              "#bd3786"
             ],
             [
              0.5555555555555556,
              "#d8576b"
             ],
             [
              0.6666666666666666,
              "#ed7953"
             ],
             [
              0.7777777777777778,
              "#fb9f3a"
             ],
             [
              0.8888888888888888,
              "#fdca26"
             ],
             [
              1,
              "#f0f921"
             ]
            ],
            "type": "histogram2dcontour"
           }
          ],
          "mesh3d": [
           {
            "colorbar": {
             "outlinewidth": 0,
             "ticks": ""
            },
            "type": "mesh3d"
           }
          ],
          "parcoords": [
           {
            "line": {
             "colorbar": {
              "outlinewidth": 0,
              "ticks": ""
             }
            },
            "type": "parcoords"
           }
          ],
          "pie": [
           {
            "automargin": true,
            "type": "pie"
           }
          ],
          "scatter": [
           {
            "fillpattern": {
             "fillmode": "overlay",
             "size": 10,
             "solidity": 0.2
            },
            "type": "scatter"
           }
          ],
          "scatter3d": [
           {
            "line": {
             "colorbar": {
              "outlinewidth": 0,
              "ticks": ""
             }
            },
            "marker": {
             "colorbar": {
              "outlinewidth": 0,
              "ticks": ""
             }
            },
            "type": "scatter3d"
           }
          ],
          "scattercarpet": [
           {
            "marker": {
             "colorbar": {
              "outlinewidth": 0,
              "ticks": ""
             }
            },
            "type": "scattercarpet"
           }
          ],
          "scattergeo": [
           {
            "marker": {
             "colorbar": {
              "outlinewidth": 0,
              "ticks": ""
             }
            },
            "type": "scattergeo"
           }
          ],
          "scattergl": [
           {
            "marker": {
             "colorbar": {
              "outlinewidth": 0,
              "ticks": ""
             }
            },
            "type": "scattergl"
           }
          ],
          "scattermap": [
           {
            "marker": {
             "colorbar": {
              "outlinewidth": 0,
              "ticks": ""
             }
            },
            "type": "scattermap"
           }
          ],
          "scattermapbox": [
           {
            "marker": {
             "colorbar": {
              "outlinewidth": 0,
              "ticks": ""
             }
            },
            "type": "scattermapbox"
           }
          ],
          "scatterpolar": [
           {
            "marker": {
             "colorbar": {
              "outlinewidth": 0,
              "ticks": ""
             }
            },
            "type": "scatterpolar"
           }
          ],
          "scatterpolargl": [
           {
            "marker": {
             "colorbar": {
              "outlinewidth": 0,
              "ticks": ""
             }
            },
            "type": "scatterpolargl"
           }
          ],
          "scatterternary": [
           {
            "marker": {
             "colorbar": {
              "outlinewidth": 0,
              "ticks": ""
             }
            },
            "type": "scatterternary"
           }
          ],
          "surface": [
           {
            "colorbar": {
             "outlinewidth": 0,
             "ticks": ""
            },
            "colorscale": [
             [
              0,
              "#0d0887"
             ],
             [
              0.1111111111111111,
              "#46039f"
             ],
             [
              0.2222222222222222,
              "#7201a8"
             ],
             [
              0.3333333333333333,
              "#9c179e"
             ],
             [
              0.4444444444444444,
              "#bd3786"
             ],
             [
              0.5555555555555556,
              "#d8576b"
             ],
             [
              0.6666666666666666,
              "#ed7953"
             ],
             [
              0.7777777777777778,
              "#fb9f3a"
             ],
             [
              0.8888888888888888,
              "#fdca26"
             ],
             [
              1,
              "#f0f921"
             ]
            ],
            "type": "surface"
           }
          ],
          "table": [
           {
            "cells": {
             "fill": {
              "color": "#EBF0F8"
             },
             "line": {
              "color": "white"
             }
            },
            "header": {
             "fill": {
              "color": "#C8D4E3"
             },
             "line": {
              "color": "white"
             }
            },
            "type": "table"
           }
          ]
         },
         "layout": {
          "annotationdefaults": {
           "arrowcolor": "#2a3f5f",
           "arrowhead": 0,
           "arrowwidth": 1
          },
          "autotypenumbers": "strict",
          "coloraxis": {
           "colorbar": {
            "outlinewidth": 0,
            "ticks": ""
           }
          },
          "colorscale": {
           "diverging": [
            [
             0,
             "#8e0152"
            ],
            [
             0.1,
             "#c51b7d"
            ],
            [
             0.2,
             "#de77ae"
            ],
            [
             0.3,
             "#f1b6da"
            ],
            [
             0.4,
             "#fde0ef"
            ],
            [
             0.5,
             "#f7f7f7"
            ],
            [
             0.6,
             "#e6f5d0"
            ],
            [
             0.7,
             "#b8e186"
            ],
            [
             0.8,
             "#7fbc41"
            ],
            [
             0.9,
             "#4d9221"
            ],
            [
             1,
             "#276419"
            ]
           ],
           "sequential": [
            [
             0,
             "#0d0887"
            ],
            [
             0.1111111111111111,
             "#46039f"
            ],
            [
             0.2222222222222222,
             "#7201a8"
            ],
            [
             0.3333333333333333,
             "#9c179e"
            ],
            [
             0.4444444444444444,
             "#bd3786"
            ],
            [
             0.5555555555555556,
             "#d8576b"
            ],
            [
             0.6666666666666666,
             "#ed7953"
            ],
            [
             0.7777777777777778,
             "#fb9f3a"
            ],
            [
             0.8888888888888888,
             "#fdca26"
            ],
            [
             1,
             "#f0f921"
            ]
           ],
           "sequentialminus": [
            [
             0,
             "#0d0887"
            ],
            [
             0.1111111111111111,
             "#46039f"
            ],
            [
             0.2222222222222222,
             "#7201a8"
            ],
            [
             0.3333333333333333,
             "#9c179e"
            ],
            [
             0.4444444444444444,
             "#bd3786"
            ],
            [
             0.5555555555555556,
             "#d8576b"
            ],
            [
             0.6666666666666666,
             "#ed7953"
            ],
            [
             0.7777777777777778,
             "#fb9f3a"
            ],
            [
             0.8888888888888888,
             "#fdca26"
            ],
            [
             1,
             "#f0f921"
            ]
           ]
          },
          "colorway": [
           "#636efa",
           "#EF553B",
           "#00cc96",
           "#ab63fa",
           "#FFA15A",
           "#19d3f3",
           "#FF6692",
           "#B6E880",
           "#FF97FF",
           "#FECB52"
          ],
          "font": {
           "color": "#2a3f5f"
          },
          "geo": {
           "bgcolor": "white",
           "lakecolor": "white",
           "landcolor": "#E5ECF6",
           "showlakes": true,
           "showland": true,
           "subunitcolor": "white"
          },
          "hoverlabel": {
           "align": "left"
          },
          "hovermode": "closest",
          "mapbox": {
           "style": "light"
          },
          "paper_bgcolor": "white",
          "plot_bgcolor": "#E5ECF6",
          "polar": {
           "angularaxis": {
            "gridcolor": "white",
            "linecolor": "white",
            "ticks": ""
           },
           "bgcolor": "#E5ECF6",
           "radialaxis": {
            "gridcolor": "white",
            "linecolor": "white",
            "ticks": ""
           }
          },
          "scene": {
           "xaxis": {
            "backgroundcolor": "#E5ECF6",
            "gridcolor": "white",
            "gridwidth": 2,
            "linecolor": "white",
            "showbackground": true,
            "ticks": "",
            "zerolinecolor": "white"
           },
           "yaxis": {
            "backgroundcolor": "#E5ECF6",
            "gridcolor": "white",
            "gridwidth": 2,
            "linecolor": "white",
            "showbackground": true,
            "ticks": "",
            "zerolinecolor": "white"
           },
           "zaxis": {
            "backgroundcolor": "#E5ECF6",
            "gridcolor": "white",
            "gridwidth": 2,
            "linecolor": "white",
            "showbackground": true,
            "ticks": "",
            "zerolinecolor": "white"
           }
          },
          "shapedefaults": {
           "line": {
            "color": "#2a3f5f"
           }
          },
          "ternary": {
           "aaxis": {
            "gridcolor": "white",
            "linecolor": "white",
            "ticks": ""
           },
           "baxis": {
            "gridcolor": "white",
            "linecolor": "white",
            "ticks": ""
           },
           "bgcolor": "#E5ECF6",
           "caxis": {
            "gridcolor": "white",
            "linecolor": "white",
            "ticks": ""
           }
          },
          "title": {
           "x": 0.05
          },
          "xaxis": {
           "automargin": true,
           "gridcolor": "white",
           "linecolor": "white",
           "ticks": "",
           "title": {
            "standoff": 15
           },
           "zerolinecolor": "white",
           "zerolinewidth": 2
          },
          "yaxis": {
           "automargin": true,
           "gridcolor": "white",
           "linecolor": "white",
           "ticks": "",
           "title": {
            "standoff": 15
           },
           "zerolinecolor": "white",
           "zerolinewidth": 2
          }
         }
        },
        "title": {
         "text": "Frequency of Insomnia Levels"
        },
        "xaxis": {
         "anchor": "y",
         "domain": [
          0,
          1
         ],
         "dtick": 1,
         "title": {
          "text": "Insomnia"
         }
        },
        "yaxis": {
         "anchor": "x",
         "domain": [
          0,
          1
         ],
         "title": {
          "text": "Count"
         }
        }
       }
      },
      "image/png": "[encoded data removed]"
     },
     "metadata": {},
     "output_type": "display_data"
    },
    {
     "name": "stdout",
     "output_type": "stream",
     "text": [
      "count    736.000000\n",
      "mean       3.738451\n",
      "std        3.088689\n",
      "min        0.000000\n",
      "25%        1.000000\n",
      "50%        3.000000\n",
      "75%        6.000000\n",
      "max       10.000000\n",
      "Name: Insomnia, dtype: float64\n"
     ]
    }
   ],
   "source": [
    "my_cols = 'Insomnia'\n",
    "fig = px.histogram(df[my_cols],\n",
    "                   color_discrete_sequence=['skyblue'],\n",
    "                   nbins=11,\n",
    "                   title=\"Frequency of \"+my_cols+\" Levels\")\n",
    "fig.update_layout(xaxis_title=my_cols,\n",
    "                  yaxis_title=\"Count\",\n",
    "                  showlegend=False,\n",
    "                  xaxis=dict(dtick=1))\n",
    "fig.show()\n",
    "print(df[my_cols].describe())"
   ]
  },
  {
   "cell_type": "markdown",
   "id": "ce7e4d6c-5a0f-4fcb-85f7-2e43d9f9a7f7",
   "metadata": {},
   "source": [
    "The insomnia levels peak at level 0, with 149 observations there. The median is level 3. The min is 0 and the max is 10. The graph suggests the observations are most frequent at level 0, then decrease in frequency as insomnia level increases, for the most part."
   ]
  },
  {
   "cell_type": "markdown",
   "id": "eddb4c48-5cfb-4377-86e9-281d3ac4a2ad",
   "metadata": {},
   "source": [
    "#### OCD"
   ]
  },
  {
   "cell_type": "code",
   "execution_count": 165,
   "id": "98fbbe84-9a3d-415f-8169-febe16760f7a",
   "metadata": {},
   "outputs": [
    {
     "data": {
      "application/vnd.plotly.v1+json": {
       "config": {
        "plotlyServerURL": "https://plot.ly"
       },
       "data": [
        {
         "bingroup": "x",
         "hovertemplate": "variable=OCD<br>value=%{x}<br>count=%{y}<extra></extra>",
         "legendgroup": "OCD",
         "marker": {
          "color": "skyblue",
          "pattern": {
           "shape": ""
          }
         },
         "name": "OCD",
         "nbinsx": 11,
         "orientation": "v",
         "showlegend": true,
         "type": "histogram",
         "x": {
          "bdata": "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",
          "dtype": "f8"
         },
         "xaxis": "x",
         "yaxis": "y"
        }
       ],
       "layout": {
        "barmode": "relative",
        "legend": {
         "title": {
          "text": "variable"
         },
         "tracegroupgap": 0
        },
        "showlegend": false,
        "template": {
         "data": {
          "bar": [
           {
            "error_x": {
             "color": "#2a3f5f"
            },
            "error_y": {
             "color": "#2a3f5f"
            },
            "marker": {
             "line": {
              "color": "#E5ECF6",
              "width": 0.5
             },
             "pattern": {
              "fillmode": "overlay",
              "size": 10,
              "solidity": 0.2
             }
            },
            "type": "bar"
           }
          ],
          "barpolar": [
           {
            "marker": {
             "line": {
              "color": "#E5ECF6",
              "width": 0.5
             },
             "pattern": {
              "fillmode": "overlay",
              "size": 10,
              "solidity": 0.2
             }
            },
            "type": "barpolar"
           }
          ],
          "carpet": [
           {
            "aaxis": {
             "endlinecolor": "#2a3f5f",
             "gridcolor": "white",
             "linecolor": "white",
             "minorgridcolor": "white",
             "startlinecolor": "#2a3f5f"
            },
            "baxis": {
             "endlinecolor": "#2a3f5f",
             "gridcolor": "white",
             "linecolor": "white",
             "minorgridcolor": "white",
             "startlinecolor": "#2a3f5f"
            },
            "type": "carpet"
           }
          ],
          "choropleth": [
           {
            "colorbar": {
             "outlinewidth": 0,
             "ticks": ""
            },
            "type": "choropleth"
           }
          ],
          "contour": [
           {
            "colorbar": {
             "outlinewidth": 0,
             "ticks": ""
            },
            "colorscale": [
             [
              0,
              "#0d0887"
             ],
             [
              0.1111111111111111,
              "#46039f"
             ],
             [
              0.2222222222222222,
              "#7201a8"
             ],
             [
              0.3333333333333333,
              "#9c179e"
             ],
             [
              0.4444444444444444,
              "#bd3786"
             ],
             [
              0.5555555555555556,
              "#d8576b"
             ],
             [
              0.6666666666666666,
              "#ed7953"
             ],
             [
              0.7777777777777778,
              "#fb9f3a"
             ],
             [
              0.8888888888888888,
              "#fdca26"
             ],
             [
              1,
              "#f0f921"
             ]
            ],
            "type": "contour"
           }
          ],
          "contourcarpet": [
           {
            "colorbar": {
             "outlinewidth": 0,
             "ticks": ""
            },
            "type": "contourcarpet"
           }
          ],
          "heatmap": [
           {
            "colorbar": {
             "outlinewidth": 0,
             "ticks": ""
            },
            "colorscale": [
             [
              0,
              "#0d0887"
             ],
             [
              0.1111111111111111,
              "#46039f"
             ],
             [
              0.2222222222222222,
              "#7201a8"
             ],
             [
              0.3333333333333333,
              "#9c179e"
             ],
             [
              0.4444444444444444,
              "#bd3786"
             ],
             [
              0.5555555555555556,
              "#d8576b"
             ],
             [
              0.6666666666666666,
              "#ed7953"
             ],
             [
              0.7777777777777778,
              "#fb9f3a"
             ],
             [
              0.8888888888888888,
              "#fdca26"
             ],
             [
              1,
              "#f0f921"
             ]
            ],
            "type": "heatmap"
           }
          ],
          "histogram": [
           {
            "marker": {
             "pattern": {
              "fillmode": "overlay",
              "size": 10,
              "solidity": 0.2
             }
            },
            "type": "histogram"
           }
          ],
          "histogram2d": [
           {
            "colorbar": {
             "outlinewidth": 0,
             "ticks": ""
            },
            "colorscale": [
             [
              0,
              "#0d0887"
             ],
             [
              0.1111111111111111,
              "#46039f"
             ],
             [
              0.2222222222222222,
              "#7201a8"
             ],
             [
              0.3333333333333333,
              "#9c179e"
             ],
             [
              0.4444444444444444,
              "#bd3786"
             ],
             [
              0.5555555555555556,
              "#d8576b"
             ],
             [
              0.6666666666666666,
              "#ed7953"
             ],
             [
              0.7777777777777778,
              "#fb9f3a"
             ],
             [
              0.8888888888888888,
              "#fdca26"
             ],
             [
              1,
              "#f0f921"
             ]
            ],
            "type": "histogram2d"
           }
          ],
          "histogram2dcontour": [
           {
            "colorbar": {
             "outlinewidth": 0,
             "ticks": ""
            },
            "colorscale": [
             [
              0,
              "#0d0887"
             ],
             [
              0.1111111111111111,
              "#46039f"
             ],
             [
              0.2222222222222222,
              "#7201a8"
             ],
             [
              0.3333333333333333,
              "#9c179e"
             ],
             [
              0.4444444444444444,
              "#bd3786"
             ],
             [
              0.5555555555555556,
              "#d8576b"
             ],
             [
              0.6666666666666666,
              "#ed7953"
             ],
             [
              0.7777777777777778,
              "#fb9f3a"
             ],
             [
              0.8888888888888888,
              "#fdca26"
             ],
             [
              1,
              "#f0f921"
             ]
            ],
            "type": "histogram2dcontour"
           }
          ],
          "mesh3d": [
           {
            "colorbar": {
             "outlinewidth": 0,
             "ticks": ""
            },
            "type": "mesh3d"
           }
          ],
          "parcoords": [
           {
            "line": {
             "colorbar": {
              "outlinewidth": 0,
              "ticks": ""
             }
            },
            "type": "parcoords"
           }
          ],
          "pie": [
           {
            "automargin": true,
            "type": "pie"
           }
          ],
          "scatter": [
           {
            "fillpattern": {
             "fillmode": "overlay",
             "size": 10,
             "solidity": 0.2
            },
            "type": "scatter"
           }
          ],
          "scatter3d": [
           {
            "line": {
             "colorbar": {
              "outlinewidth": 0,
              "ticks": ""
             }
            },
            "marker": {
             "colorbar": {
              "outlinewidth": 0,
              "ticks": ""
             }
            },
            "type": "scatter3d"
           }
          ],
          "scattercarpet": [
           {
            "marker": {
             "colorbar": {
              "outlinewidth": 0,
              "ticks": ""
             }
            },
            "type": "scattercarpet"
           }
          ],
          "scattergeo": [
           {
            "marker": {
             "colorbar": {
              "outlinewidth": 0,
              "ticks": ""
             }
            },
            "type": "scattergeo"
           }
          ],
          "scattergl": [
           {
            "marker": {
             "colorbar": {
              "outlinewidth": 0,
              "ticks": ""
             }
            },
            "type": "scattergl"
           }
          ],
          "scattermap": [
           {
            "marker": {
             "colorbar": {
              "outlinewidth": 0,
              "ticks": ""
             }
            },
            "type": "scattermap"
           }
          ],
          "scattermapbox": [
           {
            "marker": {
             "colorbar": {
              "outlinewidth": 0,
              "ticks": ""
             }
            },
            "type": "scattermapbox"
           }
          ],
          "scatterpolar": [
           {
            "marker": {
             "colorbar": {
              "outlinewidth": 0,
              "ticks": ""
             }
            },
            "type": "scatterpolar"
           }
          ],
          "scatterpolargl": [
           {
            "marker": {
             "colorbar": {
              "outlinewidth": 0,
              "ticks": ""
             }
            },
            "type": "scatterpolargl"
           }
          ],
          "scatterternary": [
           {
            "marker": {
             "colorbar": {
              "outlinewidth": 0,
              "ticks": ""
             }
            },
            "type": "scatterternary"
           }
          ],
          "surface": [
           {
            "colorbar": {
             "outlinewidth": 0,
             "ticks": ""
            },
            "colorscale": [
             [
              0,
              "#0d0887"
             ],
             [
              0.1111111111111111,
              "#46039f"
             ],
             [
              0.2222222222222222,
              "#7201a8"
             ],
             [
              0.3333333333333333,
              "#9c179e"
             ],
             [
              0.4444444444444444,
              "#bd3786"
             ],
             [
              0.5555555555555556,
              "#d8576b"
             ],
             [
              0.6666666666666666,
              "#ed7953"
             ],
             [
              0.7777777777777778,
              "#fb9f3a"
             ],
             [
              0.8888888888888888,
              "#fdca26"
             ],
             [
              1,
              "#f0f921"
             ]
            ],
            "type": "surface"
           }
          ],
          "table": [
           {
            "cells": {
             "fill": {
              "color": "#EBF0F8"
             },
             "line": {
              "color": "white"
             }
            },
            "header": {
             "fill": {
              "color": "#C8D4E3"
             },
             "line": {
              "color": "white"
             }
            },
            "type": "table"
           }
          ]
         },
         "layout": {
          "annotationdefaults": {
           "arrowcolor": "#2a3f5f",
           "arrowhead": 0,
           "arrowwidth": 1
          },
          "autotypenumbers": "strict",
          "coloraxis": {
           "colorbar": {
            "outlinewidth": 0,
            "ticks": ""
           }
          },
          "colorscale": {
           "diverging": [
            [
             0,
             "#8e0152"
            ],
            [
             0.1,
             "#c51b7d"
            ],
            [
             0.2,
             "#de77ae"
            ],
            [
             0.3,
             "#f1b6da"
            ],
            [
             0.4,
             "#fde0ef"
            ],
            [
             0.5,
             "#f7f7f7"
            ],
            [
             0.6,
             "#e6f5d0"
            ],
            [
             0.7,
             "#b8e186"
            ],
            [
             0.8,
             "#7fbc41"
            ],
            [
             0.9,
             "#4d9221"
            ],
            [
             1,
             "#276419"
            ]
           ],
           "sequential": [
            [
             0,
             "#0d0887"
            ],
            [
             0.1111111111111111,
             "#46039f"
            ],
            [
             0.2222222222222222,
             "#7201a8"
            ],
            [
             0.3333333333333333,
             "#9c179e"
            ],
            [
             0.4444444444444444,
             "#bd3786"
            ],
            [
             0.5555555555555556,
             "#d8576b"
            ],
            [
             0.6666666666666666,
             "#ed7953"
            ],
            [
             0.7777777777777778,
             "#fb9f3a"
            ],
            [
             0.8888888888888888,
             "#fdca26"
            ],
            [
             1,
             "#f0f921"
            ]
           ],
           "sequentialminus": [
            [
             0,
             "#0d0887"
            ],
            [
             0.1111111111111111,
             "#46039f"
            ],
            [
             0.2222222222222222,
             "#7201a8"
            ],
            [
             0.3333333333333333,
             "#9c179e"
            ],
            [
             0.4444444444444444,
             "#bd3786"
            ],
            [
             0.5555555555555556,
             "#d8576b"
            ],
            [
             0.6666666666666666,
             "#ed7953"
            ],
            [
             0.7777777777777778,
             "#fb9f3a"
            ],
            [
             0.8888888888888888,
             "#fdca26"
            ],
            [
             1,
             "#f0f921"
            ]
           ]
          },
          "colorway": [
           "#636efa",
           "#EF553B",
           "#00cc96",
           "#ab63fa",
           "#FFA15A",
           "#19d3f3",
           "#FF6692",
           "#B6E880",
           "#FF97FF",
           "#FECB52"
          ],
          "font": {
           "color": "#2a3f5f"
          },
          "geo": {
           "bgcolor": "white",
           "lakecolor": "white",
           "landcolor": "#E5ECF6",
           "showlakes": true,
           "showland": true,
           "subunitcolor": "white"
          },
          "hoverlabel": {
           "align": "left"
          },
          "hovermode": "closest",
          "mapbox": {
           "style": "light"
          },
          "paper_bgcolor": "white",
          "plot_bgcolor": "#E5ECF6",
          "polar": {
           "angularaxis": {
            "gridcolor": "white",
            "linecolor": "white",
            "ticks": ""
           },
           "bgcolor": "#E5ECF6",
           "radialaxis": {
            "gridcolor": "white",
            "linecolor": "white",
            "ticks": ""
           }
          },
          "scene": {
           "xaxis": {
            "backgroundcolor": "#E5ECF6",
            "gridcolor": "white",
            "gridwidth": 2,
            "linecolor": "white",
            "showbackground": true,
            "ticks": "",
            "zerolinecolor": "white"
           },
           "yaxis": {
            "backgroundcolor": "#E5ECF6",
            "gridcolor": "white",
            "gridwidth": 2,
            "linecolor": "white",
            "showbackground": true,
            "ticks": "",
            "zerolinecolor": "white"
           },
           "zaxis": {
            "backgroundcolor": "#E5ECF6",
            "gridcolor": "white",
            "gridwidth": 2,
            "linecolor": "white",
            "showbackground": true,
            "ticks": "",
            "zerolinecolor": "white"
           }
          },
          "shapedefaults": {
           "line": {
            "color": "#2a3f5f"
           }
          },
          "ternary": {
           "aaxis": {
            "gridcolor": "white",
            "linecolor": "white",
            "ticks": ""
           },
           "baxis": {
            "gridcolor": "white",
            "linecolor": "white",
            "ticks": ""
           },
           "bgcolor": "#E5ECF6",
           "caxis": {
            "gridcolor": "white",
            "linecolor": "white",
            "ticks": ""
           }
          },
          "title": {
           "x": 0.05
          },
          "xaxis": {
           "automargin": true,
           "gridcolor": "white",
           "linecolor": "white",
           "ticks": "",
           "title": {
            "standoff": 15
           },
           "zerolinecolor": "white",
           "zerolinewidth": 2
          },
          "yaxis": {
           "automargin": true,
           "gridcolor": "white",
           "linecolor": "white",
           "ticks": "",
           "title": {
            "standoff": 15
           },
           "zerolinecolor": "white",
           "zerolinewidth": 2
          }
         }
        },
        "title": {
         "text": "Frequency of OCD Levels"
        },
        "xaxis": {
         "anchor": "y",
         "domain": [
          0,
          1
         ],
         "dtick": 1,
         "title": {
          "text": "OCD"
         }
        },
        "yaxis": {
         "anchor": "x",
         "domain": [
          0,
          1
         ],
         "title": {
          "text": "Count"
         }
        }
       }
      },
      "image/png": "[encoded data removed]"
     },
     "metadata": {},
     "output_type": "display_data"
    },
    {
     "name": "stdout",
     "output_type": "stream",
     "text": [
      "count    736.000000\n",
      "mean       2.637228\n",
      "std        2.842017\n",
      "min        0.000000\n",
      "25%        0.000000\n",
      "50%        2.000000\n",
      "75%        5.000000\n",
      "max       10.000000\n",
      "Name: OCD, dtype: float64\n"
     ]
    }
   ],
   "source": [
    "my_cols = 'OCD'\n",
    "fig = px.histogram(df[my_cols],\n",
    "                   color_discrete_sequence=['skyblue'],\n",
    "                   nbins=11,\n",
    "                   title=\"Frequency of \"+my_cols+\" Levels\")\n",
    "fig.update_layout(xaxis_title=my_cols,\n",
    "                  yaxis_title=\"Count\",\n",
    "                  showlegend=False,\n",
    "                  xaxis=dict(dtick=1))\n",
    "fig.show()\n",
    "print(df[my_cols].describe())"
   ]
  },
  {
   "cell_type": "markdown",
   "id": "1eef3d6e-1304-40c3-8229-e64a83bccfed",
   "metadata": {},
   "source": [
    "The insomnia levels peak at level 0, with 248 observations there. The median is level 2. The min is 0 and the max is 10. The graph suggests the observations are most frequent at level 0, then decrease in frequency as OCD level increases, for the most part."
   ]
  },
  {
   "cell_type": "markdown",
   "id": "4a3a0b86-4346-42de-91ce-e72bc0a42efb",
   "metadata": {
    "jp-MarkdownHeadingCollapsed": true
   },
   "source": [
    "### Listen to Music While Working"
   ]
  },
  {
   "cell_type": "code",
   "execution_count": 190,
   "id": "cb4ff042-9247-4242-bd07-9b0827895e79",
   "metadata": {},
   "outputs": [
    {
     "data": {
      "application/vnd.plotly.v1+json": {
       "config": {
        "plotlyServerURL": "https://plot.ly"
       },
       "data": [
        {
         "domain": {
          "x": [
           0,
           1
          ],
          "y": [
           0,
           1
          ]
         },
         "hovertemplate": "While working=%{label}<extra></extra>",
         "labels": [
          "Yes",
          "Yes",
          "No",
          "Yes",
          "Yes",
          "Yes",
          "Yes",
          "Yes",
          "Yes",
          "Yes",
          "Yes",
          "Yes",
          "Yes",
          "Yes",
          "Yes",
          "No",
          "Yes",
          "Yes",
          "Yes",
          "No",
          "Yes",
          "Yes",
          "Yes",
          "Yes",
          "Yes",
          "No",
          "Yes",
          "Yes",
          "Yes",
          "Yes",
          "Yes",
          "Yes",
          "Yes",
          "No",
          "Yes",
          "Yes",
          "Yes",
          "Yes",
          "No",
          "Yes",
          "Yes",
          "Yes",
          "No",
          "Yes",
          "Yes",
          "Yes",
          "No",
          "Yes",
          "Yes",
          "Yes",
          "Yes",
          "Yes",
          "No",
          "Yes",
          "Yes",
          "Yes",
          "Yes",
          "Yes",
          "Yes",
          "No",
          "No",
          "Yes",
          "No",
          "Yes",
          "Yes",
          "No",
          "No",
          "Yes",
          "Yes",
          "Yes",
          "Yes",
          "Yes",
          "Yes",
          "No",
          "Yes",
          "Yes",
          "Yes",
          "No",
          "Yes",
          "No",
          "Yes",
          "Yes",
          "Yes",
          "Yes",
          "Yes",
          "Yes",
          "No",
          "No",
          "Yes",
          "Yes",
          "Yes",
          "Yes",
          "Yes",
          "Yes",
          "Yes",
          "No",
          "No",
          "Yes",
          "Yes",
          "No",
          "No",
          "Yes",
          "No",
          "Yes",
          "Yes",
          "Yes",
          "Yes",
          "Yes",
          "Yes",
          "Yes",
          "No",
          "Yes",
          "Yes",
          "Yes",
          "Yes",
          "No",
          "No",
          "Yes",
          "No",
          "No",
          "Yes",
          "Yes",
          "No",
          "Yes",
          "No",
          "Yes",
          "Yes",
          "No",
          "Yes",
          "Yes",
          "Yes",
          "Yes",
          "No",
          "Yes",
          "Yes",
          "Yes",
          "Yes",
          "Yes",
          "Yes",
          "Yes",
          "Yes",
          "Yes",
          "Yes",
          "Yes",
          "No",
          "Yes",
          "Yes",
          "Yes",
          "Yes",
          "Yes",
          "Yes",
          "Yes",
          "No",
          "No",
          "Yes",
          "Yes",
          "Yes",
          "Yes",
          "Yes",
          "No",
          "Yes",
          "Yes",
          "Yes",
          "Yes",
          "No",
          "Yes",
          "Yes",
          "Yes",
          "Yes",
          "Yes",
          "Yes",
          "Yes",
          "No",
          "No",
          "Yes",
          "Yes",
          "Yes",
          "Yes",
          "No",
          "Yes",
          "No",
          "Yes",
          "Yes",
          "Yes",
          "No",
          "Yes",
          "Yes",
          "Yes",
          "Yes",
          "Yes",
          "Yes",
          "Yes",
          "Yes",
          "No",
          "Yes",
          "Yes",
          "Yes",
          "Yes",
          "Yes",
          "Yes",
          "Yes",
          "Yes",
          "Yes",
          "Yes",
          "Yes",
          "Yes",
          "No",
          "No",
          "No",
          "Yes",
          "No",
          "Yes",
          "No",
          "Yes",
          "Yes",
          "Yes",
          "Yes",
          "Yes",
          "Yes",
          "Yes",
          "Yes",
          "Yes",
          "Yes",
          "Yes",
          "Yes",
          "Yes",
          "No",
          "Yes",
          "Yes",
          "Yes",
          "Yes",
          "Yes",
          "No",
          "Yes",
          "No",
          "Yes",
          "No",
          "Yes",
          "Yes",
          "Yes",
          "Yes",
          "Yes",
          "Yes",
          "No",
          "Yes",
          "No",
          "No",
          "No",
          "Yes",
          "Yes",
          "Yes",
          "Yes",
          "Yes",
          "Yes",
          "Yes",
          "Yes",
          "Yes",
          "Yes",
          "No",
          "No",
          "Yes",
          "Yes",
          "No",
          "Yes",
          "No",
          "Yes",
          "Yes",
          "No",
          "No",
          "Yes",
          "Yes",
          "Yes",
          "Yes",
          "No",
          "No",
          "Yes",
          "No",
          "Yes",
          "Yes",
          "Yes",
          "Yes",
          "Yes",
          "Yes",
          "Yes",
          "Yes",
          "Yes",
          "Yes",
          "Yes",
          "Yes",
          "Yes",
          "No",
          "No",
          "No",
          "No",
          "Yes",
          "Yes",
          "Yes",
          "No",
          "Yes",
          "Yes",
          "Yes",
          "Yes",
          "Yes",
          "Yes",
          "Yes",
          "Yes",
          "Yes",
          "Yes",
          "Yes",
          "Yes",
          "Yes",
          "No",
          "No",
          "Yes",
          "Yes",
          "Yes",
          "Yes",
          "Yes",
          "Yes",
          "Yes",
          "Yes",
          "No",
          "Yes",
          "Yes",
          "Yes",
          "Yes",
          "No",
          "Yes",
          "Yes",
          "Yes",
          "Yes",
          "Yes",
          "Yes",
          "Yes",
          "Yes",
          "Yes",
          "Yes",
          "Yes",
          "No",
          "No",
          "Yes",
          "Yes",
          "Yes",
          "Yes",
          "Yes",
          "Yes",
          "Yes",
          "Yes",
          "Yes",
          "No",
          "Yes",
          "No",
          "Yes",
          "Yes",
          "Yes",
          "Yes",
          "Yes",
          "Yes",
          "Yes",
          "No",
          "Yes",
          "Yes",
          "Yes",
          "Yes",
          "Yes",
          "Yes",
          "Yes",
          "Yes",
          "Yes",
          "Yes",
          "Yes",
          "Yes",
          "Yes",
          "Yes",
          "Yes",
          "Yes",
          "Yes",
          "Yes",
          "Yes",
          "Yes",
          "Yes",
          "Yes",
          "No",
          "Yes",
          "Yes",
          "No",
          "Yes",
          "Yes",
          "Yes",
          "Yes",
          "Yes",
          "Yes",
          "Yes",
          "Yes",
          "Yes",
          "No",
          "Yes",
          "Yes",
          "Yes",
          "Yes",
          "No",
          "No",
          "No",
          "No",
          "Yes",
          "Yes",
          "Yes",
          "Yes",
          "Yes",
          "Yes",
          "Yes",
          "Yes",
          "Yes",
          "Yes",
          "Yes",
          "Yes",
          "Yes",
          "No",
          "No",
          "Yes",
          "Yes",
          "Yes",
          "Yes",
          "Yes",
          "No",
          "Yes",
          "Yes",
          "Yes",
          "Yes",
          "No",
          "Yes",
          "Yes",
          "Yes",
          "Yes",
          "Yes",
          "No",
          "Yes",
          "No",
          "No",
          "Yes",
          "Yes",
          "Yes",
          "Yes",
          "Yes",
          "Yes",
          "Yes",
          "Yes",
          "Yes",
          "Yes",
          "Yes",
          "Yes",
          "Yes",
          "Yes",
          "No",
          "No",
          "Yes",
          "No",
          "Yes",
          "No",
          "No",
          "Yes",
          "No",
          "Yes",
          "No",
          "Yes",
          "No",
          "Yes",
          "No",
          "Yes",
          "No",
          "Yes",
          "Yes",
          "Yes",
          "Yes",
          "Yes",
          "Yes",
          "Yes",
          "Yes",
          "Yes",
          "Yes",
          "Yes",
          "No",
          "Yes",
          "Yes",
          "Yes",
          "Yes",
          "Yes",
          "Yes",
          "Yes",
          "No",
          "Yes",
          "Yes",
          "No",
          "Yes",
          "Yes",
          "No",
          "Yes",
          "Yes",
          "Yes",
          "Yes",
          "Yes",
          "Yes",
          "Yes",
          "No",
          "Yes",
          "Yes",
          "No",
          "No",
          "Yes",
          "No",
          "Yes",
          "Yes",
          "Yes",
          "Yes",
          "Yes",
          "Yes",
          "Yes",
          "No",
          "Yes",
          "Yes",
          "Yes",
          "Yes",
          "No",
          "Yes",
          "Yes",
          "Yes",
          "No",
          "No",
          "Yes",
          "Yes",
          "No",
          "Yes",
          "Yes",
          "Yes",
          "Yes",
          "No",
          "Yes",
          "No",
          "Yes",
          "Yes",
          "Yes",
          "Yes",
          "Yes",
          "No",
          "Yes",
          "Yes",
          "Yes",
          "No",
          "Yes",
          "Yes",
          "Yes",
          "Yes",
          "Yes",
          "Yes",
          "Yes",
          "Yes",
          "Yes",
          "Yes",
          "Yes",
          "Yes",
          "Yes",
          "No",
          "Yes",
          "Yes",
          "Yes",
          "Yes",
          "No",
          "Yes",
          "Yes",
          "Yes",
          "Yes",
          "Yes",
          "Yes",
          "Yes",
          "Yes",
          "No",
          "Yes",
          "Yes",
          "No",
          "No",
          "Yes",
          "Yes",
          "No",
          "Yes",
          "Yes",
          "Yes",
          "Yes",
          "Yes",
          "Yes",
          "Yes",
          "Yes",
          "Yes",
          "Yes",
          "Yes",
          "Yes",
          "Yes",
          "Yes",
          "Yes",
          "Yes",
          "No",
          "No",
          "Yes",
          "Yes",
          "Yes",
          "No",
          "Yes",
          "Yes",
          "Yes",
          "Yes",
          "Yes",
          "Yes",
          "Yes",
          "Yes",
          "Yes",
          "Yes",
          "No",
          "Yes",
          "Yes",
          "Yes",
          "Yes",
          "Yes",
          "Yes",
          "Yes",
          "Yes",
          "Yes",
          "Yes",
          "No",
          "Yes",
          "Yes",
          "No",
          "Yes",
          "Yes",
          "Yes",
          "Yes",
          "Yes",
          "Yes",
          "No",
          "Yes",
          "Yes",
          "Yes",
          "No",
          "Yes",
          "No",
          "Yes",
          "Yes",
          "Yes",
          "No",
          "Yes",
          "Yes",
          "No",
          "Yes",
          "No",
          "Yes",
          "No",
          "Yes",
          "Yes",
          "No",
          "Yes",
          "Yes",
          "Yes",
          "No",
          "Yes",
          "Yes",
          "Yes",
          "Yes",
          "Yes",
          "Yes",
          "Yes",
          "Yes",
          "Yes",
          "Yes",
          "Yes",
          "Yes",
          "Yes",
          "No",
          "No",
          "Yes",
          "No",
          "No",
          "Yes",
          "Yes",
          "Yes",
          "Yes",
          "Yes",
          "No",
          "Yes",
          "Yes",
          "Yes",
          "Yes",
          "Yes",
          "Yes",
          "Yes",
          "Yes",
          "Yes",
          "No",
          "Yes",
          "Yes",
          "Yes",
          "Yes",
          "Yes",
          "No",
          "Yes",
          "Yes",
          "Yes",
          "No",
          "Yes",
          "Yes",
          "Yes",
          "Yes",
          "Yes",
          "Yes",
          "No",
          "Yes",
          "No",
          "No",
          "Yes",
          "Yes",
          "Yes",
          "Yes",
          "Yes",
          "Yes",
          "Yes",
          "Yes",
          "Yes",
          "Yes",
          "Yes",
          "No",
          "Yes",
          "Yes",
          "Yes",
          "Yes",
          "Yes",
          "Yes"
         ],
         "legendgroup": "",
         "name": "",
         "showlegend": true,
         "type": "pie"
        }
       ],
       "layout": {
        "legend": {
         "title": {
          "text": "While Studying/Working"
         },
         "tracegroupgap": 0
        },
        "template": {
         "data": {
          "bar": [
           {
            "error_x": {
             "color": "#2a3f5f"
            },
            "error_y": {
             "color": "#2a3f5f"
            },
            "marker": {
             "line": {
              "color": "#E5ECF6",
              "width": 0.5
             },
             "pattern": {
              "fillmode": "overlay",
              "size": 10,
              "solidity": 0.2
             }
            },
            "type": "bar"
           }
          ],
          "barpolar": [
           {
            "marker": {
             "line": {
              "color": "#E5ECF6",
              "width": 0.5
             },
             "pattern": {
              "fillmode": "overlay",
              "size": 10,
              "solidity": 0.2
             }
            },
            "type": "barpolar"
           }
          ],
          "carpet": [
           {
            "aaxis": {
             "endlinecolor": "#2a3f5f",
             "gridcolor": "white",
             "linecolor": "white",
             "minorgridcolor": "white",
             "startlinecolor": "#2a3f5f"
            },
            "baxis": {
             "endlinecolor": "#2a3f5f",
             "gridcolor": "white",
             "linecolor": "white",
             "minorgridcolor": "white",
             "startlinecolor": "#2a3f5f"
            },
            "type": "carpet"
           }
          ],
          "choropleth": [
           {
            "colorbar": {
             "outlinewidth": 0,
             "ticks": ""
            },
            "type": "choropleth"
           }
          ],
          "contour": [
           {
            "colorbar": {
             "outlinewidth": 0,
             "ticks": ""
            },
            "colorscale": [
             [
              0,
              "#0d0887"
             ],
             [
              0.1111111111111111,
              "#46039f"
             ],
             [
              0.2222222222222222,
              "#7201a8"
             ],
             [
              0.3333333333333333,
              "#9c179e"
             ],
             [
              0.4444444444444444,
              "#bd3786"
             ],
             [
              0.5555555555555556,
              "#d8576b"
             ],
             [
              0.6666666666666666,
              "#ed7953"
             ],
             [
              0.7777777777777778,
              "#fb9f3a"
             ],
             [
              0.8888888888888888,
              "#fdca26"
             ],
             [
              1,
              "#f0f921"
             ]
            ],
            "type": "contour"
           }
          ],
          "contourcarpet": [
           {
            "colorbar": {
             "outlinewidth": 0,
             "ticks": ""
            },
            "type": "contourcarpet"
           }
          ],
          "heatmap": [
           {
            "colorbar": {
             "outlinewidth": 0,
             "ticks": ""
            },
            "colorscale": [
             [
              0,
              "#0d0887"
             ],
             [
              0.1111111111111111,
              "#46039f"
             ],
             [
              0.2222222222222222,
              "#7201a8"
             ],
             [
              0.3333333333333333,
              "#9c179e"
             ],
             [
              0.4444444444444444,
              "#bd3786"
             ],
             [
              0.5555555555555556,
              "#d8576b"
             ],
             [
              0.6666666666666666,
              "#ed7953"
             ],
             [
              0.7777777777777778,
              "#fb9f3a"
             ],
             [
              0.8888888888888888,
              "#fdca26"
             ],
             [
              1,
              "#f0f921"
             ]
            ],
            "type": "heatmap"
           }
          ],
          "histogram": [
           {
            "marker": {
             "pattern": {
              "fillmode": "overlay",
              "size": 10,
              "solidity": 0.2
             }
            },
            "type": "histogram"
           }
          ],
          "histogram2d": [
           {
            "colorbar": {
             "outlinewidth": 0,
             "ticks": ""
            },
            "colorscale": [
             [
              0,
              "#0d0887"
             ],
             [
              0.1111111111111111,
              "#46039f"
             ],
             [
              0.2222222222222222,
              "#7201a8"
             ],
             [
              0.3333333333333333,
              "#9c179e"
             ],
             [
              0.4444444444444444,
              "#bd3786"
             ],
             [
              0.5555555555555556,
              "#d8576b"
             ],
             [
              0.6666666666666666,
              "#ed7953"
             ],
             [
              0.7777777777777778,
              "#fb9f3a"
             ],
             [
              0.8888888888888888,
              "#fdca26"
             ],
             [
              1,
              "#f0f921"
             ]
            ],
            "type": "histogram2d"
           }
          ],
          "histogram2dcontour": [
           {
            "colorbar": {
             "outlinewidth": 0,
             "ticks": ""
            },
            "colorscale": [
             [
              0,
              "#0d0887"
             ],
             [
              0.1111111111111111,
              "#46039f"
             ],
             [
              0.2222222222222222,
              "#7201a8"
             ],
             [
              0.3333333333333333,
              "#9c179e"
             ],
             [
              0.4444444444444444,
              "#bd3786"
             ],
             [
              0.5555555555555556,
              "#d8576b"
             ],
             [
              0.6666666666666666,
              "#ed7953"
             ],
             [
              0.7777777777777778,
              "#fb9f3a"
             ],
             [
              0.8888888888888888,
              "#fdca26"
             ],
             [
              1,
              "#f0f921"
             ]
            ],
            "type": "histogram2dcontour"
           }
          ],
          "mesh3d": [
           {
            "colorbar": {
             "outlinewidth": 0,
             "ticks": ""
            },
            "type": "mesh3d"
           }
          ],
          "parcoords": [
           {
            "line": {
             "colorbar": {
              "outlinewidth": 0,
              "ticks": ""
             }
            },
            "type": "parcoords"
           }
          ],
          "pie": [
           {
            "automargin": true,
            "type": "pie"
           }
          ],
          "scatter": [
           {
            "fillpattern": {
             "fillmode": "overlay",
             "size": 10,
             "solidity": 0.2
            },
            "type": "scatter"
           }
          ],
          "scatter3d": [
           {
            "line": {
             "colorbar": {
              "outlinewidth": 0,
              "ticks": ""
             }
            },
            "marker": {
             "colorbar": {
              "outlinewidth": 0,
              "ticks": ""
             }
            },
            "type": "scatter3d"
           }
          ],
          "scattercarpet": [
           {
            "marker": {
             "colorbar": {
              "outlinewidth": 0,
              "ticks": ""
             }
            },
            "type": "scattercarpet"
           }
          ],
          "scattergeo": [
           {
            "marker": {
             "colorbar": {
              "outlinewidth": 0,
              "ticks": ""
             }
            },
            "type": "scattergeo"
           }
          ],
          "scattergl": [
           {
            "marker": {
             "colorbar": {
              "outlinewidth": 0,
              "ticks": ""
             }
            },
            "type": "scattergl"
           }
          ],
          "scattermap": [
           {
            "marker": {
             "colorbar": {
              "outlinewidth": 0,
              "ticks": ""
             }
            },
            "type": "scattermap"
           }
          ],
          "scattermapbox": [
           {
            "marker": {
             "colorbar": {
              "outlinewidth": 0,
              "ticks": ""
             }
            },
            "type": "scattermapbox"
           }
          ],
          "scatterpolar": [
           {
            "marker": {
             "colorbar": {
              "outlinewidth": 0,
              "ticks": ""
             }
            },
            "type": "scatterpolar"
           }
          ],
          "scatterpolargl": [
           {
            "marker": {
             "colorbar": {
              "outlinewidth": 0,
              "ticks": ""
             }
            },
            "type": "scatterpolargl"
           }
          ],
          "scatterternary": [
           {
            "marker": {
             "colorbar": {
              "outlinewidth": 0,
              "ticks": ""
             }
            },
            "type": "scatterternary"
           }
          ],
          "surface": [
           {
            "colorbar": {
             "outlinewidth": 0,
             "ticks": ""
            },
            "colorscale": [
             [
              0,
              "#0d0887"
             ],
             [
              0.1111111111111111,
              "#46039f"
             ],
             [
              0.2222222222222222,
              "#7201a8"
             ],
             [
              0.3333333333333333,
              "#9c179e"
             ],
             [
              0.4444444444444444,
              "#bd3786"
             ],
             [
              0.5555555555555556,
              "#d8576b"
             ],
             [
              0.6666666666666666,
              "#ed7953"
             ],
             [
              0.7777777777777778,
              "#fb9f3a"
             ],
             [
              0.8888888888888888,
              "#fdca26"
             ],
             [
              1,
              "#f0f921"
             ]
            ],
            "type": "surface"
           }
          ],
          "table": [
           {
            "cells": {
             "fill": {
              "color": "#EBF0F8"
             },
             "line": {
              "color": "white"
             }
            },
            "header": {
             "fill": {
              "color": "#C8D4E3"
             },
             "line": {
              "color": "white"
             }
            },
            "type": "table"
           }
          ]
         },
         "layout": {
          "annotationdefaults": {
           "arrowcolor": "#2a3f5f",
           "arrowhead": 0,
           "arrowwidth": 1
          },
          "autotypenumbers": "strict",
          "coloraxis": {
           "colorbar": {
            "outlinewidth": 0,
            "ticks": ""
           }
          },
          "colorscale": {
           "diverging": [
            [
             0,
             "#8e0152"
            ],
            [
             0.1,
             "#c51b7d"
            ],
            [
             0.2,
             "#de77ae"
            ],
            [
             0.3,
             "#f1b6da"
            ],
            [
             0.4,
             "#fde0ef"
            ],
            [
             0.5,
             "#f7f7f7"
            ],
            [
             0.6,
             "#e6f5d0"
            ],
            [
             0.7,
             "#b8e186"
            ],
            [
             0.8,
             "#7fbc41"
            ],
            [
             0.9,
             "#4d9221"
            ],
            [
             1,
             "#276419"
            ]
           ],
           "sequential": [
            [
             0,
             "#0d0887"
            ],
            [
             0.1111111111111111,
             "#46039f"
            ],
            [
             0.2222222222222222,
             "#7201a8"
            ],
            [
             0.3333333333333333,
             "#9c179e"
            ],
            [
             0.4444444444444444,
             "#bd3786"
            ],
            [
             0.5555555555555556,
             "#d8576b"
            ],
            [
             0.6666666666666666,
             "#ed7953"
            ],
            [
             0.7777777777777778,
             "#fb9f3a"
            ],
            [
             0.8888888888888888,
             "#fdca26"
            ],
            [
             1,
             "#f0f921"
            ]
           ],
           "sequentialminus": [
            [
             0,
             "#0d0887"
            ],
            [
             0.1111111111111111,
             "#46039f"
            ],
            [
             0.2222222222222222,
             "#7201a8"
            ],
            [
             0.3333333333333333,
             "#9c179e"
            ],
            [
             0.4444444444444444,
             "#bd3786"
            ],
            [
             0.5555555555555556,
             "#d8576b"
            ],
            [
             0.6666666666666666,
             "#ed7953"
            ],
            [
             0.7777777777777778,
             "#fb9f3a"
            ],
            [
             0.8888888888888888,
             "#fdca26"
            ],
            [
             1,
             "#f0f921"
            ]
           ]
          },
          "colorway": [
           "#636efa",
           "#EF553B",
           "#00cc96",
           "#ab63fa",
           "#FFA15A",
           "#19d3f3",
           "#FF6692",
           "#B6E880",
           "#FF97FF",
           "#FECB52"
          ],
          "font": {
           "color": "#2a3f5f"
          },
          "geo": {
           "bgcolor": "white",
           "lakecolor": "white",
           "landcolor": "#E5ECF6",
           "showlakes": true,
           "showland": true,
           "subunitcolor": "white"
          },
          "hoverlabel": {
           "align": "left"
          },
          "hovermode": "closest",
          "mapbox": {
           "style": "light"
          },
          "paper_bgcolor": "white",
          "plot_bgcolor": "#E5ECF6",
          "polar": {
           "angularaxis": {
            "gridcolor": "white",
            "linecolor": "white",
            "ticks": ""
           },
           "bgcolor": "#E5ECF6",
           "radialaxis": {
            "gridcolor": "white",
            "linecolor": "white",
            "ticks": ""
           }
          },
          "scene": {
           "xaxis": {
            "backgroundcolor": "#E5ECF6",
            "gridcolor": "white",
            "gridwidth": 2,
            "linecolor": "white",
            "showbackground": true,
            "ticks": "",
            "zerolinecolor": "white"
           },
           "yaxis": {
            "backgroundcolor": "#E5ECF6",
            "gridcolor": "white",
            "gridwidth": 2,
            "linecolor": "white",
            "showbackground": true,
            "ticks": "",
            "zerolinecolor": "white"
           },
           "zaxis": {
            "backgroundcolor": "#E5ECF6",
            "gridcolor": "white",
            "gridwidth": 2,
            "linecolor": "white",
            "showbackground": true,
            "ticks": "",
            "zerolinecolor": "white"
           }
          },
          "shapedefaults": {
           "line": {
            "color": "#2a3f5f"
           }
          },
          "ternary": {
           "aaxis": {
            "gridcolor": "white",
            "linecolor": "white",
            "ticks": ""
           },
           "baxis": {
            "gridcolor": "white",
            "linecolor": "white",
            "ticks": ""
           },
           "bgcolor": "#E5ECF6",
           "caxis": {
            "gridcolor": "white",
            "linecolor": "white",
            "ticks": ""
           }
          },
          "title": {
           "x": 0.05
          },
          "xaxis": {
           "automargin": true,
           "gridcolor": "white",
           "linecolor": "white",
           "ticks": "",
           "title": {
            "standoff": 15
           },
           "zerolinecolor": "white",
           "zerolinewidth": 2
          },
          "yaxis": {
           "automargin": true,
           "gridcolor": "white",
           "linecolor": "white",
           "ticks": "",
           "title": {
            "standoff": 15
           },
           "zerolinecolor": "white",
           "zerolinewidth": 2
          }
         }
        },
        "title": {
         "text": "Frequency of Listening to Music While Studying/Working"
        }
       }
      },
      "image/png": "[encoded data removed]"
     },
     "metadata": {},
     "output_type": "display_data"
    }
   ],
   "source": [
    "my_cols = 'While working'\n",
    "fig = px.pie(df[my_cols].dropna(),\n",
    "             names=my_cols,\n",
    "             title=\"Frequency of Listening to Music While Studying/Working\")\n",
    "fig.update_layout(legend_title_text=\"While Studying/Working\")\n",
    "fig.show()"
   ]
  },
  {
   "cell_type": "markdown",
   "id": "148d4071-db8e-4196-addc-45e886e69e8b",
   "metadata": {},
   "source": [
    "The majority of observations listen to music while studying/working (79%). "
   ]
  },
  {
   "cell_type": "markdown",
   "id": "2808173a-b20e-4816-9f65-bb8e34149344",
   "metadata": {
    "jp-MarkdownHeadingCollapsed": true
   },
   "source": [
    "### Favorite Genre"
   ]
  },
  {
   "cell_type": "code",
   "execution_count": 184,
   "id": "2aa1748e-4e7a-4f3a-a432-39de57d4e61a",
   "metadata": {},
   "outputs": [
    {
     "data": {
      "application/vnd.plotly.v1+json": {
       "config": {
        "plotlyServerURL": "https://plot.ly"
       },
       "data": [
        {
         "domain": {
          "x": [
           0,
           1
          ],
          "y": [
           0,
           1
          ]
         },
         "hovertemplate": "Fav genre=%{label}<extra></extra>",
         "labels": [
          "Latin",
          "Rock",
          "Video game music",
          "Jazz",
          "R&B",
          "Jazz",
          "Video game music",
          "K pop",
          "Rock",
          "R&B",
          "Country",
          "EDM",
          "Hip hop",
          "Country",
          "Jazz",
          "Pop",
          "Hip hop",
          "Hip hop",
          "Rap",
          "Hip hop",
          "Hip hop",
          "Rap",
          "R&B",
          "Pop",
          "Rock",
          "Pop",
          "Rock",
          "Pop",
          "Pop",
          "Pop",
          "Rock",
          "Classical",
          "Metal",
          "Rock",
          "Classical",
          "Pop",
          "Pop",
          "Pop",
          "Rock",
          "EDM",
          "Video game music",
          "Rock",
          "Video game music",
          "Classical",
          "Metal",
          "Folk",
          "Classical",
          "Rock",
          "Metal",
          "Pop",
          "EDM",
          "K pop",
          "Rap",
          "Pop",
          "Rock",
          "Classical",
          "Rock",
          "Rock",
          "Folk",
          "Video game music",
          "K pop",
          "Rock",
          "Rock",
          "Metal",
          "Rock",
          "Metal",
          "Rock",
          "Hip hop",
          "Metal",
          "Rock",
          "Rock",
          "Rock",
          "Rock",
          "Hip hop",
          "Hip hop",
          "Jazz",
          "Metal",
          "R&B",
          "EDM",
          "Hip hop",
          "Rock",
          "Jazz",
          "K pop",
          "Rock",
          "R&B",
          "Rock",
          "Jazz",
          "Metal",
          "R&B",
          "Hip hop",
          "Metal",
          "Video game music",
          "Classical",
          "Rock",
          "Video game music",
          "Metal",
          "EDM",
          "Rock",
          "Metal",
          "Rock",
          "Metal",
          "Classical",
          "Metal",
          "Rock",
          "Rock",
          "Metal",
          "Pop",
          "Pop",
          "Metal",
          "Metal",
          "Metal",
          "Pop",
          "Pop",
          "Rock",
          "K pop",
          "Hip hop",
          "Metal",
          "EDM",
          "Rock",
          "Folk",
          "Rock",
          "Rock",
          "Hip hop",
          "Rock",
          "Jazz",
          "EDM",
          "Pop",
          "Rock",
          "Metal",
          "Rock",
          "Video game music",
          "Rock",
          "Pop",
          "EDM",
          "Rock",
          "Video game music",
          "Classical",
          "Pop",
          "Pop",
          "Pop",
          "Lofi",
          "Rap",
          "Metal",
          "Pop",
          "EDM",
          "Metal",
          "Jazz",
          "Jazz",
          "Folk",
          "EDM",
          "Pop",
          "Rock",
          "Rock",
          "Pop",
          "Rock",
          "Metal",
          "Pop",
          "Rock",
          "Pop",
          "Metal",
          "R&B",
          "K pop",
          "EDM",
          "Metal",
          "Metal",
          "Metal",
          "Metal",
          "Rock",
          "K pop",
          "Rock",
          "Gospel",
          "Metal",
          "Pop",
          "Metal",
          "Video game music",
          "R&B",
          "Rock",
          "Pop",
          "Folk",
          "Rock",
          "Rock",
          "Pop",
          "Rock",
          "R&B",
          "K pop",
          "Pop",
          "Pop",
          "Classical",
          "Rock",
          "Rock",
          "Rock",
          "R&B",
          "Video game music",
          "R&B",
          "Rock",
          "Pop",
          "Rock",
          "Country",
          "Rock",
          "Rock",
          "Rock",
          "Pop",
          "Rock",
          "Folk",
          "Rock",
          "Metal",
          "Classical",
          "R&B",
          "Metal",
          "Rock",
          "Pop",
          "Rock",
          "Rap",
          "Pop",
          "Rock",
          "Rock",
          "Metal",
          "Folk",
          "Rock",
          "Video game music",
          "Rock",
          "K pop",
          "Pop",
          "K pop",
          "Pop",
          "Pop",
          "Folk",
          "Country",
          "Metal",
          "Rock",
          "Rock",
          "Rock",
          "Country",
          "Rock",
          "Folk",
          "Metal",
          "Folk",
          "Pop",
          "Metal",
          "EDM",
          "K pop",
          "Rock",
          "Classical",
          "EDM",
          "Rock",
          "Pop",
          "Classical",
          "EDM",
          "Metal",
          "EDM",
          "Lofi",
          "EDM",
          "Rap",
          "Hip hop",
          "Rock",
          "Video game music",
          "Video game music",
          "Metal",
          "Pop",
          "Classical",
          "Rock",
          "Metal",
          "Country",
          "Country",
          "Country",
          "Pop",
          "Classical",
          "Pop",
          "Folk",
          "Pop",
          "Rock",
          "EDM",
          "Metal",
          "Video game music",
          "Rock",
          "Video game music",
          "Hip hop",
          "Video game music",
          "Video game music",
          "Metal",
          "Video game music",
          "Rock",
          "Rock",
          "Jazz",
          "Rock",
          "Pop",
          "Rock",
          "Pop",
          "Rock",
          "Rock",
          "Rock",
          "Pop",
          "Metal",
          "Rock",
          "Jazz",
          "Metal",
          "Metal",
          "Rock",
          "Rock",
          "Country",
          "Metal",
          "Rock",
          "Hip hop",
          "Metal",
          "Rock",
          "Pop",
          "Pop",
          "Pop",
          "Pop",
          "EDM",
          "Folk",
          "EDM",
          "Rock",
          "Rock",
          "Country",
          "Rock",
          "Rock",
          "Rock",
          "Metal",
          "Rock",
          "Rap",
          "Rock",
          "Rock",
          "Pop",
          "Pop",
          "Pop",
          "Pop",
          "Pop",
          "Video game music",
          "Rock",
          "EDM",
          "Lofi",
          "Country",
          "Rock",
          "Rock",
          "Country",
          "Rock",
          "Video game music",
          "EDM",
          "Folk",
          "Hip hop",
          "Pop",
          "Video game music",
          "Rock",
          "Folk",
          "K pop",
          "Rock",
          "Jazz",
          "Classical",
          "EDM",
          "Rock",
          "K pop",
          "Rap",
          "Pop",
          "Lofi",
          "Video game music",
          "Jazz",
          "EDM",
          "Metal",
          "EDM",
          "Metal",
          "Metal",
          "Metal",
          "Hip hop",
          "Folk",
          "Rock",
          "Rock",
          "Pop",
          "Classical",
          "Pop",
          "Metal",
          "Classical",
          "Hip hop",
          "Rock",
          "Metal",
          "Rock",
          "Rock",
          "Lofi",
          "Rock",
          "Pop",
          "Metal",
          "Rock",
          "Pop",
          "Classical",
          "Classical",
          "Classical",
          "Video game music",
          "Pop",
          "Metal",
          "Pop",
          "Classical",
          "K pop",
          "Classical",
          "Classical",
          "Country",
          "Classical",
          "Classical",
          "Rap",
          "Folk",
          "Classical",
          "Pop",
          "Rock",
          "Rock",
          "Rap",
          "R&B",
          "Rock",
          "Pop",
          "Hip hop",
          "Classical",
          "Classical",
          "Rock",
          "Classical",
          "EDM",
          "Country",
          "Classical",
          "Classical",
          "R&B",
          "Jazz",
          "Classical",
          "Metal",
          "EDM",
          "Classical",
          "Video game music",
          "Metal",
          "Classical",
          "Rock",
          "K pop",
          "Classical",
          "Rock",
          "R&B",
          "Pop",
          "Rap",
          "Classical",
          "Classical",
          "Hip hop",
          "K pop",
          "R&B",
          "Country",
          "Video game music",
          "Hip hop",
          "EDM",
          "Folk",
          "Rap",
          "Rock",
          "Rock",
          "Metal",
          "Classical",
          "Rock",
          "Pop",
          "Rock",
          "Lofi",
          "Rock",
          "Pop",
          "Rock",
          "Video game music",
          "Rock",
          "Pop",
          "Rock",
          "Metal",
          "Metal",
          "Hip hop",
          "Video game music",
          "Metal",
          "Hip hop",
          "Rock",
          "Rock",
          "Video game music",
          "Country",
          "Folk",
          "Metal",
          "Rock",
          "Rock",
          "Country",
          "Rock",
          "Classical",
          "Rock",
          "Country",
          "Rock",
          "Pop",
          "EDM",
          "Hip hop",
          "Lofi",
          "Lofi",
          "Classical",
          "Rock",
          "Rock",
          "Metal",
          "K pop",
          "Pop",
          "Pop",
          "Gospel",
          "Gospel",
          "Video game music",
          "Hip hop",
          "Pop",
          "Hip hop",
          "Lofi",
          "Hip hop",
          "K pop",
          "Rock",
          "EDM",
          "Metal",
          "Pop",
          "Rock",
          "K pop",
          "Video game music",
          "Rock",
          "Rap",
          "Rock",
          "Metal",
          "Rock",
          "Country",
          "Rock",
          "Rock",
          "Classical",
          "Pop",
          "Folk",
          "Pop",
          "Pop",
          "EDM",
          "Video game music",
          "Jazz",
          "Rock",
          "R&B",
          "Metal",
          "EDM",
          "Rock",
          "Classical",
          "Pop",
          "Jazz",
          "Pop",
          "Video game music",
          "Rock",
          "Gospel",
          "Pop",
          "Pop",
          "Rock",
          "Rock",
          "Rock",
          "Rock",
          "Metal",
          "Country",
          "Pop",
          "Pop",
          "Folk",
          "Rap",
          "Rock",
          "K pop",
          "Pop",
          "Rock",
          "Rap",
          "Classical",
          "Pop",
          "R&B",
          "Video game music",
          "Pop",
          "Rock",
          "Pop",
          "R&B",
          "Rock",
          "R&B",
          "K pop",
          "Folk",
          "K pop",
          "Metal",
          "R&B",
          "Pop",
          "Gospel",
          "Video game music",
          "R&B",
          "R&B",
          "Classical",
          "Video game music",
          "Pop",
          "R&B",
          "EDM",
          "Pop",
          "Video game music",
          "Pop",
          "Rock",
          "Pop",
          "Rock",
          "Rock",
          "Rock",
          "Pop",
          "Rap",
          "Metal",
          "Rock",
          "Rock",
          "Rock",
          "Classical",
          "R&B",
          "R&B",
          "Pop",
          "Gospel",
          "Lofi",
          "Rock",
          "Metal",
          "Latin",
          "EDM",
          "R&B",
          "Jazz",
          "Pop",
          "Rock",
          "Hip hop",
          "K pop",
          "Video game music",
          "Classical",
          "Rap",
          "Folk",
          "Rock",
          "Rock",
          "Pop",
          "Rock",
          "Rock",
          "Metal",
          "Rock",
          "Rock",
          "Jazz",
          "Jazz",
          "Rock",
          "Metal",
          "Metal",
          "Hip hop",
          "Rock",
          "Rap",
          "Rock",
          "Classical",
          "Metal",
          "Rock",
          "Video game music",
          "Folk",
          "Rock",
          "Rock",
          "Metal",
          "Classical",
          "Metal",
          "EDM",
          "K pop",
          "Metal",
          "Folk",
          "EDM",
          "Metal",
          "Classical",
          "EDM",
          "Metal",
          "Pop",
          "Pop",
          "Folk",
          "Metal",
          "Rock",
          "Folk",
          "Pop",
          "Rock",
          "Rock",
          "Rock",
          "Pop",
          "Rock",
          "R&B",
          "Rock",
          "Metal",
          "R&B",
          "Metal",
          "Folk",
          "Rock",
          "Rock",
          "Rock",
          "Rock",
          "Pop",
          "K pop",
          "Pop",
          "Video game music",
          "Metal",
          "Jazz",
          "Rock",
          "Classical",
          "Folk",
          "Rap",
          "Rock",
          "Country",
          "R&B",
          "K pop",
          "Latin",
          "R&B",
          "Hip hop",
          "Rap",
          "Classical",
          "Classical",
          "R&B",
          "R&B",
          "Hip hop",
          "Hip hop",
          "Video game music",
          "Pop",
          "Pop",
          "Rap",
          "R&B",
          "Rock",
          "Country",
          "Metal",
          "Pop",
          "Rock",
          "Folk",
          "Folk",
          "Metal",
          "Pop",
          "Rock",
          "Country",
          "Video game music",
          "Hip hop",
          "Rock",
          "Metal",
          "Rock",
          "Pop",
          "Country",
          "Pop",
          "Metal",
          "Rock",
          "Metal",
          "Video game music",
          "Hip hop",
          "Pop",
          "Pop",
          "Pop",
          "Pop",
          "Video game music",
          "EDM",
          "Metal",
          "Country",
          "Pop",
          "R&B",
          "Rock",
          "Pop",
          "Rap",
          "Classical",
          "Hip hop"
         ],
         "legendgroup": "",
         "name": "",
         "showlegend": true,
         "type": "pie"
        }
       ],
       "layout": {
        "legend": {
         "title": {
          "text": "Favorite Genre"
         },
         "tracegroupgap": 0
        },
        "template": {
         "data": {
          "bar": [
           {
            "error_x": {
             "color": "#2a3f5f"
            },
            "error_y": {
             "color": "#2a3f5f"
            },
            "marker": {
             "line": {
              "color": "#E5ECF6",
              "width": 0.5
             },
             "pattern": {
              "fillmode": "overlay",
              "size": 10,
              "solidity": 0.2
             }
            },
            "type": "bar"
           }
          ],
          "barpolar": [
           {
            "marker": {
             "line": {
              "color": "#E5ECF6",
              "width": 0.5
             },
             "pattern": {
              "fillmode": "overlay",
              "size": 10,
              "solidity": 0.2
             }
            },
            "type": "barpolar"
           }
          ],
          "carpet": [
           {
            "aaxis": {
             "endlinecolor": "#2a3f5f",
             "gridcolor": "white",
             "linecolor": "white",
             "minorgridcolor": "white",
             "startlinecolor": "#2a3f5f"
            },
            "baxis": {
             "endlinecolor": "#2a3f5f",
             "gridcolor": "white",
             "linecolor": "white",
             "minorgridcolor": "white",
             "startlinecolor": "#2a3f5f"
            },
            "type": "carpet"
           }
          ],
          "choropleth": [
           {
            "colorbar": {
             "outlinewidth": 0,
             "ticks": ""
            },
            "type": "choropleth"
           }
          ],
          "contour": [
           {
            "colorbar": {
             "outlinewidth": 0,
             "ticks": ""
            },
            "colorscale": [
             [
              0,
              "#0d0887"
             ],
             [
              0.1111111111111111,
              "#46039f"
             ],
             [
              0.2222222222222222,
              "#7201a8"
             ],
             [
              0.3333333333333333,
              "#9c179e"
             ],
             [
              0.4444444444444444,
              "#bd3786"
             ],
             [
              0.5555555555555556,
              "#d8576b"
             ],
             [
              0.6666666666666666,
              "#ed7953"
             ],
             [
              0.7777777777777778,
              "#fb9f3a"
             ],
             [
              0.8888888888888888,
              "#fdca26"
             ],
             [
              1,
              "#f0f921"
             ]
            ],
            "type": "contour"
           }
          ],
          "contourcarpet": [
           {
            "colorbar": {
             "outlinewidth": 0,
             "ticks": ""
            },
            "type": "contourcarpet"
           }
          ],
          "heatmap": [
           {
            "colorbar": {
             "outlinewidth": 0,
             "ticks": ""
            },
            "colorscale": [
             [
              0,
              "#0d0887"
             ],
             [
              0.1111111111111111,
              "#46039f"
             ],
             [
              0.2222222222222222,
              "#7201a8"
             ],
             [
              0.3333333333333333,
              "#9c179e"
             ],
             [
              0.4444444444444444,
              "#bd3786"
             ],
             [
              0.5555555555555556,
              "#d8576b"
             ],
             [
              0.6666666666666666,
              "#ed7953"
             ],
             [
              0.7777777777777778,
              "#fb9f3a"
             ],
             [
              0.8888888888888888,
              "#fdca26"
             ],
             [
              1,
              "#f0f921"
             ]
            ],
            "type": "heatmap"
           }
          ],
          "histogram": [
           {
            "marker": {
             "pattern": {
              "fillmode": "overlay",
              "size": 10,
              "solidity": 0.2
             }
            },
            "type": "histogram"
           }
          ],
          "histogram2d": [
           {
            "colorbar": {
             "outlinewidth": 0,
             "ticks": ""
            },
            "colorscale": [
             [
              0,
              "#0d0887"
             ],
             [
              0.1111111111111111,
              "#46039f"
             ],
             [
              0.2222222222222222,
              "#7201a8"
             ],
             [
              0.3333333333333333,
              "#9c179e"
             ],
             [
              0.4444444444444444,
              "#bd3786"
             ],
             [
              0.5555555555555556,
              "#d8576b"
             ],
             [
              0.6666666666666666,
              "#ed7953"
             ],
             [
              0.7777777777777778,
              "#fb9f3a"
             ],
             [
              0.8888888888888888,
              "#fdca26"
             ],
             [
              1,
              "#f0f921"
             ]
            ],
            "type": "histogram2d"
           }
          ],
          "histogram2dcontour": [
           {
            "colorbar": {
             "outlinewidth": 0,
             "ticks": ""
            },
            "colorscale": [
             [
              0,
              "#0d0887"
             ],
             [
              0.1111111111111111,
              "#46039f"
             ],
             [
              0.2222222222222222,
              "#7201a8"
             ],
             [
              0.3333333333333333,
              "#9c179e"
             ],
             [
              0.4444444444444444,
              "#bd3786"
             ],
             [
              0.5555555555555556,
              "#d8576b"
             ],
             [
              0.6666666666666666,
              "#ed7953"
             ],
             [
              0.7777777777777778,
              "#fb9f3a"
             ],
             [
              0.8888888888888888,
              "#fdca26"
             ],
             [
              1,
              "#f0f921"
             ]
            ],
            "type": "histogram2dcontour"
           }
          ],
          "mesh3d": [
           {
            "colorbar": {
             "outlinewidth": 0,
             "ticks": ""
            },
            "type": "mesh3d"
           }
          ],
          "parcoords": [
           {
            "line": {
             "colorbar": {
              "outlinewidth": 0,
              "ticks": ""
             }
            },
            "type": "parcoords"
           }
          ],
          "pie": [
           {
            "automargin": true,
            "type": "pie"
           }
          ],
          "scatter": [
           {
            "fillpattern": {
             "fillmode": "overlay",
             "size": 10,
             "solidity": 0.2
            },
            "type": "scatter"
           }
          ],
          "scatter3d": [
           {
            "line": {
             "colorbar": {
              "outlinewidth": 0,
              "ticks": ""
             }
            },
            "marker": {
             "colorbar": {
              "outlinewidth": 0,
              "ticks": ""
             }
            },
            "type": "scatter3d"
           }
          ],
          "scattercarpet": [
           {
            "marker": {
             "colorbar": {
              "outlinewidth": 0,
              "ticks": ""
             }
            },
            "type": "scattercarpet"
           }
          ],
          "scattergeo": [
           {
            "marker": {
             "colorbar": {
              "outlinewidth": 0,
              "ticks": ""
             }
            },
            "type": "scattergeo"
           }
          ],
          "scattergl": [
           {
            "marker": {
             "colorbar": {
              "outlinewidth": 0,
              "ticks": ""
             }
            },
            "type": "scattergl"
           }
          ],
          "scattermap": [
           {
            "marker": {
             "colorbar": {
              "outlinewidth": 0,
              "ticks": ""
             }
            },
            "type": "scattermap"
           }
          ],
          "scattermapbox": [
           {
            "marker": {
             "colorbar": {
              "outlinewidth": 0,
              "ticks": ""
             }
            },
            "type": "scattermapbox"
           }
          ],
          "scatterpolar": [
           {
            "marker": {
             "colorbar": {
              "outlinewidth": 0,
              "ticks": ""
             }
            },
            "type": "scatterpolar"
           }
          ],
          "scatterpolargl": [
           {
            "marker": {
             "colorbar": {
              "outlinewidth": 0,
              "ticks": ""
             }
            },
            "type": "scatterpolargl"
           }
          ],
          "scatterternary": [
           {
            "marker": {
             "colorbar": {
              "outlinewidth": 0,
              "ticks": ""
             }
            },
            "type": "scatterternary"
           }
          ],
          "surface": [
           {
            "colorbar": {
             "outlinewidth": 0,
             "ticks": ""
            },
            "colorscale": [
             [
              0,
              "#0d0887"
             ],
             [
              0.1111111111111111,
              "#46039f"
             ],
             [
              0.2222222222222222,
              "#7201a8"
             ],
             [
              0.3333333333333333,
              "#9c179e"
             ],
             [
              0.4444444444444444,
              "#bd3786"
             ],
             [
              0.5555555555555556,
              "#d8576b"
             ],
             [
              0.6666666666666666,
              "#ed7953"
             ],
             [
              0.7777777777777778,
              "#fb9f3a"
             ],
             [
              0.8888888888888888,
              "#fdca26"
             ],
             [
              1,
              "#f0f921"
             ]
            ],
            "type": "surface"
           }
          ],
          "table": [
           {
            "cells": {
             "fill": {
              "color": "#EBF0F8"
             },
             "line": {
              "color": "white"
             }
            },
            "header": {
             "fill": {
              "color": "#C8D4E3"
             },
             "line": {
              "color": "white"
             }
            },
            "type": "table"
           }
          ]
         },
         "layout": {
          "annotationdefaults": {
           "arrowcolor": "#2a3f5f",
           "arrowhead": 0,
           "arrowwidth": 1
          },
          "autotypenumbers": "strict",
          "coloraxis": {
           "colorbar": {
            "outlinewidth": 0,
            "ticks": ""
           }
          },
          "colorscale": {
           "diverging": [
            [
             0,
             "#8e0152"
            ],
            [
             0.1,
             "#c51b7d"
            ],
            [
             0.2,
             "#de77ae"
            ],
            [
             0.3,
             "#f1b6da"
            ],
            [
             0.4,
             "#fde0ef"
            ],
            [
             0.5,
             "#f7f7f7"
            ],
            [
             0.6,
             "#e6f5d0"
            ],
            [
             0.7,
             "#b8e186"
            ],
            [
             0.8,
             "#7fbc41"
            ],
            [
             0.9,
             "#4d9221"
            ],
            [
             1,
             "#276419"
            ]
           ],
           "sequential": [
            [
             0,
             "#0d0887"
            ],
            [
             0.1111111111111111,
             "#46039f"
            ],
            [
             0.2222222222222222,
             "#7201a8"
            ],
            [
             0.3333333333333333,
             "#9c179e"
            ],
            [
             0.4444444444444444,
             "#bd3786"
            ],
            [
             0.5555555555555556,
             "#d8576b"
            ],
            [
             0.6666666666666666,
             "#ed7953"
            ],
            [
             0.7777777777777778,
             "#fb9f3a"
            ],
            [
             0.8888888888888888,
             "#fdca26"
            ],
            [
             1,
             "#f0f921"
            ]
           ],
           "sequentialminus": [
            [
             0,
             "#0d0887"
            ],
            [
             0.1111111111111111,
             "#46039f"
            ],
            [
             0.2222222222222222,
             "#7201a8"
            ],
            [
             0.3333333333333333,
             "#9c179e"
            ],
            [
             0.4444444444444444,
             "#bd3786"
            ],
            [
             0.5555555555555556,
             "#d8576b"
            ],
            [
             0.6666666666666666,
             "#ed7953"
            ],
            [
             0.7777777777777778,
             "#fb9f3a"
            ],
            [
             0.8888888888888888,
             "#fdca26"
            ],
            [
             1,
             "#f0f921"
            ]
           ]
          },
          "colorway": [
           "#636efa",
           "#EF553B",
           "#00cc96",
           "#ab63fa",
           "#FFA15A",
           "#19d3f3",
           "#FF6692",
           "#B6E880",
           "#FF97FF",
           "#FECB52"
          ],
          "font": {
           "color": "#2a3f5f"
          },
          "geo": {
           "bgcolor": "white",
           "lakecolor": "white",
           "landcolor": "#E5ECF6",
           "showlakes": true,
           "showland": true,
           "subunitcolor": "white"
          },
          "hoverlabel": {
           "align": "left"
          },
          "hovermode": "closest",
          "mapbox": {
           "style": "light"
          },
          "paper_bgcolor": "white",
          "plot_bgcolor": "#E5ECF6",
          "polar": {
           "angularaxis": {
            "gridcolor": "white",
            "linecolor": "white",
            "ticks": ""
           },
           "bgcolor": "#E5ECF6",
           "radialaxis": {
            "gridcolor": "white",
            "linecolor": "white",
            "ticks": ""
           }
          },
          "scene": {
           "xaxis": {
            "backgroundcolor": "#E5ECF6",
            "gridcolor": "white",
            "gridwidth": 2,
            "linecolor": "white",
            "showbackground": true,
            "ticks": "",
            "zerolinecolor": "white"
           },
           "yaxis": {
            "backgroundcolor": "#E5ECF6",
            "gridcolor": "white",
            "gridwidth": 2,
            "linecolor": "white",
            "showbackground": true,
            "ticks": "",
            "zerolinecolor": "white"
           },
           "zaxis": {
            "backgroundcolor": "#E5ECF6",
            "gridcolor": "white",
            "gridwidth": 2,
            "linecolor": "white",
            "showbackground": true,
            "ticks": "",
            "zerolinecolor": "white"
           }
          },
          "shapedefaults": {
           "line": {
            "color": "#2a3f5f"
           }
          },
          "ternary": {
           "aaxis": {
            "gridcolor": "white",
            "linecolor": "white",
            "ticks": ""
           },
           "baxis": {
            "gridcolor": "white",
            "linecolor": "white",
            "ticks": ""
           },
           "bgcolor": "#E5ECF6",
           "caxis": {
            "gridcolor": "white",
            "linecolor": "white",
            "ticks": ""
           }
          },
          "title": {
           "x": 0.05
          },
          "xaxis": {
           "automargin": true,
           "gridcolor": "white",
           "linecolor": "white",
           "ticks": "",
           "title": {
            "standoff": 15
           },
           "zerolinecolor": "white",
           "zerolinewidth": 2
          },
          "yaxis": {
           "automargin": true,
           "gridcolor": "white",
           "linecolor": "white",
           "ticks": "",
           "title": {
            "standoff": 15
           },
           "zerolinecolor": "white",
           "zerolinewidth": 2
          }
         }
        },
        "title": {
         "text": "Frequency of Favorite Genres"
        }
       }
      },
      "image/png": "[encoded data removed]"
     },
     "metadata": {},
     "output_type": "display_data"
    }
   ],
   "source": [
    "my_cols = 'Fav genre'\n",
    "fig = px.pie(df[my_cols].dropna(),\n",
    "             names=my_cols,\n",
    "             title=\"Frequency of Favorite Genres\")\n",
    "fig.update_layout(legend_title_text=\"Favorite Genre\")\n",
    "fig.show()"
   ]
  },
  {
   "cell_type": "markdown",
   "id": "b96da071-5dc9-40f5-969d-1aff5541f5db",
   "metadata": {},
   "source": [
    "The most frequent favorite genre is rock (25.5%). The least frequent genre is Latin (0.408%). The top three genres (rock, pop, metal) account for more than half of the observations (25.5%, 15.5%, 12% respectively)."
   ]
  },
  {
   "cell_type": "markdown",
   "id": "dc17faee-706c-4b89-a840-7ad68b92b056",
   "metadata": {
    "jp-MarkdownHeadingCollapsed": true
   },
   "source": [
    "### Exploratory"
   ]
  },
  {
   "cell_type": "code",
   "execution_count": 185,
   "id": "71ef97a6-d4e1-4040-a230-06da764058ae",
   "metadata": {},
   "outputs": [
    {
     "data": {
      "application/vnd.plotly.v1+json": {
       "config": {
        "plotlyServerURL": "https://plot.ly"
       },
       "data": [
        {
         "domain": {
          "x": [
           0,
           1
          ],
          "y": [
           0,
           1
          ]
         },
         "hovertemplate": "Exploratory=%{label}<extra></extra>",
         "labels": [
          "Yes",
          "Yes",
          "No",
          "Yes",
          "Yes",
          "Yes",
          "Yes",
          "Yes",
          "No",
          "Yes",
          "Yes",
          "Yes",
          "Yes",
          "Yes",
          "Yes",
          "Yes",
          "Yes",
          "Yes",
          "Yes",
          "No",
          "Yes",
          "Yes",
          "Yes",
          "No",
          "Yes",
          "Yes",
          "Yes",
          "No",
          "Yes",
          "Yes",
          "Yes",
          "No",
          "Yes",
          "Yes",
          "No",
          "Yes",
          "No",
          "Yes",
          "No",
          "Yes",
          "Yes",
          "Yes",
          "Yes",
          "Yes",
          "Yes",
          "No",
          "No",
          "Yes",
          "Yes",
          "No",
          "Yes",
          "Yes",
          "No",
          "Yes",
          "Yes",
          "Yes",
          "Yes",
          "No",
          "Yes",
          "No",
          "Yes",
          "Yes",
          "No",
          "No",
          "No",
          "Yes",
          "Yes",
          "Yes",
          "Yes",
          "Yes",
          "Yes",
          "Yes",
          "No",
          "Yes",
          "No",
          "Yes",
          "Yes",
          "Yes",
          "No",
          "Yes",
          "Yes",
          "Yes",
          "Yes",
          "Yes",
          "Yes",
          "No",
          "No",
          "No",
          "No",
          "No",
          "Yes",
          "Yes",
          "Yes",
          "Yes",
          "Yes",
          "Yes",
          "Yes",
          "Yes",
          "Yes",
          "No",
          "Yes",
          "No",
          "Yes",
          "Yes",
          "Yes",
          "Yes",
          "No",
          "Yes",
          "Yes",
          "Yes",
          "Yes",
          "No",
          "Yes",
          "Yes",
          "Yes",
          "Yes",
          "No",
          "Yes",
          "Yes",
          "Yes",
          "Yes",
          "Yes",
          "Yes",
          "Yes",
          "Yes",
          "No",
          "Yes",
          "Yes",
          "Yes",
          "Yes",
          "Yes",
          "No",
          "Yes",
          "Yes",
          "Yes",
          "No",
          "Yes",
          "Yes",
          "No",
          "No",
          "Yes",
          "Yes",
          "Yes",
          "Yes",
          "No",
          "No",
          "Yes",
          "Yes",
          "Yes",
          "Yes",
          "Yes",
          "Yes",
          "No",
          "No",
          "No",
          "Yes",
          "No",
          "Yes",
          "Yes",
          "Yes",
          "No",
          "No",
          "Yes",
          "Yes",
          "Yes",
          "Yes",
          "Yes",
          "No",
          "Yes",
          "No",
          "No",
          "No",
          "Yes",
          "No",
          "Yes",
          "No",
          "Yes",
          "Yes",
          "Yes",
          "Yes",
          "No",
          "No",
          "No",
          "No",
          "Yes",
          "Yes",
          "Yes",
          "No",
          "No",
          "No",
          "Yes",
          "Yes",
          "Yes",
          "Yes",
          "Yes",
          "No",
          "Yes",
          "Yes",
          "Yes",
          "Yes",
          "Yes",
          "No",
          "Yes",
          "Yes",
          "No",
          "Yes",
          "No",
          "No",
          "Yes",
          "Yes",
          "Yes",
          "Yes",
          "Yes",
          "No",
          "Yes",
          "Yes",
          "Yes",
          "Yes",
          "Yes",
          "No",
          "Yes",
          "Yes",
          "No",
          "Yes",
          "Yes",
          "Yes",
          "No",
          "No",
          "Yes",
          "No",
          "Yes",
          "Yes",
          "Yes",
          "No",
          "Yes",
          "Yes",
          "Yes",
          "Yes",
          "Yes",
          "Yes",
          "Yes",
          "Yes",
          "Yes",
          "Yes",
          "No",
          "Yes",
          "Yes",
          "No",
          "No",
          "No",
          "Yes",
          "No",
          "Yes",
          "Yes",
          "Yes",
          "No",
          "Yes",
          "Yes",
          "No",
          "Yes",
          "No",
          "Yes",
          "Yes",
          "Yes",
          "Yes",
          "No",
          "Yes",
          "Yes",
          "Yes",
          "Yes",
          "Yes",
          "Yes",
          "Yes",
          "Yes",
          "No",
          "No",
          "No",
          "No",
          "Yes",
          "Yes",
          "No",
          "Yes",
          "No",
          "Yes",
          "Yes",
          "Yes",
          "Yes",
          "Yes",
          "No",
          "Yes",
          "Yes",
          "Yes",
          "Yes",
          "Yes",
          "No",
          "Yes",
          "Yes",
          "Yes",
          "No",
          "Yes",
          "Yes",
          "Yes",
          "Yes",
          "Yes",
          "Yes",
          "No",
          "Yes",
          "No",
          "Yes",
          "Yes",
          "Yes",
          "Yes",
          "Yes",
          "No",
          "Yes",
          "Yes",
          "Yes",
          "Yes",
          "No",
          "Yes",
          "Yes",
          "No",
          "Yes",
          "Yes",
          "Yes",
          "Yes",
          "Yes",
          "No",
          "No",
          "No",
          "Yes",
          "Yes",
          "Yes",
          "No",
          "Yes",
          "Yes",
          "Yes",
          "Yes",
          "No",
          "Yes",
          "No",
          "Yes",
          "No",
          "Yes",
          "No",
          "Yes",
          "No",
          "Yes",
          "Yes",
          "Yes",
          "Yes",
          "Yes",
          "Yes",
          "Yes",
          "Yes",
          "No",
          "Yes",
          "Yes",
          "Yes",
          "Yes",
          "Yes",
          "Yes",
          "Yes",
          "Yes",
          "Yes",
          "Yes",
          "Yes",
          "Yes",
          "Yes",
          "Yes",
          "Yes",
          "No",
          "Yes",
          "No",
          "Yes",
          "Yes",
          "Yes",
          "Yes",
          "No",
          "Yes",
          "Yes",
          "Yes",
          "Yes",
          "Yes",
          "No",
          "No",
          "No",
          "Yes",
          "Yes",
          "No",
          "No",
          "Yes",
          "Yes",
          "Yes",
          "Yes",
          "Yes",
          "Yes",
          "Yes",
          "Yes",
          "No",
          "No",
          "Yes",
          "Yes",
          "No",
          "Yes",
          "Yes",
          "No",
          "Yes",
          "No",
          "Yes",
          "Yes",
          "Yes",
          "No",
          "No",
          "Yes",
          "Yes",
          "Yes",
          "Yes",
          "Yes",
          "Yes",
          "Yes",
          "Yes",
          "Yes",
          "Yes",
          "Yes",
          "Yes",
          "Yes",
          "Yes",
          "No",
          "Yes",
          "Yes",
          "Yes",
          "No",
          "Yes",
          "Yes",
          "Yes",
          "Yes",
          "No",
          "No",
          "Yes",
          "Yes",
          "No",
          "Yes",
          "Yes",
          "Yes",
          "Yes",
          "Yes",
          "Yes",
          "Yes",
          "Yes",
          "Yes",
          "Yes",
          "No",
          "Yes",
          "No",
          "No",
          "Yes",
          "Yes",
          "No",
          "Yes",
          "Yes",
          "No",
          "Yes",
          "Yes",
          "Yes",
          "Yes",
          "No",
          "Yes",
          "Yes",
          "Yes",
          "Yes",
          "Yes",
          "Yes",
          "Yes",
          "Yes",
          "No",
          "No",
          "No",
          "Yes",
          "Yes",
          "Yes",
          "Yes",
          "Yes",
          "No",
          "Yes",
          "No",
          "No",
          "Yes",
          "Yes",
          "Yes",
          "No",
          "No",
          "No",
          "No",
          "No",
          "No",
          "Yes",
          "Yes",
          "Yes",
          "No",
          "No",
          "Yes",
          "Yes",
          "Yes",
          "Yes",
          "Yes",
          "Yes",
          "Yes",
          "Yes",
          "No",
          "No",
          "No",
          "No",
          "Yes",
          "No",
          "No",
          "No",
          "Yes",
          "Yes",
          "Yes",
          "No",
          "Yes",
          "No",
          "No",
          "Yes",
          "No",
          "No",
          "No",
          "Yes",
          "Yes",
          "No",
          "Yes",
          "No",
          "No",
          "Yes",
          "Yes",
          "No",
          "No",
          "Yes",
          "Yes",
          "Yes",
          "No",
          "Yes",
          "Yes",
          "Yes",
          "Yes",
          "Yes",
          "Yes",
          "Yes",
          "Yes",
          "Yes",
          "No",
          "No",
          "Yes",
          "No",
          "Yes",
          "Yes",
          "Yes",
          "Yes",
          "Yes",
          "No",
          "Yes",
          "Yes",
          "No",
          "Yes",
          "Yes",
          "Yes",
          "No",
          "Yes",
          "Yes",
          "Yes",
          "Yes",
          "Yes",
          "No",
          "Yes",
          "Yes",
          "No",
          "Yes",
          "No",
          "Yes",
          "Yes",
          "No",
          "No",
          "Yes",
          "Yes",
          "Yes",
          "No",
          "Yes",
          "Yes",
          "Yes",
          "Yes",
          "No",
          "Yes",
          "No",
          "Yes",
          "Yes",
          "Yes",
          "Yes",
          "Yes",
          "Yes",
          "No",
          "Yes",
          "No",
          "No",
          "Yes",
          "Yes",
          "Yes",
          "Yes",
          "Yes",
          "No",
          "No",
          "Yes",
          "Yes",
          "No",
          "No",
          "Yes",
          "Yes",
          "Yes",
          "Yes",
          "Yes",
          "No",
          "Yes",
          "Yes",
          "Yes",
          "Yes",
          "No",
          "Yes",
          "No",
          "Yes",
          "Yes",
          "No",
          "Yes",
          "No",
          "Yes",
          "Yes",
          "No",
          "Yes",
          "Yes",
          "Yes",
          "No",
          "Yes",
          "Yes",
          "No",
          "Yes",
          "Yes",
          "Yes",
          "Yes",
          "No",
          "Yes",
          "Yes",
          "Yes",
          "Yes",
          "No",
          "Yes",
          "No",
          "Yes",
          "No",
          "No",
          "Yes",
          "Yes",
          "No",
          "No",
          "Yes",
          "Yes",
          "Yes",
          "Yes",
          "No",
          "Yes",
          "Yes",
          "Yes",
          "Yes",
          "No",
          "Yes",
          "Yes",
          "Yes",
          "Yes",
          "Yes",
          "Yes",
          "Yes",
          "No",
          "Yes",
          "No",
          "Yes",
          "Yes",
          "Yes",
          "Yes",
          "No",
          "No",
          "No",
          "Yes",
          "Yes",
          "Yes",
          "Yes",
          "Yes",
          "Yes",
          "No",
          "Yes",
          "Yes",
          "Yes",
          "No",
          "No",
          "Yes",
          "Yes",
          "No",
          "Yes",
          "Yes",
          "Yes",
          "Yes",
          "Yes",
          "Yes",
          "Yes",
          "Yes",
          "No",
          "Yes",
          "Yes",
          "No",
          "Yes",
          "Yes",
          "Yes",
          "Yes",
          "Yes",
          "Yes",
          "Yes",
          "Yes",
          "Yes",
          "Yes",
          "Yes",
          "Yes",
          "Yes",
          "Yes",
          "Yes",
          "Yes",
          "Yes",
          "Yes",
          "No",
          "Yes"
         ],
         "legendgroup": "",
         "name": "",
         "showlegend": true,
         "type": "pie"
        }
       ],
       "layout": {
        "legend": {
         "title": {
          "text": "Exploratory"
         },
         "tracegroupgap": 0
        },
        "template": {
         "data": {
          "bar": [
           {
            "error_x": {
             "color": "#2a3f5f"
            },
            "error_y": {
             "color": "#2a3f5f"
            },
            "marker": {
             "line": {
              "color": "#E5ECF6",
              "width": 0.5
             },
             "pattern": {
              "fillmode": "overlay",
              "size": 10,
              "solidity": 0.2
             }
            },
            "type": "bar"
           }
          ],
          "barpolar": [
           {
            "marker": {
             "line": {
              "color": "#E5ECF6",
              "width": 0.5
             },
             "pattern": {
              "fillmode": "overlay",
              "size": 10,
              "solidity": 0.2
             }
            },
            "type": "barpolar"
           }
          ],
          "carpet": [
           {
            "aaxis": {
             "endlinecolor": "#2a3f5f",
             "gridcolor": "white",
             "linecolor": "white",
             "minorgridcolor": "white",
             "startlinecolor": "#2a3f5f"
            },
            "baxis": {
             "endlinecolor": "#2a3f5f",
             "gridcolor": "white",
             "linecolor": "white",
             "minorgridcolor": "white",
             "startlinecolor": "#2a3f5f"
            },
            "type": "carpet"
           }
          ],
          "choropleth": [
           {
            "colorbar": {
             "outlinewidth": 0,
             "ticks": ""
            },
            "type": "choropleth"
           }
          ],
          "contour": [
           {
            "colorbar": {
             "outlinewidth": 0,
             "ticks": ""
            },
            "colorscale": [
             [
              0,
              "#0d0887"
             ],
             [
              0.1111111111111111,
              "#46039f"
             ],
             [
              0.2222222222222222,
              "#7201a8"
             ],
             [
              0.3333333333333333,
              "#9c179e"
             ],
             [
              0.4444444444444444,
              "#bd3786"
             ],
             [
              0.5555555555555556,
              "#d8576b"
             ],
             [
              0.6666666666666666,
              "#ed7953"
             ],
             [
              0.7777777777777778,
              "#fb9f3a"
             ],
             [
              0.8888888888888888,
              "#fdca26"
             ],
             [
              1,
              "#f0f921"
             ]
            ],
            "type": "contour"
           }
          ],
          "contourcarpet": [
           {
            "colorbar": {
             "outlinewidth": 0,
             "ticks": ""
            },
            "type": "contourcarpet"
           }
          ],
          "heatmap": [
           {
            "colorbar": {
             "outlinewidth": 0,
             "ticks": ""
            },
            "colorscale": [
             [
              0,
              "#0d0887"
             ],
             [
              0.1111111111111111,
              "#46039f"
             ],
             [
              0.2222222222222222,
              "#7201a8"
             ],
             [
              0.3333333333333333,
              "#9c179e"
             ],
             [
              0.4444444444444444,
              "#bd3786"
             ],
             [
              0.5555555555555556,
              "#d8576b"
             ],
             [
              0.6666666666666666,
              "#ed7953"
             ],
             [
              0.7777777777777778,
              "#fb9f3a"
             ],
             [
              0.8888888888888888,
              "#fdca26"
             ],
             [
              1,
              "#f0f921"
             ]
            ],
            "type": "heatmap"
           }
          ],
          "histogram": [
           {
            "marker": {
             "pattern": {
              "fillmode": "overlay",
              "size": 10,
              "solidity": 0.2
             }
            },
            "type": "histogram"
           }
          ],
          "histogram2d": [
           {
            "colorbar": {
             "outlinewidth": 0,
             "ticks": ""
            },
            "colorscale": [
             [
              0,
              "#0d0887"
             ],
             [
              0.1111111111111111,
              "#46039f"
             ],
             [
              0.2222222222222222,
              "#7201a8"
             ],
             [
              0.3333333333333333,
              "#9c179e"
             ],
             [
              0.4444444444444444,
              "#bd3786"
             ],
             [
              0.5555555555555556,
              "#d8576b"
             ],
             [
              0.6666666666666666,
              "#ed7953"
             ],
             [
              0.7777777777777778,
              "#fb9f3a"
             ],
             [
              0.8888888888888888,
              "#fdca26"
             ],
             [
              1,
              "#f0f921"
             ]
            ],
            "type": "histogram2d"
           }
          ],
          "histogram2dcontour": [
           {
            "colorbar": {
             "outlinewidth": 0,
             "ticks": ""
            },
            "colorscale": [
             [
              0,
              "#0d0887"
             ],
             [
              0.1111111111111111,
              "#46039f"
             ],
             [
              0.2222222222222222,
              "#7201a8"
             ],
             [
              0.3333333333333333,
              "#9c179e"
             ],
             [
              0.4444444444444444,
              "#bd3786"
             ],
             [
              0.5555555555555556,
              "#d8576b"
             ],
             [
              0.6666666666666666,
              "#ed7953"
             ],
             [
              0.7777777777777778,
              "#fb9f3a"
             ],
             [
              0.8888888888888888,
              "#fdca26"
             ],
             [
              1,
              "#f0f921"
             ]
            ],
            "type": "histogram2dcontour"
           }
          ],
          "mesh3d": [
           {
            "colorbar": {
             "outlinewidth": 0,
             "ticks": ""
            },
            "type": "mesh3d"
           }
          ],
          "parcoords": [
           {
            "line": {
             "colorbar": {
              "outlinewidth": 0,
              "ticks": ""
             }
            },
            "type": "parcoords"
           }
          ],
          "pie": [
           {
            "automargin": true,
            "type": "pie"
           }
          ],
          "scatter": [
           {
            "fillpattern": {
             "fillmode": "overlay",
             "size": 10,
             "solidity": 0.2
            },
            "type": "scatter"
           }
          ],
          "scatter3d": [
           {
            "line": {
             "colorbar": {
              "outlinewidth": 0,
              "ticks": ""
             }
            },
            "marker": {
             "colorbar": {
              "outlinewidth": 0,
              "ticks": ""
             }
            },
            "type": "scatter3d"
           }
          ],
          "scattercarpet": [
           {
            "marker": {
             "colorbar": {
              "outlinewidth": 0,
              "ticks": ""
             }
            },
            "type": "scattercarpet"
           }
          ],
          "scattergeo": [
           {
            "marker": {
             "colorbar": {
              "outlinewidth": 0,
              "ticks": ""
             }
            },
            "type": "scattergeo"
           }
          ],
          "scattergl": [
           {
            "marker": {
             "colorbar": {
              "outlinewidth": 0,
              "ticks": ""
             }
            },
            "type": "scattergl"
           }
          ],
          "scattermap": [
           {
            "marker": {
             "colorbar": {
              "outlinewidth": 0,
              "ticks": ""
             }
            },
            "type": "scattermap"
           }
          ],
          "scattermapbox": [
           {
            "marker": {
             "colorbar": {
              "outlinewidth": 0,
              "ticks": ""
             }
            },
            "type": "scattermapbox"
           }
          ],
          "scatterpolar": [
           {
            "marker": {
             "colorbar": {
              "outlinewidth": 0,
              "ticks": ""
             }
            },
            "type": "scatterpolar"
           }
          ],
          "scatterpolargl": [
           {
            "marker": {
             "colorbar": {
              "outlinewidth": 0,
              "ticks": ""
             }
            },
            "type": "scatterpolargl"
           }
          ],
          "scatterternary": [
           {
            "marker": {
             "colorbar": {
              "outlinewidth": 0,
              "ticks": ""
             }
            },
            "type": "scatterternary"
           }
          ],
          "surface": [
           {
            "colorbar": {
             "outlinewidth": 0,
             "ticks": ""
            },
            "colorscale": [
             [
              0,
              "#0d0887"
             ],
             [
              0.1111111111111111,
              "#46039f"
             ],
             [
              0.2222222222222222,
              "#7201a8"
             ],
             [
              0.3333333333333333,
              "#9c179e"
             ],
             [
              0.4444444444444444,
              "#bd3786"
             ],
             [
              0.5555555555555556,
              "#d8576b"
             ],
             [
              0.6666666666666666,
              "#ed7953"
             ],
             [
              0.7777777777777778,
              "#fb9f3a"
             ],
             [
              0.8888888888888888,
              "#fdca26"
             ],
             [
              1,
              "#f0f921"
             ]
            ],
            "type": "surface"
           }
          ],
          "table": [
           {
            "cells": {
             "fill": {
              "color": "#EBF0F8"
             },
             "line": {
              "color": "white"
             }
            },
            "header": {
             "fill": {
              "color": "#C8D4E3"
             },
             "line": {
              "color": "white"
             }
            },
            "type": "table"
           }
          ]
         },
         "layout": {
          "annotationdefaults": {
           "arrowcolor": "#2a3f5f",
           "arrowhead": 0,
           "arrowwidth": 1
          },
          "autotypenumbers": "strict",
          "coloraxis": {
           "colorbar": {
            "outlinewidth": 0,
            "ticks": ""
           }
          },
          "colorscale": {
           "diverging": [
            [
             0,
             "#8e0152"
            ],
            [
             0.1,
             "#c51b7d"
            ],
            [
             0.2,
             "#de77ae"
            ],
            [
             0.3,
             "#f1b6da"
            ],
            [
             0.4,
             "#fde0ef"
            ],
            [
             0.5,
             "#f7f7f7"
            ],
            [
             0.6,
             "#e6f5d0"
            ],
            [
             0.7,
             "#b8e186"
            ],
            [
             0.8,
             "#7fbc41"
            ],
            [
             0.9,
             "#4d9221"
            ],
            [
             1,
             "#276419"
            ]
           ],
           "sequential": [
            [
             0,
             "#0d0887"
            ],
            [
             0.1111111111111111,
             "#46039f"
            ],
            [
             0.2222222222222222,
             "#7201a8"
            ],
            [
             0.3333333333333333,
             "#9c179e"
            ],
            [
             0.4444444444444444,
             "#bd3786"
            ],
            [
             0.5555555555555556,
             "#d8576b"
            ],
            [
             0.6666666666666666,
             "#ed7953"
            ],
            [
             0.7777777777777778,
             "#fb9f3a"
            ],
            [
             0.8888888888888888,
             "#fdca26"
            ],
            [
             1,
             "#f0f921"
            ]
           ],
           "sequentialminus": [
            [
             0,
             "#0d0887"
            ],
            [
             0.1111111111111111,
             "#46039f"
            ],
            [
             0.2222222222222222,
             "#7201a8"
            ],
            [
             0.3333333333333333,
             "#9c179e"
            ],
            [
             0.4444444444444444,
             "#bd3786"
            ],
            [
             0.5555555555555556,
             "#d8576b"
            ],
            [
             0.6666666666666666,
             "#ed7953"
            ],
            [
             0.7777777777777778,
             "#fb9f3a"
            ],
            [
             0.8888888888888888,
             "#fdca26"
            ],
            [
             1,
             "#f0f921"
            ]
           ]
          },
          "colorway": [
           "#636efa",
           "#EF553B",
           "#00cc96",
           "#ab63fa",
           "#FFA15A",
           "#19d3f3",
           "#FF6692",
           "#B6E880",
           "#FF97FF",
           "#FECB52"
          ],
          "font": {
           "color": "#2a3f5f"
          },
          "geo": {
           "bgcolor": "white",
           "lakecolor": "white",
           "landcolor": "#E5ECF6",
           "showlakes": true,
           "showland": true,
           "subunitcolor": "white"
          },
          "hoverlabel": {
           "align": "left"
          },
          "hovermode": "closest",
          "mapbox": {
           "style": "light"
          },
          "paper_bgcolor": "white",
          "plot_bgcolor": "#E5ECF6",
          "polar": {
           "angularaxis": {
            "gridcolor": "white",
            "linecolor": "white",
            "ticks": ""
           },
           "bgcolor": "#E5ECF6",
           "radialaxis": {
            "gridcolor": "white",
            "linecolor": "white",
            "ticks": ""
           }
          },
          "scene": {
           "xaxis": {
            "backgroundcolor": "#E5ECF6",
            "gridcolor": "white",
            "gridwidth": 2,
            "linecolor": "white",
            "showbackground": true,
            "ticks": "",
            "zerolinecolor": "white"
           },
           "yaxis": {
            "backgroundcolor": "#E5ECF6",
            "gridcolor": "white",
            "gridwidth": 2,
            "linecolor": "white",
            "showbackground": true,
            "ticks": "",
            "zerolinecolor": "white"
           },
           "zaxis": {
            "backgroundcolor": "#E5ECF6",
            "gridcolor": "white",
            "gridwidth": 2,
            "linecolor": "white",
            "showbackground": true,
            "ticks": "",
            "zerolinecolor": "white"
           }
          },
          "shapedefaults": {
           "line": {
            "color": "#2a3f5f"
           }
          },
          "ternary": {
           "aaxis": {
            "gridcolor": "white",
            "linecolor": "white",
            "ticks": ""
           },
           "baxis": {
            "gridcolor": "white",
            "linecolor": "white",
            "ticks": ""
           },
           "bgcolor": "#E5ECF6",
           "caxis": {
            "gridcolor": "white",
            "linecolor": "white",
            "ticks": ""
           }
          },
          "title": {
           "x": 0.05
          },
          "xaxis": {
           "automargin": true,
           "gridcolor": "white",
           "linecolor": "white",
           "ticks": "",
           "title": {
            "standoff": 15
           },
           "zerolinecolor": "white",
           "zerolinewidth": 2
          },
          "yaxis": {
           "automargin": true,
           "gridcolor": "white",
           "linecolor": "white",
           "ticks": "",
           "title": {
            "standoff": 15
           },
           "zerolinecolor": "white",
           "zerolinewidth": 2
          }
         }
        },
        "title": {
         "text": "Frequency of Exploring New Artists/Genres"
        }
       }
      },
      "image/png": "[encoded data removed]"
     },
     "metadata": {},
     "output_type": "display_data"
    }
   ],
   "source": [
    "my_cols = 'Exploratory'\n",
    "fig = px.pie(df[my_cols].dropna(),\n",
    "             names=my_cols,\n",
    "             title=\"Frequency of Exploring New Artists/Genres\")\n",
    "fig.update_layout(legend_title_text=my_cols)\n",
    "fig.show()"
   ]
  },
  {
   "cell_type": "markdown",
   "id": "4ba42b11-bb0d-44fd-bfdc-d12d6cb3bd4d",
   "metadata": {},
   "source": [
    "The majority of observations actively explore new artists and genres (71.3%)."
   ]
  },
  {
   "cell_type": "markdown",
   "id": "673c42bc-1d3f-4dbb-8f18-5f755b822cb1",
   "metadata": {
    "jp-MarkdownHeadingCollapsed": true
   },
   "source": [
    "### Foreign Languages"
   ]
  },
  {
   "cell_type": "code",
   "execution_count": 188,
   "id": "5900ee6c-af98-481e-a0dd-938d477c8ca9",
   "metadata": {},
   "outputs": [
    {
     "data": {
      "application/vnd.plotly.v1+json": {
       "config": {
        "plotlyServerURL": "https://plot.ly"
       },
       "data": [
        {
         "domain": {
          "x": [
           0,
           1
          ],
          "y": [
           0,
           1
          ]
         },
         "hovertemplate": "Foreign languages=%{label}<extra></extra>",
         "labels": [
          "Yes",
          "No",
          "Yes",
          "Yes",
          "No",
          "Yes",
          "Yes",
          "Yes",
          "No",
          "Yes",
          "No",
          "No",
          "Yes",
          "No",
          "Yes",
          "Yes",
          "Yes",
          "Yes",
          "No",
          "No",
          "Yes",
          "No",
          "Yes",
          "Yes",
          "Yes",
          "Yes",
          "Yes",
          "Yes",
          "Yes",
          "No",
          "Yes",
          "No",
          "Yes",
          "Yes",
          "No",
          "No",
          "Yes",
          "No",
          "Yes",
          "No",
          "No",
          "No",
          "No",
          "Yes",
          "Yes",
          "No",
          "No",
          "Yes",
          "Yes",
          "Yes",
          "No",
          "Yes",
          "Yes",
          "Yes",
          "Yes",
          "No",
          "No",
          "Yes",
          "Yes",
          "No",
          "Yes",
          "No",
          "No",
          "Yes",
          "Yes",
          "Yes",
          "Yes",
          "No",
          "Yes",
          "No",
          "No",
          "Yes",
          "Yes",
          "Yes",
          "No",
          "Yes",
          "Yes",
          "Yes",
          "Yes",
          "Yes",
          "Yes",
          "No",
          "Yes",
          "Yes",
          "Yes",
          "No",
          "No",
          "Yes",
          "No",
          "No",
          "No",
          "Yes",
          "Yes",
          "No",
          "No",
          "Yes",
          "Yes",
          "No",
          "Yes",
          "No",
          "Yes",
          "No",
          "No",
          "No",
          "Yes",
          "Yes",
          "Yes",
          "No",
          "Yes",
          "No",
          "Yes",
          "No",
          "No",
          "Yes",
          "Yes",
          "Yes",
          "Yes",
          "No",
          "No",
          "No",
          "Yes",
          "Yes",
          "Yes",
          "No",
          "Yes",
          "Yes",
          "Yes",
          "No",
          "No",
          "Yes",
          "No",
          "No",
          "Yes",
          "No",
          "No",
          "Yes",
          "No",
          "Yes",
          "No",
          "No",
          "Yes",
          "Yes",
          "Yes",
          "Yes",
          "No",
          "No",
          "Yes",
          "No",
          "No",
          "No",
          "Yes",
          "Yes",
          "No",
          "No",
          "No",
          "Yes",
          "Yes",
          "Yes",
          "No",
          "Yes",
          "Yes",
          "Yes",
          "No",
          "No",
          "Yes",
          "Yes",
          "Yes",
          "No",
          "Yes",
          "Yes",
          "No",
          "Yes",
          "No",
          "No",
          "No",
          "Yes",
          "Yes",
          "No",
          "Yes",
          "Yes",
          "Yes",
          "No",
          "Yes",
          "No",
          "Yes",
          "No",
          "Yes",
          "Yes",
          "No",
          "No",
          "Yes",
          "Yes",
          "Yes",
          "Yes",
          "No",
          "No",
          "Yes",
          "No",
          "Yes",
          "No",
          "Yes",
          "No",
          "Yes",
          "Yes",
          "No",
          "Yes",
          "Yes",
          "Yes",
          "No",
          "No",
          "Yes",
          "No",
          "Yes",
          "Yes",
          "Yes",
          "No",
          "Yes",
          "Yes",
          "Yes",
          "Yes",
          "No",
          "Yes",
          "Yes",
          "Yes",
          "Yes",
          "Yes",
          "Yes",
          "No",
          "Yes",
          "No",
          "Yes",
          "No",
          "Yes",
          "No",
          "Yes",
          "Yes",
          "Yes",
          "Yes",
          "No",
          "Yes",
          "No",
          "Yes",
          "Yes",
          "Yes",
          "Yes",
          "Yes",
          "Yes",
          "Yes",
          "No",
          "No",
          "Yes",
          "Yes",
          "Yes",
          "Yes",
          "Yes",
          "Yes",
          "Yes",
          "Yes",
          "No",
          "Yes",
          "Yes",
          "No",
          "Yes",
          "No",
          "Yes",
          "Yes",
          "Yes",
          "Yes",
          "No",
          "No",
          "Yes",
          "Yes",
          "No",
          "No",
          "No",
          "Yes",
          "Yes",
          "Yes",
          "Yes",
          "No",
          "No",
          "No",
          "Yes",
          "Yes",
          "Yes",
          "Yes",
          "No",
          "Yes",
          "Yes",
          "Yes",
          "No",
          "No",
          "Yes",
          "Yes",
          "No",
          "No",
          "No",
          "Yes",
          "No",
          "Yes",
          "Yes",
          "Yes",
          "Yes",
          "Yes",
          "No",
          "No",
          "No",
          "Yes",
          "Yes",
          "No",
          "Yes",
          "No",
          "No",
          "No",
          "Yes",
          "No",
          "Yes",
          "No",
          "No",
          "No",
          "Yes",
          "No",
          "Yes",
          "No",
          "No",
          "Yes",
          "No",
          "No",
          "No",
          "No",
          "Yes",
          "Yes",
          "No",
          "Yes",
          "No",
          "Yes",
          "Yes",
          "Yes",
          "No",
          "No",
          "No",
          "Yes",
          "Yes",
          "No",
          "Yes",
          "No",
          "Yes",
          "Yes",
          "Yes",
          "No",
          "Yes",
          "Yes",
          "Yes",
          "Yes",
          "Yes",
          "No",
          "Yes",
          "Yes",
          "No",
          "Yes",
          "No",
          "No",
          "No",
          "No",
          "No",
          "Yes",
          "No",
          "No",
          "Yes",
          "Yes",
          "Yes",
          "Yes",
          "No",
          "No",
          "Yes",
          "No",
          "Yes",
          "Yes",
          "No",
          "Yes",
          "No",
          "Yes",
          "No",
          "No",
          "No",
          "Yes",
          "No",
          "No",
          "Yes",
          "No",
          "Yes",
          "No",
          "No",
          "No",
          "No",
          "Yes",
          "Yes",
          "No",
          "Yes",
          "No",
          "No",
          "No",
          "No",
          "Yes",
          "Yes",
          "Yes",
          "No",
          "No",
          "No",
          "Yes",
          "Yes",
          "No",
          "Yes",
          "Yes",
          "Yes",
          "Yes",
          "No",
          "Yes",
          "No",
          "Yes",
          "Yes",
          "Yes",
          "No",
          "No",
          "Yes",
          "Yes",
          "No",
          "Yes",
          "Yes",
          "Yes",
          "No",
          "Yes",
          "Yes",
          "Yes",
          "Yes",
          "No",
          "No",
          "Yes",
          "No",
          "No",
          "No",
          "No",
          "No",
          "Yes",
          "Yes",
          "Yes",
          "No",
          "Yes",
          "Yes",
          "Yes",
          "No",
          "No",
          "Yes",
          "Yes",
          "No",
          "Yes",
          "No",
          "Yes",
          "No",
          "Yes",
          "Yes",
          "No",
          "No",
          "No",
          "Yes",
          "No",
          "Yes",
          "Yes",
          "No",
          "No",
          "No",
          "No",
          "No",
          "No",
          "No",
          "Yes",
          "No",
          "Yes",
          "Yes",
          "Yes",
          "No",
          "No",
          "Yes",
          "No",
          "No",
          "Yes",
          "Yes",
          "Yes",
          "Yes",
          "No",
          "No",
          "Yes",
          "No",
          "No",
          "Yes",
          "Yes",
          "Yes",
          "No",
          "Yes",
          "No",
          "Yes",
          "Yes",
          "Yes",
          "Yes",
          "Yes",
          "No",
          "No",
          "Yes",
          "No",
          "No",
          "No",
          "No",
          "No",
          "No",
          "Yes",
          "Yes",
          "No",
          "No",
          "No",
          "Yes",
          "No",
          "Yes",
          "Yes",
          "Yes",
          "Yes",
          "No",
          "No",
          "Yes",
          "Yes",
          "Yes",
          "No",
          "No",
          "Yes",
          "Yes",
          "No",
          "No",
          "Yes",
          "No",
          "No",
          "No",
          "No",
          "Yes",
          "No",
          "Yes",
          "No",
          "Yes",
          "No",
          "No",
          "No",
          "Yes",
          "No",
          "No",
          "No",
          "No",
          "Yes",
          "Yes",
          "No",
          "No",
          "No",
          "Yes",
          "Yes",
          "No",
          "Yes",
          "No",
          "No",
          "No",
          "Yes",
          "Yes",
          "No",
          "Yes",
          "No",
          "Yes",
          "Yes",
          "No",
          "No",
          "No",
          "No",
          "Yes",
          "Yes",
          "No",
          "No",
          "Yes",
          "Yes",
          "Yes",
          "No",
          "Yes",
          "Yes",
          "Yes",
          "No",
          "No",
          "Yes",
          "Yes",
          "Yes",
          "No",
          "No",
          "No",
          "Yes",
          "Yes",
          "No",
          "No",
          "No",
          "No",
          "Yes",
          "Yes",
          "Yes",
          "Yes",
          "Yes",
          "Yes",
          "Yes",
          "No",
          "No",
          "No",
          "Yes",
          "Yes",
          "No",
          "Yes",
          "Yes",
          "No",
          "Yes",
          "No",
          "Yes",
          "Yes",
          "Yes",
          "Yes",
          "No",
          "Yes",
          "Yes",
          "Yes",
          "No",
          "No",
          "No",
          "No",
          "No",
          "Yes",
          "Yes",
          "Yes",
          "No",
          "Yes",
          "Yes",
          "Yes",
          "Yes",
          "Yes",
          "No",
          "No",
          "No",
          "Yes",
          "No",
          "No",
          "Yes",
          "Yes",
          "No",
          "No",
          "No",
          "No",
          "No",
          "Yes",
          "Yes",
          "No",
          "No",
          "Yes",
          "Yes",
          "No",
          "Yes",
          "Yes",
          "Yes",
          "Yes",
          "Yes",
          "No",
          "Yes",
          "Yes",
          "No",
          "Yes",
          "Yes",
          "Yes",
          "No",
          "Yes",
          "Yes",
          "Yes",
          "Yes",
          "No",
          "Yes",
          "Yes",
          "No",
          "No",
          "No",
          "Yes",
          "No",
          "No",
          "Yes",
          "No",
          "Yes",
          "No",
          "Yes",
          "Yes",
          "Yes",
          "Yes",
          "Yes",
          "Yes",
          "No",
          "No",
          "Yes",
          "No",
          "Yes",
          "No",
          "Yes",
          "No",
          "No",
          "Yes",
          "No",
          "Yes",
          "No",
          "No",
          "Yes",
          "Yes",
          "Yes",
          "Yes",
          "No",
          "Yes",
          "Yes",
          "Yes",
          "Yes",
          "No",
          "No",
          "Yes",
          "No",
          "No",
          "Yes",
          "Yes",
          "Yes",
          "No",
          "No",
          "Yes"
         ],
         "legendgroup": "",
         "name": "",
         "showlegend": true,
         "type": "pie"
        }
       ],
       "layout": {
        "legend": {
         "title": {
          "text": "Foreign Languages"
         },
         "tracegroupgap": 0
        },
        "template": {
         "data": {
          "bar": [
           {
            "error_x": {
             "color": "#2a3f5f"
            },
            "error_y": {
             "color": "#2a3f5f"
            },
            "marker": {
             "line": {
              "color": "#E5ECF6",
              "width": 0.5
             },
             "pattern": {
              "fillmode": "overlay",
              "size": 10,
              "solidity": 0.2
             }
            },
            "type": "bar"
           }
          ],
          "barpolar": [
           {
            "marker": {
             "line": {
              "color": "#E5ECF6",
              "width": 0.5
             },
             "pattern": {
              "fillmode": "overlay",
              "size": 10,
              "solidity": 0.2
             }
            },
            "type": "barpolar"
           }
          ],
          "carpet": [
           {
            "aaxis": {
             "endlinecolor": "#2a3f5f",
             "gridcolor": "white",
             "linecolor": "white",
             "minorgridcolor": "white",
             "startlinecolor": "#2a3f5f"
            },
            "baxis": {
             "endlinecolor": "#2a3f5f",
             "gridcolor": "white",
             "linecolor": "white",
             "minorgridcolor": "white",
             "startlinecolor": "#2a3f5f"
            },
            "type": "carpet"
           }
          ],
          "choropleth": [
           {
            "colorbar": {
             "outlinewidth": 0,
             "ticks": ""
            },
            "type": "choropleth"
           }
          ],
          "contour": [
           {
            "colorbar": {
             "outlinewidth": 0,
             "ticks": ""
            },
            "colorscale": [
             [
              0,
              "#0d0887"
             ],
             [
              0.1111111111111111,
              "#46039f"
             ],
             [
              0.2222222222222222,
              "#7201a8"
             ],
             [
              0.3333333333333333,
              "#9c179e"
             ],
             [
              0.4444444444444444,
              "#bd3786"
             ],
             [
              0.5555555555555556,
              "#d8576b"
             ],
             [
              0.6666666666666666,
              "#ed7953"
             ],
             [
              0.7777777777777778,
              "#fb9f3a"
             ],
             [
              0.8888888888888888,
              "#fdca26"
             ],
             [
              1,
              "#f0f921"
             ]
            ],
            "type": "contour"
           }
          ],
          "contourcarpet": [
           {
            "colorbar": {
             "outlinewidth": 0,
             "ticks": ""
            },
            "type": "contourcarpet"
           }
          ],
          "heatmap": [
           {
            "colorbar": {
             "outlinewidth": 0,
             "ticks": ""
            },
            "colorscale": [
             [
              0,
              "#0d0887"
             ],
             [
              0.1111111111111111,
              "#46039f"
             ],
             [
              0.2222222222222222,
              "#7201a8"
             ],
             [
              0.3333333333333333,
              "#9c179e"
             ],
             [
              0.4444444444444444,
              "#bd3786"
             ],
             [
              0.5555555555555556,
              "#d8576b"
             ],
             [
              0.6666666666666666,
              "#ed7953"
             ],
             [
              0.7777777777777778,
              "#fb9f3a"
             ],
             [
              0.8888888888888888,
              "#fdca26"
             ],
             [
              1,
              "#f0f921"
             ]
            ],
            "type": "heatmap"
           }
          ],
          "histogram": [
           {
            "marker": {
             "pattern": {
              "fillmode": "overlay",
              "size": 10,
              "solidity": 0.2
             }
            },
            "type": "histogram"
           }
          ],
          "histogram2d": [
           {
            "colorbar": {
             "outlinewidth": 0,
             "ticks": ""
            },
            "colorscale": [
             [
              0,
              "#0d0887"
             ],
             [
              0.1111111111111111,
              "#46039f"
             ],
             [
              0.2222222222222222,
              "#7201a8"
             ],
             [
              0.3333333333333333,
              "#9c179e"
             ],
             [
              0.4444444444444444,
              "#bd3786"
             ],
             [
              0.5555555555555556,
              "#d8576b"
             ],
             [
              0.6666666666666666,
              "#ed7953"
             ],
             [
              0.7777777777777778,
              "#fb9f3a"
             ],
             [
              0.8888888888888888,
              "#fdca26"
             ],
             [
              1,
              "#f0f921"
             ]
            ],
            "type": "histogram2d"
           }
          ],
          "histogram2dcontour": [
           {
            "colorbar": {
             "outlinewidth": 0,
             "ticks": ""
            },
            "colorscale": [
             [
              0,
              "#0d0887"
             ],
             [
              0.1111111111111111,
              "#46039f"
             ],
             [
              0.2222222222222222,
              "#7201a8"
             ],
             [
              0.3333333333333333,
              "#9c179e"
             ],
             [
              0.4444444444444444,
              "#bd3786"
             ],
             [
              0.5555555555555556,
              "#d8576b"
             ],
             [
              0.6666666666666666,
              "#ed7953"
             ],
             [
              0.7777777777777778,
              "#fb9f3a"
             ],
             [
              0.8888888888888888,
              "#fdca26"
             ],
             [
              1,
              "#f0f921"
             ]
            ],
            "type": "histogram2dcontour"
           }
          ],
          "mesh3d": [
           {
            "colorbar": {
             "outlinewidth": 0,
             "ticks": ""
            },
            "type": "mesh3d"
           }
          ],
          "parcoords": [
           {
            "line": {
             "colorbar": {
              "outlinewidth": 0,
              "ticks": ""
             }
            },
            "type": "parcoords"
           }
          ],
          "pie": [
           {
            "automargin": true,
            "type": "pie"
           }
          ],
          "scatter": [
           {
            "fillpattern": {
             "fillmode": "overlay",
             "size": 10,
             "solidity": 0.2
            },
            "type": "scatter"
           }
          ],
          "scatter3d": [
           {
            "line": {
             "colorbar": {
              "outlinewidth": 0,
              "ticks": ""
             }
            },
            "marker": {
             "colorbar": {
              "outlinewidth": 0,
              "ticks": ""
             }
            },
            "type": "scatter3d"
           }
          ],
          "scattercarpet": [
           {
            "marker": {
             "colorbar": {
              "outlinewidth": 0,
              "ticks": ""
             }
            },
            "type": "scattercarpet"
           }
          ],
          "scattergeo": [
           {
            "marker": {
             "colorbar": {
              "outlinewidth": 0,
              "ticks": ""
             }
            },
            "type": "scattergeo"
           }
          ],
          "scattergl": [
           {
            "marker": {
             "colorbar": {
              "outlinewidth": 0,
              "ticks": ""
             }
            },
            "type": "scattergl"
           }
          ],
          "scattermap": [
           {
            "marker": {
             "colorbar": {
              "outlinewidth": 0,
              "ticks": ""
             }
            },
            "type": "scattermap"
           }
          ],
          "scattermapbox": [
           {
            "marker": {
             "colorbar": {
              "outlinewidth": 0,
              "ticks": ""
             }
            },
            "type": "scattermapbox"
           }
          ],
          "scatterpolar": [
           {
            "marker": {
             "colorbar": {
              "outlinewidth": 0,
              "ticks": ""
             }
            },
            "type": "scatterpolar"
           }
          ],
          "scatterpolargl": [
           {
            "marker": {
             "colorbar": {
              "outlinewidth": 0,
              "ticks": ""
             }
            },
            "type": "scatterpolargl"
           }
          ],
          "scatterternary": [
           {
            "marker": {
             "colorbar": {
              "outlinewidth": 0,
              "ticks": ""
             }
            },
            "type": "scatterternary"
           }
          ],
          "surface": [
           {
            "colorbar": {
             "outlinewidth": 0,
             "ticks": ""
            },
            "colorscale": [
             [
              0,
              "#0d0887"
             ],
             [
              0.1111111111111111,
              "#46039f"
             ],
             [
              0.2222222222222222,
              "#7201a8"
             ],
             [
              0.3333333333333333,
              "#9c179e"
             ],
             [
              0.4444444444444444,
              "#bd3786"
             ],
             [
              0.5555555555555556,
              "#d8576b"
             ],
             [
              0.6666666666666666,
              "#ed7953"
             ],
             [
              0.7777777777777778,
              "#fb9f3a"
             ],
             [
              0.8888888888888888,
              "#fdca26"
             ],
             [
              1,
              "#f0f921"
             ]
            ],
            "type": "surface"
           }
          ],
          "table": [
           {
            "cells": {
             "fill": {
              "color": "#EBF0F8"
             },
             "line": {
              "color": "white"
             }
            },
            "header": {
             "fill": {
              "color": "#C8D4E3"
             },
             "line": {
              "color": "white"
             }
            },
            "type": "table"
           }
          ]
         },
         "layout": {
          "annotationdefaults": {
           "arrowcolor": "#2a3f5f",
           "arrowhead": 0,
           "arrowwidth": 1
          },
          "autotypenumbers": "strict",
          "coloraxis": {
           "colorbar": {
            "outlinewidth": 0,
            "ticks": ""
           }
          },
          "colorscale": {
           "diverging": [
            [
             0,
             "#8e0152"
            ],
            [
             0.1,
             "#c51b7d"
            ],
            [
             0.2,
             "#de77ae"
            ],
            [
             0.3,
             "#f1b6da"
            ],
            [
             0.4,
             "#fde0ef"
            ],
            [
             0.5,
             "#f7f7f7"
            ],
            [
             0.6,
             "#e6f5d0"
            ],
            [
             0.7,
             "#b8e186"
            ],
            [
             0.8,
             "#7fbc41"
            ],
            [
             0.9,
             "#4d9221"
            ],
            [
             1,
             "#276419"
            ]
           ],
           "sequential": [
            [
             0,
             "#0d0887"
            ],
            [
             0.1111111111111111,
             "#46039f"
            ],
            [
             0.2222222222222222,
             "#7201a8"
            ],
            [
             0.3333333333333333,
             "#9c179e"
            ],
            [
             0.4444444444444444,
             "#bd3786"
            ],
            [
             0.5555555555555556,
             "#d8576b"
            ],
            [
             0.6666666666666666,
             "#ed7953"
            ],
            [
             0.7777777777777778,
             "#fb9f3a"
            ],
            [
             0.8888888888888888,
             "#fdca26"
            ],
            [
             1,
             "#f0f921"
            ]
           ],
           "sequentialminus": [
            [
             0,
             "#0d0887"
            ],
            [
             0.1111111111111111,
             "#46039f"
            ],
            [
             0.2222222222222222,
             "#7201a8"
            ],
            [
             0.3333333333333333,
             "#9c179e"
            ],
            [
             0.4444444444444444,
             "#bd3786"
            ],
            [
             0.5555555555555556,
             "#d8576b"
            ],
            [
             0.6666666666666666,
             "#ed7953"
            ],
            [
             0.7777777777777778,
             "#fb9f3a"
            ],
            [
             0.8888888888888888,
             "#fdca26"
            ],
            [
             1,
             "#f0f921"
            ]
           ]
          },
          "colorway": [
           "#636efa",
           "#EF553B",
           "#00cc96",
           "#ab63fa",
           "#FFA15A",
           "#19d3f3",
           "#FF6692",
           "#B6E880",
           "#FF97FF",
           "#FECB52"
          ],
          "font": {
           "color": "#2a3f5f"
          },
          "geo": {
           "bgcolor": "white",
           "lakecolor": "white",
           "landcolor": "#E5ECF6",
           "showlakes": true,
           "showland": true,
           "subunitcolor": "white"
          },
          "hoverlabel": {
           "align": "left"
          },
          "hovermode": "closest",
          "mapbox": {
           "style": "light"
          },
          "paper_bgcolor": "white",
          "plot_bgcolor": "#E5ECF6",
          "polar": {
           "angularaxis": {
            "gridcolor": "white",
            "linecolor": "white",
            "ticks": ""
           },
           "bgcolor": "#E5ECF6",
           "radialaxis": {
            "gridcolor": "white",
            "linecolor": "white",
            "ticks": ""
           }
          },
          "scene": {
           "xaxis": {
            "backgroundcolor": "#E5ECF6",
            "gridcolor": "white",
            "gridwidth": 2,
            "linecolor": "white",
            "showbackground": true,
            "ticks": "",
            "zerolinecolor": "white"
           },
           "yaxis": {
            "backgroundcolor": "#E5ECF6",
            "gridcolor": "white",
            "gridwidth": 2,
            "linecolor": "white",
            "showbackground": true,
            "ticks": "",
            "zerolinecolor": "white"
           },
           "zaxis": {
            "backgroundcolor": "#E5ECF6",
            "gridcolor": "white",
            "gridwidth": 2,
            "linecolor": "white",
            "showbackground": true,
            "ticks": "",
            "zerolinecolor": "white"
           }
          },
          "shapedefaults": {
           "line": {
            "color": "#2a3f5f"
           }
          },
          "ternary": {
           "aaxis": {
            "gridcolor": "white",
            "linecolor": "white",
            "ticks": ""
           },
           "baxis": {
            "gridcolor": "white",
            "linecolor": "white",
            "ticks": ""
           },
           "bgcolor": "#E5ECF6",
           "caxis": {
            "gridcolor": "white",
            "linecolor": "white",
            "ticks": ""
           }
          },
          "title": {
           "x": 0.05
          },
          "xaxis": {
           "automargin": true,
           "gridcolor": "white",
           "linecolor": "white",
           "ticks": "",
           "title": {
            "standoff": 15
           },
           "zerolinecolor": "white",
           "zerolinewidth": 2
          },
          "yaxis": {
           "automargin": true,
           "gridcolor": "white",
           "linecolor": "white",
           "ticks": "",
           "title": {
            "standoff": 15
           },
           "zerolinecolor": "white",
           "zerolinewidth": 2
          }
         }
        },
        "title": {
         "text": "Frequency of Regularly Listening to Music in a Foreign Language"
        }
       }
      },
      "image/png": "[encoded data removed]"
     },
     "metadata": {},
     "output_type": "display_data"
    }
   ],
   "source": [
    "my_cols = 'Foreign languages'\n",
    "fig = px.pie(df[my_cols].dropna(),\n",
    "             names=my_cols,\n",
    "             title=\"Frequency of Regularly Listening to Music in a Foreign Language\")\n",
    "fig.update_layout(legend_title_text=\"Foreign Languages\")\n",
    "fig.show()"
   ]
  },
  {
   "cell_type": "markdown",
   "id": "9a367f55-c647-41ed-848d-2c70770ceee9",
   "metadata": {},
   "source": [
    "A slight majority of observations regularly listen to music in a foreign language (55.2%)."
   ]
  },
  {
   "cell_type": "markdown",
   "id": "16884cd6-2d1f-4524-8b56-19feaa47d393",
   "metadata": {
    "jp-MarkdownHeadingCollapsed": true
   },
   "source": [
    "### Music Effects"
   ]
  },
  {
   "cell_type": "code",
   "execution_count": 189,
   "id": "6e71fba6-aa3a-44ce-b7a4-9ba55e54abb6",
   "metadata": {},
   "outputs": [
    {
     "data": {
      "application/vnd.plotly.v1+json": {
       "config": {
        "plotlyServerURL": "https://plot.ly"
       },
       "data": [
        {
         "domain": {
          "x": [
           0,
           1
          ],
          "y": [
           0,
           1
          ]
         },
         "hovertemplate": "Music effects=%{label}<extra></extra>",
         "labels": [
          "No effect",
          "Improve",
          "Improve",
          "Improve",
          "Improve",
          "Improve",
          "Improve",
          "Improve",
          "No effect",
          "Improve",
          "Improve",
          "Improve",
          "Improve",
          "Worsen",
          "Improve",
          "Improve",
          "Improve",
          "Improve",
          "Improve",
          "Improve",
          "Improve",
          "No effect",
          "Improve",
          "Improve",
          "Improve",
          "Improve",
          "Improve",
          "Improve",
          "Improve",
          "No effect",
          "Improve",
          "Improve",
          "No effect",
          "Improve",
          "Improve",
          "No effect",
          "No effect",
          "Improve",
          "Improve",
          "Improve",
          "No effect",
          "Improve",
          "No effect",
          "Improve",
          "No effect",
          "Improve",
          "Improve",
          "No effect",
          "Improve",
          "Improve",
          "No effect",
          "No effect",
          "Improve",
          "Improve",
          "No effect",
          "No effect",
          "Improve",
          "Improve",
          "Improve",
          "Improve",
          "Improve",
          "No effect",
          "Worsen",
          "Improve",
          "No effect",
          "Improve",
          "Improve",
          "Improve",
          "Improve",
          "No effect",
          "Improve",
          "Improve",
          "No effect",
          "Improve",
          "Improve",
          "Improve",
          "Improve",
          "Improve",
          "Improve",
          "Improve",
          "No effect",
          "Improve",
          "Improve",
          "No effect",
          "Improve",
          "Improve",
          "No effect",
          "No effect",
          "No effect",
          "No effect",
          "Improve",
          "Improve",
          "Improve",
          "Improve",
          "Improve",
          "Improve",
          "Improve",
          "Improve",
          "Improve",
          "Improve",
          "No effect",
          "No effect",
          "Improve",
          "No effect",
          "No effect",
          "Improve",
          "No effect",
          "Improve",
          "Improve",
          "Improve",
          "Improve",
          "Improve",
          "Improve",
          "Improve",
          "Improve",
          "Improve",
          "Improve",
          "Improve",
          "No effect",
          "Improve",
          "Improve",
          "No effect",
          "Improve",
          "Improve",
          "Improve",
          "Worsen",
          "Improve",
          "No effect",
          "Improve",
          "Improve",
          "Improve",
          "No effect",
          "Improve",
          "Improve",
          "Improve",
          "Improve",
          "No effect",
          "Improve",
          "Improve",
          "No effect",
          "Improve",
          "Improve",
          "Improve",
          "Improve",
          "Improve",
          "Improve",
          "Improve",
          "Improve",
          "Worsen",
          "Improve",
          "No effect",
          "Improve",
          "No effect",
          "No effect",
          "Improve",
          "Improve",
          "Improve",
          "Improve",
          "No effect",
          "Improve",
          "No effect",
          "Improve",
          "No effect",
          "Improve",
          "Improve",
          "Improve",
          "Improve",
          "No effect",
          "Improve",
          "Improve",
          "No effect",
          "No effect",
          "No effect",
          "Improve",
          "Improve",
          "Improve",
          "Improve",
          "No effect",
          "Improve",
          "Improve",
          "Improve",
          "Improve",
          "Improve",
          "Improve",
          "No effect",
          "Improve",
          "Improve",
          "Improve",
          "Improve",
          "Improve",
          "Improve",
          "Improve",
          "No effect",
          "Improve",
          "Improve",
          "Improve",
          "Improve",
          "Improve",
          "Improve",
          "Improve",
          "Improve",
          "Improve",
          "Improve",
          "Improve",
          "Improve",
          "Improve",
          "No effect",
          "Improve",
          "Improve",
          "No effect",
          "Improve",
          "Improve",
          "Improve",
          "Improve",
          "Improve",
          "No effect",
          "Improve",
          "Improve",
          "Improve",
          "Improve",
          "Improve",
          "Improve",
          "Improve",
          "Improve",
          "No effect",
          "Improve",
          "Improve",
          "No effect",
          "Improve",
          "No effect",
          "No effect",
          "Improve",
          "Improve",
          "No effect",
          "Improve",
          "Improve",
          "Improve",
          "Improve",
          "Improve",
          "No effect",
          "Worsen",
          "Improve",
          "Worsen",
          "Improve",
          "No effect",
          "No effect",
          "Improve",
          "Improve",
          "Improve",
          "Improve",
          "Improve",
          "Improve",
          "No effect",
          "No effect",
          "No effect",
          "No effect",
          "Improve",
          "Improve",
          "Improve",
          "Improve",
          "No effect",
          "No effect",
          "Improve",
          "Improve",
          "Improve",
          "Improve",
          "Improve",
          "Improve",
          "Improve",
          "Improve",
          "Improve",
          "No effect",
          "Improve",
          "Worsen",
          "Improve",
          "Improve",
          "Improve",
          "No effect",
          "No effect",
          "Improve",
          "Improve",
          "Improve",
          "Improve",
          "Improve",
          "No effect",
          "Improve",
          "No effect",
          "No effect",
          "Improve",
          "Improve",
          "No effect",
          "Improve",
          "Improve",
          "Improve",
          "Improve",
          "No effect",
          "Improve",
          "Improve",
          "Improve",
          "Improve",
          "Improve",
          "No effect",
          "Improve",
          "Improve",
          "No effect",
          "Improve",
          "No effect",
          "Improve",
          "Improve",
          "No effect",
          "Improve",
          "Improve",
          "Improve",
          "No effect",
          "Improve",
          "Improve",
          "Improve",
          "No effect",
          "Improve",
          "Improve",
          "Improve",
          "Improve",
          "No effect",
          "No effect",
          "No effect",
          "Improve",
          "Improve",
          "Improve",
          "Improve",
          "Improve",
          "No effect",
          "Improve",
          "No effect",
          "Worsen",
          "No effect",
          "Improve",
          "Improve",
          "Improve",
          "Improve",
          "Improve",
          "Improve",
          "Improve",
          "Improve",
          "Improve",
          "Improve",
          "No effect",
          "Improve",
          "No effect",
          "Improve",
          "Improve",
          "Improve",
          "Improve",
          "Improve",
          "Improve",
          "Improve",
          "Improve",
          "Improve",
          "Improve",
          "Improve",
          "Improve",
          "Improve",
          "Improve",
          "Improve",
          "Improve",
          "Improve",
          "Improve",
          "Improve",
          "Improve",
          "Improve",
          "Improve",
          "Improve",
          "Improve",
          "Improve",
          "No effect",
          "Improve",
          "Improve",
          "No effect",
          "Improve",
          "Improve",
          "Improve",
          "No effect",
          "No effect",
          "Improve",
          "Improve",
          "No effect",
          "Improve",
          "Improve",
          "Improve",
          "Improve",
          "Improve",
          "Improve",
          "Improve",
          "Improve",
          "Improve",
          "No effect",
          "Improve",
          "Improve",
          "Improve",
          "Improve",
          "Improve",
          "No effect",
          "Improve",
          "No effect",
          "Improve",
          "Improve",
          "No effect",
          "Improve",
          "No effect",
          "Improve",
          "Improve",
          "Improve",
          "No effect",
          "Improve",
          "No effect",
          "Improve",
          "Improve",
          "Improve",
          "Improve",
          "Improve",
          "Improve",
          "Improve",
          "Improve",
          "Improve",
          "Improve",
          "Improve",
          "Improve",
          "Improve",
          "Improve",
          "Improve",
          "Improve",
          "No effect",
          "Improve",
          "Improve",
          "Worsen",
          "Improve",
          "Improve",
          "Worsen",
          "Improve",
          "Improve",
          "Improve",
          "No effect",
          "No effect",
          "Improve",
          "Improve",
          "Improve",
          "No effect",
          "Improve",
          "Improve",
          "Improve",
          "Worsen",
          "Improve",
          "Improve",
          "No effect",
          "Improve",
          "No effect",
          "No effect",
          "No effect",
          "Improve",
          "Improve",
          "No effect",
          "Improve",
          "No effect",
          "Improve",
          "No effect",
          "Improve",
          "No effect",
          "Improve",
          "Improve",
          "Improve",
          "Improve",
          "Improve",
          "Improve",
          "Improve",
          "Improve",
          "Improve",
          "Improve",
          "Improve",
          "Improve",
          "Improve",
          "No effect",
          "Improve",
          "Improve",
          "Improve",
          "Improve",
          "Improve",
          "Improve",
          "No effect",
          "Improve",
          "Improve",
          "Improve",
          "Improve",
          "Improve",
          "No effect",
          "Improve",
          "Improve",
          "Improve",
          "Improve",
          "Improve",
          "Improve",
          "Improve",
          "No effect",
          "Improve",
          "No effect",
          "Improve",
          "Improve",
          "Improve",
          "No effect",
          "Improve",
          "Improve",
          "Improve",
          "Improve",
          "Improve",
          "Improve",
          "Improve",
          "Improve",
          "Improve",
          "Improve",
          "No effect",
          "Improve",
          "Improve",
          "Improve",
          "Improve",
          "Improve",
          "No effect",
          "Improve",
          "Improve",
          "Improve",
          "Improve",
          "Improve",
          "No effect",
          "Improve",
          "Improve",
          "No effect",
          "Improve",
          "Improve",
          "Improve",
          "Improve",
          "Improve",
          "Improve",
          "Improve",
          "Improve",
          "Improve",
          "Improve",
          "Improve",
          "No effect",
          "No effect",
          "Improve",
          "Improve",
          "Improve",
          "No effect",
          "No effect",
          "Improve",
          "Improve",
          "Improve",
          "Improve",
          "Improve",
          "Improve",
          "Improve",
          "Improve",
          "Improve",
          "No effect",
          "Improve",
          "Improve",
          "No effect",
          "No effect",
          "Improve",
          "Improve",
          "No effect",
          "Improve",
          "Improve",
          "Improve",
          "Worsen",
          "Improve",
          "No effect",
          "Improve",
          "Improve",
          "Improve",
          "Improve",
          "No effect",
          "Improve",
          "Improve",
          "Improve",
          "Improve",
          "Improve",
          "No effect",
          "Improve",
          "Improve",
          "Improve",
          "Improve",
          "Improve",
          "No effect",
          "Improve",
          "No effect",
          "No effect",
          "No effect",
          "No effect",
          "Improve",
          "Improve",
          "Improve",
          "Improve",
          "Improve",
          "No effect",
          "No effect",
          "Worsen",
          "Improve",
          "Improve",
          "Improve",
          "Improve",
          "Improve",
          "No effect",
          "No effect",
          "Improve",
          "Improve",
          "Improve",
          "No effect",
          "Improve",
          "Improve",
          "Improve",
          "Improve",
          "Improve",
          "Improve",
          "Improve",
          "Improve",
          "Improve",
          "Improve",
          "No effect",
          "Improve",
          "Improve",
          "Improve",
          "No effect",
          "Improve",
          "Improve",
          "No effect",
          "Improve",
          "Improve",
          "Improve",
          "Improve",
          "Improve",
          "No effect",
          "Improve",
          "Improve",
          "No effect",
          "Worsen",
          "No effect",
          "No effect",
          "Improve",
          "No effect",
          "Improve",
          "Worsen",
          "Improve",
          "No effect",
          "Improve",
          "Improve",
          "Improve",
          "Improve",
          "Improve",
          "No effect",
          "Improve",
          "No effect",
          "No effect",
          "Improve",
          "No effect",
          "Improve",
          "Improve",
          "Improve",
          "Improve",
          "Improve",
          "No effect",
          "Improve",
          "Improve",
          "No effect",
          "Improve",
          "Improve",
          "Improve",
          "Improve",
          "Improve",
          "Improve",
          "Improve",
          "No effect",
          "No effect",
          "No effect",
          "Improve",
          "Improve",
          "Improve",
          "Improve",
          "Improve",
          "No effect",
          "No effect",
          "Improve",
          "Improve",
          "Improve",
          "Improve",
          "Worsen",
          "Improve",
          "Improve",
          "Improve",
          "Improve",
          "Improve",
          "Improve",
          "Improve",
          "No effect",
          "Improve",
          "Improve",
          "Improve",
          "Improve",
          "No effect",
          "No effect",
          "Improve",
          "Improve",
          "No effect",
          "No effect",
          "Improve",
          "Improve",
          "Improve",
          "Improve",
          "Improve",
          "Improve",
          "Worsen",
          "Improve",
          "No effect",
          "Improve",
          "Improve",
          "Improve",
          "Improve",
          "Improve",
          "Improve",
          "Improve",
          "Improve"
         ],
         "legendgroup": "",
         "name": "",
         "showlegend": true,
         "type": "pie"
        }
       ],
       "layout": {
        "legend": {
         "title": {
          "text": "Music effects"
         },
         "tracegroupgap": 0
        },
        "template": {
         "data": {
          "bar": [
           {
            "error_x": {
             "color": "#2a3f5f"
            },
            "error_y": {
             "color": "#2a3f5f"
            },
            "marker": {
             "line": {
              "color": "#E5ECF6",
              "width": 0.5
             },
             "pattern": {
              "fillmode": "overlay",
              "size": 10,
              "solidity": 0.2
             }
            },
            "type": "bar"
           }
          ],
          "barpolar": [
           {
            "marker": {
             "line": {
              "color": "#E5ECF6",
              "width": 0.5
             },
             "pattern": {
              "fillmode": "overlay",
              "size": 10,
              "solidity": 0.2
             }
            },
            "type": "barpolar"
           }
          ],
          "carpet": [
           {
            "aaxis": {
             "endlinecolor": "#2a3f5f",
             "gridcolor": "white",
             "linecolor": "white",
             "minorgridcolor": "white",
             "startlinecolor": "#2a3f5f"
            },
            "baxis": {
             "endlinecolor": "#2a3f5f",
             "gridcolor": "white",
             "linecolor": "white",
             "minorgridcolor": "white",
             "startlinecolor": "#2a3f5f"
            },
            "type": "carpet"
           }
          ],
          "choropleth": [
           {
            "colorbar": {
             "outlinewidth": 0,
             "ticks": ""
            },
            "type": "choropleth"
           }
          ],
          "contour": [
           {
            "colorbar": {
             "outlinewidth": 0,
             "ticks": ""
            },
            "colorscale": [
             [
              0,
              "#0d0887"
             ],
             [
              0.1111111111111111,
              "#46039f"
             ],
             [
              0.2222222222222222,
              "#7201a8"
             ],
             [
              0.3333333333333333,
              "#9c179e"
             ],
             [
              0.4444444444444444,
              "#bd3786"
             ],
             [
              0.5555555555555556,
              "#d8576b"
             ],
             [
              0.6666666666666666,
              "#ed7953"
             ],
             [
              0.7777777777777778,
              "#fb9f3a"
             ],
             [
              0.8888888888888888,
              "#fdca26"
             ],
             [
              1,
              "#f0f921"
             ]
            ],
            "type": "contour"
           }
          ],
          "contourcarpet": [
           {
            "colorbar": {
             "outlinewidth": 0,
             "ticks": ""
            },
            "type": "contourcarpet"
           }
          ],
          "heatmap": [
           {
            "colorbar": {
             "outlinewidth": 0,
             "ticks": ""
            },
            "colorscale": [
             [
              0,
              "#0d0887"
             ],
             [
              0.1111111111111111,
              "#46039f"
             ],
             [
              0.2222222222222222,
              "#7201a8"
             ],
             [
              0.3333333333333333,
              "#9c179e"
             ],
             [
              0.4444444444444444,
              "#bd3786"
             ],
             [
              0.5555555555555556,
              "#d8576b"
             ],
             [
              0.6666666666666666,
              "#ed7953"
             ],
             [
              0.7777777777777778,
              "#fb9f3a"
             ],
             [
              0.8888888888888888,
              "#fdca26"
             ],
             [
              1,
              "#f0f921"
             ]
            ],
            "type": "heatmap"
           }
          ],
          "histogram": [
           {
            "marker": {
             "pattern": {
              "fillmode": "overlay",
              "size": 10,
              "solidity": 0.2
             }
            },
            "type": "histogram"
           }
          ],
          "histogram2d": [
           {
            "colorbar": {
             "outlinewidth": 0,
             "ticks": ""
            },
            "colorscale": [
             [
              0,
              "#0d0887"
             ],
             [
              0.1111111111111111,
              "#46039f"
             ],
             [
              0.2222222222222222,
              "#7201a8"
             ],
             [
              0.3333333333333333,
              "#9c179e"
             ],
             [
              0.4444444444444444,
              "#bd3786"
             ],
             [
              0.5555555555555556,
              "#d8576b"
             ],
             [
              0.6666666666666666,
              "#ed7953"
             ],
             [
              0.7777777777777778,
              "#fb9f3a"
             ],
             [
              0.8888888888888888,
              "#fdca26"
             ],
             [
              1,
              "#f0f921"
             ]
            ],
            "type": "histogram2d"
           }
          ],
          "histogram2dcontour": [
           {
            "colorbar": {
             "outlinewidth": 0,
             "ticks": ""
            },
            "colorscale": [
             [
              0,
              "#0d0887"
             ],
             [
              0.1111111111111111,
              "#46039f"
             ],
             [
              0.2222222222222222,
              "#7201a8"
             ],
             [
              0.3333333333333333,
              "#9c179e"
             ],
             [
              0.4444444444444444,
              "#bd3786"
             ],
             [
              0.5555555555555556,
              "#d8576b"
             ],
             [
              0.6666666666666666,
              "#ed7953"
             ],
             [
              0.7777777777777778,
              "#fb9f3a"
             ],
             [
              0.8888888888888888,
              "#fdca26"
             ],
             [
              1,
              "#f0f921"
             ]
            ],
            "type": "histogram2dcontour"
           }
          ],
          "mesh3d": [
           {
            "colorbar": {
             "outlinewidth": 0,
             "ticks": ""
            },
            "type": "mesh3d"
           }
          ],
          "parcoords": [
           {
            "line": {
             "colorbar": {
              "outlinewidth": 0,
              "ticks": ""
             }
            },
            "type": "parcoords"
           }
          ],
          "pie": [
           {
            "automargin": true,
            "type": "pie"
           }
          ],
          "scatter": [
           {
            "fillpattern": {
             "fillmode": "overlay",
             "size": 10,
             "solidity": 0.2
            },
            "type": "scatter"
           }
          ],
          "scatter3d": [
           {
            "line": {
             "colorbar": {
              "outlinewidth": 0,
              "ticks": ""
             }
            },
            "marker": {
             "colorbar": {
              "outlinewidth": 0,
              "ticks": ""
             }
            },
            "type": "scatter3d"
           }
          ],
          "scattercarpet": [
           {
            "marker": {
             "colorbar": {
              "outlinewidth": 0,
              "ticks": ""
             }
            },
            "type": "scattercarpet"
           }
          ],
          "scattergeo": [
           {
            "marker": {
             "colorbar": {
              "outlinewidth": 0,
              "ticks": ""
             }
            },
            "type": "scattergeo"
           }
          ],
          "scattergl": [
           {
            "marker": {
             "colorbar": {
              "outlinewidth": 0,
              "ticks": ""
             }
            },
            "type": "scattergl"
           }
          ],
          "scattermap": [
           {
            "marker": {
             "colorbar": {
              "outlinewidth": 0,
              "ticks": ""
             }
            },
            "type": "scattermap"
           }
          ],
          "scattermapbox": [
           {
            "marker": {
             "colorbar": {
              "outlinewidth": 0,
              "ticks": ""
             }
            },
            "type": "scattermapbox"
           }
          ],
          "scatterpolar": [
           {
            "marker": {
             "colorbar": {
              "outlinewidth": 0,
              "ticks": ""
             }
            },
            "type": "scatterpolar"
           }
          ],
          "scatterpolargl": [
           {
            "marker": {
             "colorbar": {
              "outlinewidth": 0,
              "ticks": ""
             }
            },
            "type": "scatterpolargl"
           }
          ],
          "scatterternary": [
           {
            "marker": {
             "colorbar": {
              "outlinewidth": 0,
              "ticks": ""
             }
            },
            "type": "scatterternary"
           }
          ],
          "surface": [
           {
            "colorbar": {
             "outlinewidth": 0,
             "ticks": ""
            },
            "colorscale": [
             [
              0,
              "#0d0887"
             ],
             [
              0.1111111111111111,
              "#46039f"
             ],
             [
              0.2222222222222222,
              "#7201a8"
             ],
             [
              0.3333333333333333,
              "#9c179e"
             ],
             [
              0.4444444444444444,
              "#bd3786"
             ],
             [
              0.5555555555555556,
              "#d8576b"
             ],
             [
              0.6666666666666666,
              "#ed7953"
             ],
             [
              0.7777777777777778,
              "#fb9f3a"
             ],
             [
              0.8888888888888888,
              "#fdca26"
             ],
             [
              1,
              "#f0f921"
             ]
            ],
            "type": "surface"
           }
          ],
          "table": [
           {
            "cells": {
             "fill": {
              "color": "#EBF0F8"
             },
             "line": {
              "color": "white"
             }
            },
            "header": {
             "fill": {
              "color": "#C8D4E3"
             },
             "line": {
              "color": "white"
             }
            },
            "type": "table"
           }
          ]
         },
         "layout": {
          "annotationdefaults": {
           "arrowcolor": "#2a3f5f",
           "arrowhead": 0,
           "arrowwidth": 1
          },
          "autotypenumbers": "strict",
          "coloraxis": {
           "colorbar": {
            "outlinewidth": 0,
            "ticks": ""
           }
          },
          "colorscale": {
           "diverging": [
            [
             0,
             "#8e0152"
            ],
            [
             0.1,
             "#c51b7d"
            ],
            [
             0.2,
             "#de77ae"
            ],
            [
             0.3,
             "#f1b6da"
            ],
            [
             0.4,
             "#fde0ef"
            ],
            [
             0.5,
             "#f7f7f7"
            ],
            [
             0.6,
             "#e6f5d0"
            ],
            [
             0.7,
             "#b8e186"
            ],
            [
             0.8,
             "#7fbc41"
            ],
            [
             0.9,
             "#4d9221"
            ],
            [
             1,
             "#276419"
            ]
           ],
           "sequential": [
            [
             0,
             "#0d0887"
            ],
            [
             0.1111111111111111,
             "#46039f"
            ],
            [
             0.2222222222222222,
             "#7201a8"
            ],
            [
             0.3333333333333333,
             "#9c179e"
            ],
            [
             0.4444444444444444,
             "#bd3786"
            ],
            [
             0.5555555555555556,
             "#d8576b"
            ],
            [
             0.6666666666666666,
             "#ed7953"
            ],
            [
             0.7777777777777778,
             "#fb9f3a"
            ],
            [
             0.8888888888888888,
             "#fdca26"
            ],
            [
             1,
             "#f0f921"
            ]
           ],
           "sequentialminus": [
            [
             0,
             "#0d0887"
            ],
            [
             0.1111111111111111,
             "#46039f"
            ],
            [
             0.2222222222222222,
             "#7201a8"
            ],
            [
             0.3333333333333333,
             "#9c179e"
            ],
            [
             0.4444444444444444,
             "#bd3786"
            ],
            [
             0.5555555555555556,
             "#d8576b"
            ],
            [
             0.6666666666666666,
             "#ed7953"
            ],
            [
             0.7777777777777778,
             "#fb9f3a"
            ],
            [
             0.8888888888888888,
             "#fdca26"
            ],
            [
             1,
             "#f0f921"
            ]
           ]
          },
          "colorway": [
           "#636efa",
           "#EF553B",
           "#00cc96",
           "#ab63fa",
           "#FFA15A",
           "#19d3f3",
           "#FF6692",
           "#B6E880",
           "#FF97FF",
           "#FECB52"
          ],
          "font": {
           "color": "#2a3f5f"
          },
          "geo": {
           "bgcolor": "white",
           "lakecolor": "white",
           "landcolor": "#E5ECF6",
           "showlakes": true,
           "showland": true,
           "subunitcolor": "white"
          },
          "hoverlabel": {
           "align": "left"
          },
          "hovermode": "closest",
          "mapbox": {
           "style": "light"
          },
          "paper_bgcolor": "white",
          "plot_bgcolor": "#E5ECF6",
          "polar": {
           "angularaxis": {
            "gridcolor": "white",
            "linecolor": "white",
            "ticks": ""
           },
           "bgcolor": "#E5ECF6",
           "radialaxis": {
            "gridcolor": "white",
            "linecolor": "white",
            "ticks": ""
           }
          },
          "scene": {
           "xaxis": {
            "backgroundcolor": "#E5ECF6",
            "gridcolor": "white",
            "gridwidth": 2,
            "linecolor": "white",
            "showbackground": true,
            "ticks": "",
            "zerolinecolor": "white"
           },
           "yaxis": {
            "backgroundcolor": "#E5ECF6",
            "gridcolor": "white",
            "gridwidth": 2,
            "linecolor": "white",
            "showbackground": true,
            "ticks": "",
            "zerolinecolor": "white"
           },
           "zaxis": {
            "backgroundcolor": "#E5ECF6",
            "gridcolor": "white",
            "gridwidth": 2,
            "linecolor": "white",
            "showbackground": true,
            "ticks": "",
            "zerolinecolor": "white"
           }
          },
          "shapedefaults": {
           "line": {
            "color": "#2a3f5f"
           }
          },
          "ternary": {
           "aaxis": {
            "gridcolor": "white",
            "linecolor": "white",
            "ticks": ""
           },
           "baxis": {
            "gridcolor": "white",
            "linecolor": "white",
            "ticks": ""
           },
           "bgcolor": "#E5ECF6",
           "caxis": {
            "gridcolor": "white",
            "linecolor": "white",
            "ticks": ""
           }
          },
          "title": {
           "x": 0.05
          },
          "xaxis": {
           "automargin": true,
           "gridcolor": "white",
           "linecolor": "white",
           "ticks": "",
           "title": {
            "standoff": 15
           },
           "zerolinecolor": "white",
           "zerolinewidth": 2
          },
          "yaxis": {
           "automargin": true,
           "gridcolor": "white",
           "linecolor": "white",
           "ticks": "",
           "title": {
            "standoff": 15
           },
           "zerolinecolor": "white",
           "zerolinewidth": 2
          }
         }
        },
        "title": {
         "text": "Frequency of Opinions on Music Effects on Mental Health"
        }
       }
      },
      "image/png": "[encoded data removed]"
     },
     "metadata": {},
     "output_type": "display_data"
    }
   ],
   "source": [
    "my_cols = 'Music effects'\n",
    "fig = px.pie(df[my_cols].dropna(),\n",
    "             names=my_cols,\n",
    "             title=\"Frequency of Opinions on Music Effects on Mental Health\")\n",
    "fig.update_layout(legend_title_text=my_cols)\n",
    "fig.show()"
   ]
  },
  {
   "cell_type": "markdown",
   "id": "05eadbc9-7110-40b4-bf26-ff8840e07e70",
   "metadata": {},
   "source": [
    "The majority of observations reported that listening to music improves their mental health (74.5%). A very small minority of observations reported that listening to music worsened their mental health (2.34%)."
   ]
  },
  {
   "cell_type": "markdown",
   "id": "dfd038d2-28ac-4e3b-b5a1-05839c12b0ab",
   "metadata": {
    "jp-MarkdownHeadingCollapsed": true
   },
   "source": [
    "## Is there a potential correlation between music listening habits and mental health?"
   ]
  },
  {
   "cell_type": "markdown",
   "id": "f4752bdf-4dd3-4199-a3d6-4c337ca1ffa2",
   "metadata": {
    "jp-MarkdownHeadingCollapsed": true
   },
   "source": [
    "### Favorite Genre"
   ]
  },
  {
   "cell_type": "markdown",
   "id": "794e1287-56c7-4190-b387-f4cee50c4550",
   "metadata": {
    "jp-MarkdownHeadingCollapsed": true
   },
   "source": [
    "#### Clean up data"
   ]
  },
  {
   "cell_type": "code",
   "execution_count": 266,
   "id": "5785b01d-c0cd-4442-b4b6-18980d1131d6",
   "metadata": {},
   "outputs": [
    {
     "data": {
      "text/plain": [
       "Fav genre\n",
       "Rock                188\n",
       "Pop                 114\n",
       "Metal                88\n",
       "Classical            53\n",
       "Video game music     44\n",
       "EDM                  37\n",
       "Hip hop              35\n",
       "R&B                  35\n",
       "Folk                 30\n",
       "K pop                26\n",
       "Country              25\n",
       "Rap                  22\n",
       "Jazz                 20\n",
       "Lofi                 10\n",
       "Gospel                6\n",
       "Latin                 3\n",
       "Name: count, dtype: int64"
      ]
     },
     "execution_count": 266,
     "metadata": {},
     "output_type": "execute_result"
    }
   ],
   "source": [
    "df['Fav genre'].value_counts()"
   ]
  },
  {
   "cell_type": "markdown",
   "id": "f77a8cdb-03e5-49fd-80f3-c80837626f08",
   "metadata": {},
   "source": [
    "Some categories of favorite genres have very low value counts. Having a small sample size for an individual genre will make its analysis less applicable and reliable. Therefore, we will drop genres with value counts less than 30."
   ]
  },
  {
   "cell_type": "code",
   "execution_count": 280,
   "id": "49e17ca1-0c2e-4f7f-9730-4c676fd12dfa",
   "metadata": {},
   "outputs": [
    {
     "data": {
      "text/plain": [
       "Fav genre\n",
       "Rock                188\n",
       "Pop                 114\n",
       "Metal                88\n",
       "Classical            53\n",
       "Video game music     44\n",
       "EDM                  37\n",
       "R&B                  35\n",
       "Hip hop              35\n",
       "Folk                 30\n",
       "Name: count, dtype: int64"
      ]
     },
     "execution_count": 280,
     "metadata": {},
     "output_type": "execute_result"
    }
   ],
   "source": [
    "# create list of valid genres with value counts greater than or equal to 30\n",
    "valid_genres = df['Fav genre'].value_counts()[lambda x: x>=30].index\n",
    "# only keep rows that have favorite genres in the valid genres list\n",
    "df = df[df['Fav genre'].isin(valid_genres)]\n",
    "# verify less frequent genres are gone\n",
    "df['Fav genre'].value_counts()"
   ]
  },
  {
   "cell_type": "markdown",
   "id": "40a291c7-f29e-4e5b-8598-0fcfaec93c39",
   "metadata": {
    "jp-MarkdownHeadingCollapsed": true
   },
   "source": [
    "#### Anxiety"
   ]
  },
  {
   "cell_type": "code",
   "execution_count": 295,
   "id": "9efd7916-8d40-4d1c-90c4-a69963e7733e",
   "metadata": {},
   "outputs": [
    {
     "data": {
      "application/vnd.plotly.v1+json": {
       "config": {
        "plotlyServerURL": "https://plot.ly"
       },
       "data": [
        {
         "alignmentgroup": "True",
         "hovertemplate": "Fav genre=%{x}<br>Anxiety=%{y}<extra></extra>",
         "legendgroup": "Rock",
         "marker": {
          "color": "#636efa"
         },
         "name": "Rock",
         "notched": false,
         "offsetgroup": "Rock",
         "orientation": "v",
         "showlegend": true,
         "type": "box",
         "x": [
          "Rock",
          "Rock",
          "Rock",
          "Rock",
          "Rock",
          "Rock",
          "Rock",
          "Rock",
          "Rock",
          "Rock",
          "Rock",
          "Rock",
          "Rock",
          "Rock",
          "Rock",
          "Rock",
          "Rock",
          "Rock",
          "Rock",
          "Rock",
          "Rock",
          "Rock",
          "Rock",
          "Rock",
          "Rock",
          "Rock",
          "Rock",
          "Rock",
          "Rock",
          "Rock",
          "Rock",
          "Rock",
          "Rock",
          "Rock",
          "Rock",
          "Rock",
          "Rock",
          "Rock",
          "Rock",
          "Rock",
          "Rock",
          "Rock",
          "Rock",
          "Rock",
          "Rock",
          "Rock",
          "Rock",
          "Rock",
          "Rock",
          "Rock",
          "Rock",
          "Rock",
          "Rock",
          "Rock",
          "Rock",
          "Rock",
          "Rock",
          "Rock",
          "Rock",
          "Rock",
          "Rock",
          "Rock",
          "Rock",
          "Rock",
          "Rock",
          "Rock",
          "Rock",
          "Rock",
          "Rock",
          "Rock",
          "Rock",
          "Rock",
          "Rock",
          "Rock",
          "Rock",
          "Rock",
          "Rock",
          "Rock",
          "Rock",
          "Rock",
          "Rock",
          "Rock",
          "Rock",
          "Rock",
          "Rock",
          "Rock",
          "Rock",
          "Rock",
          "Rock",
          "Rock",
          "Rock",
          "Rock",
          "Rock",
          "Rock",
          "Rock",
          "Rock",
          "Rock",
          "Rock",
          "Rock",
          "Rock",
          "Rock",
          "Rock",
          "Rock",
          "Rock",
          "Rock",
          "Rock",
          "Rock",
          "Rock",
          "Rock",
          "Rock",
          "Rock",
          "Rock",
          "Rock",
          "Rock",
          "Rock",
          "Rock",
          "Rock",
          "Rock",
          "Rock",
          "Rock",
          "Rock",
          "Rock",
          "Rock",
          "Rock",
          "Rock",
          "Rock",
          "Rock",
          "Rock",
          "Rock",
          "Rock",
          "Rock",
          "Rock",
          "Rock",
          "Rock",
          "Rock",
          "Rock",
          "Rock",
          "Rock",
          "Rock",
          "Rock",
          "Rock",
          "Rock",
          "Rock",
          "Rock",
          "Rock",
          "Rock",
          "Rock",
          "Rock",
          "Rock",
          "Rock",
          "Rock",
          "Rock",
          "Rock",
          "Rock",
          "Rock",
          "Rock",
          "Rock",
          "Rock",
          "Rock",
          "Rock",
          "Rock",
          "Rock",
          "Rock",
          "Rock",
          "Rock",
          "Rock",
          "Rock",
          "Rock",
          "Rock",
          "Rock",
          "Rock",
          "Rock",
          "Rock",
          "Rock",
          "Rock",
          "Rock",
          "Rock",
          "Rock",
          "Rock",
          "Rock",
          "Rock",
          "Rock",
          "Rock",
          "Rock",
          "Rock",
          "Rock",
          "Rock",
          "Rock"
         ],
         "x0": " ",
         "xaxis": "x",
         "y": {
          "bdata": "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",
          "dtype": "f8"
         },
         "y0": " ",
         "yaxis": "y"
        },
        {
         "alignmentgroup": "True",
         "hovertemplate": "Fav genre=%{x}<br>Anxiety=%{y}<extra></extra>",
         "legendgroup": "Pop",
         "marker": {
          "color": "#EF553B"
         },
         "name": "Pop",
         "notched": false,
         "offsetgroup": "Pop",
         "orientation": "v",
         "showlegend": true,
         "type": "box",
         "x": [
          "Pop",
          "Pop",
          "Pop",
          "Pop",
          "Pop",
          "Pop",
          "Pop",
          "Pop",
          "Pop",
          "Pop",
          "Pop",
          "Pop",
          "Pop",
          "Pop",
          "Pop",
          "Pop",
          "Pop",
          "Pop",
          "Pop",
          "Pop",
          "Pop",
          "Pop",
          "Pop",
          "Pop",
          "Pop",
          "Pop",
          "Pop",
          "Pop",
          "Pop",
          "Pop",
          "Pop",
          "Pop",
          "Pop",
          "Pop",
          "Pop",
          "Pop",
          "Pop",
          "Pop",
          "Pop",
          "Pop",
          "Pop",
          "Pop",
          "Pop",
          "Pop",
          "Pop",
          "Pop",
          "Pop",
          "Pop",
          "Pop",
          "Pop",
          "Pop",
          "Pop",
          "Pop",
          "Pop",
          "Pop",
          "Pop",
          "Pop",
          "Pop",
          "Pop",
          "Pop",
          "Pop",
          "Pop",
          "Pop",
          "Pop",
          "Pop",
          "Pop",
          "Pop",
          "Pop",
          "Pop",
          "Pop",
          "Pop",
          "Pop",
          "Pop",
          "Pop",
          "Pop",
          "Pop",
          "Pop",
          "Pop",
          "Pop",
          "Pop",
          "Pop",
          "Pop",
          "Pop",
          "Pop",
          "Pop",
          "Pop",
          "Pop",
          "Pop",
          "Pop",
          "Pop",
          "Pop",
          "Pop",
          "Pop",
          "Pop",
          "Pop",
          "Pop",
          "Pop",
          "Pop",
          "Pop",
          "Pop",
          "Pop",
          "Pop",
          "Pop",
          "Pop",
          "Pop",
          "Pop",
          "Pop",
          "Pop",
          "Pop",
          "Pop",
          "Pop",
          "Pop",
          "Pop",
          "Pop"
         ],
         "x0": " ",
         "xaxis": "x",
         "y": {
          "bdata": "AAAAAAAAHEAAAAAAAAAIQAAAAAAAABxAAAAAAAAACEAAAAAAAAAYQAAAAAAAACBAAAAAAAAACEAAAAAAAAAYQAAAAAAAAABAAAAAAAAAHEAAAAAAAAAIQAAAAAAAACJAAAAAAAAAHEAAAAAAAAAcQAAAAAAAABxAAAAAAAAAEEAAAAAAAAAkQAAAAAAAABhAAAAAAAAAAAAAAAAAAAAYQAAAAAAAAAAAAAAAAAAAGEAAAAAAAAAcQAAAAAAAABRAAAAAAAAAHEAAAAAAAAAYQAAAAAAAACBAAAAAAAAAJEAAAAAAAAAkQAAAAAAAABxAAAAAAAAAIEAAAAAAAAAcQAAAAAAAAABAAAAAAAAAEEAAAAAAAAAAQAAAAAAAACJAAAAAAAAAFEAAAAAAAAAAQAAAAAAAACJAAAAAAAAAHEAAAAAAAAAiQAAAAAAAABRAAAAAAAAACEAAAAAAAAAgQAAAAAAAACBAAAAAAAAACEAAAAAAAAAYQAAAAAAAABxAAAAAAAAAHEAAAAAAAAAgQAAAAAAAAPA/AAAAAAAA8D8AAAAAAAAAQAAAAAAAABhAAAAAAAAAHEAAAAAAAAAiQAAAAAAAABxAAAAAAAAACEAAAAAAAAAgQAAAAAAAABhAAAAAAAAAGEAAAAAAAAAYQAAAAAAAABhAAAAAAAAAIkAAAAAAAAAgQAAAAAAAAB5AAAAAAAAAGEAAAAAAAAAcQAAAAAAAABBAAAAAAAAAIkAAAAAAAAAcQAAAAAAAABxAAAAAAAAAEEAAAAAAAAAYQAAAAAAAABxAAAAAAAAAHEAAAAAAAAAYQAAAAAAAACBAAAAAAAAAIEAAAAAAAAAgQAAAAAAAABRAAAAAAAAACEAAAAAAAAAUQAAAAAAAAPA/AAAAAAAAFEAAAAAAAAAUQAAAAAAAACRAAAAAAAAACEAAAAAAAAAkQAAAAAAAABhAAAAAAAAAGEAAAAAAAAAgQAAAAAAAABhAAAAAAAAAGEAAAAAAAAAUQAAAAAAAAAhAAAAAAAAAFEAAAAAAAAAcQAAAAAAAACJAAAAAAAAAJEAAAAAAAAAYQAAAAAAAABRAAAAAAAAAHEAAAAAAAAAUQAAAAAAAACBAAAAAAAAAIkAAAAAAAAAUQAAAAAAAABBAAAAAAAAAJEAAAAAAAAAgQAAAAAAAACRAAAAAAAAAGEAAAAAAAAAYQAAAAAAAAAhA",
          "dtype": "f8"
         },
         "y0": " ",
         "yaxis": "y"
        },
        {
         "alignmentgroup": "True",
         "hovertemplate": "Fav genre=%{x}<br>Anxiety=%{y}<extra></extra>",
         "legendgroup": "Metal",
         "marker": {
          "color": "#00cc96"
         },
         "name": "Metal",
         "notched": false,
         "offsetgroup": "Metal",
         "orientation": "v",
         "showlegend": true,
         "type": "box",
         "x": [
          "Metal",
          "Metal",
          "Metal",
          "Metal",
          "Metal",
          "Metal",
          "Metal",
          "Metal",
          "Metal",
          "Metal",
          "Metal",
          "Metal",
          "Metal",
          "Metal",
          "Metal",
          "Metal",
          "Metal",
          "Metal",
          "Metal",
          "Metal",
          "Metal",
          "Metal",
          "Metal",
          "Metal",
          "Metal",
          "Metal",
          "Metal",
          "Metal",
          "Metal",
          "Metal",
          "Metal",
          "Metal",
          "Metal",
          "Metal",
          "Metal",
          "Metal",
          "Metal",
          "Metal",
          "Metal",
          "Metal",
          "Metal",
          "Metal",
          "Metal",
          "Metal",
          "Metal",
          "Metal",
          "Metal",
          "Metal",
          "Metal",
          "Metal",
          "Metal",
          "Metal",
          "Metal",
          "Metal",
          "Metal",
          "Metal",
          "Metal",
          "Metal",
          "Metal",
          "Metal",
          "Metal",
          "Metal",
          "Metal",
          "Metal",
          "Metal",
          "Metal",
          "Metal",
          "Metal",
          "Metal",
          "Metal",
          "Metal",
          "Metal",
          "Metal",
          "Metal",
          "Metal",
          "Metal",
          "Metal",
          "Metal",
          "Metal",
          "Metal",
          "Metal",
          "Metal",
          "Metal",
          "Metal",
          "Metal",
          "Metal",
          "Metal",
          "Metal"
         ],
         "x0": " ",
         "xaxis": "x",
         "y": {
          "bdata": "AAAAAAAAIkAAAAAAAADwPwAAAAAAABxAAAAAAAAAFEAAAAAAAAAUQAAAAAAAACRAAAAAAAAAEEAAAAAAAAAUQAAAAAAAABxAAAAAAAAAIkAAAAAAAAAQQAAAAAAAAAhAAAAAAAAAJEAAAAAAAAAgQAAAAAAAABhAAAAAAAAAJEAAAAAAAAAYQAAAAAAAABxAAAAAAAAAGEAAAAAAAAAUQAAAAAAAAAhAAAAAAAAA8D8AAAAAAAAYQAAAAAAAAAhAAAAAAAAAIEAAAAAAAAAYQAAAAAAAAPA/AAAAAAAAAAAAAAAAAADwPwAAAAAAACRAAAAAAAAAIEAAAAAAAAAgQAAAAAAAAAhAAAAAAAAAHEAAAAAAAAAYQAAAAAAAAAAAAAAAAAAAIkAAAAAAAAAUQAAAAAAAABxAAAAAAAAAIEAAAAAAAAAUQAAAAAAAABhAAAAAAAAAHEAAAAAAAAAcQAAAAAAAACBAAAAAAAAAIkAAAAAAAAAiQAAAAAAAACBAAAAAAAAAFEAAAAAAAAAiQAAAAAAAABBAAAAAAAAA8D8AAAAAAAAAQAAAAAAAABBAAAAAAAAA8D8AAAAAAAAAQAAAAAAAACRAAAAAAAAACEAAAAAAAADwPwAAAAAAAAhAAAAAAAAAGEAAAAAAAAAkQAAAAAAAABxAAAAAAAAAIEAAAAAAAAAgQAAAAAAAABxAAAAAAAAAIkAAAAAAAAAAAAAAAAAAACRAAAAAAAAAEEAAAAAAAAAcQAAAAAAAAABAAAAAAAAAJEAAAAAAAAAUQAAAAAAAABxAAAAAAAAAJEAAAAAAAAAcQAAAAAAAABRAAAAAAAAA8D8AAAAAAAAQQAAAAAAAABhAAAAAAAAAFEAAAAAAAAAkQAAAAAAAAAhAAAAAAAAAIEAAAAAAAAAiQAAAAAAAACBAAAAAAAAAAAA=",
          "dtype": "f8"
         },
         "y0": " ",
         "yaxis": "y"
        },
        {
         "alignmentgroup": "True",
         "hovertemplate": "Fav genre=%{x}<br>Anxiety=%{y}<extra></extra>",
         "legendgroup": "Classical",
         "marker": {
          "color": "#ab63fa"
         },
         "name": "Classical",
         "notched": false,
         "offsetgroup": "Classical",
         "orientation": "v",
         "showlegend": true,
         "type": "box",
         "x": [
          "Classical",
          "Classical",
          "Classical",
          "Classical",
          "Classical",
          "Classical",
          "Classical",
          "Classical",
          "Classical",
          "Classical",
          "Classical",
          "Classical",
          "Classical",
          "Classical",
          "Classical",
          "Classical",
          "Classical",
          "Classical",
          "Classical",
          "Classical",
          "Classical",
          "Classical",
          "Classical",
          "Classical",
          "Classical",
          "Classical",
          "Classical",
          "Classical",
          "Classical",
          "Classical",
          "Classical",
          "Classical",
          "Classical",
          "Classical",
          "Classical",
          "Classical",
          "Classical",
          "Classical",
          "Classical",
          "Classical",
          "Classical",
          "Classical",
          "Classical",
          "Classical",
          "Classical",
          "Classical",
          "Classical",
          "Classical",
          "Classical",
          "Classical",
          "Classical",
          "Classical",
          "Classical"
         ],
         "x0": " ",
         "xaxis": "x",
         "y": {
          "bdata": "AAAAAAAAEEAAAAAAAAAAAAAAAAAAABhAAAAAAAAAIEAAAAAAAAAAAAAAAAAAABBAAAAAAAAA8D8AAAAAAAAIQAAAAAAAABhAAAAAAAAAGEAAAAAAAAAcQAAAAAAAABxAAAAAAAAACEAAAAAAAAAUQAAAAAAAABBAAAAAAAAAIEAAAAAAAAAiQAAAAAAAABxAAAAAAAAAAAAAAAAAAAAiQAAAAAAAAABAAAAAAAAAHEAAAAAAAAAgQAAAAAAAABhAAAAAAAAA8D8AAAAAAAAYQAAAAAAAACBAAAAAAAAAIkAAAAAAAAAcQAAAAAAAABxAAAAAAAAA8D8AAAAAAAAgQAAAAAAAAAhAAAAAAAAAAEAAAAAAAAAgQAAAAAAAABxAAAAAAAAAIEAAAAAAAAAcQAAAAAAAAAAAAAAAAAAACEAAAAAAAAAUQAAAAAAAABxAAAAAAAAAAAAAAAAAAAAUQAAAAAAAACBAAAAAAAAAAAAAAAAAAAAIQAAAAAAAABBAAAAAAAAAHEAAAAAAAAAQQAAAAAAAAABAAAAAAAAAHEAAAAAAAAAAQA==",
          "dtype": "f8"
         },
         "y0": " ",
         "yaxis": "y"
        },
        {
         "alignmentgroup": "True",
         "hovertemplate": "Fav genre=%{x}<br>Anxiety=%{y}<extra></extra>",
         "legendgroup": "Video game music",
         "marker": {
          "color": "#FFA15A"
         },
         "name": "Video game music",
         "notched": false,
         "offsetgroup": "Video game music",
         "orientation": "v",
         "showlegend": true,
         "type": "box",
         "x": [
          "Video game music",
          "Video game music",
          "Video game music",
          "Video game music",
          "Video game music",
          "Video game music",
          "Video game music",
          "Video game music",
          "Video game music",
          "Video game music",
          "Video game music",
          "Video game music",
          "Video game music",
          "Video game music",
          "Video game music",
          "Video game music",
          "Video game music",
          "Video game music",
          "Video game music",
          "Video game music",
          "Video game music",
          "Video game music",
          "Video game music",
          "Video game music",
          "Video game music",
          "Video game music",
          "Video game music",
          "Video game music",
          "Video game music",
          "Video game music",
          "Video game music",
          "Video game music",
          "Video game music",
          "Video game music",
          "Video game music",
          "Video game music",
          "Video game music",
          "Video game music",
          "Video game music",
          "Video game music",
          "Video game music",
          "Video game music",
          "Video game music",
          "Video game music"
         ],
         "x0": " ",
         "xaxis": "x",
         "y": {
          "bdata": "AAAAAAAAHEAAAAAAAAAQQAAAAAAAABBAAAAAAAAACEAAAAAAAAAcQAAAAAAAABRAAAAAAAAAIEAAAAAAAAAYQAAAAAAAACBAAAAAAAAAEEAAAAAAAAAIQAAAAAAAABxAAAAAAAAAGEAAAAAAAAAIQAAAAAAAABhAAAAAAAAAGEAAAAAAAAAgQAAAAAAAACBAAAAAAAAAFEAAAAAAAAAgQAAAAAAAACRAAAAAAAAAFEAAAAAAAAAIQAAAAAAAACRAAAAAAAAAEEAAAAAAAAAUQAAAAAAAACJAAAAAAAAAIEAAAAAAAAAgQAAAAAAAABBAAAAAAAAACEAAAAAAAAAcQAAAAAAAABBAAAAAAAAAEEAAAAAAAAAQQAAAAAAAABxAAAAAAAAAEEAAAAAAAAAAAAAAAAAAAABAAAAAAAAAGEAAAAAAAAAkQAAAAAAAABhAAAAAAAAAJEAAAAAAAAAkQA==",
          "dtype": "f8"
         },
         "y0": " ",
         "yaxis": "y"
        },
        {
         "alignmentgroup": "True",
         "hovertemplate": "Fav genre=%{x}<br>Anxiety=%{y}<extra></extra>",
         "legendgroup": "EDM",
         "marker": {
          "color": "#19d3f3"
         },
         "name": "EDM",
         "notched": false,
         "offsetgroup": "EDM",
         "orientation": "v",
         "showlegend": true,
         "type": "box",
         "x": [
          "EDM",
          "EDM",
          "EDM",
          "EDM",
          "EDM",
          "EDM",
          "EDM",
          "EDM",
          "EDM",
          "EDM",
          "EDM",
          "EDM",
          "EDM",
          "EDM",
          "EDM",
          "EDM",
          "EDM",
          "EDM",
          "EDM",
          "EDM",
          "EDM",
          "EDM",
          "EDM",
          "EDM",
          "EDM",
          "EDM",
          "EDM",
          "EDM",
          "EDM",
          "EDM",
          "EDM",
          "EDM",
          "EDM",
          "EDM",
          "EDM",
          "EDM",
          "EDM"
         ],
         "x0": " ",
         "xaxis": "x",
         "y": {
          "bdata": "AAAAAAAA8D8AAAAAAAAcQAAAAAAAAAAAAAAAAAAAIkAAAAAAAAAAAAAAAAAAAABAAAAAAAAAEEAAAAAAAAAIQAAAAAAAAAAAAAAAAAAAGEAAAAAAAAAgQAAAAAAAABhAAAAAAAAAIEAAAAAAAAAkQAAAAAAAACJAAAAAAAAAIkAAAAAAAAAAAAAAAAAAABBAAAAAAAAAGEAAAAAAAAAUQAAAAAAAACRAAAAAAAAAEEAAAAAAAAAkQAAAAAAAACBAAAAAAAAAJEAAAAAAAAAkQAAAAAAAABxAAAAAAAAAFEAAAAAAAAAYQAAAAAAAABRAAAAAAAAAIEAAAAAAAADwPwAAAAAAAAAAAAAAAAAAAEAAAAAAAAAcQAAAAAAAABBAAAAAAAAAIkA=",
          "dtype": "f8"
         },
         "y0": " ",
         "yaxis": "y"
        },
        {
         "alignmentgroup": "True",
         "hovertemplate": "Fav genre=%{x}<br>Anxiety=%{y}<extra></extra>",
         "legendgroup": "R&B",
         "marker": {
          "color": "#FF6692"
         },
         "name": "R&B",
         "notched": false,
         "offsetgroup": "R&B",
         "orientation": "v",
         "showlegend": true,
         "type": "box",
         "x": [
          "R&B",
          "R&B",
          "R&B",
          "R&B",
          "R&B",
          "R&B",
          "R&B",
          "R&B",
          "R&B",
          "R&B",
          "R&B",
          "R&B",
          "R&B",
          "R&B",
          "R&B",
          "R&B",
          "R&B",
          "R&B",
          "R&B",
          "R&B",
          "R&B",
          "R&B",
          "R&B",
          "R&B",
          "R&B",
          "R&B",
          "R&B",
          "R&B",
          "R&B",
          "R&B",
          "R&B",
          "R&B",
          "R&B",
          "R&B",
          "R&B"
         ],
         "x0": " ",
         "xaxis": "x",
         "y": {
          "bdata": "AAAAAAAAHEAAAAAAAAAAQAAAAAAAABhAAAAAAAAAHEAAAAAAAAAUQAAAAAAAAAhAAAAAAAAA8D8AAAAAAAAUQAAAAAAAABxAAAAAAAAAGEAAAAAAAAAiQAAAAAAAACBAAAAAAAAAAEAAAAAAAAAiQAAAAAAAABRAAAAAAAAAJEAAAAAAAAAIQAAAAAAAAABAAAAAAAAACEAAAAAAAAAIQAAAAAAAABhAAAAAAAAACEAAAAAAAADwPwAAAAAAAAhAAAAAAAAAAEAAAAAAAAAkQAAAAAAAAABAAAAAAAAACEAAAAAAAAAQQAAAAAAAACBAAAAAAAAAHEAAAAAAAAAgQAAAAAAAABBAAAAAAAAAJEAAAAAAAAAcQA==",
          "dtype": "f8"
         },
         "y0": " ",
         "yaxis": "y"
        },
        {
         "alignmentgroup": "True",
         "hovertemplate": "Fav genre=%{x}<br>Anxiety=%{y}<extra></extra>",
         "legendgroup": "Hip hop",
         "marker": {
          "color": "#B6E880"
         },
         "name": "Hip hop",
         "notched": false,
         "offsetgroup": "Hip hop",
         "orientation": "v",
         "showlegend": true,
         "type": "box",
         "x": [
          "Hip hop",
          "Hip hop",
          "Hip hop",
          "Hip hop",
          "Hip hop",
          "Hip hop",
          "Hip hop",
          "Hip hop",
          "Hip hop",
          "Hip hop",
          "Hip hop",
          "Hip hop",
          "Hip hop",
          "Hip hop",
          "Hip hop",
          "Hip hop",
          "Hip hop",
          "Hip hop",
          "Hip hop",
          "Hip hop",
          "Hip hop",
          "Hip hop",
          "Hip hop",
          "Hip hop",
          "Hip hop",
          "Hip hop",
          "Hip hop",
          "Hip hop",
          "Hip hop",
          "Hip hop",
          "Hip hop",
          "Hip hop",
          "Hip hop",
          "Hip hop",
          "Hip hop"
         ],
         "x0": " ",
         "xaxis": "x",
         "y": {
          "bdata": "AAAAAAAAIkAAAAAAAAAgQAAAAAAAABRAAAAAAAAAHEAAAAAAAAAYQAAAAAAAACBAAAAAAAAAGEAAAAAAAAAcQAAAAAAAAABAAAAAAAAAAEAAAAAAAAAcQAAAAAAAACRAAAAAAAAAGEAAAAAAAAAgQAAAAAAAACBAAAAAAAAACEAAAAAAAAAIQAAAAAAAACRAAAAAAAAAFEAAAAAAAAAYQAAAAAAAABxAAAAAAAAAIEAAAAAAAAAIQAAAAAAAABBAAAAAAAAAJEAAAAAAAAAcQAAAAAAAACRAAAAAAAAAFEAAAAAAAAAgQAAAAAAAAAhAAAAAAAAACEAAAAAAAAAcQAAAAAAAABxAAAAAAAAAHEAAAAAAAAAAQA==",
          "dtype": "f8"
         },
         "y0": " ",
         "yaxis": "y"
        },
        {
         "alignmentgroup": "True",
         "hovertemplate": "Fav genre=%{x}<br>Anxiety=%{y}<extra></extra>",
         "legendgroup": "Folk",
         "marker": {
          "color": "#FF97FF"
         },
         "name": "Folk",
         "notched": false,
         "offsetgroup": "Folk",
         "orientation": "v",
         "showlegend": true,
         "type": "box",
         "x": [
          "Folk",
          "Folk",
          "Folk",
          "Folk",
          "Folk",
          "Folk",
          "Folk",
          "Folk",
          "Folk",
          "Folk",
          "Folk",
          "Folk",
          "Folk",
          "Folk",
          "Folk",
          "Folk",
          "Folk",
          "Folk",
          "Folk",
          "Folk",
          "Folk",
          "Folk",
          "Folk",
          "Folk",
          "Folk",
          "Folk",
          "Folk",
          "Folk",
          "Folk",
          "Folk"
         ],
         "x0": " ",
         "xaxis": "x",
         "y": {
          "bdata": "AAAAAAAAHEAAAAAAAAAYQAAAAAAAABBAAAAAAAAAIEAAAAAAAAAiQAAAAAAAACJAAAAAAAAAGEAAAAAAAAAgQAAAAAAAACJAAAAAAAAAAAAAAAAAAAAQQAAAAAAAAAAAAAAAAAAAIEAAAAAAAAAgQAAAAAAAABxAAAAAAAAAGEAAAAAAAAAIQAAAAAAAACBAAAAAAAAAJEAAAAAAAAAYQAAAAAAAACRAAAAAAAAAHEAAAAAAAAAgQAAAAAAAAAhAAAAAAAAAIEAAAAAAAAAQQAAAAAAAACBAAAAAAAAAIkAAAAAAAAAYQAAAAAAAACBA",
          "dtype": "f8"
         },
         "y0": " ",
         "yaxis": "y"
        }
       ],
       "layout": {
        "annotations": [
         {
          "showarrow": false,
          "text": "Overall Median: 6.0",
          "x": 1,
          "xanchor": "right",
          "xref": "x domain",
          "y": 6,
          "yanchor": "bottom",
          "yref": "y"
         }
        ],
        "boxmode": "overlay",
        "legend": {
         "title": {
          "text": "Fav genre"
         },
         "tracegroupgap": 0
        },
        "shapes": [
         {
          "line": {
           "color": "black",
           "dash": "dot"
          },
          "type": "line",
          "x0": 0,
          "x1": 1,
          "xref": "x domain",
          "y0": 6,
          "y1": 6,
          "yref": "y"
         }
        ],
        "showlegend": false,
        "template": {
         "data": {
          "bar": [
           {
            "error_x": {
             "color": "#2a3f5f"
            },
            "error_y": {
             "color": "#2a3f5f"
            },
            "marker": {
             "line": {
              "color": "#E5ECF6",
              "width": 0.5
             },
             "pattern": {
              "fillmode": "overlay",
              "size": 10,
              "solidity": 0.2
             }
            },
            "type": "bar"
           }
          ],
          "barpolar": [
           {
            "marker": {
             "line": {
              "color": "#E5ECF6",
              "width": 0.5
             },
             "pattern": {
              "fillmode": "overlay",
              "size": 10,
              "solidity": 0.2
             }
            },
            "type": "barpolar"
           }
          ],
          "carpet": [
           {
            "aaxis": {
             "endlinecolor": "#2a3f5f",
             "gridcolor": "white",
             "linecolor": "white",
             "minorgridcolor": "white",
             "startlinecolor": "#2a3f5f"
            },
            "baxis": {
             "endlinecolor": "#2a3f5f",
             "gridcolor": "white",
             "linecolor": "white",
             "minorgridcolor": "white",
             "startlinecolor": "#2a3f5f"
            },
            "type": "carpet"
           }
          ],
          "choropleth": [
           {
            "colorbar": {
             "outlinewidth": 0,
             "ticks": ""
            },
            "type": "choropleth"
           }
          ],
          "contour": [
           {
            "colorbar": {
             "outlinewidth": 0,
             "ticks": ""
            },
            "colorscale": [
             [
              0,
              "#0d0887"
             ],
             [
              0.1111111111111111,
              "#46039f"
             ],
             [
              0.2222222222222222,
              "#7201a8"
             ],
             [
              0.3333333333333333,
              "#9c179e"
             ],
             [
              0.4444444444444444,
              "#bd3786"
             ],
             [
              0.5555555555555556,
              "#d8576b"
             ],
             [
              0.6666666666666666,
              "#ed7953"
             ],
             [
              0.7777777777777778,
              "#fb9f3a"
             ],
             [
              0.8888888888888888,
              "#fdca26"
             ],
             [
              1,
              "#f0f921"
             ]
            ],
            "type": "contour"
           }
          ],
          "contourcarpet": [
           {
            "colorbar": {
             "outlinewidth": 0,
             "ticks": ""
            },
            "type": "contourcarpet"
           }
          ],
          "heatmap": [
           {
            "colorbar": {
             "outlinewidth": 0,
             "ticks": ""
            },
            "colorscale": [
             [
              0,
              "#0d0887"
             ],
             [
              0.1111111111111111,
              "#46039f"
             ],
             [
              0.2222222222222222,
              "#7201a8"
             ],
             [
              0.3333333333333333,
              "#9c179e"
             ],
             [
              0.4444444444444444,
              "#bd3786"
             ],
             [
              0.5555555555555556,
              "#d8576b"
             ],
             [
              0.6666666666666666,
              "#ed7953"
             ],
             [
              0.7777777777777778,
              "#fb9f3a"
             ],
             [
              0.8888888888888888,
              "#fdca26"
             ],
             [
              1,
              "#f0f921"
             ]
            ],
            "type": "heatmap"
           }
          ],
          "histogram": [
           {
            "marker": {
             "pattern": {
              "fillmode": "overlay",
              "size": 10,
              "solidity": 0.2
             }
            },
            "type": "histogram"
           }
          ],
          "histogram2d": [
           {
            "colorbar": {
             "outlinewidth": 0,
             "ticks": ""
            },
            "colorscale": [
             [
              0,
              "#0d0887"
             ],
             [
              0.1111111111111111,
              "#46039f"
             ],
             [
              0.2222222222222222,
              "#7201a8"
             ],
             [
              0.3333333333333333,
              "#9c179e"
             ],
             [
              0.4444444444444444,
              "#bd3786"
             ],
             [
              0.5555555555555556,
              "#d8576b"
             ],
             [
              0.6666666666666666,
              "#ed7953"
             ],
             [
              0.7777777777777778,
              "#fb9f3a"
             ],
             [
              0.8888888888888888,
              "#fdca26"
             ],
             [
              1,
              "#f0f921"
             ]
            ],
            "type": "histogram2d"
           }
          ],
          "histogram2dcontour": [
           {
            "colorbar": {
             "outlinewidth": 0,
             "ticks": ""
            },
            "colorscale": [
             [
              0,
              "#0d0887"
             ],
             [
              0.1111111111111111,
              "#46039f"
             ],
             [
              0.2222222222222222,
              "#7201a8"
             ],
             [
              0.3333333333333333,
              "#9c179e"
             ],
             [
              0.4444444444444444,
              "#bd3786"
             ],
             [
              0.5555555555555556,
              "#d8576b"
             ],
             [
              0.6666666666666666,
              "#ed7953"
             ],
             [
              0.7777777777777778,
              "#fb9f3a"
             ],
             [
              0.8888888888888888,
              "#fdca26"
             ],
             [
              1,
              "#f0f921"
             ]
            ],
            "type": "histogram2dcontour"
           }
          ],
          "mesh3d": [
           {
            "colorbar": {
             "outlinewidth": 0,
             "ticks": ""
            },
            "type": "mesh3d"
           }
          ],
          "parcoords": [
           {
            "line": {
             "colorbar": {
              "outlinewidth": 0,
              "ticks": ""
             }
            },
            "type": "parcoords"
           }
          ],
          "pie": [
           {
            "automargin": true,
            "type": "pie"
           }
          ],
          "scatter": [
           {
            "fillpattern": {
             "fillmode": "overlay",
             "size": 10,
             "solidity": 0.2
            },
            "type": "scatter"
           }
          ],
          "scatter3d": [
           {
            "line": {
             "colorbar": {
              "outlinewidth": 0,
              "ticks": ""
             }
            },
            "marker": {
             "colorbar": {
              "outlinewidth": 0,
              "ticks": ""
             }
            },
            "type": "scatter3d"
           }
          ],
          "scattercarpet": [
           {
            "marker": {
             "colorbar": {
              "outlinewidth": 0,
              "ticks": ""
             }
            },
            "type": "scattercarpet"
           }
          ],
          "scattergeo": [
           {
            "marker": {
             "colorbar": {
              "outlinewidth": 0,
              "ticks": ""
             }
            },
            "type": "scattergeo"
           }
          ],
          "scattergl": [
           {
            "marker": {
             "colorbar": {
              "outlinewidth": 0,
              "ticks": ""
             }
            },
            "type": "scattergl"
           }
          ],
          "scattermap": [
           {
            "marker": {
             "colorbar": {
              "outlinewidth": 0,
              "ticks": ""
             }
            },
            "type": "scattermap"
           }
          ],
          "scattermapbox": [
           {
            "marker": {
             "colorbar": {
              "outlinewidth": 0,
              "ticks": ""
             }
            },
            "type": "scattermapbox"
           }
          ],
          "scatterpolar": [
           {
            "marker": {
             "colorbar": {
              "outlinewidth": 0,
              "ticks": ""
             }
            },
            "type": "scatterpolar"
           }
          ],
          "scatterpolargl": [
           {
            "marker": {
             "colorbar": {
              "outlinewidth": 0,
              "ticks": ""
             }
            },
            "type": "scatterpolargl"
           }
          ],
          "scatterternary": [
           {
            "marker": {
             "colorbar": {
              "outlinewidth": 0,
              "ticks": ""
             }
            },
            "type": "scatterternary"
           }
          ],
          "surface": [
           {
            "colorbar": {
             "outlinewidth": 0,
             "ticks": ""
            },
            "colorscale": [
             [
              0,
              "#0d0887"
             ],
             [
              0.1111111111111111,
              "#46039f"
             ],
             [
              0.2222222222222222,
              "#7201a8"
             ],
             [
              0.3333333333333333,
              "#9c179e"
             ],
             [
              0.4444444444444444,
              "#bd3786"
             ],
             [
              0.5555555555555556,
              "#d8576b"
             ],
             [
              0.6666666666666666,
              "#ed7953"
             ],
             [
              0.7777777777777778,
              "#fb9f3a"
             ],
             [
              0.8888888888888888,
              "#fdca26"
             ],
             [
              1,
              "#f0f921"
             ]
            ],
            "type": "surface"
           }
          ],
          "table": [
           {
            "cells": {
             "fill": {
              "color": "#EBF0F8"
             },
             "line": {
              "color": "white"
             }
            },
            "header": {
             "fill": {
              "color": "#C8D4E3"
             },
             "line": {
              "color": "white"
             }
            },
            "type": "table"
           }
          ]
         },
         "layout": {
          "annotationdefaults": {
           "arrowcolor": "#2a3f5f",
           "arrowhead": 0,
           "arrowwidth": 1
          },
          "autotypenumbers": "strict",
          "coloraxis": {
           "colorbar": {
            "outlinewidth": 0,
            "ticks": ""
           }
          },
          "colorscale": {
           "diverging": [
            [
             0,
             "#8e0152"
            ],
            [
             0.1,
             "#c51b7d"
            ],
            [
             0.2,
             "#de77ae"
            ],
            [
             0.3,
             "#f1b6da"
            ],
            [
             0.4,
             "#fde0ef"
            ],
            [
             0.5,
             "#f7f7f7"
            ],
            [
             0.6,
             "#e6f5d0"
            ],
            [
             0.7,
             "#b8e186"
            ],
            [
             0.8,
             "#7fbc41"
            ],
            [
             0.9,
             "#4d9221"
            ],
            [
             1,
             "#276419"
            ]
           ],
           "sequential": [
            [
             0,
             "#0d0887"
            ],
            [
             0.1111111111111111,
             "#46039f"
            ],
            [
             0.2222222222222222,
             "#7201a8"
            ],
            [
             0.3333333333333333,
             "#9c179e"
            ],
            [
             0.4444444444444444,
             "#bd3786"
            ],
            [
             0.5555555555555556,
             "#d8576b"
            ],
            [
             0.6666666666666666,
             "#ed7953"
            ],
            [
             0.7777777777777778,
             "#fb9f3a"
            ],
            [
             0.8888888888888888,
             "#fdca26"
            ],
            [
             1,
             "#f0f921"
            ]
           ],
           "sequentialminus": [
            [
             0,
             "#0d0887"
            ],
            [
             0.1111111111111111,
             "#46039f"
            ],
            [
             0.2222222222222222,
             "#7201a8"
            ],
            [
             0.3333333333333333,
             "#9c179e"
            ],
            [
             0.4444444444444444,
             "#bd3786"
            ],
            [
             0.5555555555555556,
             "#d8576b"
            ],
            [
             0.6666666666666666,
             "#ed7953"
            ],
            [
             0.7777777777777778,
             "#fb9f3a"
            ],
            [
             0.8888888888888888,
             "#fdca26"
            ],
            [
             1,
             "#f0f921"
            ]
           ]
          },
          "colorway": [
           "#636efa",
           "#EF553B",
           "#00cc96",
           "#ab63fa",
           "#FFA15A",
           "#19d3f3",
           "#FF6692",
           "#B6E880",
           "#FF97FF",
           "#FECB52"
          ],
          "font": {
           "color": "#2a3f5f"
          },
          "geo": {
           "bgcolor": "white",
           "lakecolor": "white",
           "landcolor": "#E5ECF6",
           "showlakes": true,
           "showland": true,
           "subunitcolor": "white"
          },
          "hoverlabel": {
           "align": "left"
          },
          "hovermode": "closest",
          "mapbox": {
           "style": "light"
          },
          "paper_bgcolor": "white",
          "plot_bgcolor": "#E5ECF6",
          "polar": {
           "angularaxis": {
            "gridcolor": "white",
            "linecolor": "white",
            "ticks": ""
           },
           "bgcolor": "#E5ECF6",
           "radialaxis": {
            "gridcolor": "white",
            "linecolor": "white",
            "ticks": ""
           }
          },
          "scene": {
           "xaxis": {
            "backgroundcolor": "#E5ECF6",
            "gridcolor": "white",
            "gridwidth": 2,
            "linecolor": "white",
            "showbackground": true,
            "ticks": "",
            "zerolinecolor": "white"
           },
           "yaxis": {
            "backgroundcolor": "#E5ECF6",
            "gridcolor": "white",
            "gridwidth": 2,
            "linecolor": "white",
            "showbackground": true,
            "ticks": "",
            "zerolinecolor": "white"
           },
           "zaxis": {
            "backgroundcolor": "#E5ECF6",
            "gridcolor": "white",
            "gridwidth": 2,
            "linecolor": "white",
            "showbackground": true,
            "ticks": "",
            "zerolinecolor": "white"
           }
          },
          "shapedefaults": {
           "line": {
            "color": "#2a3f5f"
           }
          },
          "ternary": {
           "aaxis": {
            "gridcolor": "white",
            "linecolor": "white",
            "ticks": ""
           },
           "baxis": {
            "gridcolor": "white",
            "linecolor": "white",
            "ticks": ""
           },
           "bgcolor": "#E5ECF6",
           "caxis": {
            "gridcolor": "white",
            "linecolor": "white",
            "ticks": ""
           }
          },
          "title": {
           "x": 0.05
          },
          "xaxis": {
           "automargin": true,
           "gridcolor": "white",
           "linecolor": "white",
           "ticks": "",
           "title": {
            "standoff": 15
           },
           "zerolinecolor": "white",
           "zerolinewidth": 2
          },
          "yaxis": {
           "automargin": true,
           "gridcolor": "white",
           "linecolor": "white",
           "ticks": "",
           "title": {
            "standoff": 15
           },
           "zerolinecolor": "white",
           "zerolinewidth": 2
          }
         }
        },
        "title": {
         "text": "Anxiety Levels by Favorite Music Genre"
        },
        "xaxis": {
         "anchor": "y",
         "categoryarray": [
          "Rock",
          "Pop",
          "Metal",
          "Classical",
          "Video game music",
          "EDM",
          "R&B",
          "Hip hop",
          "Folk"
         ],
         "categoryorder": "array",
         "domain": [
          0,
          1
         ],
         "title": {
          "text": "Favorite Genre"
         }
        },
        "yaxis": {
         "anchor": "x",
         "domain": [
          0,
          1
         ],
         "title": {
          "text": "Anxiety"
         }
        }
       }
      },
      "image/png": "[encoded data removed]"
     },
     "metadata": {},
     "output_type": "display_data"
    }
   ],
   "source": [
    "fig = px.box(df,\n",
    "             x='Fav genre',\n",
    "             y='Anxiety',\n",
    "             color='Fav genre',\n",
    "             title=\"Anxiety Levels by Favorite Music Genre\",\n",
    "             category_orders={\"Fav genre\": df['Fav genre'].value_counts().index})\n",
    "fig.update_layout(xaxis_title=\"Favorite Genre\",\n",
    "                  showlegend=False)\n",
    "# add horizontal line for overall median\n",
    "median = df['Anxiety'].median()\n",
    "fig.add_hline(y=median,\n",
    "              line_dash='dot',\n",
    "              line_color='black',\n",
    "              annotation_text=\"Overall Median: \"+str(median),\n",
    "              annotation_position='top right')\n",
    "fig.show()"
   ]
  },
  {
   "cell_type": "markdown",
   "id": "142d02fd-4908-4416-b967-de501ff547b9",
   "metadata": {},
   "source": [
    "To determine a correlation between music genre and anxiety levels, we will compare each genre's median anxiety level and compare it to the overall median of the sample. Rock, hip hop, and folk have greater medians; pop, metal, classical, video game music, and EDM have equal medians; and R&B has a lower median. This suggests that certain favorite music genres may correlate with listeners' anxiety levels. Next, we will analyzing the spread of anxiety levels in certain genres. Genres with smaller interquartile ranges could potentially have a stronger correlation to a certain anxiety level (i.e. their median). Most apparently, pop and folk have smaller interquartile ranges compared to other genres. So, this suggests respondents with pop music as their favorite genre may be more likely to report anxiety levels near 6 and respondents with folk music as their favorite genre may be more likely to report anxiety levels near 7.5."
   ]
  },
  {
   "cell_type": "markdown",
   "id": "4836abaa-9c32-47f8-89be-bb72ad3594a2",
   "metadata": {
    "jp-MarkdownHeadingCollapsed": true
   },
   "source": [
    "#### Depression"
   ]
  },
  {
   "cell_type": "code",
   "execution_count": 290,
   "id": "ed707874-6264-4ba1-80c0-9e2fa79e80b8",
   "metadata": {},
   "outputs": [
    {
     "data": {
      "text/plain": [
       "5.0"
      ]
     },
     "execution_count": 290,
     "metadata": {},
     "output_type": "execute_result"
    }
   ],
   "source": [
    "df[\"Depression\"].median()"
   ]
  },
  {
   "cell_type": "code",
   "execution_count": 296,
   "id": "a9b60015-c837-4360-be72-40da4851fde5",
   "metadata": {},
   "outputs": [
    {
     "data": {
      "application/vnd.plotly.v1+json": {
       "config": {
        "plotlyServerURL": "https://plot.ly"
       },
       "data": [
        {
         "alignmentgroup": "True",
         "hovertemplate": "Fav genre=%{x}<br>Depression=%{y}<extra></extra>",
         "legendgroup": "Rock",
         "marker": {
          "color": "#636efa"
         },
         "name": "Rock",
         "notched": false,
         "offsetgroup": "Rock",
         "orientation": "v",
         "showlegend": true,
         "type": "box",
         "x": [
          "Rock",
          "Rock",
          "Rock",
          "Rock",
          "Rock",
          "Rock",
          "Rock",
          "Rock",
          "Rock",
          "Rock",
          "Rock",
          "Rock",
          "Rock",
          "Rock",
          "Rock",
          "Rock",
          "Rock",
          "Rock",
          "Rock",
          "Rock",
          "Rock",
          "Rock",
          "Rock",
          "Rock",
          "Rock",
          "Rock",
          "Rock",
          "Rock",
          "Rock",
          "Rock",
          "Rock",
          "Rock",
          "Rock",
          "Rock",
          "Rock",
          "Rock",
          "Rock",
          "Rock",
          "Rock",
          "Rock",
          "Rock",
          "Rock",
          "Rock",
          "Rock",
          "Rock",
          "Rock",
          "Rock",
          "Rock",
          "Rock",
          "Rock",
          "Rock",
          "Rock",
          "Rock",
          "Rock",
          "Rock",
          "Rock",
          "Rock",
          "Rock",
          "Rock",
          "Rock",
          "Rock",
          "Rock",
          "Rock",
          "Rock",
          "Rock",
          "Rock",
          "Rock",
          "Rock",
          "Rock",
          "Rock",
          "Rock",
          "Rock",
          "Rock",
          "Rock",
          "Rock",
          "Rock",
          "Rock",
          "Rock",
          "Rock",
          "Rock",
          "Rock",
          "Rock",
          "Rock",
          "Rock",
          "Rock",
          "Rock",
          "Rock",
          "Rock",
          "Rock",
          "Rock",
          "Rock",
          "Rock",
          "Rock",
          "Rock",
          "Rock",
          "Rock",
          "Rock",
          "Rock",
          "Rock",
          "Rock",
          "Rock",
          "Rock",
          "Rock",
          "Rock",
          "Rock",
          "Rock",
          "Rock",
          "Rock",
          "Rock",
          "Rock",
          "Rock",
          "Rock",
          "Rock",
          "Rock",
          "Rock",
          "Rock",
          "Rock",
          "Rock",
          "Rock",
          "Rock",
          "Rock",
          "Rock",
          "Rock",
          "Rock",
          "Rock",
          "Rock",
          "Rock",
          "Rock",
          "Rock",
          "Rock",
          "Rock",
          "Rock",
          "Rock",
          "Rock",
          "Rock",
          "Rock",
          "Rock",
          "Rock",
          "Rock",
          "Rock",
          "Rock",
          "Rock",
          "Rock",
          "Rock",
          "Rock",
          "Rock",
          "Rock",
          "Rock",
          "Rock",
          "Rock",
          "Rock",
          "Rock",
          "Rock",
          "Rock",
          "Rock",
          "Rock",
          "Rock",
          "Rock",
          "Rock",
          "Rock",
          "Rock",
          "Rock",
          "Rock",
          "Rock",
          "Rock",
          "Rock",
          "Rock",
          "Rock",
          "Rock",
          "Rock",
          "Rock",
          "Rock",
          "Rock",
          "Rock",
          "Rock",
          "Rock",
          "Rock",
          "Rock",
          "Rock",
          "Rock",
          "Rock",
          "Rock",
          "Rock",
          "Rock",
          "Rock",
          "Rock",
          "Rock",
          "Rock"
         ],
         "x0": " ",
         "xaxis": "x",
         "y": {
          "bdata": "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",
          "dtype": "f8"
         },
         "y0": " ",
         "yaxis": "y"
        },
        {
         "alignmentgroup": "True",
         "hovertemplate": "Fav genre=%{x}<br>Depression=%{y}<extra></extra>",
         "legendgroup": "Pop",
         "marker": {
          "color": "#EF553B"
         },
         "name": "Pop",
         "notched": false,
         "offsetgroup": "Pop",
         "orientation": "v",
         "showlegend": true,
         "type": "box",
         "x": [
          "Pop",
          "Pop",
          "Pop",
          "Pop",
          "Pop",
          "Pop",
          "Pop",
          "Pop",
          "Pop",
          "Pop",
          "Pop",
          "Pop",
          "Pop",
          "Pop",
          "Pop",
          "Pop",
          "Pop",
          "Pop",
          "Pop",
          "Pop",
          "Pop",
          "Pop",
          "Pop",
          "Pop",
          "Pop",
          "Pop",
          "Pop",
          "Pop",
          "Pop",
          "Pop",
          "Pop",
          "Pop",
          "Pop",
          "Pop",
          "Pop",
          "Pop",
          "Pop",
          "Pop",
          "Pop",
          "Pop",
          "Pop",
          "Pop",
          "Pop",
          "Pop",
          "Pop",
          "Pop",
          "Pop",
          "Pop",
          "Pop",
          "Pop",
          "Pop",
          "Pop",
          "Pop",
          "Pop",
          "Pop",
          "Pop",
          "Pop",
          "Pop",
          "Pop",
          "Pop",
          "Pop",
          "Pop",
          "Pop",
          "Pop",
          "Pop",
          "Pop",
          "Pop",
          "Pop",
          "Pop",
          "Pop",
          "Pop",
          "Pop",
          "Pop",
          "Pop",
          "Pop",
          "Pop",
          "Pop",
          "Pop",
          "Pop",
          "Pop",
          "Pop",
          "Pop",
          "Pop",
          "Pop",
          "Pop",
          "Pop",
          "Pop",
          "Pop",
          "Pop",
          "Pop",
          "Pop",
          "Pop",
          "Pop",
          "Pop",
          "Pop",
          "Pop",
          "Pop",
          "Pop",
          "Pop",
          "Pop",
          "Pop",
          "Pop",
          "Pop",
          "Pop",
          "Pop",
          "Pop",
          "Pop",
          "Pop",
          "Pop",
          "Pop",
          "Pop",
          "Pop",
          "Pop",
          "Pop"
         ],
         "x0": " ",
         "xaxis": "x",
         "y": {
          "bdata": "AAAAAAAAFEAAAAAAAAAIQAAAAAAAABBAAAAAAAAAAEAAAAAAAAAYQAAAAAAAAABAAAAAAAAAAEAAAAAAAAAgQAAAAAAAAAAAAAAAAAAAEEAAAAAAAAAcQAAAAAAAABxAAAAAAAAAEEAAAAAAAAAUQAAAAAAAACRAAAAAAAAAFEAAAAAAAAAgQAAAAAAAABRAAAAAAAAAAAAAAAAAAAAUQAAAAAAAAAAAAAAAAAAAIEAAAAAAAAAcQAAAAAAAAAhAAAAAAAAAAEAAAAAAAAAIQAAAAAAAABhAAAAAAAAACEAAAAAAAAAMQAAAAAAAABRAAAAAAAAAHEAAAAAAAAAcQAAAAAAAAPA/AAAAAAAAIkAAAAAAAAAAAAAAAAAAAAAAAAAAAAAAEEAAAAAAAAAAQAAAAAAAABBAAAAAAAAAFEAAAAAAAAAiQAAAAAAAAPA/AAAAAAAAFEAAAAAAAAAcQAAAAAAAACRAAAAAAAAAAEAAAAAAAAAUQAAAAAAAABhAAAAAAAAAEEAAAAAAAAAcQAAAAAAAAPA/AAAAAAAA8D8AAAAAAAAcQAAAAAAAAABAAAAAAAAAHEAAAAAAAAAcQAAAAAAAABhAAAAAAAAACEAAAAAAAAAAQAAAAAAAAAAAAAAAAAAA8D8AAAAAAAAYQAAAAAAAAABAAAAAAAAAIEAAAAAAAAAcQAAAAAAAABRAAAAAAAAAAAAAAAAAAAAYQAAAAAAAABRAAAAAAAAAIEAAAAAAAAAgQAAAAAAAABhAAAAAAAAAAEAAAAAAAAAUQAAAAAAAAABAAAAAAAAAAEAAAAAAAAAQQAAAAAAAABxAAAAAAAAAGEAAAAAAAAAgQAAAAAAAABRAAAAAAAAAFEAAAAAAAAAAQAAAAAAAAPA/AAAAAAAAEEAAAAAAAAAcQAAAAAAAACBAAAAAAAAAEEAAAAAAAAAgQAAAAAAAABhAAAAAAAAAEEAAAAAAAAAIQAAAAAAAAAhAAAAAAAAAAAAAAAAAAAAYQAAAAAAAAABAAAAAAAAAEEAAAAAAAAAAQAAAAAAAABhAAAAAAAAAAEAAAAAAAAAYQAAAAAAAAAhAAAAAAAAA8D8AAAAAAAAiQAAAAAAAACJAAAAAAAAA8D8AAAAAAAAAQAAAAAAAABhAAAAAAAAAIEAAAAAAAAAYQAAAAAAAABxAAAAAAAAAGEAAAAAAAAAAQAAAAAAAAABA",
          "dtype": "f8"
         },
         "y0": " ",
         "yaxis": "y"
        },
        {
         "alignmentgroup": "True",
         "hovertemplate": "Fav genre=%{x}<br>Depression=%{y}<extra></extra>",
         "legendgroup": "Metal",
         "marker": {
          "color": "#00cc96"
         },
         "name": "Metal",
         "notched": false,
         "offsetgroup": "Metal",
         "orientation": "v",
         "showlegend": true,
         "type": "box",
         "x": [
          "Metal",
          "Metal",
          "Metal",
          "Metal",
          "Metal",
          "Metal",
          "Metal",
          "Metal",
          "Metal",
          "Metal",
          "Metal",
          "Metal",
          "Metal",
          "Metal",
          "Metal",
          "Metal",
          "Metal",
          "Metal",
          "Metal",
          "Metal",
          "Metal",
          "Metal",
          "Metal",
          "Metal",
          "Metal",
          "Metal",
          "Metal",
          "Metal",
          "Metal",
          "Metal",
          "Metal",
          "Metal",
          "Metal",
          "Metal",
          "Metal",
          "Metal",
          "Metal",
          "Metal",
          "Metal",
          "Metal",
          "Metal",
          "Metal",
          "Metal",
          "Metal",
          "Metal",
          "Metal",
          "Metal",
          "Metal",
          "Metal",
          "Metal",
          "Metal",
          "Metal",
          "Metal",
          "Metal",
          "Metal",
          "Metal",
          "Metal",
          "Metal",
          "Metal",
          "Metal",
          "Metal",
          "Metal",
          "Metal",
          "Metal",
          "Metal",
          "Metal",
          "Metal",
          "Metal",
          "Metal",
          "Metal",
          "Metal",
          "Metal",
          "Metal",
          "Metal",
          "Metal",
          "Metal",
          "Metal",
          "Metal",
          "Metal",
          "Metal",
          "Metal",
          "Metal",
          "Metal",
          "Metal",
          "Metal",
          "Metal",
          "Metal",
          "Metal"
         ],
         "x0": " ",
         "xaxis": "x",
         "y": {
          "bdata": "AAAAAAAAIEAAAAAAAAAAAAAAAAAAACJAAAAAAAAAFEAAAAAAAAAQQAAAAAAAABxAAAAAAAAA8D8AAAAAAAAAQAAAAAAAABhAAAAAAAAAGEAAAAAAAADwPwAAAAAAABBAAAAAAAAAIEAAAAAAAAAQQAAAAAAAABxAAAAAAAAAAAAAAAAAAAAIQAAAAAAAAAhAAAAAAAAAEEAAAAAAAAAYQAAAAAAAABxAAAAAAAAACEAAAAAAAAAiQAAAAAAAAAhAAAAAAAAAIEAAAAAAAAAQQAAAAAAAAAAAAAAAAAAAFEAAAAAAAAAcQAAAAAAAACJAAAAAAAAACEAAAAAAAAAYQAAAAAAAABhAAAAAAAAAGEAAAAAAAAAiQAAAAAAAAAAAAAAAAAAAJEAAAAAAAAAcQAAAAAAAACBAAAAAAAAAIEAAAAAAAAAIQAAAAAAAABxAAAAAAAAAEEAAAAAAAAAAQAAAAAAAABxAAAAAAAAAIEAAAAAAAAAiQAAAAAAAACJAAAAAAAAAGEAAAAAAAAAIQAAAAAAAAAAAAAAAAAAAAAAAAAAAAAAAAAAAAAAAAAhAAAAAAAAA8D8AAAAAAAAIQAAAAAAAABhAAAAAAAAAAEAAAAAAAAAYQAAAAAAAAAAAAAAAAAAAFEAAAAAAAAAgQAAAAAAAABhAAAAAAAAAAEAAAAAAAAAgQAAAAAAAACBAAAAAAAAAGEAAAAAAAAAAAAAAAAAAABxAAAAAAAAAIEAAAAAAAAAQQAAAAAAAABhAAAAAAAAAHEAAAAAAAAAAQAAAAAAAACBAAAAAAAAAJEAAAAAAAAAQQAAAAAAAACJAAAAAAAAACEAAAAAAAAAAQAAAAAAAACBAAAAAAAAAGEAAAAAAAAAkQAAAAAAAABxAAAAAAAAAGEAAAAAAAAAgQAAAAAAAAAhAAAAAAAAAAAA=",
          "dtype": "f8"
         },
         "y0": " ",
         "yaxis": "y"
        },
        {
         "alignmentgroup": "True",
         "hovertemplate": "Fav genre=%{x}<br>Depression=%{y}<extra></extra>",
         "legendgroup": "Classical",
         "marker": {
          "color": "#ab63fa"
         },
         "name": "Classical",
         "notched": false,
         "offsetgroup": "Classical",
         "orientation": "v",
         "showlegend": true,
         "type": "box",
         "x": [
          "Classical",
          "Classical",
          "Classical",
          "Classical",
          "Classical",
          "Classical",
          "Classical",
          "Classical",
          "Classical",
          "Classical",
          "Classical",
          "Classical",
          "Classical",
          "Classical",
          "Classical",
          "Classical",
          "Classical",
          "Classical",
          "Classical",
          "Classical",
          "Classical",
          "Classical",
          "Classical",
          "Classical",
          "Classical",
          "Classical",
          "Classical",
          "Classical",
          "Classical",
          "Classical",
          "Classical",
          "Classical",
          "Classical",
          "Classical",
          "Classical",
          "Classical",
          "Classical",
          "Classical",
          "Classical",
          "Classical",
          "Classical",
          "Classical",
          "Classical",
          "Classical",
          "Classical",
          "Classical",
          "Classical",
          "Classical",
          "Classical",
          "Classical",
          "Classical",
          "Classical",
          "Classical"
         ],
         "x0": " ",
         "xaxis": "x",
         "y": {
          "bdata": "AAAAAAAAEEAAAAAAAAAAAAAAAAAAABhAAAAAAAAAIkAAAAAAAAAAAAAAAAAAABhAAAAAAAAA8D8AAAAAAAAIQAAAAAAAACBAAAAAAAAAFEAAAAAAAAAAQAAAAAAAACJAAAAAAAAAAAAAAAAAAAAcQAAAAAAAAABAAAAAAAAAHEAAAAAAAAAYQAAAAAAAABhAAAAAAAAAAAAAAAAAAAAcQAAAAAAAAABAAAAAAAAAFEAAAAAAAAAUQAAAAAAAACBAAAAAAAAAAEAAAAAAAAAcQAAAAAAAABxAAAAAAAAAGEAAAAAAAAAgQAAAAAAAACBAAAAAAAAA8D8AAAAAAAAAQAAAAAAAAAAAAAAAAAAACEAAAAAAAAAgQAAAAAAAABRAAAAAAAAAAAAAAAAAAAAUQAAAAAAAAAAAAAAAAAAAAEAAAAAAAAAAQAAAAAAAAAhAAAAAAAAAAAAAAAAAAAAYQAAAAAAAABxAAAAAAAAAAAAAAAAAAAAAAAAAAAAAACBAAAAAAAAAIkAAAAAAAAAYQAAAAAAAAAAAAAAAAAAAAAAAAAAAAAAIQA==",
          "dtype": "f8"
         },
         "y0": " ",
         "yaxis": "y"
        },
        {
         "alignmentgroup": "True",
         "hovertemplate": "Fav genre=%{x}<br>Depression=%{y}<extra></extra>",
         "legendgroup": "Video game music",
         "marker": {
          "color": "#FFA15A"
         },
         "name": "Video game music",
         "notched": false,
         "offsetgroup": "Video game music",
         "orientation": "v",
         "showlegend": true,
         "type": "box",
         "x": [
          "Video game music",
          "Video game music",
          "Video game music",
          "Video game music",
          "Video game music",
          "Video game music",
          "Video game music",
          "Video game music",
          "Video game music",
          "Video game music",
          "Video game music",
          "Video game music",
          "Video game music",
          "Video game music",
          "Video game music",
          "Video game music",
          "Video game music",
          "Video game music",
          "Video game music",
          "Video game music",
          "Video game music",
          "Video game music",
          "Video game music",
          "Video game music",
          "Video game music",
          "Video game music",
          "Video game music",
          "Video game music",
          "Video game music",
          "Video game music",
          "Video game music",
          "Video game music",
          "Video game music",
          "Video game music",
          "Video game music",
          "Video game music",
          "Video game music",
          "Video game music",
          "Video game music",
          "Video game music",
          "Video game music",
          "Video game music",
          "Video game music",
          "Video game music"
         ],
         "x0": " ",
         "xaxis": "x",
         "y": {
          "bdata": "AAAAAAAAHEAAAAAAAAAgQAAAAAAAAABAAAAAAAAAAEAAAAAAAAAAAAAAAAAAABBAAAAAAAAAAEAAAAAAAAAYQAAAAAAAAAhAAAAAAAAAAEAAAAAAAAAYQAAAAAAAABhAAAAAAAAACEAAAAAAAAAIQAAAAAAAABBAAAAAAAAAGEAAAAAAAAAQQAAAAAAAABhAAAAAAAAAAEAAAAAAAAAcQAAAAAAAABxAAAAAAAAACEAAAAAAAAAQQAAAAAAAAAAAAAAAAAAAAAAAAAAAAAAUQAAAAAAAABRAAAAAAAAAJEAAAAAAAAAgQAAAAAAAABRAAAAAAAAAAAAAAAAAAAAUQAAAAAAAAABAAAAAAAAAGEAAAAAAAAAgQAAAAAAAAAAAAAAAAAAACEAAAAAAAAAYQAAAAAAAAABAAAAAAAAAAEAAAAAAAAAgQAAAAAAAABRAAAAAAAAAJEAAAAAAAAAkQA==",
          "dtype": "f8"
         },
         "y0": " ",
         "yaxis": "y"
        },
        {
         "alignmentgroup": "True",
         "hovertemplate": "Fav genre=%{x}<br>Depression=%{y}<extra></extra>",
         "legendgroup": "EDM",
         "marker": {
          "color": "#19d3f3"
         },
         "name": "EDM",
         "notched": false,
         "offsetgroup": "EDM",
         "orientation": "v",
         "showlegend": true,
         "type": "box",
         "x": [
          "EDM",
          "EDM",
          "EDM",
          "EDM",
          "EDM",
          "EDM",
          "EDM",
          "EDM",
          "EDM",
          "EDM",
          "EDM",
          "EDM",
          "EDM",
          "EDM",
          "EDM",
          "EDM",
          "EDM",
          "EDM",
          "EDM",
          "EDM",
          "EDM",
          "EDM",
          "EDM",
          "EDM",
          "EDM",
          "EDM",
          "EDM",
          "EDM",
          "EDM",
          "EDM",
          "EDM",
          "EDM",
          "EDM",
          "EDM",
          "EDM",
          "EDM",
          "EDM"
         ],
         "x0": " ",
         "xaxis": "x",
         "y": {
          "bdata": "AAAAAAAAAAAAAAAAAAAAQAAAAAAAAAAAAAAAAAAAAAAAAAAAAAAIQAAAAAAAABxAAAAAAAAAHEAAAAAAAAAYQAAAAAAAACBAAAAAAAAAIEAAAAAAAAAgQAAAAAAAABBAAAAAAAAAGEAAAAAAAAAIQAAAAAAAABhAAAAAAAAAHEAAAAAAAADwPwAAAAAAABBAAAAAAAAAEEAAAAAAAAAQQAAAAAAAACRAAAAAAAAAAEAAAAAAAAAiQAAAAAAAACRAAAAAAAAAJEAAAAAAAAAiQAAAAAAAABBAAAAAAAAAFEAAAAAAAAAcQAAAAAAAACJAAAAAAAAAHEAAAAAAAAAAAAAAAAAAAABAAAAAAAAAAEAAAAAAAAAUQAAAAAAAABxAAAAAAAAAIEA=",
          "dtype": "f8"
         },
         "y0": " ",
         "yaxis": "y"
        },
        {
         "alignmentgroup": "True",
         "hovertemplate": "Fav genre=%{x}<br>Depression=%{y}<extra></extra>",
         "legendgroup": "R&B",
         "marker": {
          "color": "#FF6692"
         },
         "name": "R&B",
         "notched": false,
         "offsetgroup": "R&B",
         "orientation": "v",
         "showlegend": true,
         "type": "box",
         "x": [
          "R&B",
          "R&B",
          "R&B",
          "R&B",
          "R&B",
          "R&B",
          "R&B",
          "R&B",
          "R&B",
          "R&B",
          "R&B",
          "R&B",
          "R&B",
          "R&B",
          "R&B",
          "R&B",
          "R&B",
          "R&B",
          "R&B",
          "R&B",
          "R&B",
          "R&B",
          "R&B",
          "R&B",
          "R&B",
          "R&B",
          "R&B",
          "R&B",
          "R&B",
          "R&B",
          "R&B",
          "R&B",
          "R&B",
          "R&B",
          "R&B"
         ],
         "x0": " ",
         "xaxis": "x",
         "y": {
          "bdata": "AAAAAAAAAEAAAAAAAAAAQAAAAAAAABxAAAAAAAAAAEAAAAAAAAAQQAAAAAAAAABAAAAAAAAA8D8AAAAAAAAYQAAAAAAAABhAAAAAAAAA8D8AAAAAAAAkQAAAAAAAABhAAAAAAAAAAAAAAAAAAAAkQAAAAAAAABBAAAAAAAAAIEAAAAAAAAAUQAAAAAAAABBAAAAAAAAACEAAAAAAAAAIQAAAAAAAABBAAAAAAAAAAAAAAAAAAAAAAAAAAAAAAAAAAAAAAAAAAAAAAAAAAAAcQAAAAAAAAAAAAAAAAAAAJEAAAAAAAAAAQAAAAAAAABxAAAAAAAAAFEAAAAAAAAAAAAAAAAAAAPA/AAAAAAAAGEAAAAAAAAAYQA==",
          "dtype": "f8"
         },
         "y0": " ",
         "yaxis": "y"
        },
        {
         "alignmentgroup": "True",
         "hovertemplate": "Fav genre=%{x}<br>Depression=%{y}<extra></extra>",
         "legendgroup": "Hip hop",
         "marker": {
          "color": "#B6E880"
         },
         "name": "Hip hop",
         "notched": false,
         "offsetgroup": "Hip hop",
         "orientation": "v",
         "showlegend": true,
         "type": "box",
         "x": [
          "Hip hop",
          "Hip hop",
          "Hip hop",
          "Hip hop",
          "Hip hop",
          "Hip hop",
          "Hip hop",
          "Hip hop",
          "Hip hop",
          "Hip hop",
          "Hip hop",
          "Hip hop",
          "Hip hop",
          "Hip hop",
          "Hip hop",
          "Hip hop",
          "Hip hop",
          "Hip hop",
          "Hip hop",
          "Hip hop",
          "Hip hop",
          "Hip hop",
          "Hip hop",
          "Hip hop",
          "Hip hop",
          "Hip hop",
          "Hip hop",
          "Hip hop",
          "Hip hop",
          "Hip hop",
          "Hip hop",
          "Hip hop",
          "Hip hop",
          "Hip hop",
          "Hip hop"
         ],
         "x0": " ",
         "xaxis": "x",
         "y": {
          "bdata": "AAAAAAAACEAAAAAAAAAgQAAAAAAAABxAAAAAAAAACEAAAAAAAAAiQAAAAAAAACBAAAAAAAAACEAAAAAAAAAcQAAAAAAAABxAAAAAAAAAAAAAAAAAAAAYQAAAAAAAABxAAAAAAAAAGEAAAAAAAAAiQAAAAAAAACBAAAAAAAAAHEAAAAAAAAAAQAAAAAAAABxAAAAAAAAAJEAAAAAAAAAQQAAAAAAAABxAAAAAAAAAJEAAAAAAAAAQQAAAAAAAABhAAAAAAAAAHEAAAAAAAAAYQAAAAAAAABxAAAAAAAAAEEAAAAAAAAAUQAAAAAAAAPA/AAAAAAAAIEAAAAAAAAAAAAAAAAAAACBAAAAAAAAAHEAAAAAAAAAAQA==",
          "dtype": "f8"
         },
         "y0": " ",
         "yaxis": "y"
        },
        {
         "alignmentgroup": "True",
         "hovertemplate": "Fav genre=%{x}<br>Depression=%{y}<extra></extra>",
         "legendgroup": "Folk",
         "marker": {
          "color": "#FF97FF"
         },
         "name": "Folk",
         "notched": false,
         "offsetgroup": "Folk",
         "orientation": "v",
         "showlegend": true,
         "type": "box",
         "x": [
          "Folk",
          "Folk",
          "Folk",
          "Folk",
          "Folk",
          "Folk",
          "Folk",
          "Folk",
          "Folk",
          "Folk",
          "Folk",
          "Folk",
          "Folk",
          "Folk",
          "Folk",
          "Folk",
          "Folk",
          "Folk",
          "Folk",
          "Folk",
          "Folk",
          "Folk",
          "Folk",
          "Folk",
          "Folk",
          "Folk",
          "Folk",
          "Folk",
          "Folk",
          "Folk"
         ],
         "x0": " ",
         "xaxis": "x",
         "y": {
          "bdata": "AAAAAAAACEAAAAAAAAAQQAAAAAAAABxAAAAAAAAAIEAAAAAAAAAQQAAAAAAAACJAAAAAAAAAFEAAAAAAAAAQQAAAAAAAAAAAAAAAAAAAIkAAAAAAAADwPwAAAAAAAAAAAAAAAAAAAEAAAAAAAAAAAAAAAAAAABxAAAAAAAAAHEAAAAAAAAAIQAAAAAAAABxAAAAAAAAAJEAAAAAAAADwPwAAAAAAACRAAAAAAAAAFEAAAAAAAAAcQAAAAAAAABxAAAAAAAAAGEAAAAAAAAAcQAAAAAAAABhAAAAAAAAAEEAAAAAAAAAQQAAAAAAAABRA",
          "dtype": "f8"
         },
         "y0": " ",
         "yaxis": "y"
        }
       ],
       "layout": {
        "annotations": [
         {
          "showarrow": false,
          "text": "Overall Median: 5.0",
          "x": 1,
          "xanchor": "right",
          "xref": "x domain",
          "y": 5,
          "yanchor": "bottom",
          "yref": "y"
         }
        ],
        "boxmode": "overlay",
        "legend": {
         "title": {
          "text": "Fav genre"
         },
         "tracegroupgap": 0
        },
        "shapes": [
         {
          "line": {
           "color": "black",
           "dash": "dot"
          },
          "type": "line",
          "x0": 0,
          "x1": 1,
          "xref": "x domain",
          "y0": 5,
          "y1": 5,
          "yref": "y"
         }
        ],
        "showlegend": false,
        "template": {
         "data": {
          "bar": [
           {
            "error_x": {
             "color": "#2a3f5f"
            },
            "error_y": {
             "color": "#2a3f5f"
            },
            "marker": {
             "line": {
              "color": "#E5ECF6",
              "width": 0.5
             },
             "pattern": {
              "fillmode": "overlay",
              "size": 10,
              "solidity": 0.2
             }
            },
            "type": "bar"
           }
          ],
          "barpolar": [
           {
            "marker": {
             "line": {
              "color": "#E5ECF6",
              "width": 0.5
             },
             "pattern": {
              "fillmode": "overlay",
              "size": 10,
              "solidity": 0.2
             }
            },
            "type": "barpolar"
           }
          ],
          "carpet": [
           {
            "aaxis": {
             "endlinecolor": "#2a3f5f",
             "gridcolor": "white",
             "linecolor": "white",
             "minorgridcolor": "white",
             "startlinecolor": "#2a3f5f"
            },
            "baxis": {
             "endlinecolor": "#2a3f5f",
             "gridcolor": "white",
             "linecolor": "white",
             "minorgridcolor": "white",
             "startlinecolor": "#2a3f5f"
            },
            "type": "carpet"
           }
          ],
          "choropleth": [
           {
            "colorbar": {
             "outlinewidth": 0,
             "ticks": ""
            },
            "type": "choropleth"
           }
          ],
          "contour": [
           {
            "colorbar": {
             "outlinewidth": 0,
             "ticks": ""
            },
            "colorscale": [
             [
              0,
              "#0d0887"
             ],
             [
              0.1111111111111111,
              "#46039f"
             ],
             [
              0.2222222222222222,
              "#7201a8"
             ],
             [
              0.3333333333333333,
              "#9c179e"
             ],
             [
              0.4444444444444444,
              "#bd3786"
             ],
             [
              0.5555555555555556,
              "#d8576b"
             ],
             [
              0.6666666666666666,
              "#ed7953"
             ],
             [
              0.7777777777777778,
              "#fb9f3a"
             ],
             [
              0.8888888888888888,
              "#fdca26"
             ],
             [
              1,
              "#f0f921"
             ]
            ],
            "type": "contour"
           }
          ],
          "contourcarpet": [
           {
            "colorbar": {
             "outlinewidth": 0,
             "ticks": ""
            },
            "type": "contourcarpet"
           }
          ],
          "heatmap": [
           {
            "colorbar": {
             "outlinewidth": 0,
             "ticks": ""
            },
            "colorscale": [
             [
              0,
              "#0d0887"
             ],
             [
              0.1111111111111111,
              "#46039f"
             ],
             [
              0.2222222222222222,
              "#7201a8"
             ],
             [
              0.3333333333333333,
              "#9c179e"
             ],
             [
              0.4444444444444444,
              "#bd3786"
             ],
             [
              0.5555555555555556,
              "#d8576b"
             ],
             [
              0.6666666666666666,
              "#ed7953"
             ],
             [
              0.7777777777777778,
              "#fb9f3a"
             ],
             [
              0.8888888888888888,
              "#fdca26"
             ],
             [
              1,
              "#f0f921"
             ]
            ],
            "type": "heatmap"
           }
          ],
          "histogram": [
           {
            "marker": {
             "pattern": {
              "fillmode": "overlay",
              "size": 10,
              "solidity": 0.2
             }
            },
            "type": "histogram"
           }
          ],
          "histogram2d": [
           {
            "colorbar": {
             "outlinewidth": 0,
             "ticks": ""
            },
            "colorscale": [
             [
              0,
              "#0d0887"
             ],
             [
              0.1111111111111111,
              "#46039f"
             ],
             [
              0.2222222222222222,
              "#7201a8"
             ],
             [
              0.3333333333333333,
              "#9c179e"
             ],
             [
              0.4444444444444444,
              "#bd3786"
             ],
             [
              0.5555555555555556,
              "#d8576b"
             ],
             [
              0.6666666666666666,
              "#ed7953"
             ],
             [
              0.7777777777777778,
              "#fb9f3a"
             ],
             [
              0.8888888888888888,
              "#fdca26"
             ],
             [
              1,
              "#f0f921"
             ]
            ],
            "type": "histogram2d"
           }
          ],
          "histogram2dcontour": [
           {
            "colorbar": {
             "outlinewidth": 0,
             "ticks": ""
            },
            "colorscale": [
             [
              0,
              "#0d0887"
             ],
             [
              0.1111111111111111,
              "#46039f"
             ],
             [
              0.2222222222222222,
              "#7201a8"
             ],
             [
              0.3333333333333333,
              "#9c179e"
             ],
             [
              0.4444444444444444,
              "#bd3786"
             ],
             [
              0.5555555555555556,
              "#d8576b"
             ],
             [
              0.6666666666666666,
              "#ed7953"
             ],
             [
              0.7777777777777778,
              "#fb9f3a"
             ],
             [
              0.8888888888888888,
              "#fdca26"
             ],
             [
              1,
              "#f0f921"
             ]
            ],
            "type": "histogram2dcontour"
           }
          ],
          "mesh3d": [
           {
            "colorbar": {
             "outlinewidth": 0,
             "ticks": ""
            },
            "type": "mesh3d"
           }
          ],
          "parcoords": [
           {
            "line": {
             "colorbar": {
              "outlinewidth": 0,
              "ticks": ""
             }
            },
            "type": "parcoords"
           }
          ],
          "pie": [
           {
            "automargin": true,
            "type": "pie"
           }
          ],
          "scatter": [
           {
            "fillpattern": {
             "fillmode": "overlay",
             "size": 10,
             "solidity": 0.2
            },
            "type": "scatter"
           }
          ],
          "scatter3d": [
           {
            "line": {
             "colorbar": {
              "outlinewidth": 0,
              "ticks": ""
             }
            },
            "marker": {
             "colorbar": {
              "outlinewidth": 0,
              "ticks": ""
             }
            },
            "type": "scatter3d"
           }
          ],
          "scattercarpet": [
           {
            "marker": {
             "colorbar": {
              "outlinewidth": 0,
              "ticks": ""
             }
            },
            "type": "scattercarpet"
           }
          ],
          "scattergeo": [
           {
            "marker": {
             "colorbar": {
              "outlinewidth": 0,
              "ticks": ""
             }
            },
            "type": "scattergeo"
           }
          ],
          "scattergl": [
           {
            "marker": {
             "colorbar": {
              "outlinewidth": 0,
              "ticks": ""
             }
            },
            "type": "scattergl"
           }
          ],
          "scattermap": [
           {
            "marker": {
             "colorbar": {
              "outlinewidth": 0,
              "ticks": ""
             }
            },
            "type": "scattermap"
           }
          ],
          "scattermapbox": [
           {
            "marker": {
             "colorbar": {
              "outlinewidth": 0,
              "ticks": ""
             }
            },
            "type": "scattermapbox"
           }
          ],
          "scatterpolar": [
           {
            "marker": {
             "colorbar": {
              "outlinewidth": 0,
              "ticks": ""
             }
            },
            "type": "scatterpolar"
           }
          ],
          "scatterpolargl": [
           {
            "marker": {
             "colorbar": {
              "outlinewidth": 0,
              "ticks": ""
             }
            },
            "type": "scatterpolargl"
           }
          ],
          "scatterternary": [
           {
            "marker": {
             "colorbar": {
              "outlinewidth": 0,
              "ticks": ""
             }
            },
            "type": "scatterternary"
           }
          ],
          "surface": [
           {
            "colorbar": {
             "outlinewidth": 0,
             "ticks": ""
            },
            "colorscale": [
             [
              0,
              "#0d0887"
             ],
             [
              0.1111111111111111,
              "#46039f"
             ],
             [
              0.2222222222222222,
              "#7201a8"
             ],
             [
              0.3333333333333333,
              "#9c179e"
             ],
             [
              0.4444444444444444,
              "#bd3786"
             ],
             [
              0.5555555555555556,
              "#d8576b"
             ],
             [
              0.6666666666666666,
              "#ed7953"
             ],
             [
              0.7777777777777778,
              "#fb9f3a"
             ],
             [
              0.8888888888888888,
              "#fdca26"
             ],
             [
              1,
              "#f0f921"
             ]
            ],
            "type": "surface"
           }
          ],
          "table": [
           {
            "cells": {
             "fill": {
              "color": "#EBF0F8"
             },
             "line": {
              "color": "white"
             }
            },
            "header": {
             "fill": {
              "color": "#C8D4E3"
             },
             "line": {
              "color": "white"
             }
            },
            "type": "table"
           }
          ]
         },
         "layout": {
          "annotationdefaults": {
           "arrowcolor": "#2a3f5f",
           "arrowhead": 0,
           "arrowwidth": 1
          },
          "autotypenumbers": "strict",
          "coloraxis": {
           "colorbar": {
            "outlinewidth": 0,
            "ticks": ""
           }
          },
          "colorscale": {
           "diverging": [
            [
             0,
             "#8e0152"
            ],
            [
             0.1,
             "#c51b7d"
            ],
            [
             0.2,
             "#de77ae"
            ],
            [
             0.3,
             "#f1b6da"
            ],
            [
             0.4,
             "#fde0ef"
            ],
            [
             0.5,
             "#f7f7f7"
            ],
            [
             0.6,
             "#e6f5d0"
            ],
            [
             0.7,
             "#b8e186"
            ],
            [
             0.8,
             "#7fbc41"
            ],
            [
             0.9,
             "#4d9221"
            ],
            [
             1,
             "#276419"
            ]
           ],
           "sequential": [
            [
             0,
             "#0d0887"
            ],
            [
             0.1111111111111111,
             "#46039f"
            ],
            [
             0.2222222222222222,
             "#7201a8"
            ],
            [
             0.3333333333333333,
             "#9c179e"
            ],
            [
             0.4444444444444444,
             "#bd3786"
            ],
            [
             0.5555555555555556,
             "#d8576b"
            ],
            [
             0.6666666666666666,
             "#ed7953"
            ],
            [
             0.7777777777777778,
             "#fb9f3a"
            ],
            [
             0.8888888888888888,
             "#fdca26"
            ],
            [
             1,
             "#f0f921"
            ]
           ],
           "sequentialminus": [
            [
             0,
             "#0d0887"
            ],
            [
             0.1111111111111111,
             "#46039f"
            ],
            [
             0.2222222222222222,
             "#7201a8"
            ],
            [
             0.3333333333333333,
             "#9c179e"
            ],
            [
             0.4444444444444444,
             "#bd3786"
            ],
            [
             0.5555555555555556,
             "#d8576b"
            ],
            [
             0.6666666666666666,
             "#ed7953"
            ],
            [
             0.7777777777777778,
             "#fb9f3a"
            ],
            [
             0.8888888888888888,
             "#fdca26"
            ],
            [
             1,
             "#f0f921"
            ]
           ]
          },
          "colorway": [
           "#636efa",
           "#EF553B",
           "#00cc96",
           "#ab63fa",
           "#FFA15A",
           "#19d3f3",
           "#FF6692",
           "#B6E880",
           "#FF97FF",
           "#FECB52"
          ],
          "font": {
           "color": "#2a3f5f"
          },
          "geo": {
           "bgcolor": "white",
           "lakecolor": "white",
           "landcolor": "#E5ECF6",
           "showlakes": true,
           "showland": true,
           "subunitcolor": "white"
          },
          "hoverlabel": {
           "align": "left"
          },
          "hovermode": "closest",
          "mapbox": {
           "style": "light"
          },
          "paper_bgcolor": "white",
          "plot_bgcolor": "#E5ECF6",
          "polar": {
           "angularaxis": {
            "gridcolor": "white",
            "linecolor": "white",
            "ticks": ""
           },
           "bgcolor": "#E5ECF6",
           "radialaxis": {
            "gridcolor": "white",
            "linecolor": "white",
            "ticks": ""
           }
          },
          "scene": {
           "xaxis": {
            "backgroundcolor": "#E5ECF6",
            "gridcolor": "white",
            "gridwidth": 2,
            "linecolor": "white",
            "showbackground": true,
            "ticks": "",
            "zerolinecolor": "white"
           },
           "yaxis": {
            "backgroundcolor": "#E5ECF6",
            "gridcolor": "white",
            "gridwidth": 2,
            "linecolor": "white",
            "showbackground": true,
            "ticks": "",
            "zerolinecolor": "white"
           },
           "zaxis": {
            "backgroundcolor": "#E5ECF6",
            "gridcolor": "white",
            "gridwidth": 2,
            "linecolor": "white",
            "showbackground": true,
            "ticks": "",
            "zerolinecolor": "white"
           }
          },
          "shapedefaults": {
           "line": {
            "color": "#2a3f5f"
           }
          },
          "ternary": {
           "aaxis": {
            "gridcolor": "white",
            "linecolor": "white",
            "ticks": ""
           },
           "baxis": {
            "gridcolor": "white",
            "linecolor": "white",
            "ticks": ""
           },
           "bgcolor": "#E5ECF6",
           "caxis": {
            "gridcolor": "white",
            "linecolor": "white",
            "ticks": ""
           }
          },
          "title": {
           "x": 0.05
          },
          "xaxis": {
           "automargin": true,
           "gridcolor": "white",
           "linecolor": "white",
           "ticks": "",
           "title": {
            "standoff": 15
           },
           "zerolinecolor": "white",
           "zerolinewidth": 2
          },
          "yaxis": {
           "automargin": true,
           "gridcolor": "white",
           "linecolor": "white",
           "ticks": "",
           "title": {
            "standoff": 15
           },
           "zerolinecolor": "white",
           "zerolinewidth": 2
          }
         }
        },
        "title": {
         "text": "Depression Levels by Favorite Music Genre"
        },
        "xaxis": {
         "anchor": "y",
         "categoryarray": [
          "Rock",
          "Pop",
          "Metal",
          "Classical",
          "Video game music",
          "EDM",
          "R&B",
          "Hip hop",
          "Folk"
         ],
         "categoryorder": "array",
         "domain": [
          0,
          1
         ],
         "title": {
          "text": "Favorite Genre"
         }
        },
        "yaxis": {
         "anchor": "x",
         "domain": [
          0,
          1
         ],
         "title": {
          "text": "Depression"
         }
        }
       }
      },
      "image/png": "[encoded data removed]"
     },
     "metadata": {},
     "output_type": "display_data"
    }
   ],
   "source": [
    "fig = px.box(df,\n",
    "             x='Fav genre',\n",
    "             y='Depression',\n",
    "             color='Fav genre',\n",
    "             title=\"Depression Levels by Favorite Music Genre\",\n",
    "             category_orders={\"Fav genre\": df['Fav genre'].value_counts().index})\n",
    "fig.update_layout(xaxis_title=\"Favorite Genre\",\n",
    "                  showlegend=False)\n",
    "# add horizontal line for overall median\n",
    "median = df['Depression'].median()\n",
    "fig.add_hline(y=median,\n",
    "              line_dash='dot',\n",
    "              line_color='black',\n",
    "              annotation_text=\"Overall Median: \"+str(median),\n",
    "              annotation_position='top right')\n",
    "fig.show()"
   ]
  },
  {
   "cell_type": "markdown",
   "id": "4146e3a7-2327-42c8-b705-60906e907949",
   "metadata": {},
   "source": [
    "To determine a correlation between music genre and depression levels, we will compare each genre's median depression level and compare it to the overall median of the sample. Rock, metal, EDM, and hip hop have greater medians; pop, classical, and folk have equal medians; and video game music and R&B have lower medians. This suggests that certain favorite music genres may correlate with listeners' depression levels. Next, we will analyzing the spread of depression levels in certain genres. Genres with smaller interquartile ranges could potentially have a stronger correlation to a certain depression level (i.e. their median). Most of the genres have similar interquartile ranges, so they most likely have similar correlation strength. Notably, video game music and hip hop seem to have smaller interquartile ranges, suggesting a higher likelihood of respondents reporting depression levels closer to 4.5 or 7, respectively."
   ]
  },
  {
   "cell_type": "markdown",
   "id": "6375e72f-6b26-4b00-9d01-e6d886c49569",
   "metadata": {
    "jp-MarkdownHeadingCollapsed": true
   },
   "source": [
    "## Conclusion"
   ]
  },
  {
   "cell_type": "markdown",
   "id": "da59d799-baed-4aef-82ed-3195605f4a77",
   "metadata": {},
   "source": [
    "After analyzing both anxiety and depression levels in relation to favorite music genres, we can conclude that there is a potential correlation between favorite music genre and mental health. Some genres, such as rock and hip hop, reported higher anxiety and depression levels than the sample average. This suggests these genres may be correlated with worse mental health levels. Other genres, like R&B, reported lower anxiety and depression levels than the sample average. This suggests these genres may be correlated with better mental health levels. As stated in the introduction, this is an intial data exploration. So, there may be other variables that have correlation with mental health levels or other variables used to measure mental health levels. In conclusion, this sample suggests there is a potential correlation between favorite music genre and mental health."
   ]
  }
 ],
 "metadata": {
  "kernelspec": {
   "display_name": "Python [conda env:base] *",
   "language": "python",
   "name": "conda-base-py"
  },
  "language_info": {
   "codemirror_mode": {
    "name": "ipython",
    "version": 3
   },
   "file_extension": ".py",
   "mimetype": "text/x-python",
   "name": "python",
   "nbconvert_exporter": "python",
   "pygments_lexer": "ipython3",
   "version": "3.13.5"
  }
 },
 "nbformat": 4,
 "nbformat_minor": 5
}
