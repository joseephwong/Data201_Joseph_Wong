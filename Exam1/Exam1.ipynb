{
 "cells": [
  {
   "cell_type": "markdown",
   "id": "dbf726fa-d2b7-43e9-a209-6ebabb68852c",
   "metadata": {},
   "source": [
    "# Exam 1\n",
    "\n",
    "### Author: Joseph Wong"
   ]
  },
  {
   "cell_type": "markdown",
   "id": "da4536b3-1ebd-4eaa-857a-c6432f6f9734",
   "metadata": {},
   "source": [
    "## Import Packages and the Data Set"
   ]
  },
  {
   "cell_type": "code",
   "execution_count": 1,
   "id": "0b72fd7c-a82c-4450-b8ae-40b692059250",
   "metadata": {},
   "outputs": [],
   "source": [
    "# Some basic package imports\n",
    "import os\n",
    "import numpy as np\n",
    "import pandas as pd\n",
    "\n",
    "# Visualization packages\n",
    "import matplotlib.pyplot as plt\n",
    "import plotly.express as px\n",
    "from plotly.subplots import make_subplots\n",
    "import plotly.io as pio\n",
    "pio.renderers.defaule = 'colab'\n",
    "import seaborn as sns\n",
    "\n",
    "# Datetime packages\n",
    "from datetime import datetime"
   ]
  },
  {
   "cell_type": "markdown",
   "id": "bc9a7321-16df-4b53-b72e-7b0c417abc20",
   "metadata": {},
   "source": [
    "## Data Overview"
   ]
  },
  {
   "cell_type": "code",
   "execution_count": null,
   "id": "51c310af-d854-44ba-ad58-7c791f6841cc",
   "metadata": {},
   "outputs": [],
   "source": []
  }
 ],
 "metadata": {
  "kernelspec": {
   "display_name": "Python [conda env:base] *",
   "language": "python",
   "name": "conda-base-py"
  },
  "language_info": {
   "codemirror_mode": {
    "name": "ipython",
    "version": 3
   },
   "file_extension": ".py",
   "mimetype": "text/x-python",
   "name": "python",
   "nbconvert_exporter": "python",
   "pygments_lexer": "ipython3",
   "version": "3.13.5"
  }
 },
 "nbformat": 4,
 "nbformat_minor": 5
}
