{
 "cells": [
  {
   "cell_type": "markdown",
   "id": "b89ff64c-fd19-406a-9ed2-3cdf13d3b113",
   "metadata": {},
   "source": [
    "## Intermediate Data Science\n",
    "\n",
    "#### University of Redlands - DATA 201\n",
    "#### Prof: Joanna Bieri [joanna_bieri@redlands.edu](mailto:joanna_bieri@redlands.edu)\n",
    "#### [Class Website: data201.joannabieri.com](https://joannabieri.com/data201_intermediate.html)"
   ]
  },
  {
   "cell_type": "code",
   "execution_count": 1,
   "id": "8f567cff-9b0f-408d-8f06-ded0cf10a6b7",
   "metadata": {},
   "outputs": [],
   "source": [
    "# Some basic package imports\n",
    "import os\n",
    "import numpy as np\n",
    "import pandas as pd\n",
    "\n",
    "# Visualization packages\n",
    "import matplotlib.pyplot as plt\n",
    "import plotly.express as px\n",
    "from plotly.subplots import make_subplots\n",
    "import plotly.io as pio\n",
    "pio.renderers.defaule = 'colab'\n",
    "import seaborn as sns\n",
    "\n",
    "# ML packages\n",
    "from sklearn.model_selection import train_test_split\n",
    "from sklearn.neighbors import KNeighborsClassifier\n"
   ]
  },
  {
   "cell_type": "markdown",
   "id": "3093a585-a00e-496e-ac70-9fb95b7bb54e",
   "metadata": {},
   "source": [
    "---------------\n",
    "## Introductoin to Machine Learning - Day12 HW\n",
    "\n",
    "Your job is to play around with K-nearest neighbors!\n",
    "\n",
    "### Part 1 - build a model\n",
    "\n",
    "1. Get the Avocado Ripeness data from [https://www.kaggle.com/datasets/amldvvs/avocado-ripeness-classification-dataset](https://www.kaggle.com/datasets/amldvvs/avocado-ripeness-classification-dataset)\n",
    "2. Discuss the data - who owns it, what is the license, what are the features (variables)?\n",
    "3. Do some basic analysis: describe for numerical data, value_counts for categorical data and pairplot for a visualization.\n",
    "    * Write about your observations of the data. Include things like: NaNs, Outliers, Balance in categories.\n",
    "    * What do you learn from looking at the pairplot colored by (hue='ripeness' vs hue='color_category'). Do some of the features seem like they are good predictors for classifying color or ripeness? Does it seam reasonable that you can classify ripeness or color based on the other variables? Does it seem easier to classify ripeness or color?\n",
    "4. Do a Train-Test split on the data.\n",
    "5. Using all of the numerical features as your data columns  and train a KNN model. You choose number of neighbors!\n",
    "6. Test your model accuracy using the test set. How did you do? For me this resulted in 92% accuracy - if I used 1 neighbor)\n",
    "\n",
    "\n",
    "### Part 2 - play around with the model - aka tune.\n",
    "\n",
    "Even though we don't have a validation set, lets use the test set to try to tune the model. This means changing things to see if you can make your model better or worse. Here are some ideas:\n",
    "* How many neighbors gives you the best results? Does it always help to increase the number of neighbors? Try plotting the number of neighbors vs accuracy for a bunch of tests. I did this in a for loop: training the model and saving the accuracy for 1, 2, 3, ... 20 neighbors.\n",
    "* Test how many features (variables) you actually need to get a good prediction. Try a few of the ones that seem really good based on the pair plot. What is the minimum number of features you can use to get really good accuracy?\n",
    "\n",
    "Please write up your conclusions.\n",
    "\n",
    "Your final notebooks should:\n",
    "\n",
    "- [ ] Be a completely new notebook with just the Day12 stuff in it NO YOU TRY: Read in the data, make the plots. Make sure to discuss what you see and comment on why your plots are great!\n",
    "- [ ] Be reproducible with junk code removed.\n",
    "- [ ] Have lots of language describing what you are doing, especially for questions you are asking or things that you find interesting about the data. Use complete sentences, nice headings, and good markdown formatting: https://www.markdownguide.org/cheat-sheet/\n",
    "- [ ] It should run without errors from start to finish.\n",
    "\n",
    "**Remember to Proof Read and Proof Run your code** Restart the kernel and go through it all once before submitting."
   ]
  },
  {
   "cell_type": "code",
   "execution_count": null,
   "id": "42811fd7-1183-42bb-a79d-808ae7f9fde2",
   "metadata": {},
   "outputs": [],
   "source": []
  },
  {
   "cell_type": "code",
   "execution_count": null,
   "id": "5f854f1f-2e6d-4900-878c-d7592943219b",
   "metadata": {},
   "outputs": [],
   "source": []
  },
  {
   "cell_type": "code",
   "execution_count": null,
   "id": "9a6ac7c1-a467-482a-9938-5999ba341413",
   "metadata": {},
   "outputs": [],
   "source": []
  },
  {
   "cell_type": "code",
   "execution_count": null,
   "id": "7643fb29-756a-4b19-8360-30abedbb2535",
   "metadata": {},
   "outputs": [],
   "source": []
  },
  {
   "cell_type": "code",
   "execution_count": null,
   "id": "5be12484-62c3-47b7-9082-611eaf87a51a",
   "metadata": {},
   "outputs": [],
   "source": []
  },
  {
   "cell_type": "code",
   "execution_count": null,
   "id": "973304b8-0ad2-4101-aeac-2fe562f488b2",
   "metadata": {},
   "outputs": [],
   "source": []
  },
  {
   "cell_type": "code",
   "execution_count": null,
   "id": "02bcedd0-3e7d-4c60-b294-309db3f8e9b8",
   "metadata": {},
   "outputs": [],
   "source": []
  },
  {
   "cell_type": "code",
   "execution_count": null,
   "id": "b1c38396-2f65-460f-90df-35f3769efb80",
   "metadata": {},
   "outputs": [],
   "source": []
  },
  {
   "cell_type": "code",
   "execution_count": null,
   "id": "2f570fe8-f2d4-4e3c-8b70-b907668da771",
   "metadata": {},
   "outputs": [],
   "source": []
  },
  {
   "cell_type": "code",
   "execution_count": null,
   "id": "80c493bc-6d46-4d25-8a6b-dc25001313ae",
   "metadata": {},
   "outputs": [],
   "source": []
  }
 ],
 "metadata": {
  "kernelspec": {
   "display_name": "Python 3 (ipykernel)",
   "language": "python",
   "name": "python3"
  },
  "language_info": {
   "codemirror_mode": {
    "name": "ipython",
    "version": 3
   },
   "file_extension": ".py",
   "mimetype": "text/x-python",
   "name": "python",
   "nbconvert_exporter": "python",
   "pygments_lexer": "ipython3",
   "version": "3.13.5"
  }
 },
 "nbformat": 4,
 "nbformat_minor": 5
}
