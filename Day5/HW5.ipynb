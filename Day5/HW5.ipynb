{
 "cells": [
  {
   "cell_type": "markdown",
   "id": "e13c2998-a2c1-4534-95da-6b3ec8cd5d06",
   "metadata": {},
   "source": [
    "# HW5\n",
    "\n",
    "### Author: Joseph Wong"
   ]
  },
  {
   "cell_type": "code",
   "execution_count": null,
   "id": "7a6d6208-b966-4f43-ba84-6cc6191667d4",
   "metadata": {},
   "outputs": [],
   "source": []
  }
 ],
 "metadata": {
  "kernelspec": {
   "display_name": "Python [conda env:base] *",
   "language": "python",
   "name": "conda-base-py"
  },
  "language_info": {
   "codemirror_mode": {
    "name": "ipython",
    "version": 3
   },
   "file_extension": ".py",
   "mimetype": "text/x-python",
   "name": "python",
   "nbconvert_exporter": "python",
   "pygments_lexer": "ipython3",
   "version": "3.13.5"
  }
 },
 "nbformat": 4,
 "nbformat_minor": 5
}
