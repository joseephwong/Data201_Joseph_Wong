{
 "cells": [
  {
   "cell_type": "markdown",
   "id": "e13c2998-a2c1-4534-95da-6b3ec8cd5d06",
   "metadata": {},
   "source": [
    "# HW5\n",
    "\n",
    "### Author: Joseph Wong"
   ]
  },
  {
   "cell_type": "markdown",
   "id": "83180e61-d626-451e-bb09-942cb71ef7af",
   "metadata": {
    "jp-MarkdownHeadingCollapsed": true
   },
   "source": [
    "## Import Packages and the Data Set"
   ]
  },
  {
   "cell_type": "code",
   "execution_count": 26,
   "id": "081af22b-633b-48fd-accc-3bcfd8ede382",
   "metadata": {},
   "outputs": [],
   "source": [
    "# Some basic package imports\n",
    "import os\n",
    "import numpy as np\n",
    "import pandas as pd\n",
    "\n",
    "import matplotlib.pyplot as plt\n",
    "import plotly.express as px\n",
    "from plotly.subplots import make_subplots\n",
    "import plotly.io as pio\n",
    "pio.renderers.defaule = 'colab'"
   ]
  },
  {
   "cell_type": "code",
   "execution_count": 27,
   "id": "411d33d2-281a-495e-b8d8-c6c23bb9ad99",
   "metadata": {},
   "outputs": [
    {
     "data": {
      "text/html": [
       "<div>\n",
       "<style scoped>\n",
       "    .dataframe tbody tr th:only-of-type {\n",
       "        vertical-align: middle;\n",
       "    }\n",
       "\n",
       "    .dataframe tbody tr th {\n",
       "        vertical-align: top;\n",
       "    }\n",
       "\n",
       "    .dataframe thead th {\n",
       "        text-align: right;\n",
       "    }\n",
       "</style>\n",
       "<table border=\"1\" class=\"dataframe\">\n",
       "  <thead>\n",
       "    <tr style=\"text-align: right;\">\n",
       "      <th></th>\n",
       "      <th>outgoing_mins_per_month</th>\n",
       "      <th>outgoing_sms_per_month</th>\n",
       "      <th>monthly_mb</th>\n",
       "      <th>use_id</th>\n",
       "    </tr>\n",
       "  </thead>\n",
       "  <tbody>\n",
       "    <tr>\n",
       "      <th>0</th>\n",
       "      <td>21.97</td>\n",
       "      <td>4.82</td>\n",
       "      <td>1557.33</td>\n",
       "      <td>22787</td>\n",
       "    </tr>\n",
       "    <tr>\n",
       "      <th>1</th>\n",
       "      <td>1710.08</td>\n",
       "      <td>136.88</td>\n",
       "      <td>7267.55</td>\n",
       "      <td>22788</td>\n",
       "    </tr>\n",
       "    <tr>\n",
       "      <th>2</th>\n",
       "      <td>1710.08</td>\n",
       "      <td>136.88</td>\n",
       "      <td>7267.55</td>\n",
       "      <td>22789</td>\n",
       "    </tr>\n",
       "    <tr>\n",
       "      <th>3</th>\n",
       "      <td>94.46</td>\n",
       "      <td>35.17</td>\n",
       "      <td>519.12</td>\n",
       "      <td>22790</td>\n",
       "    </tr>\n",
       "    <tr>\n",
       "      <th>4</th>\n",
       "      <td>71.59</td>\n",
       "      <td>79.26</td>\n",
       "      <td>1557.33</td>\n",
       "      <td>22792</td>\n",
       "    </tr>\n",
       "    <tr>\n",
       "      <th>5</th>\n",
       "      <td>71.59</td>\n",
       "      <td>79.26</td>\n",
       "      <td>1557.33</td>\n",
       "      <td>22793</td>\n",
       "    </tr>\n",
       "    <tr>\n",
       "      <th>6</th>\n",
       "      <td>71.59</td>\n",
       "      <td>79.26</td>\n",
       "      <td>519.12</td>\n",
       "      <td>22794</td>\n",
       "    </tr>\n",
       "    <tr>\n",
       "      <th>7</th>\n",
       "      <td>71.59</td>\n",
       "      <td>79.26</td>\n",
       "      <td>519.12</td>\n",
       "      <td>22795</td>\n",
       "    </tr>\n",
       "    <tr>\n",
       "      <th>8</th>\n",
       "      <td>30.92</td>\n",
       "      <td>22.77</td>\n",
       "      <td>3114.67</td>\n",
       "      <td>22799</td>\n",
       "    </tr>\n",
       "    <tr>\n",
       "      <th>9</th>\n",
       "      <td>69.80</td>\n",
       "      <td>14.70</td>\n",
       "      <td>25955.55</td>\n",
       "      <td>22801</td>\n",
       "    </tr>\n",
       "  </tbody>\n",
       "</table>\n",
       "</div>"
      ],
      "text/plain": [
       "   outgoing_mins_per_month  outgoing_sms_per_month  monthly_mb  use_id\n",
       "0                    21.97                    4.82     1557.33   22787\n",
       "1                  1710.08                  136.88     7267.55   22788\n",
       "2                  1710.08                  136.88     7267.55   22789\n",
       "3                    94.46                   35.17      519.12   22790\n",
       "4                    71.59                   79.26     1557.33   22792\n",
       "5                    71.59                   79.26     1557.33   22793\n",
       "6                    71.59                   79.26      519.12   22794\n",
       "7                    71.59                   79.26      519.12   22795\n",
       "8                    30.92                   22.77     3114.67   22799\n",
       "9                    69.80                   14.70    25955.55   22801"
      ]
     },
     "execution_count": 27,
     "metadata": {},
     "output_type": "execute_result"
    }
   ],
   "source": [
    "user_usage=pd.read_csv('https://raw.githubusercontent.com/shanealynn/Pandas-Merge-Tutorial/master/user_usage.csv')\n",
    "user_usage.head(10)"
   ]
  },
  {
   "cell_type": "code",
   "execution_count": 28,
   "id": "38c669d1-2464-4ab4-89ca-a3ea6e3e62a3",
   "metadata": {},
   "outputs": [
    {
     "data": {
      "text/html": [
       "<div>\n",
       "<style scoped>\n",
       "    .dataframe tbody tr th:only-of-type {\n",
       "        vertical-align: middle;\n",
       "    }\n",
       "\n",
       "    .dataframe tbody tr th {\n",
       "        vertical-align: top;\n",
       "    }\n",
       "\n",
       "    .dataframe thead th {\n",
       "        text-align: right;\n",
       "    }\n",
       "</style>\n",
       "<table border=\"1\" class=\"dataframe\">\n",
       "  <thead>\n",
       "    <tr style=\"text-align: right;\">\n",
       "      <th></th>\n",
       "      <th>use_id</th>\n",
       "      <th>user_id</th>\n",
       "      <th>platform</th>\n",
       "      <th>platform_version</th>\n",
       "      <th>device</th>\n",
       "      <th>use_type_id</th>\n",
       "    </tr>\n",
       "  </thead>\n",
       "  <tbody>\n",
       "    <tr>\n",
       "      <th>0</th>\n",
       "      <td>22782</td>\n",
       "      <td>26980</td>\n",
       "      <td>ios</td>\n",
       "      <td>10.2</td>\n",
       "      <td>iPhone7,2</td>\n",
       "      <td>2</td>\n",
       "    </tr>\n",
       "    <tr>\n",
       "      <th>1</th>\n",
       "      <td>22783</td>\n",
       "      <td>29628</td>\n",
       "      <td>android</td>\n",
       "      <td>6.0</td>\n",
       "      <td>Nexus 5</td>\n",
       "      <td>3</td>\n",
       "    </tr>\n",
       "    <tr>\n",
       "      <th>2</th>\n",
       "      <td>22784</td>\n",
       "      <td>28473</td>\n",
       "      <td>android</td>\n",
       "      <td>5.1</td>\n",
       "      <td>SM-G903F</td>\n",
       "      <td>1</td>\n",
       "    </tr>\n",
       "    <tr>\n",
       "      <th>3</th>\n",
       "      <td>22785</td>\n",
       "      <td>15200</td>\n",
       "      <td>ios</td>\n",
       "      <td>10.2</td>\n",
       "      <td>iPhone7,2</td>\n",
       "      <td>3</td>\n",
       "    </tr>\n",
       "    <tr>\n",
       "      <th>4</th>\n",
       "      <td>22786</td>\n",
       "      <td>28239</td>\n",
       "      <td>android</td>\n",
       "      <td>6.0</td>\n",
       "      <td>ONE E1003</td>\n",
       "      <td>1</td>\n",
       "    </tr>\n",
       "    <tr>\n",
       "      <th>5</th>\n",
       "      <td>22787</td>\n",
       "      <td>12921</td>\n",
       "      <td>android</td>\n",
       "      <td>4.3</td>\n",
       "      <td>GT-I9505</td>\n",
       "      <td>1</td>\n",
       "    </tr>\n",
       "    <tr>\n",
       "      <th>6</th>\n",
       "      <td>22788</td>\n",
       "      <td>28714</td>\n",
       "      <td>android</td>\n",
       "      <td>6.0</td>\n",
       "      <td>SM-G930F</td>\n",
       "      <td>1</td>\n",
       "    </tr>\n",
       "    <tr>\n",
       "      <th>7</th>\n",
       "      <td>22789</td>\n",
       "      <td>28714</td>\n",
       "      <td>android</td>\n",
       "      <td>6.0</td>\n",
       "      <td>SM-G930F</td>\n",
       "      <td>1</td>\n",
       "    </tr>\n",
       "    <tr>\n",
       "      <th>8</th>\n",
       "      <td>22790</td>\n",
       "      <td>29592</td>\n",
       "      <td>android</td>\n",
       "      <td>5.1</td>\n",
       "      <td>D2303</td>\n",
       "      <td>1</td>\n",
       "    </tr>\n",
       "    <tr>\n",
       "      <th>9</th>\n",
       "      <td>22791</td>\n",
       "      <td>28775</td>\n",
       "      <td>ios</td>\n",
       "      <td>10.2</td>\n",
       "      <td>iPhone6,2</td>\n",
       "      <td>3</td>\n",
       "    </tr>\n",
       "  </tbody>\n",
       "</table>\n",
       "</div>"
      ],
      "text/plain": [
       "   use_id  user_id platform  platform_version     device  use_type_id\n",
       "0   22782    26980      ios              10.2  iPhone7,2            2\n",
       "1   22783    29628  android               6.0    Nexus 5            3\n",
       "2   22784    28473  android               5.1   SM-G903F            1\n",
       "3   22785    15200      ios              10.2  iPhone7,2            3\n",
       "4   22786    28239  android               6.0  ONE E1003            1\n",
       "5   22787    12921  android               4.3   GT-I9505            1\n",
       "6   22788    28714  android               6.0   SM-G930F            1\n",
       "7   22789    28714  android               6.0   SM-G930F            1\n",
       "8   22790    29592  android               5.1      D2303            1\n",
       "9   22791    28775      ios              10.2  iPhone6,2            3"
      ]
     },
     "execution_count": 28,
     "metadata": {},
     "output_type": "execute_result"
    }
   ],
   "source": [
    "user_device=pd.read_csv('https://raw.githubusercontent.com/shanealynn/Pandas-Merge-Tutorial/master/user_device.csv')\n",
    "user_device.head(10)"
   ]
  },
  {
   "cell_type": "code",
   "execution_count": 29,
   "id": "dbbce443-5be2-47a8-851f-d799a504a04a",
   "metadata": {},
   "outputs": [
    {
     "data": {
      "text/html": [
       "<div>\n",
       "<style scoped>\n",
       "    .dataframe tbody tr th:only-of-type {\n",
       "        vertical-align: middle;\n",
       "    }\n",
       "\n",
       "    .dataframe tbody tr th {\n",
       "        vertical-align: top;\n",
       "    }\n",
       "\n",
       "    .dataframe thead th {\n",
       "        text-align: right;\n",
       "    }\n",
       "</style>\n",
       "<table border=\"1\" class=\"dataframe\">\n",
       "  <thead>\n",
       "    <tr style=\"text-align: right;\">\n",
       "      <th></th>\n",
       "      <th>Retail Branding</th>\n",
       "      <th>Marketing Name</th>\n",
       "      <th>Device</th>\n",
       "      <th>Model</th>\n",
       "    </tr>\n",
       "  </thead>\n",
       "  <tbody>\n",
       "    <tr>\n",
       "      <th>0</th>\n",
       "      <td>NaN</td>\n",
       "      <td>NaN</td>\n",
       "      <td>AD681H</td>\n",
       "      <td>Smartfren Andromax AD681H</td>\n",
       "    </tr>\n",
       "    <tr>\n",
       "      <th>1</th>\n",
       "      <td>NaN</td>\n",
       "      <td>NaN</td>\n",
       "      <td>FJL21</td>\n",
       "      <td>FJL21</td>\n",
       "    </tr>\n",
       "    <tr>\n",
       "      <th>2</th>\n",
       "      <td>NaN</td>\n",
       "      <td>NaN</td>\n",
       "      <td>T31</td>\n",
       "      <td>Panasonic T31</td>\n",
       "    </tr>\n",
       "    <tr>\n",
       "      <th>3</th>\n",
       "      <td>NaN</td>\n",
       "      <td>NaN</td>\n",
       "      <td>hws7721g</td>\n",
       "      <td>MediaPad 7 Youth 2</td>\n",
       "    </tr>\n",
       "    <tr>\n",
       "      <th>4</th>\n",
       "      <td>3Q</td>\n",
       "      <td>OC1020A</td>\n",
       "      <td>OC1020A</td>\n",
       "      <td>OC1020A</td>\n",
       "    </tr>\n",
       "    <tr>\n",
       "      <th>5</th>\n",
       "      <td>7Eleven</td>\n",
       "      <td>IN265</td>\n",
       "      <td>IN265</td>\n",
       "      <td>IN265</td>\n",
       "    </tr>\n",
       "    <tr>\n",
       "      <th>6</th>\n",
       "      <td>A.O.I. ELECTRONICS FACTORY</td>\n",
       "      <td>A.O.I.</td>\n",
       "      <td>TR10CS1_11</td>\n",
       "      <td>TR10CS1</td>\n",
       "    </tr>\n",
       "    <tr>\n",
       "      <th>7</th>\n",
       "      <td>AG Mobile</td>\n",
       "      <td>AG BOOST 2</td>\n",
       "      <td>BOOST2</td>\n",
       "      <td>E4010</td>\n",
       "    </tr>\n",
       "    <tr>\n",
       "      <th>8</th>\n",
       "      <td>AG Mobile</td>\n",
       "      <td>AG Flair</td>\n",
       "      <td>AG_Flair</td>\n",
       "      <td>Flair</td>\n",
       "    </tr>\n",
       "    <tr>\n",
       "      <th>9</th>\n",
       "      <td>AG Mobile</td>\n",
       "      <td>AG Go Tab Access 2</td>\n",
       "      <td>AG_Go_Tab_Access_2</td>\n",
       "      <td>AG_Go_Tab_Access_2</td>\n",
       "    </tr>\n",
       "  </tbody>\n",
       "</table>\n",
       "</div>"
      ],
      "text/plain": [
       "              Retail Branding      Marketing Name              Device  \\\n",
       "0                         NaN                 NaN              AD681H   \n",
       "1                         NaN                 NaN               FJL21   \n",
       "2                         NaN                 NaN                 T31   \n",
       "3                         NaN                 NaN            hws7721g   \n",
       "4                          3Q             OC1020A             OC1020A   \n",
       "5                     7Eleven               IN265               IN265   \n",
       "6  A.O.I. ELECTRONICS FACTORY              A.O.I.          TR10CS1_11   \n",
       "7                   AG Mobile          AG BOOST 2              BOOST2   \n",
       "8                   AG Mobile            AG Flair            AG_Flair   \n",
       "9                   AG Mobile  AG Go Tab Access 2  AG_Go_Tab_Access_2   \n",
       "\n",
       "                       Model  \n",
       "0  Smartfren Andromax AD681H  \n",
       "1                      FJL21  \n",
       "2              Panasonic T31  \n",
       "3         MediaPad 7 Youth 2  \n",
       "4                    OC1020A  \n",
       "5                      IN265  \n",
       "6                    TR10CS1  \n",
       "7                      E4010  \n",
       "8                      Flair  \n",
       "9         AG_Go_Tab_Access_2  "
      ]
     },
     "execution_count": 29,
     "metadata": {},
     "output_type": "execute_result"
    }
   ],
   "source": [
    "device=pd.read_csv('https://raw.githubusercontent.com/shanealynn/Pandas-Merge-Tutorial/master/android_devices.csv')\n",
    "device.head(10)"
   ]
  },
  {
   "cell_type": "markdown",
   "id": "1c7251c8-2419-4720-92dd-d17c25d45a04",
   "metadata": {
    "jp-MarkdownHeadingCollapsed": true
   },
   "source": [
    "## Merging the Data Sets"
   ]
  },
  {
   "cell_type": "code",
   "execution_count": 30,
   "id": "d125e508-5182-49a9-a2bd-828dcedaa14f",
   "metadata": {},
   "outputs": [
    {
     "data": {
      "text/plain": [
       "(240, 4)"
      ]
     },
     "execution_count": 30,
     "metadata": {},
     "output_type": "execute_result"
    }
   ],
   "source": [
    "user_usage.shape"
   ]
  },
  {
   "cell_type": "code",
   "execution_count": 31,
   "id": "76bf5a5e-2989-4b06-a527-7dffe1821336",
   "metadata": {},
   "outputs": [
    {
     "data": {
      "text/plain": [
       "(272, 6)"
      ]
     },
     "execution_count": 31,
     "metadata": {},
     "output_type": "execute_result"
    }
   ],
   "source": [
    "user_device.shape"
   ]
  },
  {
   "cell_type": "code",
   "execution_count": 32,
   "id": "d842749c-bd70-408a-b8c2-fe123aa37ef0",
   "metadata": {},
   "outputs": [
    {
     "data": {
      "text/plain": [
       "(14546, 4)"
      ]
     },
     "execution_count": 32,
     "metadata": {},
     "output_type": "execute_result"
    }
   ],
   "source": [
    "device.shape"
   ]
  },
  {
   "cell_type": "markdown",
   "id": "c64eddda-5adf-430c-b221-db773c6dc59a",
   "metadata": {},
   "source": [
    "The data sets each have a different number of observations and variables. For the merged data set, we want to keep the observations from 'user_device' because those represent real users."
   ]
  },
  {
   "cell_type": "code",
   "execution_count": 33,
   "id": "f4cbc8cf-a64f-4e66-8356-1dd9d43a4294",
   "metadata": {},
   "outputs": [
    {
     "name": "stdout",
     "output_type": "stream",
     "text": [
      "common_device:  9\n",
      "common_device:  53\n"
     ]
    }
   ],
   "source": [
    "common_device = set(user_device['device']).intersection(set(device['Device']))\n",
    "print(\"common_device: \", len(common_device))\n",
    "common_model = set(user_device['device']).intersection(set(device['Model']))\n",
    "print(\"common_device: \", len(common_model))"
   ]
  },
  {
   "cell_type": "code",
   "execution_count": 34,
   "id": "39436be7-0fac-4a5e-bff8-6083ebcbc1b4",
   "metadata": {},
   "outputs": [
    {
     "data": {
      "text/plain": [
       "np.int64(0)"
      ]
     },
     "execution_count": 34,
     "metadata": {},
     "output_type": "execute_result"
    }
   ],
   "source": [
    "device['Model'].isna().sum()"
   ]
  },
  {
   "cell_type": "markdown",
   "id": "07807414-5592-4369-923f-f9da9e655de5",
   "metadata": {},
   "source": [
    "The 'Model' column in the 'device' dataframe has more matches with values in the 'device' column of the 'user_device' dataframe. It also does not have any NaNs. So, we will use these columns to merge the two dataframes."
   ]
  },
  {
   "cell_type": "code",
   "execution_count": 35,
   "id": "41128022-372f-451c-9619-49e3e7368d80",
   "metadata": {},
   "outputs": [
    {
     "data": {
      "text/html": [
       "<div>\n",
       "<style scoped>\n",
       "    .dataframe tbody tr th:only-of-type {\n",
       "        vertical-align: middle;\n",
       "    }\n",
       "\n",
       "    .dataframe tbody tr th {\n",
       "        vertical-align: top;\n",
       "    }\n",
       "\n",
       "    .dataframe thead th {\n",
       "        text-align: right;\n",
       "    }\n",
       "</style>\n",
       "<table border=\"1\" class=\"dataframe\">\n",
       "  <thead>\n",
       "    <tr style=\"text-align: right;\">\n",
       "      <th></th>\n",
       "      <th>use_id</th>\n",
       "      <th>user_id</th>\n",
       "      <th>platform</th>\n",
       "      <th>platform_version</th>\n",
       "      <th>device</th>\n",
       "      <th>use_type_id</th>\n",
       "      <th>Retail Branding</th>\n",
       "      <th>Marketing Name</th>\n",
       "      <th>Device</th>\n",
       "      <th>Model</th>\n",
       "      <th>outgoing_mins_per_month</th>\n",
       "      <th>outgoing_sms_per_month</th>\n",
       "      <th>monthly_mb</th>\n",
       "    </tr>\n",
       "  </thead>\n",
       "  <tbody>\n",
       "    <tr>\n",
       "      <th>0</th>\n",
       "      <td>22782</td>\n",
       "      <td>26980</td>\n",
       "      <td>ios</td>\n",
       "      <td>10.2</td>\n",
       "      <td>iPhone7,2</td>\n",
       "      <td>2</td>\n",
       "      <td>NaN</td>\n",
       "      <td>NaN</td>\n",
       "      <td>NaN</td>\n",
       "      <td>NaN</td>\n",
       "      <td>NaN</td>\n",
       "      <td>NaN</td>\n",
       "      <td>NaN</td>\n",
       "    </tr>\n",
       "    <tr>\n",
       "      <th>1</th>\n",
       "      <td>22783</td>\n",
       "      <td>29628</td>\n",
       "      <td>android</td>\n",
       "      <td>6.0</td>\n",
       "      <td>Nexus 5</td>\n",
       "      <td>3</td>\n",
       "      <td>LGE</td>\n",
       "      <td>Nexus 5</td>\n",
       "      <td>hammerhead</td>\n",
       "      <td>Nexus 5</td>\n",
       "      <td>NaN</td>\n",
       "      <td>NaN</td>\n",
       "      <td>NaN</td>\n",
       "    </tr>\n",
       "    <tr>\n",
       "      <th>2</th>\n",
       "      <td>22784</td>\n",
       "      <td>28473</td>\n",
       "      <td>android</td>\n",
       "      <td>5.1</td>\n",
       "      <td>SM-G903F</td>\n",
       "      <td>1</td>\n",
       "      <td>Samsung</td>\n",
       "      <td>Galaxy S5 Neo</td>\n",
       "      <td>s5neolte</td>\n",
       "      <td>SM-G903F</td>\n",
       "      <td>NaN</td>\n",
       "      <td>NaN</td>\n",
       "      <td>NaN</td>\n",
       "    </tr>\n",
       "    <tr>\n",
       "      <th>3</th>\n",
       "      <td>22785</td>\n",
       "      <td>15200</td>\n",
       "      <td>ios</td>\n",
       "      <td>10.2</td>\n",
       "      <td>iPhone7,2</td>\n",
       "      <td>3</td>\n",
       "      <td>NaN</td>\n",
       "      <td>NaN</td>\n",
       "      <td>NaN</td>\n",
       "      <td>NaN</td>\n",
       "      <td>NaN</td>\n",
       "      <td>NaN</td>\n",
       "      <td>NaN</td>\n",
       "    </tr>\n",
       "    <tr>\n",
       "      <th>4</th>\n",
       "      <td>22786</td>\n",
       "      <td>28239</td>\n",
       "      <td>android</td>\n",
       "      <td>6.0</td>\n",
       "      <td>ONE E1003</td>\n",
       "      <td>1</td>\n",
       "      <td>OnePlus</td>\n",
       "      <td>OnePlus</td>\n",
       "      <td>OnePlus</td>\n",
       "      <td>ONE E1003</td>\n",
       "      <td>NaN</td>\n",
       "      <td>NaN</td>\n",
       "      <td>NaN</td>\n",
       "    </tr>\n",
       "    <tr>\n",
       "      <th>...</th>\n",
       "      <td>...</td>\n",
       "      <td>...</td>\n",
       "      <td>...</td>\n",
       "      <td>...</td>\n",
       "      <td>...</td>\n",
       "      <td>...</td>\n",
       "      <td>...</td>\n",
       "      <td>...</td>\n",
       "      <td>...</td>\n",
       "      <td>...</td>\n",
       "      <td>...</td>\n",
       "      <td>...</td>\n",
       "      <td>...</td>\n",
       "    </tr>\n",
       "    <tr>\n",
       "      <th>325</th>\n",
       "      <td>23050</td>\n",
       "      <td>29726</td>\n",
       "      <td>ios</td>\n",
       "      <td>10.2</td>\n",
       "      <td>iPhone7,2</td>\n",
       "      <td>3</td>\n",
       "      <td>NaN</td>\n",
       "      <td>NaN</td>\n",
       "      <td>NaN</td>\n",
       "      <td>NaN</td>\n",
       "      <td>NaN</td>\n",
       "      <td>NaN</td>\n",
       "      <td>NaN</td>\n",
       "    </tr>\n",
       "    <tr>\n",
       "      <th>326</th>\n",
       "      <td>23051</td>\n",
       "      <td>29726</td>\n",
       "      <td>ios</td>\n",
       "      <td>10.2</td>\n",
       "      <td>iPhone7,2</td>\n",
       "      <td>3</td>\n",
       "      <td>NaN</td>\n",
       "      <td>NaN</td>\n",
       "      <td>NaN</td>\n",
       "      <td>NaN</td>\n",
       "      <td>NaN</td>\n",
       "      <td>NaN</td>\n",
       "      <td>NaN</td>\n",
       "    </tr>\n",
       "    <tr>\n",
       "      <th>327</th>\n",
       "      <td>23052</td>\n",
       "      <td>29727</td>\n",
       "      <td>ios</td>\n",
       "      <td>10.1</td>\n",
       "      <td>iPhone8,4</td>\n",
       "      <td>3</td>\n",
       "      <td>NaN</td>\n",
       "      <td>NaN</td>\n",
       "      <td>NaN</td>\n",
       "      <td>NaN</td>\n",
       "      <td>NaN</td>\n",
       "      <td>NaN</td>\n",
       "      <td>NaN</td>\n",
       "    </tr>\n",
       "    <tr>\n",
       "      <th>328</th>\n",
       "      <td>23053</td>\n",
       "      <td>20257</td>\n",
       "      <td>android</td>\n",
       "      <td>5.1</td>\n",
       "      <td>Vodafone Smart ultra 6</td>\n",
       "      <td>1</td>\n",
       "      <td>Vodafone</td>\n",
       "      <td>Vodafone Smart ultra 6</td>\n",
       "      <td>P839V55</td>\n",
       "      <td>Vodafone Smart ultra 6</td>\n",
       "      <td>42.75</td>\n",
       "      <td>46.83</td>\n",
       "      <td>5191.12</td>\n",
       "    </tr>\n",
       "    <tr>\n",
       "      <th>329</th>\n",
       "      <td>23053</td>\n",
       "      <td>20257</td>\n",
       "      <td>android</td>\n",
       "      <td>5.1</td>\n",
       "      <td>Vodafone Smart ultra 6</td>\n",
       "      <td>1</td>\n",
       "      <td>ZTE</td>\n",
       "      <td>Vodafone Smart ultra 6</td>\n",
       "      <td>msm8916_32</td>\n",
       "      <td>Vodafone Smart ultra 6</td>\n",
       "      <td>42.75</td>\n",
       "      <td>46.83</td>\n",
       "      <td>5191.12</td>\n",
       "    </tr>\n",
       "  </tbody>\n",
       "</table>\n",
       "<p>330 rows × 13 columns</p>\n",
       "</div>"
      ],
      "text/plain": [
       "     use_id  user_id platform  platform_version                  device  \\\n",
       "0     22782    26980      ios              10.2               iPhone7,2   \n",
       "1     22783    29628  android               6.0                 Nexus 5   \n",
       "2     22784    28473  android               5.1                SM-G903F   \n",
       "3     22785    15200      ios              10.2               iPhone7,2   \n",
       "4     22786    28239  android               6.0               ONE E1003   \n",
       "..      ...      ...      ...               ...                     ...   \n",
       "325   23050    29726      ios              10.2               iPhone7,2   \n",
       "326   23051    29726      ios              10.2               iPhone7,2   \n",
       "327   23052    29727      ios              10.1               iPhone8,4   \n",
       "328   23053    20257  android               5.1  Vodafone Smart ultra 6   \n",
       "329   23053    20257  android               5.1  Vodafone Smart ultra 6   \n",
       "\n",
       "     use_type_id Retail Branding          Marketing Name      Device  \\\n",
       "0              2             NaN                     NaN         NaN   \n",
       "1              3             LGE                 Nexus 5  hammerhead   \n",
       "2              1         Samsung           Galaxy S5 Neo    s5neolte   \n",
       "3              3             NaN                     NaN         NaN   \n",
       "4              1         OnePlus                 OnePlus     OnePlus   \n",
       "..           ...             ...                     ...         ...   \n",
       "325            3             NaN                     NaN         NaN   \n",
       "326            3             NaN                     NaN         NaN   \n",
       "327            3             NaN                     NaN         NaN   \n",
       "328            1        Vodafone  Vodafone Smart ultra 6     P839V55   \n",
       "329            1             ZTE  Vodafone Smart ultra 6  msm8916_32   \n",
       "\n",
       "                      Model  outgoing_mins_per_month  outgoing_sms_per_month  \\\n",
       "0                       NaN                      NaN                     NaN   \n",
       "1                   Nexus 5                      NaN                     NaN   \n",
       "2                  SM-G903F                      NaN                     NaN   \n",
       "3                       NaN                      NaN                     NaN   \n",
       "4                 ONE E1003                      NaN                     NaN   \n",
       "..                      ...                      ...                     ...   \n",
       "325                     NaN                      NaN                     NaN   \n",
       "326                     NaN                      NaN                     NaN   \n",
       "327                     NaN                      NaN                     NaN   \n",
       "328  Vodafone Smart ultra 6                    42.75                   46.83   \n",
       "329  Vodafone Smart ultra 6                    42.75                   46.83   \n",
       "\n",
       "     monthly_mb  \n",
       "0           NaN  \n",
       "1           NaN  \n",
       "2           NaN  \n",
       "3           NaN  \n",
       "4           NaN  \n",
       "..          ...  \n",
       "325         NaN  \n",
       "326         NaN  \n",
       "327         NaN  \n",
       "328     5191.12  \n",
       "329     5191.12  \n",
       "\n",
       "[330 rows x 13 columns]"
      ]
     },
     "execution_count": 35,
     "metadata": {},
     "output_type": "execute_result"
    }
   ],
   "source": [
    "# merge device to user_device (left because we only care about observations that represent a user)\n",
    "df_temp = pd.merge(user_device,device,left_on='device',right_on='Model',how='left')\n",
    "# merge user_usage to new df (left because we only care about observations that represent a user)\n",
    "df_temp = pd.merge(df_temp,user_usage,on='use_id',how='left')\n",
    "df_temp"
   ]
  },
  {
   "cell_type": "markdown",
   "id": "cf3c3771-1e97-451b-af6d-6a8a0bcb93d1",
   "metadata": {},
   "source": [
    "After merging, there are some observations with multiple NaNs. This was caused by the merge index not existing in either the 'device' or 'user_usage' dataframe."
   ]
  },
  {
   "cell_type": "code",
   "execution_count": 36,
   "id": "a85d3b74-1bf0-49c0-9eec-c98853daae52",
   "metadata": {},
   "outputs": [],
   "source": [
    "df_temp.drop('Model', axis=1, inplace=True)"
   ]
  },
  {
   "cell_type": "markdown",
   "id": "493e3476-a373-4dee-90e6-1b08f3ede023",
   "metadata": {},
   "source": [
    "We will drop the column 'Model' because it contains the same values as the 'device' column, except it is missing some values."
   ]
  },
  {
   "cell_type": "code",
   "execution_count": 37,
   "id": "60ffb062-4974-43d2-8a70-a9f4b0d75405",
   "metadata": {},
   "outputs": [
    {
     "data": {
      "text/html": [
       "<div>\n",
       "<style scoped>\n",
       "    .dataframe tbody tr th:only-of-type {\n",
       "        vertical-align: middle;\n",
       "    }\n",
       "\n",
       "    .dataframe tbody tr th {\n",
       "        vertical-align: top;\n",
       "    }\n",
       "\n",
       "    .dataframe thead th {\n",
       "        text-align: right;\n",
       "    }\n",
       "</style>\n",
       "<table border=\"1\" class=\"dataframe\">\n",
       "  <thead>\n",
       "    <tr style=\"text-align: right;\">\n",
       "      <th></th>\n",
       "      <th>use_id</th>\n",
       "      <th>user_id</th>\n",
       "      <th>platform</th>\n",
       "      <th>platform_version</th>\n",
       "      <th>device</th>\n",
       "      <th>use_type_id</th>\n",
       "      <th>retail_branding</th>\n",
       "      <th>marketing_name</th>\n",
       "      <th>device_code</th>\n",
       "      <th>outgoing_mins_per_month</th>\n",
       "      <th>outgoing_sms_per_month</th>\n",
       "      <th>monthly_mb</th>\n",
       "    </tr>\n",
       "  </thead>\n",
       "  <tbody>\n",
       "    <tr>\n",
       "      <th>0</th>\n",
       "      <td>22782</td>\n",
       "      <td>26980</td>\n",
       "      <td>ios</td>\n",
       "      <td>10.2</td>\n",
       "      <td>iPhone7,2</td>\n",
       "      <td>2</td>\n",
       "      <td>NaN</td>\n",
       "      <td>NaN</td>\n",
       "      <td>NaN</td>\n",
       "      <td>NaN</td>\n",
       "      <td>NaN</td>\n",
       "      <td>NaN</td>\n",
       "    </tr>\n",
       "    <tr>\n",
       "      <th>1</th>\n",
       "      <td>22783</td>\n",
       "      <td>29628</td>\n",
       "      <td>android</td>\n",
       "      <td>6.0</td>\n",
       "      <td>Nexus 5</td>\n",
       "      <td>3</td>\n",
       "      <td>LGE</td>\n",
       "      <td>Nexus 5</td>\n",
       "      <td>hammerhead</td>\n",
       "      <td>NaN</td>\n",
       "      <td>NaN</td>\n",
       "      <td>NaN</td>\n",
       "    </tr>\n",
       "    <tr>\n",
       "      <th>2</th>\n",
       "      <td>22784</td>\n",
       "      <td>28473</td>\n",
       "      <td>android</td>\n",
       "      <td>5.1</td>\n",
       "      <td>SM-G903F</td>\n",
       "      <td>1</td>\n",
       "      <td>Samsung</td>\n",
       "      <td>Galaxy S5 Neo</td>\n",
       "      <td>s5neolte</td>\n",
       "      <td>NaN</td>\n",
       "      <td>NaN</td>\n",
       "      <td>NaN</td>\n",
       "    </tr>\n",
       "    <tr>\n",
       "      <th>3</th>\n",
       "      <td>22785</td>\n",
       "      <td>15200</td>\n",
       "      <td>ios</td>\n",
       "      <td>10.2</td>\n",
       "      <td>iPhone7,2</td>\n",
       "      <td>3</td>\n",
       "      <td>NaN</td>\n",
       "      <td>NaN</td>\n",
       "      <td>NaN</td>\n",
       "      <td>NaN</td>\n",
       "      <td>NaN</td>\n",
       "      <td>NaN</td>\n",
       "    </tr>\n",
       "    <tr>\n",
       "      <th>4</th>\n",
       "      <td>22786</td>\n",
       "      <td>28239</td>\n",
       "      <td>android</td>\n",
       "      <td>6.0</td>\n",
       "      <td>ONE E1003</td>\n",
       "      <td>1</td>\n",
       "      <td>OnePlus</td>\n",
       "      <td>OnePlus</td>\n",
       "      <td>OnePlus</td>\n",
       "      <td>NaN</td>\n",
       "      <td>NaN</td>\n",
       "      <td>NaN</td>\n",
       "    </tr>\n",
       "    <tr>\n",
       "      <th>...</th>\n",
       "      <td>...</td>\n",
       "      <td>...</td>\n",
       "      <td>...</td>\n",
       "      <td>...</td>\n",
       "      <td>...</td>\n",
       "      <td>...</td>\n",
       "      <td>...</td>\n",
       "      <td>...</td>\n",
       "      <td>...</td>\n",
       "      <td>...</td>\n",
       "      <td>...</td>\n",
       "      <td>...</td>\n",
       "    </tr>\n",
       "    <tr>\n",
       "      <th>325</th>\n",
       "      <td>23050</td>\n",
       "      <td>29726</td>\n",
       "      <td>ios</td>\n",
       "      <td>10.2</td>\n",
       "      <td>iPhone7,2</td>\n",
       "      <td>3</td>\n",
       "      <td>NaN</td>\n",
       "      <td>NaN</td>\n",
       "      <td>NaN</td>\n",
       "      <td>NaN</td>\n",
       "      <td>NaN</td>\n",
       "      <td>NaN</td>\n",
       "    </tr>\n",
       "    <tr>\n",
       "      <th>326</th>\n",
       "      <td>23051</td>\n",
       "      <td>29726</td>\n",
       "      <td>ios</td>\n",
       "      <td>10.2</td>\n",
       "      <td>iPhone7,2</td>\n",
       "      <td>3</td>\n",
       "      <td>NaN</td>\n",
       "      <td>NaN</td>\n",
       "      <td>NaN</td>\n",
       "      <td>NaN</td>\n",
       "      <td>NaN</td>\n",
       "      <td>NaN</td>\n",
       "    </tr>\n",
       "    <tr>\n",
       "      <th>327</th>\n",
       "      <td>23052</td>\n",
       "      <td>29727</td>\n",
       "      <td>ios</td>\n",
       "      <td>10.1</td>\n",
       "      <td>iPhone8,4</td>\n",
       "      <td>3</td>\n",
       "      <td>NaN</td>\n",
       "      <td>NaN</td>\n",
       "      <td>NaN</td>\n",
       "      <td>NaN</td>\n",
       "      <td>NaN</td>\n",
       "      <td>NaN</td>\n",
       "    </tr>\n",
       "    <tr>\n",
       "      <th>328</th>\n",
       "      <td>23053</td>\n",
       "      <td>20257</td>\n",
       "      <td>android</td>\n",
       "      <td>5.1</td>\n",
       "      <td>Vodafone Smart ultra 6</td>\n",
       "      <td>1</td>\n",
       "      <td>Vodafone</td>\n",
       "      <td>Vodafone Smart ultra 6</td>\n",
       "      <td>P839V55</td>\n",
       "      <td>42.75</td>\n",
       "      <td>46.83</td>\n",
       "      <td>5191.12</td>\n",
       "    </tr>\n",
       "    <tr>\n",
       "      <th>329</th>\n",
       "      <td>23053</td>\n",
       "      <td>20257</td>\n",
       "      <td>android</td>\n",
       "      <td>5.1</td>\n",
       "      <td>Vodafone Smart ultra 6</td>\n",
       "      <td>1</td>\n",
       "      <td>ZTE</td>\n",
       "      <td>Vodafone Smart ultra 6</td>\n",
       "      <td>msm8916_32</td>\n",
       "      <td>42.75</td>\n",
       "      <td>46.83</td>\n",
       "      <td>5191.12</td>\n",
       "    </tr>\n",
       "  </tbody>\n",
       "</table>\n",
       "<p>330 rows × 12 columns</p>\n",
       "</div>"
      ],
      "text/plain": [
       "     use_id  user_id platform  platform_version                  device  \\\n",
       "0     22782    26980      ios              10.2               iPhone7,2   \n",
       "1     22783    29628  android               6.0                 Nexus 5   \n",
       "2     22784    28473  android               5.1                SM-G903F   \n",
       "3     22785    15200      ios              10.2               iPhone7,2   \n",
       "4     22786    28239  android               6.0               ONE E1003   \n",
       "..      ...      ...      ...               ...                     ...   \n",
       "325   23050    29726      ios              10.2               iPhone7,2   \n",
       "326   23051    29726      ios              10.2               iPhone7,2   \n",
       "327   23052    29727      ios              10.1               iPhone8,4   \n",
       "328   23053    20257  android               5.1  Vodafone Smart ultra 6   \n",
       "329   23053    20257  android               5.1  Vodafone Smart ultra 6   \n",
       "\n",
       "     use_type_id retail_branding          marketing_name device_code  \\\n",
       "0              2             NaN                     NaN         NaN   \n",
       "1              3             LGE                 Nexus 5  hammerhead   \n",
       "2              1         Samsung           Galaxy S5 Neo    s5neolte   \n",
       "3              3             NaN                     NaN         NaN   \n",
       "4              1         OnePlus                 OnePlus     OnePlus   \n",
       "..           ...             ...                     ...         ...   \n",
       "325            3             NaN                     NaN         NaN   \n",
       "326            3             NaN                     NaN         NaN   \n",
       "327            3             NaN                     NaN         NaN   \n",
       "328            1        Vodafone  Vodafone Smart ultra 6     P839V55   \n",
       "329            1             ZTE  Vodafone Smart ultra 6  msm8916_32   \n",
       "\n",
       "     outgoing_mins_per_month  outgoing_sms_per_month  monthly_mb  \n",
       "0                        NaN                     NaN         NaN  \n",
       "1                        NaN                     NaN         NaN  \n",
       "2                        NaN                     NaN         NaN  \n",
       "3                        NaN                     NaN         NaN  \n",
       "4                        NaN                     NaN         NaN  \n",
       "..                       ...                     ...         ...  \n",
       "325                      NaN                     NaN         NaN  \n",
       "326                      NaN                     NaN         NaN  \n",
       "327                      NaN                     NaN         NaN  \n",
       "328                    42.75                   46.83     5191.12  \n",
       "329                    42.75                   46.83     5191.12  \n",
       "\n",
       "[330 rows x 12 columns]"
      ]
     },
     "execution_count": 37,
     "metadata": {},
     "output_type": "execute_result"
    }
   ],
   "source": [
    "# rename cols to be consistent style\n",
    "df_temp.rename(columns={'Retail Branding':'retail_branding','Marketing Name':'marketing_name','Device':'device_code'}, inplace=True)\n",
    "df_temp"
   ]
  },
  {
   "cell_type": "code",
   "execution_count": 38,
   "id": "804a0c4c-1e1e-47eb-997e-da7fcc538fb4",
   "metadata": {},
   "outputs": [],
   "source": [
    "# create copy of df_temp to use for analysis\n",
    "df = df_temp.copy()"
   ]
  },
  {
   "cell_type": "markdown",
   "id": "51c2bcde-d247-4bcc-9b47-ca166e5d863e",
   "metadata": {
    "jp-MarkdownHeadingCollapsed": true
   },
   "source": [
    "## Does the platform being used impact the number of monthly mb used?"
   ]
  },
  {
   "cell_type": "code",
   "execution_count": 46,
   "id": "779c1f94-625a-49b0-9e55-cc5462bae5f9",
   "metadata": {},
   "outputs": [
    {
     "data": {
      "text/plain": [
       "platform\n",
       "android    4252.313493\n",
       "ios         961.155000\n",
       "Name: monthly_mb, dtype: float64"
      ]
     },
     "execution_count": 46,
     "metadata": {},
     "output_type": "execute_result"
    }
   ],
   "source": [
    "df['monthly_mb'].groupby(df['platform']).mean()"
   ]
  },
  {
   "cell_type": "code",
   "execution_count": 39,
   "id": "6e3486c6-36cc-48ea-b05a-7b8a2c91b1ec",
   "metadata": {},
   "outputs": [
    {
     "data": {
      "text/plain": [
       "np.int64(2)"
      ]
     },
     "execution_count": 39,
     "metadata": {},
     "output_type": "execute_result"
    }
   ],
   "source": [
    "df['monthly_mb'][df['platform']=='ios'].notna().sum()"
   ]
  },
  {
   "cell_type": "markdown",
   "id": "7f848498-4f98-43f1-b559-aa524a821a89",
   "metadata": {},
   "source": [
    "For android users, the average number of monthly mb used is around 4252.3135 while for ios users, the average number of monthly mb used is around 961.1550. However, upon further inspection, there are only two observations that are not NaNs in the 'monthly_mb' column that have 'ios' as their 'platform'. With such a small sample size, we cannot draw a reasonable conclusion to answer whether platform impacts the number of monthly mb used. Therefore, we would need more data to answer the question."
   ]
  },
  {
   "cell_type": "markdown",
   "id": "f48f31b4-5ba3-41a6-8e53-23c9a44d520d",
   "metadata": {
    "jp-MarkdownHeadingCollapsed": true
   },
   "source": [
    "## Do users using Samsung devices use more call minutes than those using HTC devices?"
   ]
  },
  {
   "cell_type": "code",
   "execution_count": 40,
   "id": "c4b3b526-77dc-4a5c-bbf6-162b38cb6ff5",
   "metadata": {},
   "outputs": [
    {
     "data": {
      "text/plain": [
       "retail_branding\n",
       "Samsung     108\n",
       "HTC          44\n",
       "Sony         16\n",
       "Motorola     16\n",
       "OnePlus       6\n",
       "Huawei        3\n",
       "LGE           2\n",
       "Lenovo        2\n",
       "Lava          2\n",
       "Vodafone      1\n",
       "ZTE           1\n",
       "Name: count, dtype: int64"
      ]
     },
     "execution_count": 40,
     "metadata": {},
     "output_type": "execute_result"
    }
   ],
   "source": [
    "df['retail_branding'][df['outgoing_mins_per_month'].notna()].value_counts()"
   ]
  },
  {
   "cell_type": "markdown",
   "id": "942d4efe-fabb-49b4-b192-1f8b6b2253b6",
   "metadata": {},
   "source": [
    "Samsung and HTC devices have the greatest number of observations while having values for 'outgoing_mins_per_month' (108 and 44 respectively). So, the sample size is adequate for analysis."
   ]
  },
  {
   "cell_type": "code",
   "execution_count": 41,
   "id": "06e0ef63-46a5-4f3d-b7d8-85585f610ed5",
   "metadata": {},
   "outputs": [
    {
     "data": {
      "application/vnd.plotly.v1+json": {
       "config": {
        "plotlyServerURL": "https://plot.ly"
       },
       "data": [
        {
         "alignmentgroup": "True",
         "hovertemplate": "retail_branding=%{x}<br>outgoing_mins_per_month=%{y}<extra></extra>",
         "legendgroup": "",
         "marker": {
          "color": "#636efa"
         },
         "name": "",
         "notched": false,
         "offsetgroup": "",
         "orientation": "v",
         "showlegend": false,
         "type": "box",
         "x": [
          "Samsung",
          "Samsung",
          "Samsung",
          "Samsung",
          "Samsung",
          "Samsung",
          "Samsung",
          "Samsung",
          "HTC",
          "HTC",
          "HTC",
          "Samsung",
          "Samsung",
          "Samsung",
          "Samsung",
          "Samsung",
          "Samsung",
          "Samsung",
          "Samsung",
          "Samsung",
          "Samsung",
          "Samsung",
          "Samsung",
          "HTC",
          "HTC",
          "HTC",
          "HTC",
          "HTC",
          "HTC",
          "Samsung",
          "Samsung",
          "Samsung",
          "Samsung",
          "Samsung",
          "Samsung",
          "Samsung",
          "Samsung",
          "Samsung",
          "HTC",
          "HTC",
          "HTC",
          "HTC",
          "Samsung",
          "HTC",
          "Samsung",
          "Samsung",
          "Samsung",
          "Samsung",
          "Samsung",
          "Samsung",
          "Samsung",
          "Samsung",
          "Samsung",
          "Samsung",
          "Samsung",
          "Samsung",
          "Samsung",
          "Samsung",
          "Samsung",
          "HTC",
          "Samsung",
          "Samsung",
          "Samsung",
          "Samsung",
          "Samsung",
          "Samsung",
          "Samsung",
          "Samsung",
          "Samsung",
          "HTC",
          "HTC",
          "HTC",
          "HTC",
          "HTC",
          "Samsung",
          "Samsung",
          "Samsung",
          "Samsung",
          "Samsung",
          "Samsung",
          "Samsung",
          "Samsung",
          "HTC",
          "HTC",
          "HTC",
          "HTC",
          "HTC",
          "HTC",
          "HTC",
          "HTC",
          "HTC",
          "HTC",
          "Samsung",
          "Samsung",
          "Samsung",
          "Samsung",
          "Samsung",
          "Samsung",
          "Samsung",
          "Samsung",
          "Samsung",
          "Samsung",
          "Samsung",
          "Samsung",
          "Samsung",
          "Samsung",
          "Samsung",
          "Samsung",
          "Samsung",
          "Samsung",
          "HTC",
          "Samsung",
          "Samsung",
          "Samsung",
          "Samsung",
          "Samsung",
          "Samsung",
          "Samsung",
          "Samsung",
          "Samsung",
          "Samsung",
          "Samsung",
          "Samsung",
          "Samsung",
          "Samsung",
          "Samsung",
          "Samsung",
          "Samsung",
          "HTC",
          "HTC",
          "Samsung",
          "Samsung",
          "Samsung",
          "Samsung",
          "HTC",
          "Samsung",
          "Samsung",
          "Samsung",
          "Samsung"
         ],
         "x0": " ",
         "xaxis": "x",
         "y": {
          "bdata": "uB6F61H4NUD2KFyPwuVRQPYoXI/C5VFA9ihcj8LlUUD2KFyPwuVRQDMzMzMzc1FAMzMzMzOjZ0A9CtejcEV0QDMzMzMzs1NAMzMzMzOzU0AzMzMzM7NTQDMzMzMzg2RAuB6F61EIakC4HoXrUUR0QK5H4XoUflVAXI/C9SgUZ0CuR+F6FP5ZQK5H4XoU/llAj8L1KFxDekCPwvUoXEN6QOxRuB6Fx3JA7FG4HoXHckAAAAAAAMA1QPYoXI/CpVJA9ihcj8KlUkD2KFyPwqVSQPYoXI/CpVJA9ihcj8KlUkD2KFyPwqVSQJqZmZmZyVBAmpmZmZnJUECamZmZmclQQArXo3A9ij1ACtejcD2KPUAUrkfhelRbQIXrUbgexU1AuB6F61Eob0C4HoXrUShvQKRwPQrX+3FApHA9Ctf7cUCkcD0K1/txQKRwPQrX+3FAPQrXo3DdVEB7FK5H4QpgQLgehetRcGxAH4XrUbiOUkA9CtejcD0wQBSuR+F6VF9A4XoUrkfBc0CamZmZmdk8QOxRuB6Fo2lAmpmZmZkxYkCamZmZmTFiQK5H4XoUnlBAmpmZmZkxYkB7FK5H4XojQHsUrkfheiNASOF6FK5fZkBSuB6F6/lhQAAAAAAAIEVASOF6FK5HIEBI4XoUrkcgQDMzMzMzj3hAj8L1KFzXYUCPwvUoXNdhQK5H4XoUpm1ArkfhehSmbUCuR+F6FKZtQDMzMzMzU3JAMzMzMzM7YEAzMzMzMztgQDMzMzMzO2BAMzMzMzM7YEAzMzMzMztgQFK4HoXrIWFAFK5H4Xq0a0CamZmZmflNQNejcD0Kt05A16NwPQpXMEDXo3A9ClcwQNejcD0KVzBA16NwPQpXMECkcD0K11tvQKRwPQrXW29ApHA9Ctdbb0CkcD0K11tvQKRwPQrXW29ApHA9Ctdbb0CkcD0K11tvQKRwPQrXW29ApHA9Ctdbb0CkcD0K11tvQI/C9ShcF2dA4XoUrkcZc0DhehSuRxlzQPYoXI/CrWhA9ihcj8KtaEBmZmZmZuY8QPYoXI/C4XJACtejcD3Ka0AUrkfhelRfQMP1KFyPEmhAZmZmZmYeb0BmZmZmZh5vQPYoXI/CBWlA9ihcj8KNdkBcj8L1KFRpQBSuR+F63G5AexSuR+HaSEDXo3A9Cu9vQAAAAAAAAOA/9ihcj8KlXEA9CtejcIl3QPYoXI/CnW5A9ihcj8KdbkCuR+F6FM5XQK5H4XoUzldAzczMzMzMXkBI4XoUrh9gQDMzMzMz811A4XoUrkcldEDD9Shcj6JCQD0K16NwvTxAcT0K16PwVUCkcD0K1/NYQDMzMzMzk19A16NwPQp3RUBI4XoUrsdPQJqZmZmZ2TZAmpmZmZnZNkBcj8L1KGRsQFyPwvUoZGxAXI/C9ShkbED2KFyPwoVmQDMzMzMzsylAexSuR+HSaEB7FK5H4dJoQHsUrkfh0mhAFK5H4XqIdUA=",
          "dtype": "f8"
         },
         "y0": " ",
         "yaxis": "y"
        }
       ],
       "layout": {
        "boxmode": "group",
        "legend": {
         "tracegroupgap": 0
        },
        "template": {
         "data": {
          "bar": [
           {
            "error_x": {
             "color": "#2a3f5f"
            },
            "error_y": {
             "color": "#2a3f5f"
            },
            "marker": {
             "line": {
              "color": "#E5ECF6",
              "width": 0.5
             },
             "pattern": {
              "fillmode": "overlay",
              "size": 10,
              "solidity": 0.2
             }
            },
            "type": "bar"
           }
          ],
          "barpolar": [
           {
            "marker": {
             "line": {
              "color": "#E5ECF6",
              "width": 0.5
             },
             "pattern": {
              "fillmode": "overlay",
              "size": 10,
              "solidity": 0.2
             }
            },
            "type": "barpolar"
           }
          ],
          "carpet": [
           {
            "aaxis": {
             "endlinecolor": "#2a3f5f",
             "gridcolor": "white",
             "linecolor": "white",
             "minorgridcolor": "white",
             "startlinecolor": "#2a3f5f"
            },
            "baxis": {
             "endlinecolor": "#2a3f5f",
             "gridcolor": "white",
             "linecolor": "white",
             "minorgridcolor": "white",
             "startlinecolor": "#2a3f5f"
            },
            "type": "carpet"
           }
          ],
          "choropleth": [
           {
            "colorbar": {
             "outlinewidth": 0,
             "ticks": ""
            },
            "type": "choropleth"
           }
          ],
          "contour": [
           {
            "colorbar": {
             "outlinewidth": 0,
             "ticks": ""
            },
            "colorscale": [
             [
              0,
              "#0d0887"
             ],
             [
              0.1111111111111111,
              "#46039f"
             ],
             [
              0.2222222222222222,
              "#7201a8"
             ],
             [
              0.3333333333333333,
              "#9c179e"
             ],
             [
              0.4444444444444444,
              "#bd3786"
             ],
             [
              0.5555555555555556,
              "#d8576b"
             ],
             [
              0.6666666666666666,
              "#ed7953"
             ],
             [
              0.7777777777777778,
              "#fb9f3a"
             ],
             [
              0.8888888888888888,
              "#fdca26"
             ],
             [
              1,
              "#f0f921"
             ]
            ],
            "type": "contour"
           }
          ],
          "contourcarpet": [
           {
            "colorbar": {
             "outlinewidth": 0,
             "ticks": ""
            },
            "type": "contourcarpet"
           }
          ],
          "heatmap": [
           {
            "colorbar": {
             "outlinewidth": 0,
             "ticks": ""
            },
            "colorscale": [
             [
              0,
              "#0d0887"
             ],
             [
              0.1111111111111111,
              "#46039f"
             ],
             [
              0.2222222222222222,
              "#7201a8"
             ],
             [
              0.3333333333333333,
              "#9c179e"
             ],
             [
              0.4444444444444444,
              "#bd3786"
             ],
             [
              0.5555555555555556,
              "#d8576b"
             ],
             [
              0.6666666666666666,
              "#ed7953"
             ],
             [
              0.7777777777777778,
              "#fb9f3a"
             ],
             [
              0.8888888888888888,
              "#fdca26"
             ],
             [
              1,
              "#f0f921"
             ]
            ],
            "type": "heatmap"
           }
          ],
          "histogram": [
           {
            "marker": {
             "pattern": {
              "fillmode": "overlay",
              "size": 10,
              "solidity": 0.2
             }
            },
            "type": "histogram"
           }
          ],
          "histogram2d": [
           {
            "colorbar": {
             "outlinewidth": 0,
             "ticks": ""
            },
            "colorscale": [
             [
              0,
              "#0d0887"
             ],
             [
              0.1111111111111111,
              "#46039f"
             ],
             [
              0.2222222222222222,
              "#7201a8"
             ],
             [
              0.3333333333333333,
              "#9c179e"
             ],
             [
              0.4444444444444444,
              "#bd3786"
             ],
             [
              0.5555555555555556,
              "#d8576b"
             ],
             [
              0.6666666666666666,
              "#ed7953"
             ],
             [
              0.7777777777777778,
              "#fb9f3a"
             ],
             [
              0.8888888888888888,
              "#fdca26"
             ],
             [
              1,
              "#f0f921"
             ]
            ],
            "type": "histogram2d"
           }
          ],
          "histogram2dcontour": [
           {
            "colorbar": {
             "outlinewidth": 0,
             "ticks": ""
            },
            "colorscale": [
             [
              0,
              "#0d0887"
             ],
             [
              0.1111111111111111,
              "#46039f"
             ],
             [
              0.2222222222222222,
              "#7201a8"
             ],
             [
              0.3333333333333333,
              "#9c179e"
             ],
             [
              0.4444444444444444,
              "#bd3786"
             ],
             [
              0.5555555555555556,
              "#d8576b"
             ],
             [
              0.6666666666666666,
              "#ed7953"
             ],
             [
              0.7777777777777778,
              "#fb9f3a"
             ],
             [
              0.8888888888888888,
              "#fdca26"
             ],
             [
              1,
              "#f0f921"
             ]
            ],
            "type": "histogram2dcontour"
           }
          ],
          "mesh3d": [
           {
            "colorbar": {
             "outlinewidth": 0,
             "ticks": ""
            },
            "type": "mesh3d"
           }
          ],
          "parcoords": [
           {
            "line": {
             "colorbar": {
              "outlinewidth": 0,
              "ticks": ""
             }
            },
            "type": "parcoords"
           }
          ],
          "pie": [
           {
            "automargin": true,
            "type": "pie"
           }
          ],
          "scatter": [
           {
            "fillpattern": {
             "fillmode": "overlay",
             "size": 10,
             "solidity": 0.2
            },
            "type": "scatter"
           }
          ],
          "scatter3d": [
           {
            "line": {
             "colorbar": {
              "outlinewidth": 0,
              "ticks": ""
             }
            },
            "marker": {
             "colorbar": {
              "outlinewidth": 0,
              "ticks": ""
             }
            },
            "type": "scatter3d"
           }
          ],
          "scattercarpet": [
           {
            "marker": {
             "colorbar": {
              "outlinewidth": 0,
              "ticks": ""
             }
            },
            "type": "scattercarpet"
           }
          ],
          "scattergeo": [
           {
            "marker": {
             "colorbar": {
              "outlinewidth": 0,
              "ticks": ""
             }
            },
            "type": "scattergeo"
           }
          ],
          "scattergl": [
           {
            "marker": {
             "colorbar": {
              "outlinewidth": 0,
              "ticks": ""
             }
            },
            "type": "scattergl"
           }
          ],
          "scattermap": [
           {
            "marker": {
             "colorbar": {
              "outlinewidth": 0,
              "ticks": ""
             }
            },
            "type": "scattermap"
           }
          ],
          "scattermapbox": [
           {
            "marker": {
             "colorbar": {
              "outlinewidth": 0,
              "ticks": ""
             }
            },
            "type": "scattermapbox"
           }
          ],
          "scatterpolar": [
           {
            "marker": {
             "colorbar": {
              "outlinewidth": 0,
              "ticks": ""
             }
            },
            "type": "scatterpolar"
           }
          ],
          "scatterpolargl": [
           {
            "marker": {
             "colorbar": {
              "outlinewidth": 0,
              "ticks": ""
             }
            },
            "type": "scatterpolargl"
           }
          ],
          "scatterternary": [
           {
            "marker": {
             "colorbar": {
              "outlinewidth": 0,
              "ticks": ""
             }
            },
            "type": "scatterternary"
           }
          ],
          "surface": [
           {
            "colorbar": {
             "outlinewidth": 0,
             "ticks": ""
            },
            "colorscale": [
             [
              0,
              "#0d0887"
             ],
             [
              0.1111111111111111,
              "#46039f"
             ],
             [
              0.2222222222222222,
              "#7201a8"
             ],
             [
              0.3333333333333333,
              "#9c179e"
             ],
             [
              0.4444444444444444,
              "#bd3786"
             ],
             [
              0.5555555555555556,
              "#d8576b"
             ],
             [
              0.6666666666666666,
              "#ed7953"
             ],
             [
              0.7777777777777778,
              "#fb9f3a"
             ],
             [
              0.8888888888888888,
              "#fdca26"
             ],
             [
              1,
              "#f0f921"
             ]
            ],
            "type": "surface"
           }
          ],
          "table": [
           {
            "cells": {
             "fill": {
              "color": "#EBF0F8"
             },
             "line": {
              "color": "white"
             }
            },
            "header": {
             "fill": {
              "color": "#C8D4E3"
             },
             "line": {
              "color": "white"
             }
            },
            "type": "table"
           }
          ]
         },
         "layout": {
          "annotationdefaults": {
           "arrowcolor": "#2a3f5f",
           "arrowhead": 0,
           "arrowwidth": 1
          },
          "autotypenumbers": "strict",
          "coloraxis": {
           "colorbar": {
            "outlinewidth": 0,
            "ticks": ""
           }
          },
          "colorscale": {
           "diverging": [
            [
             0,
             "#8e0152"
            ],
            [
             0.1,
             "#c51b7d"
            ],
            [
             0.2,
             "#de77ae"
            ],
            [
             0.3,
             "#f1b6da"
            ],
            [
             0.4,
             "#fde0ef"
            ],
            [
             0.5,
             "#f7f7f7"
            ],
            [
             0.6,
             "#e6f5d0"
            ],
            [
             0.7,
             "#b8e186"
            ],
            [
             0.8,
             "#7fbc41"
            ],
            [
             0.9,
             "#4d9221"
            ],
            [
             1,
             "#276419"
            ]
           ],
           "sequential": [
            [
             0,
             "#0d0887"
            ],
            [
             0.1111111111111111,
             "#46039f"
            ],
            [
             0.2222222222222222,
             "#7201a8"
            ],
            [
             0.3333333333333333,
             "#9c179e"
            ],
            [
             0.4444444444444444,
             "#bd3786"
            ],
            [
             0.5555555555555556,
             "#d8576b"
            ],
            [
             0.6666666666666666,
             "#ed7953"
            ],
            [
             0.7777777777777778,
             "#fb9f3a"
            ],
            [
             0.8888888888888888,
             "#fdca26"
            ],
            [
             1,
             "#f0f921"
            ]
           ],
           "sequentialminus": [
            [
             0,
             "#0d0887"
            ],
            [
             0.1111111111111111,
             "#46039f"
            ],
            [
             0.2222222222222222,
             "#7201a8"
            ],
            [
             0.3333333333333333,
             "#9c179e"
            ],
            [
             0.4444444444444444,
             "#bd3786"
            ],
            [
             0.5555555555555556,
             "#d8576b"
            ],
            [
             0.6666666666666666,
             "#ed7953"
            ],
            [
             0.7777777777777778,
             "#fb9f3a"
            ],
            [
             0.8888888888888888,
             "#fdca26"
            ],
            [
             1,
             "#f0f921"
            ]
           ]
          },
          "colorway": [
           "#636efa",
           "#EF553B",
           "#00cc96",
           "#ab63fa",
           "#FFA15A",
           "#19d3f3",
           "#FF6692",
           "#B6E880",
           "#FF97FF",
           "#FECB52"
          ],
          "font": {
           "color": "#2a3f5f"
          },
          "geo": {
           "bgcolor": "white",
           "lakecolor": "white",
           "landcolor": "#E5ECF6",
           "showlakes": true,
           "showland": true,
           "subunitcolor": "white"
          },
          "hoverlabel": {
           "align": "left"
          },
          "hovermode": "closest",
          "mapbox": {
           "style": "light"
          },
          "paper_bgcolor": "white",
          "plot_bgcolor": "#E5ECF6",
          "polar": {
           "angularaxis": {
            "gridcolor": "white",
            "linecolor": "white",
            "ticks": ""
           },
           "bgcolor": "#E5ECF6",
           "radialaxis": {
            "gridcolor": "white",
            "linecolor": "white",
            "ticks": ""
           }
          },
          "scene": {
           "xaxis": {
            "backgroundcolor": "#E5ECF6",
            "gridcolor": "white",
            "gridwidth": 2,
            "linecolor": "white",
            "showbackground": true,
            "ticks": "",
            "zerolinecolor": "white"
           },
           "yaxis": {
            "backgroundcolor": "#E5ECF6",
            "gridcolor": "white",
            "gridwidth": 2,
            "linecolor": "white",
            "showbackground": true,
            "ticks": "",
            "zerolinecolor": "white"
           },
           "zaxis": {
            "backgroundcolor": "#E5ECF6",
            "gridcolor": "white",
            "gridwidth": 2,
            "linecolor": "white",
            "showbackground": true,
            "ticks": "",
            "zerolinecolor": "white"
           }
          },
          "shapedefaults": {
           "line": {
            "color": "#2a3f5f"
           }
          },
          "ternary": {
           "aaxis": {
            "gridcolor": "white",
            "linecolor": "white",
            "ticks": ""
           },
           "baxis": {
            "gridcolor": "white",
            "linecolor": "white",
            "ticks": ""
           },
           "bgcolor": "#E5ECF6",
           "caxis": {
            "gridcolor": "white",
            "linecolor": "white",
            "ticks": ""
           }
          },
          "title": {
           "x": 0.05
          },
          "xaxis": {
           "automargin": true,
           "gridcolor": "white",
           "linecolor": "white",
           "ticks": "",
           "title": {
            "standoff": 15
           },
           "zerolinecolor": "white",
           "zerolinewidth": 2
          },
          "yaxis": {
           "automargin": true,
           "gridcolor": "white",
           "linecolor": "white",
           "ticks": "",
           "title": {
            "standoff": 15
           },
           "zerolinecolor": "white",
           "zerolinewidth": 2
          }
         }
        },
        "title": {
         "text": "Call Minute Distribution by Retail Branding",
         "x": 0.5
        },
        "width": 750,
        "xaxis": {
         "anchor": "y",
         "domain": [
          0,
          1
         ],
         "title": {
          "text": "Retail Branding"
         }
        },
        "yaxis": {
         "anchor": "x",
         "domain": [
          0,
          1
         ],
         "title": {
          "text": "Outgoing Call Minutes per Month"
         }
        }
       }
      }
     },
     "metadata": {},
     "output_type": "display_data"
    }
   ],
   "source": [
    "# mask to only have Samsung and HTC be visible, cap 'outgoing_mins_per_month' to ignore large outliers\n",
    "mask = ((df['retail_branding']=='Samsung') | (df['retail_branding']=='HTC')) & (df['outgoing_mins_per_month']<500)\n",
    "fig = px.box(df[mask],\n",
    "            x='retail_branding',\n",
    "            y='outgoing_mins_per_month',\n",
    "            title=\"Call Minute Distribution by Retail Branding\",\n",
    "            width=750)\n",
    "fig.update_layout(title_x=0.5,\n",
    "                  xaxis_title=\"Retail Branding\",\n",
    "                  yaxis_title=\"Outgoing Call Minutes per Month\")\n",
    "fig.show()"
   ]
  },
  {
   "cell_type": "markdown",
   "id": "614551b0-0cb6-46ba-964f-1771d3bdb124",
   "metadata": {},
   "source": [
    "It appears that users using Samsung devices use slightly fewer call minutes on average than those using HTC devices. The median call minutes for Samsung users is 143.81 while for HTC users it is 129.85. However, the interquartile range for HTC users has greater values compared to Samsung users. This suggests HTC users typically have ongoing call minutes greater than Samsung users. These findings should be taken with caution, because their spreads are fairly similar and Samsung users have a greater upper fence, which could suggest a few Samsung users use more call minutes than HTC users."
   ]
  },
  {
   "cell_type": "markdown",
   "id": "32c5a2a5-ccfc-45d0-af87-4826ae79fd30",
   "metadata": {
    "jp-MarkdownHeadingCollapsed": true
   },
   "source": [
    "## Is there a correlation between outgoing call minutes and outgoing sms?"
   ]
  },
  {
   "cell_type": "code",
   "execution_count": 42,
   "id": "0e4f124b-db8b-49d7-bde8-1cd56e14cc8d",
   "metadata": {},
   "outputs": [
    {
     "data": {
      "text/html": [
       "<div>\n",
       "<style scoped>\n",
       "    .dataframe tbody tr th:only-of-type {\n",
       "        vertical-align: middle;\n",
       "    }\n",
       "\n",
       "    .dataframe tbody tr th {\n",
       "        vertical-align: top;\n",
       "    }\n",
       "\n",
       "    .dataframe thead th {\n",
       "        text-align: right;\n",
       "    }\n",
       "</style>\n",
       "<table border=\"1\" class=\"dataframe\">\n",
       "  <thead>\n",
       "    <tr style=\"text-align: right;\">\n",
       "      <th></th>\n",
       "      <th>outgoing_mins_per_month</th>\n",
       "      <th>outgoing_sms_per_month</th>\n",
       "    </tr>\n",
       "  </thead>\n",
       "  <tbody>\n",
       "    <tr>\n",
       "      <th>6</th>\n",
       "      <td>21.97</td>\n",
       "      <td>4.82</td>\n",
       "    </tr>\n",
       "    <tr>\n",
       "      <th>7</th>\n",
       "      <td>1710.08</td>\n",
       "      <td>136.88</td>\n",
       "    </tr>\n",
       "    <tr>\n",
       "      <th>8</th>\n",
       "      <td>1710.08</td>\n",
       "      <td>136.88</td>\n",
       "    </tr>\n",
       "    <tr>\n",
       "      <th>9</th>\n",
       "      <td>94.46</td>\n",
       "      <td>35.17</td>\n",
       "    </tr>\n",
       "    <tr>\n",
       "      <th>11</th>\n",
       "      <td>71.59</td>\n",
       "      <td>79.26</td>\n",
       "    </tr>\n",
       "    <tr>\n",
       "      <th>...</th>\n",
       "      <td>...</td>\n",
       "      <td>...</td>\n",
       "    </tr>\n",
       "    <tr>\n",
       "      <th>320</th>\n",
       "      <td>106.65</td>\n",
       "      <td>82.13</td>\n",
       "    </tr>\n",
       "    <tr>\n",
       "      <th>321</th>\n",
       "      <td>106.65</td>\n",
       "      <td>82.13</td>\n",
       "    </tr>\n",
       "    <tr>\n",
       "      <th>324</th>\n",
       "      <td>344.53</td>\n",
       "      <td>20.53</td>\n",
       "    </tr>\n",
       "    <tr>\n",
       "      <th>328</th>\n",
       "      <td>42.75</td>\n",
       "      <td>46.83</td>\n",
       "    </tr>\n",
       "    <tr>\n",
       "      <th>329</th>\n",
       "      <td>42.75</td>\n",
       "      <td>46.83</td>\n",
       "    </tr>\n",
       "  </tbody>\n",
       "</table>\n",
       "<p>211 rows × 2 columns</p>\n",
       "</div>"
      ],
      "text/plain": [
       "     outgoing_mins_per_month  outgoing_sms_per_month\n",
       "6                      21.97                    4.82\n",
       "7                    1710.08                  136.88\n",
       "8                    1710.08                  136.88\n",
       "9                      94.46                   35.17\n",
       "11                     71.59                   79.26\n",
       "..                       ...                     ...\n",
       "320                   106.65                   82.13\n",
       "321                   106.65                   82.13\n",
       "324                   344.53                   20.53\n",
       "328                    42.75                   46.83\n",
       "329                    42.75                   46.83\n",
       "\n",
       "[211 rows x 2 columns]"
      ]
     },
     "execution_count": 42,
     "metadata": {},
     "output_type": "execute_result"
    }
   ],
   "source": [
    "my_cols = ['outgoing_mins_per_month','outgoing_sms_per_month']\n",
    "df[my_cols][(df['outgoing_mins_per_month'].notna()) & (df['outgoing_sms_per_month'].notna())]"
   ]
  },
  {
   "cell_type": "markdown",
   "id": "c6391141-8a3d-4dbe-bd9d-3d43ae4da8c0",
   "metadata": {},
   "source": [
    "There are 211 observations that contain values for both 'outgoing_mins_per_month' and 'outgoing_sms_per_month'. So, this is an adequate sample size."
   ]
  },
  {
   "cell_type": "code",
   "execution_count": 43,
   "id": "0cd149b5-c699-4cbf-a3a7-789222526f76",
   "metadata": {},
   "outputs": [
    {
     "data": {
      "application/vnd.plotly.v1+json": {
       "config": {
        "plotlyServerURL": "https://plot.ly"
       },
       "data": [
        {
         "hovertemplate": "outgoing_mins_per_month=%{x}<br>outgoing_sms_per_month=%{y}<extra></extra>",
         "legendgroup": "",
         "marker": {
          "color": "#636efa",
          "symbol": "circle"
         },
         "mode": "markers",
         "name": "",
         "orientation": "v",
         "showlegend": false,
         "type": "scatter",
         "x": {
          "bdata": "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",
          "dtype": "f8"
         },
         "xaxis": "x",
         "y": {
          "bdata": "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",
          "dtype": "f8"
         },
         "yaxis": "y"
        },
        {
         "hovertemplate": "<b>OLS trendline</b><br>outgoing_sms_per_month = -0.0123919 * outgoing_mins_per_month + 87.4424<br>R<sup>2</sup>=0.001243<br><br>outgoing_mins_per_month=%{x}<br>outgoing_sms_per_month=%{y} <b>(trend)</b><extra></extra>",
         "legendgroup": "",
         "marker": {
          "color": "#636efa",
          "symbol": "circle"
         },
         "mode": "lines",
         "name": "",
         "showlegend": false,
         "type": "scatter",
         "x": {
          "bdata": "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",
          "dtype": "f8"
         },
         "xaxis": "x",
         "y": {
          "bdata": "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",
          "dtype": "f8"
         },
         "yaxis": "y"
        }
       ],
       "layout": {
        "legend": {
         "tracegroupgap": 0
        },
        "margin": {
         "t": 60
        },
        "template": {
         "data": {
          "bar": [
           {
            "error_x": {
             "color": "#2a3f5f"
            },
            "error_y": {
             "color": "#2a3f5f"
            },
            "marker": {
             "line": {
              "color": "#E5ECF6",
              "width": 0.5
             },
             "pattern": {
              "fillmode": "overlay",
              "size": 10,
              "solidity": 0.2
             }
            },
            "type": "bar"
           }
          ],
          "barpolar": [
           {
            "marker": {
             "line": {
              "color": "#E5ECF6",
              "width": 0.5
             },
             "pattern": {
              "fillmode": "overlay",
              "size": 10,
              "solidity": 0.2
             }
            },
            "type": "barpolar"
           }
          ],
          "carpet": [
           {
            "aaxis": {
             "endlinecolor": "#2a3f5f",
             "gridcolor": "white",
             "linecolor": "white",
             "minorgridcolor": "white",
             "startlinecolor": "#2a3f5f"
            },
            "baxis": {
             "endlinecolor": "#2a3f5f",
             "gridcolor": "white",
             "linecolor": "white",
             "minorgridcolor": "white",
             "startlinecolor": "#2a3f5f"
            },
            "type": "carpet"
           }
          ],
          "choropleth": [
           {
            "colorbar": {
             "outlinewidth": 0,
             "ticks": ""
            },
            "type": "choropleth"
           }
          ],
          "contour": [
           {
            "colorbar": {
             "outlinewidth": 0,
             "ticks": ""
            },
            "colorscale": [
             [
              0,
              "#0d0887"
             ],
             [
              0.1111111111111111,
              "#46039f"
             ],
             [
              0.2222222222222222,
              "#7201a8"
             ],
             [
              0.3333333333333333,
              "#9c179e"
             ],
             [
              0.4444444444444444,
              "#bd3786"
             ],
             [
              0.5555555555555556,
              "#d8576b"
             ],
             [
              0.6666666666666666,
              "#ed7953"
             ],
             [
              0.7777777777777778,
              "#fb9f3a"
             ],
             [
              0.8888888888888888,
              "#fdca26"
             ],
             [
              1,
              "#f0f921"
             ]
            ],
            "type": "contour"
           }
          ],
          "contourcarpet": [
           {
            "colorbar": {
             "outlinewidth": 0,
             "ticks": ""
            },
            "type": "contourcarpet"
           }
          ],
          "heatmap": [
           {
            "colorbar": {
             "outlinewidth": 0,
             "ticks": ""
            },
            "colorscale": [
             [
              0,
              "#0d0887"
             ],
             [
              0.1111111111111111,
              "#46039f"
             ],
             [
              0.2222222222222222,
              "#7201a8"
             ],
             [
              0.3333333333333333,
              "#9c179e"
             ],
             [
              0.4444444444444444,
              "#bd3786"
             ],
             [
              0.5555555555555556,
              "#d8576b"
             ],
             [
              0.6666666666666666,
              "#ed7953"
             ],
             [
              0.7777777777777778,
              "#fb9f3a"
             ],
             [
              0.8888888888888888,
              "#fdca26"
             ],
             [
              1,
              "#f0f921"
             ]
            ],
            "type": "heatmap"
           }
          ],
          "histogram": [
           {
            "marker": {
             "pattern": {
              "fillmode": "overlay",
              "size": 10,
              "solidity": 0.2
             }
            },
            "type": "histogram"
           }
          ],
          "histogram2d": [
           {
            "colorbar": {
             "outlinewidth": 0,
             "ticks": ""
            },
            "colorscale": [
             [
              0,
              "#0d0887"
             ],
             [
              0.1111111111111111,
              "#46039f"
             ],
             [
              0.2222222222222222,
              "#7201a8"
             ],
             [
              0.3333333333333333,
              "#9c179e"
             ],
             [
              0.4444444444444444,
              "#bd3786"
             ],
             [
              0.5555555555555556,
              "#d8576b"
             ],
             [
              0.6666666666666666,
              "#ed7953"
             ],
             [
              0.7777777777777778,
              "#fb9f3a"
             ],
             [
              0.8888888888888888,
              "#fdca26"
             ],
             [
              1,
              "#f0f921"
             ]
            ],
            "type": "histogram2d"
           }
          ],
          "histogram2dcontour": [
           {
            "colorbar": {
             "outlinewidth": 0,
             "ticks": ""
            },
            "colorscale": [
             [
              0,
              "#0d0887"
             ],
             [
              0.1111111111111111,
              "#46039f"
             ],
             [
              0.2222222222222222,
              "#7201a8"
             ],
             [
              0.3333333333333333,
              "#9c179e"
             ],
             [
              0.4444444444444444,
              "#bd3786"
             ],
             [
              0.5555555555555556,
              "#d8576b"
             ],
             [
              0.6666666666666666,
              "#ed7953"
             ],
             [
              0.7777777777777778,
              "#fb9f3a"
             ],
             [
              0.8888888888888888,
              "#fdca26"
             ],
             [
              1,
              "#f0f921"
             ]
            ],
            "type": "histogram2dcontour"
           }
          ],
          "mesh3d": [
           {
            "colorbar": {
             "outlinewidth": 0,
             "ticks": ""
            },
            "type": "mesh3d"
           }
          ],
          "parcoords": [
           {
            "line": {
             "colorbar": {
              "outlinewidth": 0,
              "ticks": ""
             }
            },
            "type": "parcoords"
           }
          ],
          "pie": [
           {
            "automargin": true,
            "type": "pie"
           }
          ],
          "scatter": [
           {
            "fillpattern": {
             "fillmode": "overlay",
             "size": 10,
             "solidity": 0.2
            },
            "type": "scatter"
           }
          ],
          "scatter3d": [
           {
            "line": {
             "colorbar": {
              "outlinewidth": 0,
              "ticks": ""
             }
            },
            "marker": {
             "colorbar": {
              "outlinewidth": 0,
              "ticks": ""
             }
            },
            "type": "scatter3d"
           }
          ],
          "scattercarpet": [
           {
            "marker": {
             "colorbar": {
              "outlinewidth": 0,
              "ticks": ""
             }
            },
            "type": "scattercarpet"
           }
          ],
          "scattergeo": [
           {
            "marker": {
             "colorbar": {
              "outlinewidth": 0,
              "ticks": ""
             }
            },
            "type": "scattergeo"
           }
          ],
          "scattergl": [
           {
            "marker": {
             "colorbar": {
              "outlinewidth": 0,
              "ticks": ""
             }
            },
            "type": "scattergl"
           }
          ],
          "scattermap": [
           {
            "marker": {
             "colorbar": {
              "outlinewidth": 0,
              "ticks": ""
             }
            },
            "type": "scattermap"
           }
          ],
          "scattermapbox": [
           {
            "marker": {
             "colorbar": {
              "outlinewidth": 0,
              "ticks": ""
             }
            },
            "type": "scattermapbox"
           }
          ],
          "scatterpolar": [
           {
            "marker": {
             "colorbar": {
              "outlinewidth": 0,
              "ticks": ""
             }
            },
            "type": "scatterpolar"
           }
          ],
          "scatterpolargl": [
           {
            "marker": {
             "colorbar": {
              "outlinewidth": 0,
              "ticks": ""
             }
            },
            "type": "scatterpolargl"
           }
          ],
          "scatterternary": [
           {
            "marker": {
             "colorbar": {
              "outlinewidth": 0,
              "ticks": ""
             }
            },
            "type": "scatterternary"
           }
          ],
          "surface": [
           {
            "colorbar": {
             "outlinewidth": 0,
             "ticks": ""
            },
            "colorscale": [
             [
              0,
              "#0d0887"
             ],
             [
              0.1111111111111111,
              "#46039f"
             ],
             [
              0.2222222222222222,
              "#7201a8"
             ],
             [
              0.3333333333333333,
              "#9c179e"
             ],
             [
              0.4444444444444444,
              "#bd3786"
             ],
             [
              0.5555555555555556,
              "#d8576b"
             ],
             [
              0.6666666666666666,
              "#ed7953"
             ],
             [
              0.7777777777777778,
              "#fb9f3a"
             ],
             [
              0.8888888888888888,
              "#fdca26"
             ],
             [
              1,
              "#f0f921"
             ]
            ],
            "type": "surface"
           }
          ],
          "table": [
           {
            "cells": {
             "fill": {
              "color": "#EBF0F8"
             },
             "line": {
              "color": "white"
             }
            },
            "header": {
             "fill": {
              "color": "#C8D4E3"
             },
             "line": {
              "color": "white"
             }
            },
            "type": "table"
           }
          ]
         },
         "layout": {
          "annotationdefaults": {
           "arrowcolor": "#2a3f5f",
           "arrowhead": 0,
           "arrowwidth": 1
          },
          "autotypenumbers": "strict",
          "coloraxis": {
           "colorbar": {
            "outlinewidth": 0,
            "ticks": ""
           }
          },
          "colorscale": {
           "diverging": [
            [
             0,
             "#8e0152"
            ],
            [
             0.1,
             "#c51b7d"
            ],
            [
             0.2,
             "#de77ae"
            ],
            [
             0.3,
             "#f1b6da"
            ],
            [
             0.4,
             "#fde0ef"
            ],
            [
             0.5,
             "#f7f7f7"
            ],
            [
             0.6,
             "#e6f5d0"
            ],
            [
             0.7,
             "#b8e186"
            ],
            [
             0.8,
             "#7fbc41"
            ],
            [
             0.9,
             "#4d9221"
            ],
            [
             1,
             "#276419"
            ]
           ],
           "sequential": [
            [
             0,
             "#0d0887"
            ],
            [
             0.1111111111111111,
             "#46039f"
            ],
            [
             0.2222222222222222,
             "#7201a8"
            ],
            [
             0.3333333333333333,
             "#9c179e"
            ],
            [
             0.4444444444444444,
             "#bd3786"
            ],
            [
             0.5555555555555556,
             "#d8576b"
            ],
            [
             0.6666666666666666,
             "#ed7953"
            ],
            [
             0.7777777777777778,
             "#fb9f3a"
            ],
            [
             0.8888888888888888,
             "#fdca26"
            ],
            [
             1,
             "#f0f921"
            ]
           ],
           "sequentialminus": [
            [
             0,
             "#0d0887"
            ],
            [
             0.1111111111111111,
             "#46039f"
            ],
            [
             0.2222222222222222,
             "#7201a8"
            ],
            [
             0.3333333333333333,
             "#9c179e"
            ],
            [
             0.4444444444444444,
             "#bd3786"
            ],
            [
             0.5555555555555556,
             "#d8576b"
            ],
            [
             0.6666666666666666,
             "#ed7953"
            ],
            [
             0.7777777777777778,
             "#fb9f3a"
            ],
            [
             0.8888888888888888,
             "#fdca26"
            ],
            [
             1,
             "#f0f921"
            ]
           ]
          },
          "colorway": [
           "#636efa",
           "#EF553B",
           "#00cc96",
           "#ab63fa",
           "#FFA15A",
           "#19d3f3",
           "#FF6692",
           "#B6E880",
           "#FF97FF",
           "#FECB52"
          ],
          "font": {
           "color": "#2a3f5f"
          },
          "geo": {
           "bgcolor": "white",
           "lakecolor": "white",
           "landcolor": "#E5ECF6",
           "showlakes": true,
           "showland": true,
           "subunitcolor": "white"
          },
          "hoverlabel": {
           "align": "left"
          },
          "hovermode": "closest",
          "mapbox": {
           "style": "light"
          },
          "paper_bgcolor": "white",
          "plot_bgcolor": "#E5ECF6",
          "polar": {
           "angularaxis": {
            "gridcolor": "white",
            "linecolor": "white",
            "ticks": ""
           },
           "bgcolor": "#E5ECF6",
           "radialaxis": {
            "gridcolor": "white",
            "linecolor": "white",
            "ticks": ""
           }
          },
          "scene": {
           "xaxis": {
            "backgroundcolor": "#E5ECF6",
            "gridcolor": "white",
            "gridwidth": 2,
            "linecolor": "white",
            "showbackground": true,
            "ticks": "",
            "zerolinecolor": "white"
           },
           "yaxis": {
            "backgroundcolor": "#E5ECF6",
            "gridcolor": "white",
            "gridwidth": 2,
            "linecolor": "white",
            "showbackground": true,
            "ticks": "",
            "zerolinecolor": "white"
           },
           "zaxis": {
            "backgroundcolor": "#E5ECF6",
            "gridcolor": "white",
            "gridwidth": 2,
            "linecolor": "white",
            "showbackground": true,
            "ticks": "",
            "zerolinecolor": "white"
           }
          },
          "shapedefaults": {
           "line": {
            "color": "#2a3f5f"
           }
          },
          "ternary": {
           "aaxis": {
            "gridcolor": "white",
            "linecolor": "white",
            "ticks": ""
           },
           "baxis": {
            "gridcolor": "white",
            "linecolor": "white",
            "ticks": ""
           },
           "bgcolor": "#E5ECF6",
           "caxis": {
            "gridcolor": "white",
            "linecolor": "white",
            "ticks": ""
           }
          },
          "title": {
           "x": 0.05
          },
          "xaxis": {
           "automargin": true,
           "gridcolor": "white",
           "linecolor": "white",
           "ticks": "",
           "title": {
            "standoff": 15
           },
           "zerolinecolor": "white",
           "zerolinewidth": 2
          },
          "yaxis": {
           "automargin": true,
           "gridcolor": "white",
           "linecolor": "white",
           "ticks": "",
           "title": {
            "standoff": 15
           },
           "zerolinecolor": "white",
           "zerolinewidth": 2
          }
         }
        },
        "title": {
         "text": "Outgoing SMS and Call Minutes per Month",
         "x": 0.5
        },
        "xaxis": {
         "anchor": "y",
         "domain": [
          0,
          1
         ],
         "title": {
          "text": "Outgoing Call Minutes per Month"
         }
        },
        "yaxis": {
         "anchor": "x",
         "domain": [
          0,
          1
         ],
         "title": {
          "text": "Outgoing SMS per Month"
         }
        }
       }
      }
     },
     "metadata": {},
     "output_type": "display_data"
    }
   ],
   "source": [
    "fig = px.scatter(df,\n",
    "                x='outgoing_mins_per_month',\n",
    "                y='outgoing_sms_per_month',\n",
    "                trendline=\"ols\")\n",
    "fig.update_layout(title = \"Outgoing SMS and Call Minutes per Month\",\n",
    "                  title_x = 0.5,\n",
    "                  xaxis_title = \"Outgoing Call Minutes per Month\",\n",
    "                  yaxis_title = \"Outgoing SMS per Month\")\n",
    "fig.show()"
   ]
  },
  {
   "cell_type": "markdown",
   "id": "6148a0f8-1afe-4d7d-8e58-543acd358805",
   "metadata": {},
   "source": [
    "From the graph, there does not appear to be an obvious correlation between outgoing call minutes per month and outgoing sms per month. The trendline has a very slight negative slope, which suggests an increase in outgoing call minutes does not have a large correlation with a change in outgoing sms. The data appears to be most frequent around call minutes 0 to 400 and sms 0 to 200. However, there is no apparent pattern or trend between outgoing call minutes per month and outgoing sms per month."
   ]
  },
  {
   "cell_type": "code",
   "execution_count": null,
   "id": "3b4b9b26-9ecf-4304-a3dd-21185fc85955",
   "metadata": {},
   "outputs": [],
   "source": []
  }
 ],
 "metadata": {
  "kernelspec": {
   "display_name": "Python [conda env:base] *",
   "language": "python",
   "name": "conda-base-py"
  },
  "language_info": {
   "codemirror_mode": {
    "name": "ipython",
    "version": 3
   },
   "file_extension": ".py",
   "mimetype": "text/x-python",
   "name": "python",
   "nbconvert_exporter": "python",
   "pygments_lexer": "ipython3",
   "version": "3.13.5"
  }
 },
 "nbformat": 4,
 "nbformat_minor": 5
}
